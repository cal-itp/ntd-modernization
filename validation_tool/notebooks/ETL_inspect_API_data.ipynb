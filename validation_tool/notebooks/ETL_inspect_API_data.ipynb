{
 "cells": [
  {
   "cell_type": "markdown",
   "id": "3048a882",
   "metadata": {},
   "source": [
    "The BlackCat API came with no instructions. Here we just inspect what is in it and its format. This notebook contains:  \n",
    "1. the code for inspecting the data \n",
    "2. What to do to check whether data has changed in 2024 (and years after that). \n",
    "  \n",
    "We are inferring what to do. Contact BlackCat for further instructions."
   ]
  },
  {
   "cell_type": "code",
   "execution_count": 1,
   "id": "0d6f9a00",
   "metadata": {},
   "outputs": [],
   "source": [
    "import requests\n",
    "import json\n",
    "import pandas as pd\n",
    "import numpy as np\n",
    "import pendulum\n",
    "import re"
   ]
  },
  {
   "cell_type": "code",
   "execution_count": 2,
   "id": "9e5b0a73-b870-413e-bc3a-94e31cff88d9",
   "metadata": {},
   "outputs": [],
   "source": [
    "pd.set_option('display.max_columns', None)\n",
    "pd.set_option('display.max_rows', None) \n",
    "pd.set_option('display.max_colwidth', None)"
   ]
  },
  {
   "cell_type": "markdown",
   "id": "1257b63c",
   "metadata": {},
   "source": [
    "**NOTE that the URL has the year at the end. Change this to whatever year of data you would like to get.**"
   ]
  },
  {
   "cell_type": "code",
   "execution_count": 3,
   "id": "d972680b",
   "metadata": {},
   "outputs": [],
   "source": [
    "api_2024 = \"https://services.blackcattransit.com/api/APIModules/GetNTDReportsByYear/BCG_CA/2024\""
   ]
  },
  {
   "cell_type": "code",
   "execution_count": 4,
   "id": "b9a10f78-c5c0-46ca-9172-9036926ed793",
   "metadata": {},
   "outputs": [],
   "source": [
    "api_2023 = \"https://services.blackcattransit.com/api/APIModules/GetNTDReportsByYear/BCG_CA/2023\""
   ]
  },
  {
   "cell_type": "code",
   "execution_count": 5,
   "id": "b4221f58",
   "metadata": {},
   "outputs": [],
   "source": [
    "response_2024 = requests.get(api_2024)"
   ]
  },
  {
   "cell_type": "code",
   "execution_count": 6,
   "id": "bb477a69-b353-4df2-b396-49788fa7924a",
   "metadata": {},
   "outputs": [],
   "source": [
    "response_2023 = requests.get(api_2023)"
   ]
  },
  {
   "cell_type": "code",
   "execution_count": 7,
   "id": "6f795619",
   "metadata": {},
   "outputs": [
    {
     "data": {
      "text/plain": [
       "<Response [200]>"
      ]
     },
     "metadata": {},
     "output_type": "display_data"
    },
    {
     "data": {
      "text/plain": [
       "<Response [200]>"
      ]
     },
     "metadata": {},
     "output_type": "display_data"
    }
   ],
   "source": [
    "display(\n",
    "    response_2024,\n",
    "    response_2023\n",
    ")\n",
    "#looking for response 200"
   ]
  },
  {
   "cell_type": "code",
   "execution_count": 8,
   "id": "eb3eb6c3",
   "metadata": {},
   "outputs": [],
   "source": [
    "blob_2023 = response_2023.json()\n",
    "blob_2024 = response_2024.json()"
   ]
  },
  {
   "cell_type": "code",
   "execution_count": 9,
   "id": "a0b87f3c-9bdb-46ba-97eb-6d6322e9c219",
   "metadata": {
    "tags": []
   },
   "outputs": [],
   "source": [
    "#blob_2024"
   ]
  },
  {
   "cell_type": "markdown",
   "id": "42d74472",
   "metadata": {},
   "source": [
    "**Get table and org list**"
   ]
  },
  {
   "cell_type": "code",
   "execution_count": 10,
   "id": "89652ec1",
   "metadata": {
    "tags": []
   },
   "outputs": [
    {
     "data": {
      "text/plain": [
       "85"
      ]
     },
     "metadata": {},
     "output_type": "display_data"
    },
    {
     "data": {
      "text/plain": [
       "71"
      ]
     },
     "metadata": {},
     "output_type": "display_data"
    }
   ],
   "source": [
    "# type(blob) #list\n",
    "display(\n",
    "    len(blob_2023), #35\n",
    "    len(blob_2024)\n",
    ")\n",
    "\n",
    "# type(blob[0]) #dict\n",
    "\n",
    "# blob[0]\n",
    "\n",
    "# blob['Tables']"
   ]
  },
  {
   "cell_type": "code",
   "execution_count": 11,
   "id": "798e2024",
   "metadata": {},
   "outputs": [
    {
     "data": {
      "text/plain": [
       "True"
      ]
     },
     "metadata": {},
     "output_type": "display_data"
    },
    {
     "data": {
      "text/plain": [
       "['ReportId',\n",
       " 'Organization',\n",
       " 'ReportPeriod',\n",
       " 'ReportStatus',\n",
       " 'ReportLastModifiedDate',\n",
       " 'NTDReportingStationsAndMaintenance',\n",
       " 'NTDTransitAssetManagementA15',\n",
       " 'NTDAssetAndResourceInfo',\n",
       " 'NTDReportingP10',\n",
       " 'NTDReportingP20',\n",
       " 'NTDReportingP50',\n",
       " 'NTDReportingA35',\n",
       " 'NTDReportingRR20_Intercity',\n",
       " 'NTDReportingRR20_Rural',\n",
       " 'NTDReportingRR20_Urban_Tribal',\n",
       " 'NTDReportingTAMNarrative',\n",
       " 'SS60']"
      ]
     },
     "metadata": {},
     "output_type": "display_data"
    }
   ],
   "source": [
    "tables_2023 = []\n",
    "tables_2024 = []\n",
    "\n",
    "# # For listing out ONLY the python dictionary keys in the blob (these are the tables) that start with \"NTD\"\n",
    "# for k, v in blob[0].items():\n",
    "#     if k.startswith(\"NTD\"):\n",
    "#         tables.append(k)\n",
    "\n",
    "# For listing out ALL the dict keys:\n",
    "for k, v in blob_2023[0].items():\n",
    "    tables_2023.append(k)\n",
    "    \n",
    "for k, v in blob_2024[0].items():\n",
    "    tables_2024.append(k)\n",
    "\n",
    "# compare both table list\n",
    "display(\n",
    "    tables_2023 == tables_2024,\n",
    "    #list(tables_2023), \n",
    "    list(tables_2024)\n",
    ")"
   ]
  },
  {
   "cell_type": "code",
   "execution_count": 12,
   "id": "ce721174-b37c-48c9-acc0-152f372de598",
   "metadata": {},
   "outputs": [],
   "source": [
    "# get list all org names \n",
    "org_list = [blob_2024[i][\"Organization\"] for i in range(len(blob_2024))]"
   ]
  },
  {
   "cell_type": "code",
   "execution_count": 13,
   "id": "2e33ea9c-8b95-46fb-ac65-f9cc39a2a5ac",
   "metadata": {},
   "outputs": [
    {
     "data": {
      "text/plain": [
       "24"
      ]
     },
     "execution_count": 13,
     "metadata": {},
     "output_type": "execute_result"
    }
   ],
   "source": [
    "# get index position of org names from org list\n",
    "org_list.index(\"Eastern Sierra Transit Authority\")"
   ]
  },
  {
   "cell_type": "code",
   "execution_count": 14,
   "id": "60c8a2a9-e615-450a-b309-a514798753cd",
   "metadata": {},
   "outputs": [
    {
     "data": {
      "text/plain": [
       "56"
      ]
     },
     "execution_count": 14,
     "metadata": {},
     "output_type": "execute_result"
    }
   ],
   "source": [
    "# slicing blob at specific index number, report name and 'data' field\n",
    "\n",
    "len(blob_2024[24][\"NTDReportingRR20_Rural\"][\"Data\"])"
   ]
  },
  {
   "cell_type": "markdown",
   "id": "7aefb858",
   "metadata": {},
   "source": [
    "### Inspect whether any tables have changed from last year (2023)"
   ]
  },
  {
   "cell_type": "markdown",
   "id": "9c93b0db",
   "metadata": {},
   "source": [
    "1. Pull up the external tables yaml at airflow/dags/create_external_tables/ntd_report_validation/external_table_all_ntdreports.yml\n",
    "2. Pull up the external_blackcat.all_ntdreports table in BigQuery\n",
    "  \n",
    "To help do #3 and #4 below, use the cell below to copy in table names one by one and inspect the API data for whichever year one is interested in. If you don't see any data, then cycle through the JSON list by changing `blob[0]` to `blob[1]`, `blob[3]` etc.  \n",
    "  \n",
    "3. Compare the table names above with what is in the table list on the schema there. NOTE table names in BigQuery are not *exactly* the same as the API, they have been made all lowercase with `_data` added.\n",
    "4. Compare the individual columns within each of the above tables to what is there.\n",
    "  \n",
    "Change the schema in the yaml as needed to reflect the data. Do not remove any old column names. Just add new columns and/or tables"
   ]
  },
  {
   "cell_type": "code",
   "execution_count": 15,
   "id": "da9b5bcc",
   "metadata": {
    "tags": []
   },
   "outputs": [],
   "source": [
    "# A10 report\n",
    "# check complete\n",
    "#blob_2024[3]['NTDReportingStationsAndMaintenance']['Data'][0]"
   ]
  },
  {
   "cell_type": "code",
   "execution_count": 16,
   "id": "8f574ae7",
   "metadata": {},
   "outputs": [],
   "source": [
    "# check complete\n",
    "\n",
    "# new columns: \n",
    "    #\"Type\", \n",
    "    #\"Note\", \n",
    "    #\"LastModifiedDate\"\n",
    "\n",
    "# added to draft yaml\n",
    "#blob_2024[14]['NTDTransitAssetManagementA15'][\"Data\"][0]"
   ]
  },
  {
   "cell_type": "code",
   "execution_count": 17,
   "id": "35b357eb-7d83-4159-a189-6c2686e310e0",
   "metadata": {},
   "outputs": [],
   "source": [
    "# A30\n",
    "# check complete\n",
    "\n",
    "# new columns:\n",
    "\t\t\t\t\t #'TotalVehicles':,\n",
    "\t\t\t\t\t #'ActiveVehicles',\n",
    "\t\t\t\t\t #'DedicatedFleet',\n",
    "\t\t\t\t\t #'NoCapitalReplacementResponsibility',\n",
    "\t\t\t\t\t #'AutomatedorAutonomousVehicles',\n",
    "\t\t\t\t\t #'Manufacturer',\n",
    "\t\t\t\t\t #'DescribeOtherManufacturer',\n",
    "\t\t\t\t\t #'Model',\n",
    "\t\t\t\t\t #'YearRebuilt',\n",
    "\t\t\t\t\t #'OtherFuelType',\n",
    "\t\t\t\t\t #'DuelFuelType',\n",
    "\t\t\t\t\t #'StandingCapacity',\n",
    "\t\t\t\t\t #'OtherOwnershipType',\n",
    "\t\t\t\t\t #'EmergencyVehicles',\n",
    "\t\t\t\t\t #'TypeofLastRenewal',\n",
    "\t\t\t\t\t #'UsefulLifeBenchmark,\n",
    "\t\t\t\t\t #'MilesThisYear',\n",
    "\t\t\t\t\t #'AverageLifetimeMilesPerActiveVehicle'\n",
    "                        \n",
    "# added to draft yaml\n",
    "#blob_2024[15]['NTDAssetAndResourceInfo']['Data'][1]"
   ]
  },
  {
   "cell_type": "code",
   "execution_count": 18,
   "id": "1bd5c57d-1226-428c-a969-4c21507ccba5",
   "metadata": {},
   "outputs": [],
   "source": [
    "# check complete\n",
    "#blob_2024[12]['NTDReportingP10']['Data']"
   ]
  },
  {
   "cell_type": "code",
   "execution_count": 19,
   "id": "e06f1b17-5503-4238-a11a-1d5c9733dbe7",
   "metadata": {},
   "outputs": [],
   "source": [
    "#check complete\n",
    "#blob_2024[5]['NTDReportingP20']['Data']"
   ]
  },
  {
   "cell_type": "code",
   "execution_count": 20,
   "id": "46677d0b-e1c8-4975-a64d-12e4c6cd6c1d",
   "metadata": {},
   "outputs": [],
   "source": [
    "#check complete\n",
    "#blob_2024[5]['NTDReportingP50']['Data']"
   ]
  },
  {
   "cell_type": "code",
   "execution_count": 21,
   "id": "a41f69d9",
   "metadata": {},
   "outputs": [],
   "source": [
    "#check complete\n",
    "#blob_2024[16]['NTDReportingA35']['Data'][0]"
   ]
  },
  {
   "cell_type": "code",
   "execution_count": 22,
   "id": "ec63c5ab",
   "metadata": {},
   "outputs": [],
   "source": [
    "#check complete\n",
    "#blob_2024[50]['NTDReportingRR20_Intercity']['Data'][0]"
   ]
  },
  {
   "cell_type": "code",
   "execution_count": 23,
   "id": "7b1d6b6b-b0a3-4b5f-a15e-99028a74ba96",
   "metadata": {},
   "outputs": [],
   "source": [
    "# check complete\n",
    "# new columns:\n",
    "\t\t\t\t\t\t#◊ \"AnnualVehicleRevMilesComments\"\n",
    "\t\t\t\t\t\t#◊ \"AnnualVehicleRevHoursComments\"\n",
    "\t\t\t\t\t\t#◊ \"AnnualUnlinkedPassTripsComments\"\n",
    "\t\t\t\t\t\t#◊ \"AnnualVehicleMaxServiceComments\"\n",
    "                        # \"SponsoredServiceUPTComments\"\n",
    "# added to draft yaml\n",
    "#blob_2024[16]['NTDReportingRR20_Rural']['Data'][2]"
   ]
  },
  {
   "cell_type": "code",
   "execution_count": 24,
   "id": "a2bf613e-f35b-4d5c-b6b7-ae486cc3635e",
   "metadata": {},
   "outputs": [],
   "source": [
    "#check complete\n",
    "#blob_2024[6]['NTDReportingRR20_Urban_Tribal']['Data'][0]"
   ]
  },
  {
   "cell_type": "code",
   "execution_count": 25,
   "id": "acc65173-50ef-4750-bf85-042c250f3206",
   "metadata": {},
   "outputs": [],
   "source": [
    "# check complete\n",
    "# NEW COLUMN(S)\n",
    "    # 'VehiclesToBePurchasesNextYear'\n",
    "    \n",
    "# added to draft yaml\n",
    "#blob_2024[2]['NTDReportingTAMNarrative']['Data'][0]"
   ]
  },
  {
   "cell_type": "code",
   "execution_count": 26,
   "id": "3636cc1d-2cce-4134-9404-f07fbdf89ba3",
   "metadata": {},
   "outputs": [],
   "source": [
    "# check complete\n",
    "#blob_2024[16]['SS60']['Data'][0]"
   ]
  },
  {
   "cell_type": "markdown",
   "id": "64bb9ba4-f8da-4e62-a6f3-0ae70591b4b9",
   "metadata": {},
   "source": [
    "## examine warehouse data"
   ]
  },
  {
   "cell_type": "code",
   "execution_count": 27,
   "id": "28ca7311-4f48-4bdc-bdf3-498d3e71ddc4",
   "metadata": {},
   "outputs": [],
   "source": [
    "from calitp_data_analysis.tables import tbls\n",
    "from siuba import _, filter, count, collect, show_query"
   ]
  },
  {
   "cell_type": "code",
   "execution_count": 28,
   "id": "e3c07937-3b4c-4672-b195-1a292c335c38",
   "metadata": {},
   "outputs": [],
   "source": [
    "org = \"Eastern Sierra Transit Authority\""
   ]
  },
  {
   "cell_type": "markdown",
   "id": "aaedce57-b689-4588-93d8-ed546ee8718c",
   "metadata": {},
   "source": [
    "The cell below checks the values in the `rr20_equal_totals_check` model, and its associated `int` and `stg` model from the warehouse.\n",
    "\n",
    "\n",
    "Update model and column names with whatever you ned to check "
   ]
  },
  {
   "cell_type": "code",
   "execution_count": 29,
   "id": "b57a1d3c-ef27-4e17-8621-dd38f789ece2",
   "metadata": {},
   "outputs": [],
   "source": [
    "# Query the fct model from warehouse\n",
    "fct_ntd_rr20_service_checks = (\n",
    "    tbls.mart_ntd_validation.fct_ntd_rr20_service_checks()\n",
    "    >> filter(_.organization == org)\n",
    "    >> collect()\n",
    ")\n",
    "\n",
    "# Query the int model from warehouse\n",
    "int_ntd_rr20_service_3ratios_wide = (\n",
    "    tbls.staging.int_ntd_rr20_service_3ratios_wide()\n",
    "    >> filter(_.organization == org)\n",
    "    >> collect()\n",
    ")\n",
    "\n",
    "stg_ntd_rr20_rural = (\n",
    "    tbls.staging.stg_ntd_rr20_rural()\n",
    "    >> filter(_.organization == org, \n",
    "              _.api_report_period == 2024)\n",
    "    >> collect()\n",
    ")\n",
    "\n"
   ]
  },
  {
   "cell_type": "code",
   "execution_count": 30,
   "id": "6357d81a-fa62-4f04-a19f-b31501f7ff46",
   "metadata": {},
   "outputs": [
    {
     "data": {
      "text/html": [
       "<div>\n",
       "<style scoped>\n",
       "    .dataframe tbody tr th:only-of-type {\n",
       "        vertical-align: middle;\n",
       "    }\n",
       "\n",
       "    .dataframe tbody tr th {\n",
       "        vertical-align: top;\n",
       "    }\n",
       "\n",
       "    .dataframe thead th {\n",
       "        text-align: right;\n",
       "    }\n",
       "</style>\n",
       "<table border=\"1\" class=\"dataframe\">\n",
       "  <thead>\n",
       "    <tr style=\"text-align: right;\">\n",
       "      <th></th>\n",
       "      <th>organization</th>\n",
       "      <th>name_of_check</th>\n",
       "      <th>mode</th>\n",
       "      <th>year_of_data</th>\n",
       "      <th>check_status</th>\n",
       "      <th>value_checked</th>\n",
       "      <th>description</th>\n",
       "      <th>Agency_Response</th>\n",
       "      <th>date_checked</th>\n",
       "    </tr>\n",
       "  </thead>\n",
       "  <tbody>\n",
       "  </tbody>\n",
       "</table>\n",
       "</div>"
      ],
      "text/plain": [
       "Empty DataFrame\n",
       "Columns: [organization, name_of_check, mode, year_of_data, check_status, value_checked, description, Agency_Response, date_checked]\n",
       "Index: []"
      ]
     },
     "execution_count": 30,
     "metadata": {},
     "output_type": "execute_result"
    }
   ],
   "source": [
    "# use this to query the fct table for individual orgs in the org list.\n",
    "# go one-by-one until you hit an error.\n",
    "test = (\n",
    "    tbls.mart_ntd_validation.fct_ntd_rr20_service_checks()\n",
    "    >> filter(_.organization == org_list[39])\n",
    "    >> collect()\n",
    ")\n",
    "\n",
    "test.head()\n",
    "\n",
    "# errors encounterd at index 9, 14, 16 and 36. What are thse orgs?\n",
    "# error_list= [9 (-2.3/0), 14 (0/0), 16(0/0), 36(-4/0)]"
   ]
  },
  {
   "cell_type": "code",
   "execution_count": 31,
   "id": "8776967f-3d2d-44e4-8b08-c8adc5a96240",
   "metadata": {},
   "outputs": [
    {
     "data": {
      "text/plain": [
       "['City of Arvin',\n",
       " 'Town of Truckee',\n",
       " 'Colusa County Transit Agency',\n",
       " 'San Joaquin Regional Transit District']"
      ]
     },
     "execution_count": 31,
     "metadata": {},
     "output_type": "execute_result"
    }
   ],
   "source": [
    "# list of org by index location\n",
    "error_list= [9, 14, 16, 36]\n",
    "\n",
    "# populate a new list of org names by using list comprehension to get names out of error_list\n",
    "error_orgs = [org_list[i] for i in error_list]\n",
    "\n",
    "error_orgs"
   ]
  },
  {
   "cell_type": "code",
   "execution_count": 32,
   "id": "a3927b9d-d891-4051-8cb0-8d3a5175a96e",
   "metadata": {},
   "outputs": [
    {
     "data": {
      "text/plain": [
       "{'Id': 14150,\n",
       " 'ReportId': 1026,\n",
       " 'Item': 'Demand Response (DR) - (DO)',\n",
       " 'Revenue': None,\n",
       " 'Type': 'Expenses by Mode',\n",
       " 'CssClass': 'expense',\n",
       " 'OperationsExpended': 210688.0,\n",
       " 'CapitalExpended': 0.0,\n",
       " 'Description': 'Allocation: 1 bus DR and 4 bus DF',\n",
       " 'AnnualVehicleRevMiles': None,\n",
       " 'AnnualVehicleRevMilesComments': None,\n",
       " 'AnnualVehicleRevHours': None,\n",
       " 'AnnualVehicleRevHoursComments': None,\n",
       " 'AnnualUnlinkedPassTrips': None,\n",
       " 'AnnualUnlinkedPassTripsComments': None,\n",
       " 'AnnualVehicleMaxService': None,\n",
       " 'AnnualVehicleMaxServiceComments': None,\n",
       " 'SponsoredServiceUPT': None,\n",
       " 'SponsoredServiceUPTComments': None,\n",
       " 'Quantity': None,\n",
       " 'LastModifiedDate': '2024-10-09T20:50:21.587'}"
      ]
     },
     "execution_count": 32,
     "metadata": {},
     "output_type": "execute_result"
    }
   ],
   "source": [
    "blob_2024[9][\"NTDReportingRR20_Rural\"][\"Data\"][0]"
   ]
  },
  {
   "cell_type": "code",
   "execution_count": 33,
   "id": "3f47dbe5-f8c3-4c6d-b3d9-79165135f7e4",
   "metadata": {},
   "outputs": [],
   "source": [
    "# query the stg rr20 rural table for only orgs in the error_orgs list\n",
    "error_rr20_rural = (\n",
    "    tbls.staging.stg_ntd_rr20_rural()\n",
    "    >> filter(_.organization.isin([error_orgs]),\n",
    "              _.api_report_period == 2024)\n",
    "    >> collect()\n",
    ")"
   ]
  },
  {
   "cell_type": "code",
   "execution_count": 34,
   "id": "19555887-7b79-42c1-88a9-4e9e0853e6fa",
   "metadata": {},
   "outputs": [
    {
     "data": {
      "text/html": [
       "<div>\n",
       "<style scoped>\n",
       "    .dataframe tbody tr th:only-of-type {\n",
       "        vertical-align: middle;\n",
       "    }\n",
       "\n",
       "    .dataframe tbody tr th {\n",
       "        vertical-align: top;\n",
       "    }\n",
       "\n",
       "    .dataframe thead th {\n",
       "        text-align: right;\n",
       "    }\n",
       "</style>\n",
       "<table border=\"1\" class=\"dataframe\">\n",
       "  <thead>\n",
       "    <tr style=\"text-align: right;\">\n",
       "      <th></th>\n",
       "      <th>organization</th>\n",
       "      <th>api_report_status</th>\n",
       "      <th>api_report_last_modified_date</th>\n",
       "      <th>api_report_period</th>\n",
       "      <th>id</th>\n",
       "      <th>report_id</th>\n",
       "      <th>item</th>\n",
       "      <th>revenue</th>\n",
       "      <th>type</th>\n",
       "      <th>css_class</th>\n",
       "      <th>operations_expended</th>\n",
       "      <th>capital_expended</th>\n",
       "      <th>description</th>\n",
       "      <th>annual_vehicle_rev_miles</th>\n",
       "      <th>annual_vehicle_rev_hours</th>\n",
       "      <th>annual_unlinked_pass_trips</th>\n",
       "      <th>annual_vehicle_max_service</th>\n",
       "      <th>sponsored_service_upt</th>\n",
       "      <th>quantity</th>\n",
       "      <th>last_modified_date</th>\n",
       "    </tr>\n",
       "  </thead>\n",
       "  <tbody>\n",
       "    <tr>\n",
       "      <th>0</th>\n",
       "      <td>City of Arvin</td>\n",
       "      <td>Not Submitted</td>\n",
       "      <td>2024-09-25 18:30:48+00:00</td>\n",
       "      <td>2024</td>\n",
       "      <td>14150</td>\n",
       "      <td>1026</td>\n",
       "      <td>Demand Response (DR) - (DO)</td>\n",
       "      <td></td>\n",
       "      <td>Expenses by Mode</td>\n",
       "      <td>expense</td>\n",
       "      <td>None</td>\n",
       "      <td>None</td>\n",
       "      <td>None</td>\n",
       "      <td>NaN</td>\n",
       "      <td>NaN</td>\n",
       "      <td>NaN</td>\n",
       "      <td>NaN</td>\n",
       "      <td>NaN</td>\n",
       "      <td>None</td>\n",
       "      <td>2024-09-26 17:48:25.270000+00:00</td>\n",
       "    </tr>\n",
       "    <tr>\n",
       "      <th>1</th>\n",
       "      <td>City of Arvin</td>\n",
       "      <td>Not Submitted</td>\n",
       "      <td>2024-09-25 18:30:48+00:00</td>\n",
       "      <td>2024</td>\n",
       "      <td>14151</td>\n",
       "      <td>1026</td>\n",
       "      <td>Deviated Fixed Route (DF) - (DO)</td>\n",
       "      <td></td>\n",
       "      <td>Expenses by Mode</td>\n",
       "      <td>expense</td>\n",
       "      <td>None</td>\n",
       "      <td>None</td>\n",
       "      <td>None</td>\n",
       "      <td>NaN</td>\n",
       "      <td>NaN</td>\n",
       "      <td>NaN</td>\n",
       "      <td>NaN</td>\n",
       "      <td>NaN</td>\n",
       "      <td>None</td>\n",
       "      <td>2024-09-26 17:48:25.270000+00:00</td>\n",
       "    </tr>\n",
       "    <tr>\n",
       "      <th>2</th>\n",
       "      <td>City of Arvin</td>\n",
       "      <td>Not Submitted</td>\n",
       "      <td>2024-09-25 18:30:48+00:00</td>\n",
       "      <td>2024</td>\n",
       "      <td>14152</td>\n",
       "      <td>1026</td>\n",
       "      <td>Demand Response (DR) - (DO)</td>\n",
       "      <td>Passenger-Paid Fares</td>\n",
       "      <td>Fare Revenues</td>\n",
       "      <td>revenue</td>\n",
       "      <td>None</td>\n",
       "      <td>None</td>\n",
       "      <td>None</td>\n",
       "      <td>NaN</td>\n",
       "      <td>NaN</td>\n",
       "      <td>NaN</td>\n",
       "      <td>NaN</td>\n",
       "      <td>NaN</td>\n",
       "      <td>None</td>\n",
       "      <td>2024-09-26 17:48:25.270000+00:00</td>\n",
       "    </tr>\n",
       "  </tbody>\n",
       "</table>\n",
       "</div>"
      ],
      "text/plain": [
       "    organization api_report_status api_report_last_modified_date  \\\n",
       "0  City of Arvin     Not Submitted     2024-09-25 18:30:48+00:00   \n",
       "1  City of Arvin     Not Submitted     2024-09-25 18:30:48+00:00   \n",
       "2  City of Arvin     Not Submitted     2024-09-25 18:30:48+00:00   \n",
       "\n",
       "   api_report_period     id  report_id                              item  \\\n",
       "0               2024  14150       1026       Demand Response (DR) - (DO)   \n",
       "1               2024  14151       1026  Deviated Fixed Route (DF) - (DO)   \n",
       "2               2024  14152       1026       Demand Response (DR) - (DO)   \n",
       "\n",
       "                revenue              type css_class operations_expended  \\\n",
       "0                        Expenses by Mode   expense                None   \n",
       "1                        Expenses by Mode   expense                None   \n",
       "2  Passenger-Paid Fares     Fare Revenues   revenue                None   \n",
       "\n",
       "  capital_expended description  annual_vehicle_rev_miles  \\\n",
       "0             None        None                       NaN   \n",
       "1             None        None                       NaN   \n",
       "2             None        None                       NaN   \n",
       "\n",
       "   annual_vehicle_rev_hours  annual_unlinked_pass_trips  \\\n",
       "0                       NaN                         NaN   \n",
       "1                       NaN                         NaN   \n",
       "2                       NaN                         NaN   \n",
       "\n",
       "   annual_vehicle_max_service  sponsored_service_upt quantity  \\\n",
       "0                         NaN                    NaN     None   \n",
       "1                         NaN                    NaN     None   \n",
       "2                         NaN                    NaN     None   \n",
       "\n",
       "                last_modified_date  \n",
       "0 2024-09-26 17:48:25.270000+00:00  \n",
       "1 2024-09-26 17:48:25.270000+00:00  \n",
       "2 2024-09-26 17:48:25.270000+00:00  "
      ]
     },
     "execution_count": 34,
     "metadata": {},
     "output_type": "execute_result"
    }
   ],
   "source": [
    "error_rr20_rural.head(3)"
   ]
  },
  {
   "cell_type": "code",
   "execution_count": 35,
   "id": "4cf976fa-b7cb-4339-8c1b-2c6c2ea24a8e",
   "metadata": {},
   "outputs": [
    {
     "data": {
      "text/plain": [
       "array(['RR20F-005: Cost per Hour change',\n",
       "       'RR20F-139: Vehicle Revenue Miles (VRM) % change',\n",
       "       'RR20F-139: Revenue Speed change',\n",
       "       'RR20F-143: Vehicle Revenue Miles (VRM) change from zero',\n",
       "       'RR20F-171: Vehicles of Maximum Service (VOMS) change',\n",
       "       'RR20F-139: Fare Revenue Per Trip change',\n",
       "       'RR20F-154: Trips per Hour change',\n",
       "       'RR20F-146: Miles per Vehicle change',\n",
       "       'RR20F-179: Missing Service Data check'], dtype=object)"
      ]
     },
     "execution_count": 35,
     "metadata": {},
     "output_type": "execute_result"
    }
   ],
   "source": [
    "# see names of checks in fct model\n",
    "fct_ntd_rr20_service_checks[\"name_of_check\"].unique()"
   ]
  },
  {
   "cell_type": "code",
   "execution_count": 36,
   "id": "743b6b0b-415a-4bdf-be6e-ca671a5e3828",
   "metadata": {},
   "outputs": [
    {
     "data": {
      "text/plain": [
       "Demand Response (DR) - (DO)      9\n",
       "Bus (MB) (Fixed Route) - (DO)    9\n",
       "Commuter Bus (CB) - (DO)         9\n",
       "Name: mode, dtype: int64"
      ]
     },
     "execution_count": 36,
     "metadata": {},
     "output_type": "execute_result"
    }
   ],
   "source": [
    "# see all modes in fct model\n",
    "fct_ntd_rr20_service_checks[\"mode\"].value_counts()"
   ]
  },
  {
   "cell_type": "code",
   "execution_count": 37,
   "id": "5d328faa-cff0-4e63-a332-2e3625afc4f6",
   "metadata": {},
   "outputs": [],
   "source": [
    "display(\n",
    "    #int_rr20[\"vrm_this_year\"],\n",
    "    #int_rr20[\"vrm_last_year\"]\n",
    ")\n"
   ]
  },
  {
   "cell_type": "code",
   "execution_count": 38,
   "id": "29deac4f-ca4d-4cbc-a04f-228b7b61586b",
   "metadata": {},
   "outputs": [],
   "source": [
    "# sum the \"expense\" and \"operations\" revenue/expense rows for the agency\n",
    "\n",
    "#op_ex = stg_rr20[stg_rr20[\"css_class\"]==\"expense\"][\"operations_expended\"].sum()\n",
    "#op_rev = stg_rr20[stg_rr20[\"css_class\"]==\"revenue\"][\"operations_expended\"].sum()\n",
    "\n",
    "#int_op_ex = int_rr20[\"Total_Annual_Op_Expenses_by_Mode\"][0]\n",
    "#int_op_rev = int_rr20[\"Total_Annual_Op_Revenues_Expended\"][0]\n",
    "\n",
    "#print(f\"\"\"Org: {org}\n",
    "#Does opX and opRev match? {op_ex == op_rev}\n",
    "#Does warehouse opX and opRev match? {int_op_ex == int_op_rev}\n",
    "#opx: {op_ex}\n",
    "#oprev: {op_rev}\n",
    "#Does opX and warehouse opX match? {op_ex == int_op_ex}\n",
    "#Does opRev and warehouse opRev match? {op_rev == int_op_rev}\n",
    "#warehouse opx: {int_op_ex}\n",
    "#warehouse oprev: {int_op_rev}\"\"\")\n",
    "#display(fct_rr20)"
   ]
  },
  {
   "cell_type": "code",
   "execution_count": 39,
   "id": "311f9113-4876-4a18-a93b-ff9b19b41170",
   "metadata": {},
   "outputs": [
    {
     "data": {
      "text/plain": [
       "[9, 14, 16, 36]"
      ]
     },
     "metadata": {},
     "output_type": "display_data"
    },
    {
     "data": {
      "text/plain": [
       "['City of Arvin',\n",
       " 'Town of Truckee',\n",
       " 'Colusa County Transit Agency',\n",
       " 'San Joaquin Regional Transit District']"
      ]
     },
     "metadata": {},
     "output_type": "display_data"
    }
   ],
   "source": [
    "display(error_list, error_orgs)"
   ]
  },
  {
   "cell_type": "code",
   "execution_count": 41,
   "id": "fe18eab8-c96b-4baa-bd57-8f90d042b508",
   "metadata": {},
   "outputs": [
    {
     "ename": "DatabaseError",
     "evalue": "(google.cloud.bigquery.dbapi.exceptions.DatabaseError) 400 division by zero: -4 / 0\n\nLocation: us-west2\nJob ID: e99eb887-67ef-4a83-878d-1d91b3f4e979\n\n[SQL: SELECT `mart_ntd_validation.fct_ntd_rr20_service_checks_1`.`organization`, `mart_ntd_validation.fct_ntd_rr20_service_checks_1`.`name_of_check`, `mart_ntd_validation.fct_ntd_rr20_service_checks_1`.`mode`, `mart_ntd_validation.fct_ntd_rr20_service_checks_1`.`year_of_data`, `mart_ntd_validation.fct_ntd_rr20_service_checks_1`.`check_status`, `mart_ntd_validation.fct_ntd_rr20_service_checks_1`.`value_checked`, `mart_ntd_validation.fct_ntd_rr20_service_checks_1`.`description`, `mart_ntd_validation.fct_ntd_rr20_service_checks_1`.`Agency_Response`, `mart_ntd_validation.fct_ntd_rr20_service_checks_1`.`date_checked` \nFROM `mart_ntd_validation.fct_ntd_rr20_service_checks` AS `mart_ntd_validation.fct_ntd_rr20_service_checks_1` \nWHERE (`mart_ntd_validation.fct_ntd_rr20_service_checks_1`.`organization` NOT IN UNNEST(%(organization_1:STRING)s))]\n[parameters: {'organization_1': ['City of Arvin', 'Town of Truckee', 'Colusa County Transit Agency', 'San Joaquin Regional Transit District']}]\n(Background on this error at: https://sqlalche.me/e/14/4xp6)",
     "output_type": "error",
     "traceback": [
      "\u001b[0;31m---------------------------------------------------------------------------\u001b[0m",
      "\u001b[0;31mBadRequest\u001b[0m                                Traceback (most recent call last)",
      "File \u001b[0;32m/opt/conda/lib/python3.9/site-packages/google/cloud/bigquery/dbapi/cursor.py:213\u001b[0m, in \u001b[0;36mCursor._execute\u001b[0;34m(self, formatted_operation, parameters, job_id, job_config, parameter_types)\u001b[0m\n\u001b[1;32m    212\u001b[0m \u001b[38;5;28;01mtry\u001b[39;00m:\n\u001b[0;32m--> 213\u001b[0m     \u001b[38;5;28;43mself\u001b[39;49m\u001b[38;5;241;43m.\u001b[39;49m\u001b[43m_query_job\u001b[49m\u001b[38;5;241;43m.\u001b[39;49m\u001b[43mresult\u001b[49m\u001b[43m(\u001b[49m\u001b[43m)\u001b[49m\n\u001b[1;32m    214\u001b[0m \u001b[38;5;28;01mexcept\u001b[39;00m google\u001b[38;5;241m.\u001b[39mcloud\u001b[38;5;241m.\u001b[39mexceptions\u001b[38;5;241m.\u001b[39mGoogleCloudError \u001b[38;5;28;01mas\u001b[39;00m exc:\n",
      "File \u001b[0;32m/opt/conda/lib/python3.9/site-packages/google/cloud/bigquery/job/query.py:1520\u001b[0m, in \u001b[0;36mQueryJob.result\u001b[0;34m(self, page_size, max_results, retry, timeout, start_index, job_retry)\u001b[0m\n\u001b[1;32m   1518\u001b[0m         do_get_result \u001b[38;5;241m=\u001b[39m job_retry(do_get_result)\n\u001b[0;32m-> 1520\u001b[0m     \u001b[43mdo_get_result\u001b[49m\u001b[43m(\u001b[49m\u001b[43m)\u001b[49m\n\u001b[1;32m   1522\u001b[0m \u001b[38;5;28;01mexcept\u001b[39;00m exceptions\u001b[38;5;241m.\u001b[39mGoogleAPICallError \u001b[38;5;28;01mas\u001b[39;00m exc:\n",
      "File \u001b[0;32m/opt/conda/lib/python3.9/site-packages/google/api_core/retry.py:349\u001b[0m, in \u001b[0;36mRetry.__call__.<locals>.retry_wrapped_func\u001b[0;34m(*args, **kwargs)\u001b[0m\n\u001b[1;32m    346\u001b[0m sleep_generator \u001b[38;5;241m=\u001b[39m exponential_sleep_generator(\n\u001b[1;32m    347\u001b[0m     \u001b[38;5;28mself\u001b[39m\u001b[38;5;241m.\u001b[39m_initial, \u001b[38;5;28mself\u001b[39m\u001b[38;5;241m.\u001b[39m_maximum, multiplier\u001b[38;5;241m=\u001b[39m\u001b[38;5;28mself\u001b[39m\u001b[38;5;241m.\u001b[39m_multiplier\n\u001b[1;32m    348\u001b[0m )\n\u001b[0;32m--> 349\u001b[0m \u001b[38;5;28;01mreturn\u001b[39;00m \u001b[43mretry_target\u001b[49m\u001b[43m(\u001b[49m\n\u001b[1;32m    350\u001b[0m \u001b[43m    \u001b[49m\u001b[43mtarget\u001b[49m\u001b[43m,\u001b[49m\n\u001b[1;32m    351\u001b[0m \u001b[43m    \u001b[49m\u001b[38;5;28;43mself\u001b[39;49m\u001b[38;5;241;43m.\u001b[39;49m\u001b[43m_predicate\u001b[49m\u001b[43m,\u001b[49m\n\u001b[1;32m    352\u001b[0m \u001b[43m    \u001b[49m\u001b[43msleep_generator\u001b[49m\u001b[43m,\u001b[49m\n\u001b[1;32m    353\u001b[0m \u001b[43m    \u001b[49m\u001b[38;5;28;43mself\u001b[39;49m\u001b[38;5;241;43m.\u001b[39;49m\u001b[43m_timeout\u001b[49m\u001b[43m,\u001b[49m\n\u001b[1;32m    354\u001b[0m \u001b[43m    \u001b[49m\u001b[43mon_error\u001b[49m\u001b[38;5;241;43m=\u001b[39;49m\u001b[43mon_error\u001b[49m\u001b[43m,\u001b[49m\n\u001b[1;32m    355\u001b[0m \u001b[43m\u001b[49m\u001b[43m)\u001b[49m\n",
      "File \u001b[0;32m/opt/conda/lib/python3.9/site-packages/google/api_core/retry.py:191\u001b[0m, in \u001b[0;36mretry_target\u001b[0;34m(target, predicate, sleep_generator, timeout, on_error, **kwargs)\u001b[0m\n\u001b[1;32m    190\u001b[0m \u001b[38;5;28;01mtry\u001b[39;00m:\n\u001b[0;32m--> 191\u001b[0m     \u001b[38;5;28;01mreturn\u001b[39;00m \u001b[43mtarget\u001b[49m\u001b[43m(\u001b[49m\u001b[43m)\u001b[49m\n\u001b[1;32m    193\u001b[0m \u001b[38;5;66;03m# pylint: disable=broad-except\u001b[39;00m\n\u001b[1;32m    194\u001b[0m \u001b[38;5;66;03m# This function explicitly must deal with broad exceptions.\u001b[39;00m\n",
      "File \u001b[0;32m/opt/conda/lib/python3.9/site-packages/google/cloud/bigquery/job/query.py:1510\u001b[0m, in \u001b[0;36mQueryJob.result.<locals>.do_get_result\u001b[0;34m()\u001b[0m\n\u001b[1;32m   1508\u001b[0m     \u001b[38;5;28mself\u001b[39m\u001b[38;5;241m.\u001b[39m_job_retry \u001b[38;5;241m=\u001b[39m job_retry\n\u001b[0;32m-> 1510\u001b[0m \u001b[38;5;28;43msuper\u001b[39;49m\u001b[43m(\u001b[49m\u001b[43mQueryJob\u001b[49m\u001b[43m,\u001b[49m\u001b[43m \u001b[49m\u001b[38;5;28;43mself\u001b[39;49m\u001b[43m)\u001b[49m\u001b[38;5;241;43m.\u001b[39;49m\u001b[43mresult\u001b[49m\u001b[43m(\u001b[49m\u001b[43mretry\u001b[49m\u001b[38;5;241;43m=\u001b[39;49m\u001b[43mretry\u001b[49m\u001b[43m,\u001b[49m\u001b[43m \u001b[49m\u001b[43mtimeout\u001b[49m\u001b[38;5;241;43m=\u001b[39;49m\u001b[43mtimeout\u001b[49m\u001b[43m)\u001b[49m\n\u001b[1;32m   1512\u001b[0m \u001b[38;5;66;03m# Since the job could already be \"done\" (e.g. got a finished job\u001b[39;00m\n\u001b[1;32m   1513\u001b[0m \u001b[38;5;66;03m# via client.get_job), the superclass call to done() might not\u001b[39;00m\n\u001b[1;32m   1514\u001b[0m \u001b[38;5;66;03m# set the self._query_results cache.\u001b[39;00m\n",
      "File \u001b[0;32m/opt/conda/lib/python3.9/site-packages/google/cloud/bigquery/job/base.py:922\u001b[0m, in \u001b[0;36m_AsyncJob.result\u001b[0;34m(self, retry, timeout)\u001b[0m\n\u001b[1;32m    921\u001b[0m kwargs \u001b[38;5;241m=\u001b[39m {} \u001b[38;5;28;01mif\u001b[39;00m retry \u001b[38;5;129;01mis\u001b[39;00m DEFAULT_RETRY \u001b[38;5;28;01melse\u001b[39;00m {\u001b[38;5;124m\"\u001b[39m\u001b[38;5;124mretry\u001b[39m\u001b[38;5;124m\"\u001b[39m: retry}\n\u001b[0;32m--> 922\u001b[0m \u001b[38;5;28;01mreturn\u001b[39;00m \u001b[38;5;28;43msuper\u001b[39;49m\u001b[43m(\u001b[49m\u001b[43m_AsyncJob\u001b[49m\u001b[43m,\u001b[49m\u001b[43m \u001b[49m\u001b[38;5;28;43mself\u001b[39;49m\u001b[43m)\u001b[49m\u001b[38;5;241;43m.\u001b[39;49m\u001b[43mresult\u001b[49m\u001b[43m(\u001b[49m\u001b[43mtimeout\u001b[49m\u001b[38;5;241;43m=\u001b[39;49m\u001b[43mtimeout\u001b[49m\u001b[43m,\u001b[49m\u001b[43m \u001b[49m\u001b[38;5;241;43m*\u001b[39;49m\u001b[38;5;241;43m*\u001b[39;49m\u001b[43mkwargs\u001b[49m\u001b[43m)\u001b[49m\n",
      "File \u001b[0;32m/opt/conda/lib/python3.9/site-packages/google/api_core/future/polling.py:261\u001b[0m, in \u001b[0;36mPollingFuture.result\u001b[0;34m(self, timeout, retry, polling)\u001b[0m\n\u001b[1;32m    258\u001b[0m \u001b[38;5;28;01mif\u001b[39;00m \u001b[38;5;28mself\u001b[39m\u001b[38;5;241m.\u001b[39m_exception \u001b[38;5;129;01mis\u001b[39;00m \u001b[38;5;129;01mnot\u001b[39;00m \u001b[38;5;28;01mNone\u001b[39;00m:\n\u001b[1;32m    259\u001b[0m     \u001b[38;5;66;03m# pylint: disable=raising-bad-type\u001b[39;00m\n\u001b[1;32m    260\u001b[0m     \u001b[38;5;66;03m# Pylint doesn't recognize that this is valid in this case.\u001b[39;00m\n\u001b[0;32m--> 261\u001b[0m     \u001b[38;5;28;01mraise\u001b[39;00m \u001b[38;5;28mself\u001b[39m\u001b[38;5;241m.\u001b[39m_exception\n\u001b[1;32m    263\u001b[0m \u001b[38;5;28;01mreturn\u001b[39;00m \u001b[38;5;28mself\u001b[39m\u001b[38;5;241m.\u001b[39m_result\n",
      "\u001b[0;31mBadRequest\u001b[0m: 400 division by zero: -4 / 0\n\nLocation: us-west2\nJob ID: e99eb887-67ef-4a83-878d-1d91b3f4e979\n",
      "\nDuring handling of the above exception, another exception occurred:\n",
      "\u001b[0;31mDatabaseError\u001b[0m                             Traceback (most recent call last)",
      "File \u001b[0;32m/opt/conda/lib/python3.9/site-packages/sqlalchemy/engine/base.py:1910\u001b[0m, in \u001b[0;36mConnection._execute_context\u001b[0;34m(self, dialect, constructor, statement, parameters, execution_options, *args, **kw)\u001b[0m\n\u001b[1;32m   1909\u001b[0m     \u001b[38;5;28;01mif\u001b[39;00m \u001b[38;5;129;01mnot\u001b[39;00m evt_handled:\n\u001b[0;32m-> 1910\u001b[0m         \u001b[38;5;28;43mself\u001b[39;49m\u001b[38;5;241;43m.\u001b[39;49m\u001b[43mdialect\u001b[49m\u001b[38;5;241;43m.\u001b[39;49m\u001b[43mdo_execute\u001b[49m\u001b[43m(\u001b[49m\n\u001b[1;32m   1911\u001b[0m \u001b[43m            \u001b[49m\u001b[43mcursor\u001b[49m\u001b[43m,\u001b[49m\u001b[43m \u001b[49m\u001b[43mstatement\u001b[49m\u001b[43m,\u001b[49m\u001b[43m \u001b[49m\u001b[43mparameters\u001b[49m\u001b[43m,\u001b[49m\u001b[43m \u001b[49m\u001b[43mcontext\u001b[49m\n\u001b[1;32m   1912\u001b[0m \u001b[43m        \u001b[49m\u001b[43m)\u001b[49m\n\u001b[1;32m   1914\u001b[0m \u001b[38;5;28;01mif\u001b[39;00m \u001b[38;5;28mself\u001b[39m\u001b[38;5;241m.\u001b[39m_has_events \u001b[38;5;129;01mor\u001b[39;00m \u001b[38;5;28mself\u001b[39m\u001b[38;5;241m.\u001b[39mengine\u001b[38;5;241m.\u001b[39m_has_events:\n",
      "File \u001b[0;32m/opt/conda/lib/python3.9/site-packages/sqlalchemy/engine/default.py:736\u001b[0m, in \u001b[0;36mDefaultDialect.do_execute\u001b[0;34m(self, cursor, statement, parameters, context)\u001b[0m\n\u001b[1;32m    735\u001b[0m \u001b[38;5;28;01mdef\u001b[39;00m \u001b[38;5;21mdo_execute\u001b[39m(\u001b[38;5;28mself\u001b[39m, cursor, statement, parameters, context\u001b[38;5;241m=\u001b[39m\u001b[38;5;28;01mNone\u001b[39;00m):\n\u001b[0;32m--> 736\u001b[0m     \u001b[43mcursor\u001b[49m\u001b[38;5;241;43m.\u001b[39;49m\u001b[43mexecute\u001b[49m\u001b[43m(\u001b[49m\u001b[43mstatement\u001b[49m\u001b[43m,\u001b[49m\u001b[43m \u001b[49m\u001b[43mparameters\u001b[49m\u001b[43m)\u001b[49m\n",
      "File \u001b[0;32m/opt/conda/lib/python3.9/site-packages/google/cloud/bigquery/dbapi/_helpers.py:494\u001b[0m, in \u001b[0;36mraise_on_closed.<locals>._raise_on_closed.<locals>.with_closed_check\u001b[0;34m(self, *args, **kwargs)\u001b[0m\n\u001b[1;32m    493\u001b[0m     \u001b[38;5;28;01mraise\u001b[39;00m exc_class(exc_msg)\n\u001b[0;32m--> 494\u001b[0m \u001b[38;5;28;01mreturn\u001b[39;00m \u001b[43mmethod\u001b[49m\u001b[43m(\u001b[49m\u001b[38;5;28;43mself\u001b[39;49m\u001b[43m,\u001b[49m\u001b[43m \u001b[49m\u001b[38;5;241;43m*\u001b[39;49m\u001b[43margs\u001b[49m\u001b[43m,\u001b[49m\u001b[43m \u001b[49m\u001b[38;5;241;43m*\u001b[39;49m\u001b[38;5;241;43m*\u001b[39;49m\u001b[43mkwargs\u001b[49m\u001b[43m)\u001b[49m\n",
      "File \u001b[0;32m/opt/conda/lib/python3.9/site-packages/google/cloud/bigquery/dbapi/cursor.py:176\u001b[0m, in \u001b[0;36mCursor.execute\u001b[0;34m(self, operation, parameters, job_id, job_config)\u001b[0m\n\u001b[1;32m    175\u001b[0m formatted_operation, parameter_types \u001b[38;5;241m=\u001b[39m _format_operation(operation, parameters)\n\u001b[0;32m--> 176\u001b[0m \u001b[38;5;28;43mself\u001b[39;49m\u001b[38;5;241;43m.\u001b[39;49m\u001b[43m_execute\u001b[49m\u001b[43m(\u001b[49m\n\u001b[1;32m    177\u001b[0m \u001b[43m    \u001b[49m\u001b[43mformatted_operation\u001b[49m\u001b[43m,\u001b[49m\u001b[43m \u001b[49m\u001b[43mparameters\u001b[49m\u001b[43m,\u001b[49m\u001b[43m \u001b[49m\u001b[43mjob_id\u001b[49m\u001b[43m,\u001b[49m\u001b[43m \u001b[49m\u001b[43mjob_config\u001b[49m\u001b[43m,\u001b[49m\u001b[43m \u001b[49m\u001b[43mparameter_types\u001b[49m\n\u001b[1;32m    178\u001b[0m \u001b[43m\u001b[49m\u001b[43m)\u001b[49m\n",
      "File \u001b[0;32m/opt/conda/lib/python3.9/site-packages/google/cloud/bigquery/dbapi/cursor.py:215\u001b[0m, in \u001b[0;36mCursor._execute\u001b[0;34m(self, formatted_operation, parameters, job_id, job_config, parameter_types)\u001b[0m\n\u001b[1;32m    214\u001b[0m \u001b[38;5;28;01mexcept\u001b[39;00m google\u001b[38;5;241m.\u001b[39mcloud\u001b[38;5;241m.\u001b[39mexceptions\u001b[38;5;241m.\u001b[39mGoogleCloudError \u001b[38;5;28;01mas\u001b[39;00m exc:\n\u001b[0;32m--> 215\u001b[0m     \u001b[38;5;28;01mraise\u001b[39;00m exceptions\u001b[38;5;241m.\u001b[39mDatabaseError(exc)\n\u001b[1;32m    217\u001b[0m query_results \u001b[38;5;241m=\u001b[39m \u001b[38;5;28mself\u001b[39m\u001b[38;5;241m.\u001b[39m_query_job\u001b[38;5;241m.\u001b[39m_query_results\n",
      "\u001b[0;31mDatabaseError\u001b[0m: 400 division by zero: -4 / 0\n\nLocation: us-west2\nJob ID: e99eb887-67ef-4a83-878d-1d91b3f4e979\n",
      "\nThe above exception was the direct cause of the following exception:\n",
      "\u001b[0;31mDatabaseError\u001b[0m                             Traceback (most recent call last)",
      "Cell \u001b[0;32mIn[41], line 3\u001b[0m\n\u001b[1;32m      1\u001b[0m \u001b[38;5;66;03m# query the fct model without the error orgs, then see what modes are in it.\u001b[39;00m\n\u001b[1;32m      2\u001b[0m just_modes \u001b[38;5;241m=\u001b[39m (\n\u001b[0;32m----> 3\u001b[0m     \u001b[43mtbls\u001b[49m\u001b[38;5;241;43m.\u001b[39;49m\u001b[43mmart_ntd_validation\u001b[49m\u001b[38;5;241;43m.\u001b[39;49m\u001b[43mfct_ntd_rr20_service_checks\u001b[49m\u001b[43m(\u001b[49m\u001b[43m)\u001b[49m\n\u001b[1;32m      4\u001b[0m \u001b[43m    \u001b[49m\u001b[38;5;241;43m>>\u001b[39;49m\u001b[43m \u001b[49m\u001b[38;5;28;43mfilter\u001b[39;49m\u001b[43m(\u001b[49m\u001b[38;5;241;43m~\u001b[39;49m\u001b[43m_\u001b[49m\u001b[38;5;241;43m.\u001b[39;49m\u001b[43morganization\u001b[49m\u001b[38;5;241;43m.\u001b[39;49m\u001b[43misin\u001b[49m\u001b[43m(\u001b[49m\u001b[43merror_orgs\u001b[49m\u001b[43m)\u001b[49m\u001b[43m,\u001b[49m\n\u001b[1;32m      5\u001b[0m \u001b[43m             \u001b[49m\u001b[43m)\u001b[49m\n\u001b[1;32m      6\u001b[0m \u001b[43m    \u001b[49m\u001b[38;5;241;43m>>\u001b[39;49m\u001b[43mcollect\u001b[49m\u001b[43m(\u001b[49m\u001b[43m)\u001b[49m\n\u001b[1;32m      7\u001b[0m )\n\u001b[1;32m      9\u001b[0m mode_list \u001b[38;5;241m=\u001b[39m \u001b[38;5;28mlist\u001b[39m(just_modes[\u001b[38;5;124m\"\u001b[39m\u001b[38;5;124mmode\u001b[39m\u001b[38;5;124m\"\u001b[39m]\u001b[38;5;241m.\u001b[39munique())\n",
      "File \u001b[0;32m/opt/conda/lib/python3.9/site-packages/siuba/siu/calls.py:214\u001b[0m, in \u001b[0;36mCall.__rrshift__\u001b[0;34m(self, x)\u001b[0m\n\u001b[1;32m    210\u001b[0m \u001b[38;5;28;01mif\u001b[39;00m \u001b[38;5;28misinstance\u001b[39m(strip_symbolic(x), (Call)):\n\u001b[1;32m    211\u001b[0m     \u001b[38;5;66;03m# only allow non-calls (i.e. data) on the left.\u001b[39;00m\n\u001b[1;32m    212\u001b[0m     \u001b[38;5;28;01mraise\u001b[39;00m \u001b[38;5;167;01mTypeError\u001b[39;00m()\n\u001b[0;32m--> 214\u001b[0m \u001b[38;5;28;01mreturn\u001b[39;00m \u001b[38;5;28;43mself\u001b[39;49m\u001b[43m(\u001b[49m\u001b[43mx\u001b[49m\u001b[43m)\u001b[49m\n",
      "File \u001b[0;32m/opt/conda/lib/python3.9/site-packages/siuba/siu/calls.py:189\u001b[0m, in \u001b[0;36mCall.__call__\u001b[0;34m(self, x)\u001b[0m\n\u001b[1;32m    187\u001b[0m     \u001b[38;5;28;01mreturn\u001b[39;00m operator\u001b[38;5;241m.\u001b[39mgetitem(inst, \u001b[38;5;241m*\u001b[39mrest)\n\u001b[1;32m    188\u001b[0m \u001b[38;5;28;01melif\u001b[39;00m \u001b[38;5;28mself\u001b[39m\u001b[38;5;241m.\u001b[39mfunc \u001b[38;5;241m==\u001b[39m \u001b[38;5;124m\"\u001b[39m\u001b[38;5;124m__call__\u001b[39m\u001b[38;5;124m\"\u001b[39m:\n\u001b[0;32m--> 189\u001b[0m     \u001b[38;5;28;01mreturn\u001b[39;00m \u001b[38;5;28;43mgetattr\u001b[39;49m\u001b[43m(\u001b[49m\u001b[43minst\u001b[49m\u001b[43m,\u001b[49m\u001b[43m \u001b[49m\u001b[38;5;28;43mself\u001b[39;49m\u001b[38;5;241;43m.\u001b[39;49m\u001b[43mfunc\u001b[49m\u001b[43m)\u001b[49m\u001b[43m(\u001b[49m\u001b[38;5;241;43m*\u001b[39;49m\u001b[43mrest\u001b[49m\u001b[43m,\u001b[49m\u001b[43m \u001b[49m\u001b[38;5;241;43m*\u001b[39;49m\u001b[38;5;241;43m*\u001b[39;49m\u001b[43mkwargs\u001b[49m\u001b[43m)\u001b[49m\n\u001b[1;32m    191\u001b[0m \u001b[38;5;66;03m# in normal case, get method to call, and then call it\u001b[39;00m\n\u001b[1;32m    192\u001b[0m f_op \u001b[38;5;241m=\u001b[39m \u001b[38;5;28mgetattr\u001b[39m(operator, \u001b[38;5;28mself\u001b[39m\u001b[38;5;241m.\u001b[39mfunc)\n",
      "File \u001b[0;32m/opt/conda/lib/python3.9/site-packages/siuba/siu/dispatchers.py:167\u001b[0m, in \u001b[0;36mverb_dispatch.<locals>.wrapper\u001b[0;34m(*args, **kwargs)\u001b[0m\n\u001b[1;32m    164\u001b[0m \u001b[38;5;28;01mif\u001b[39;00m \u001b[38;5;129;01mnot\u001b[39;00m args:\n\u001b[1;32m    165\u001b[0m     \u001b[38;5;28;01mreturn\u001b[39;00m dispatch_func(NoArgs(), \u001b[38;5;241m*\u001b[39m\u001b[38;5;241m*\u001b[39mstrip_kwargs)\n\u001b[0;32m--> 167\u001b[0m \u001b[38;5;28;01mreturn\u001b[39;00m \u001b[43mdispatch_func\u001b[49m\u001b[43m(\u001b[49m\u001b[38;5;241;43m*\u001b[39;49m\u001b[43mstrip_args\u001b[49m\u001b[43m,\u001b[49m\u001b[43m \u001b[49m\u001b[38;5;241;43m*\u001b[39;49m\u001b[38;5;241;43m*\u001b[39;49m\u001b[43mstrip_kwargs\u001b[49m\u001b[43m)\u001b[49m\n",
      "File \u001b[0;32m/opt/conda/lib/python3.9/functools.py:888\u001b[0m, in \u001b[0;36msingledispatch.<locals>.wrapper\u001b[0;34m(*args, **kw)\u001b[0m\n\u001b[1;32m    884\u001b[0m \u001b[38;5;28;01mif\u001b[39;00m \u001b[38;5;129;01mnot\u001b[39;00m args:\n\u001b[1;32m    885\u001b[0m     \u001b[38;5;28;01mraise\u001b[39;00m \u001b[38;5;167;01mTypeError\u001b[39;00m(\u001b[38;5;124mf\u001b[39m\u001b[38;5;124m'\u001b[39m\u001b[38;5;132;01m{\u001b[39;00mfuncname\u001b[38;5;132;01m}\u001b[39;00m\u001b[38;5;124m requires at least \u001b[39m\u001b[38;5;124m'\u001b[39m\n\u001b[1;32m    886\u001b[0m                     \u001b[38;5;124m'\u001b[39m\u001b[38;5;124m1 positional argument\u001b[39m\u001b[38;5;124m'\u001b[39m)\n\u001b[0;32m--> 888\u001b[0m \u001b[38;5;28;01mreturn\u001b[39;00m \u001b[43mdispatch\u001b[49m\u001b[43m(\u001b[49m\u001b[43margs\u001b[49m\u001b[43m[\u001b[49m\u001b[38;5;241;43m0\u001b[39;49m\u001b[43m]\u001b[49m\u001b[38;5;241;43m.\u001b[39;49m\u001b[38;5;18;43m__class__\u001b[39;49m\u001b[43m)\u001b[49m\u001b[43m(\u001b[49m\u001b[38;5;241;43m*\u001b[39;49m\u001b[43margs\u001b[49m\u001b[43m,\u001b[49m\u001b[43m \u001b[49m\u001b[38;5;241;43m*\u001b[39;49m\u001b[38;5;241;43m*\u001b[39;49m\u001b[43mkw\u001b[49m\u001b[43m)\u001b[49m\n",
      "File \u001b[0;32m/opt/conda/lib/python3.9/site-packages/siuba/sql/verbs/compute.py:46\u001b[0m, in \u001b[0;36m_collect\u001b[0;34m(__data, as_df)\u001b[0m\n\u001b[1;32m     43\u001b[0m         \u001b[38;5;28;01mreturn\u001b[39;00m duckdb_con\u001b[38;5;241m.\u001b[39mquery(\u001b[38;5;28mstr\u001b[39m(compiled))\u001b[38;5;241m.\u001b[39mto_df()\n\u001b[1;32m     44\u001b[0m     \u001b[38;5;28;01melse\u001b[39;00m:\n\u001b[1;32m     45\u001b[0m         \u001b[38;5;66;03m#\u001b[39;00m\n\u001b[0;32m---> 46\u001b[0m         \u001b[38;5;28;01mreturn\u001b[39;00m \u001b[43msql_db\u001b[49m\u001b[38;5;241;43m.\u001b[39;49m\u001b[43mread_sql\u001b[49m\u001b[43m(\u001b[49m\u001b[43mcompiled\u001b[49m\u001b[43m)\u001b[49m\n\u001b[1;32m     48\u001b[0m \u001b[38;5;28;01mreturn\u001b[39;00m conn\u001b[38;5;241m.\u001b[39mexecute(compiled)\n",
      "File \u001b[0;32m/opt/conda/lib/python3.9/site-packages/pandas/io/sql.py:1560\u001b[0m, in \u001b[0;36mSQLDatabase.read_query\u001b[0;34m(self, sql, index_col, coerce_float, parse_dates, params, chunksize, dtype)\u001b[0m\n\u001b[1;32m   1512\u001b[0m \u001b[38;5;250m\u001b[39m\u001b[38;5;124;03m\"\"\"\u001b[39;00m\n\u001b[1;32m   1513\u001b[0m \u001b[38;5;124;03mRead SQL query into a DataFrame.\u001b[39;00m\n\u001b[1;32m   1514\u001b[0m \n\u001b[0;32m   (...)\u001b[0m\n\u001b[1;32m   1556\u001b[0m \n\u001b[1;32m   1557\u001b[0m \u001b[38;5;124;03m\"\"\"\u001b[39;00m\n\u001b[1;32m   1558\u001b[0m args \u001b[38;5;241m=\u001b[39m _convert_params(sql, params)\n\u001b[0;32m-> 1560\u001b[0m result \u001b[38;5;241m=\u001b[39m \u001b[38;5;28;43mself\u001b[39;49m\u001b[38;5;241;43m.\u001b[39;49m\u001b[43mexecute\u001b[49m\u001b[43m(\u001b[49m\u001b[38;5;241;43m*\u001b[39;49m\u001b[43margs\u001b[49m\u001b[43m)\u001b[49m\n\u001b[1;32m   1561\u001b[0m columns \u001b[38;5;241m=\u001b[39m result\u001b[38;5;241m.\u001b[39mkeys()\n\u001b[1;32m   1563\u001b[0m \u001b[38;5;28;01mif\u001b[39;00m chunksize \u001b[38;5;129;01mis\u001b[39;00m \u001b[38;5;129;01mnot\u001b[39;00m \u001b[38;5;28;01mNone\u001b[39;00m:\n",
      "File \u001b[0;32m/opt/conda/lib/python3.9/site-packages/siuba/sql/utils.py:85\u001b[0m, in \u001b[0;36m_FixedSqlDatabase.execute\u001b[0;34m(self, *args, **kwargs)\u001b[0m\n\u001b[1;32m     84\u001b[0m \u001b[38;5;28;01mdef\u001b[39;00m \u001b[38;5;21mexecute\u001b[39m(\u001b[38;5;28mself\u001b[39m, \u001b[38;5;241m*\u001b[39margs, \u001b[38;5;241m*\u001b[39m\u001b[38;5;241m*\u001b[39mkwargs):\n\u001b[0;32m---> 85\u001b[0m     \u001b[38;5;28;01mreturn\u001b[39;00m \u001b[38;5;28;43mself\u001b[39;49m\u001b[38;5;241;43m.\u001b[39;49m\u001b[43mconnectable\u001b[49m\u001b[38;5;241;43m.\u001b[39;49m\u001b[43mexecute\u001b[49m\u001b[43m(\u001b[49m\u001b[38;5;241;43m*\u001b[39;49m\u001b[43margs\u001b[49m\u001b[43m,\u001b[49m\u001b[43m \u001b[49m\u001b[38;5;241;43m*\u001b[39;49m\u001b[38;5;241;43m*\u001b[39;49m\u001b[43mkwargs\u001b[49m\u001b[43m)\u001b[49m\n",
      "File \u001b[0;32m/opt/conda/lib/python3.9/site-packages/sqlalchemy/engine/base.py:1385\u001b[0m, in \u001b[0;36mConnection.execute\u001b[0;34m(self, statement, *multiparams, **params)\u001b[0m\n\u001b[1;32m   1381\u001b[0m     util\u001b[38;5;241m.\u001b[39mraise_(\n\u001b[1;32m   1382\u001b[0m         exc\u001b[38;5;241m.\u001b[39mObjectNotExecutableError(statement), replace_context\u001b[38;5;241m=\u001b[39merr\n\u001b[1;32m   1383\u001b[0m     )\n\u001b[1;32m   1384\u001b[0m \u001b[38;5;28;01melse\u001b[39;00m:\n\u001b[0;32m-> 1385\u001b[0m     \u001b[38;5;28;01mreturn\u001b[39;00m \u001b[43mmeth\u001b[49m\u001b[43m(\u001b[49m\u001b[38;5;28;43mself\u001b[39;49m\u001b[43m,\u001b[49m\u001b[43m \u001b[49m\u001b[43mmultiparams\u001b[49m\u001b[43m,\u001b[49m\u001b[43m \u001b[49m\u001b[43mparams\u001b[49m\u001b[43m,\u001b[49m\u001b[43m \u001b[49m\u001b[43m_EMPTY_EXECUTION_OPTS\u001b[49m\u001b[43m)\u001b[49m\n",
      "File \u001b[0;32m/opt/conda/lib/python3.9/site-packages/sqlalchemy/sql/elements.py:334\u001b[0m, in \u001b[0;36mClauseElement._execute_on_connection\u001b[0;34m(self, connection, multiparams, params, execution_options, _force)\u001b[0m\n\u001b[1;32m    330\u001b[0m \u001b[38;5;28;01mdef\u001b[39;00m \u001b[38;5;21m_execute_on_connection\u001b[39m(\n\u001b[1;32m    331\u001b[0m     \u001b[38;5;28mself\u001b[39m, connection, multiparams, params, execution_options, _force\u001b[38;5;241m=\u001b[39m\u001b[38;5;28;01mFalse\u001b[39;00m\n\u001b[1;32m    332\u001b[0m ):\n\u001b[1;32m    333\u001b[0m     \u001b[38;5;28;01mif\u001b[39;00m _force \u001b[38;5;129;01mor\u001b[39;00m \u001b[38;5;28mself\u001b[39m\u001b[38;5;241m.\u001b[39msupports_execution:\n\u001b[0;32m--> 334\u001b[0m         \u001b[38;5;28;01mreturn\u001b[39;00m \u001b[43mconnection\u001b[49m\u001b[38;5;241;43m.\u001b[39;49m\u001b[43m_execute_clauseelement\u001b[49m\u001b[43m(\u001b[49m\n\u001b[1;32m    335\u001b[0m \u001b[43m            \u001b[49m\u001b[38;5;28;43mself\u001b[39;49m\u001b[43m,\u001b[49m\u001b[43m \u001b[49m\u001b[43mmultiparams\u001b[49m\u001b[43m,\u001b[49m\u001b[43m \u001b[49m\u001b[43mparams\u001b[49m\u001b[43m,\u001b[49m\u001b[43m \u001b[49m\u001b[43mexecution_options\u001b[49m\n\u001b[1;32m    336\u001b[0m \u001b[43m        \u001b[49m\u001b[43m)\u001b[49m\n\u001b[1;32m    337\u001b[0m     \u001b[38;5;28;01melse\u001b[39;00m:\n\u001b[1;32m    338\u001b[0m         \u001b[38;5;28;01mraise\u001b[39;00m exc\u001b[38;5;241m.\u001b[39mObjectNotExecutableError(\u001b[38;5;28mself\u001b[39m)\n",
      "File \u001b[0;32m/opt/conda/lib/python3.9/site-packages/sqlalchemy/engine/base.py:1577\u001b[0m, in \u001b[0;36mConnection._execute_clauseelement\u001b[0;34m(self, elem, multiparams, params, execution_options)\u001b[0m\n\u001b[1;32m   1565\u001b[0m compiled_cache \u001b[38;5;241m=\u001b[39m execution_options\u001b[38;5;241m.\u001b[39mget(\n\u001b[1;32m   1566\u001b[0m     \u001b[38;5;124m\"\u001b[39m\u001b[38;5;124mcompiled_cache\u001b[39m\u001b[38;5;124m\"\u001b[39m, \u001b[38;5;28mself\u001b[39m\u001b[38;5;241m.\u001b[39mengine\u001b[38;5;241m.\u001b[39m_compiled_cache\n\u001b[1;32m   1567\u001b[0m )\n\u001b[1;32m   1569\u001b[0m compiled_sql, extracted_params, cache_hit \u001b[38;5;241m=\u001b[39m elem\u001b[38;5;241m.\u001b[39m_compile_w_cache(\n\u001b[1;32m   1570\u001b[0m     dialect\u001b[38;5;241m=\u001b[39mdialect,\n\u001b[1;32m   1571\u001b[0m     compiled_cache\u001b[38;5;241m=\u001b[39mcompiled_cache,\n\u001b[0;32m   (...)\u001b[0m\n\u001b[1;32m   1575\u001b[0m     linting\u001b[38;5;241m=\u001b[39m\u001b[38;5;28mself\u001b[39m\u001b[38;5;241m.\u001b[39mdialect\u001b[38;5;241m.\u001b[39mcompiler_linting \u001b[38;5;241m|\u001b[39m compiler\u001b[38;5;241m.\u001b[39mWARN_LINTING,\n\u001b[1;32m   1576\u001b[0m )\n\u001b[0;32m-> 1577\u001b[0m ret \u001b[38;5;241m=\u001b[39m \u001b[38;5;28;43mself\u001b[39;49m\u001b[38;5;241;43m.\u001b[39;49m\u001b[43m_execute_context\u001b[49m\u001b[43m(\u001b[49m\n\u001b[1;32m   1578\u001b[0m \u001b[43m    \u001b[49m\u001b[43mdialect\u001b[49m\u001b[43m,\u001b[49m\n\u001b[1;32m   1579\u001b[0m \u001b[43m    \u001b[49m\u001b[43mdialect\u001b[49m\u001b[38;5;241;43m.\u001b[39;49m\u001b[43mexecution_ctx_cls\u001b[49m\u001b[38;5;241;43m.\u001b[39;49m\u001b[43m_init_compiled\u001b[49m\u001b[43m,\u001b[49m\n\u001b[1;32m   1580\u001b[0m \u001b[43m    \u001b[49m\u001b[43mcompiled_sql\u001b[49m\u001b[43m,\u001b[49m\n\u001b[1;32m   1581\u001b[0m \u001b[43m    \u001b[49m\u001b[43mdistilled_params\u001b[49m\u001b[43m,\u001b[49m\n\u001b[1;32m   1582\u001b[0m \u001b[43m    \u001b[49m\u001b[43mexecution_options\u001b[49m\u001b[43m,\u001b[49m\n\u001b[1;32m   1583\u001b[0m \u001b[43m    \u001b[49m\u001b[43mcompiled_sql\u001b[49m\u001b[43m,\u001b[49m\n\u001b[1;32m   1584\u001b[0m \u001b[43m    \u001b[49m\u001b[43mdistilled_params\u001b[49m\u001b[43m,\u001b[49m\n\u001b[1;32m   1585\u001b[0m \u001b[43m    \u001b[49m\u001b[43melem\u001b[49m\u001b[43m,\u001b[49m\n\u001b[1;32m   1586\u001b[0m \u001b[43m    \u001b[49m\u001b[43mextracted_params\u001b[49m\u001b[43m,\u001b[49m\n\u001b[1;32m   1587\u001b[0m \u001b[43m    \u001b[49m\u001b[43mcache_hit\u001b[49m\u001b[38;5;241;43m=\u001b[39;49m\u001b[43mcache_hit\u001b[49m\u001b[43m,\u001b[49m\n\u001b[1;32m   1588\u001b[0m \u001b[43m\u001b[49m\u001b[43m)\u001b[49m\n\u001b[1;32m   1589\u001b[0m \u001b[38;5;28;01mif\u001b[39;00m has_events:\n\u001b[1;32m   1590\u001b[0m     \u001b[38;5;28mself\u001b[39m\u001b[38;5;241m.\u001b[39mdispatch\u001b[38;5;241m.\u001b[39mafter_execute(\n\u001b[1;32m   1591\u001b[0m         \u001b[38;5;28mself\u001b[39m,\n\u001b[1;32m   1592\u001b[0m         elem,\n\u001b[0;32m   (...)\u001b[0m\n\u001b[1;32m   1596\u001b[0m         ret,\n\u001b[1;32m   1597\u001b[0m     )\n",
      "File \u001b[0;32m/opt/conda/lib/python3.9/site-packages/sqlalchemy/engine/base.py:1953\u001b[0m, in \u001b[0;36mConnection._execute_context\u001b[0;34m(self, dialect, constructor, statement, parameters, execution_options, *args, **kw)\u001b[0m\n\u001b[1;32m   1950\u001b[0m             branched\u001b[38;5;241m.\u001b[39mclose()\n\u001b[1;32m   1952\u001b[0m \u001b[38;5;28;01mexcept\u001b[39;00m \u001b[38;5;167;01mBaseException\u001b[39;00m \u001b[38;5;28;01mas\u001b[39;00m e:\n\u001b[0;32m-> 1953\u001b[0m     \u001b[38;5;28;43mself\u001b[39;49m\u001b[38;5;241;43m.\u001b[39;49m\u001b[43m_handle_dbapi_exception\u001b[49m\u001b[43m(\u001b[49m\n\u001b[1;32m   1954\u001b[0m \u001b[43m        \u001b[49m\u001b[43me\u001b[49m\u001b[43m,\u001b[49m\u001b[43m \u001b[49m\u001b[43mstatement\u001b[49m\u001b[43m,\u001b[49m\u001b[43m \u001b[49m\u001b[43mparameters\u001b[49m\u001b[43m,\u001b[49m\u001b[43m \u001b[49m\u001b[43mcursor\u001b[49m\u001b[43m,\u001b[49m\u001b[43m \u001b[49m\u001b[43mcontext\u001b[49m\n\u001b[1;32m   1955\u001b[0m \u001b[43m    \u001b[49m\u001b[43m)\u001b[49m\n\u001b[1;32m   1957\u001b[0m \u001b[38;5;28;01mreturn\u001b[39;00m result\n",
      "File \u001b[0;32m/opt/conda/lib/python3.9/site-packages/sqlalchemy/engine/base.py:2134\u001b[0m, in \u001b[0;36mConnection._handle_dbapi_exception\u001b[0;34m(self, e, statement, parameters, cursor, context)\u001b[0m\n\u001b[1;32m   2132\u001b[0m     util\u001b[38;5;241m.\u001b[39mraise_(newraise, with_traceback\u001b[38;5;241m=\u001b[39mexc_info[\u001b[38;5;241m2\u001b[39m], from_\u001b[38;5;241m=\u001b[39me)\n\u001b[1;32m   2133\u001b[0m \u001b[38;5;28;01melif\u001b[39;00m should_wrap:\n\u001b[0;32m-> 2134\u001b[0m     \u001b[43mutil\u001b[49m\u001b[38;5;241;43m.\u001b[39;49m\u001b[43mraise_\u001b[49m\u001b[43m(\u001b[49m\n\u001b[1;32m   2135\u001b[0m \u001b[43m        \u001b[49m\u001b[43msqlalchemy_exception\u001b[49m\u001b[43m,\u001b[49m\u001b[43m \u001b[49m\u001b[43mwith_traceback\u001b[49m\u001b[38;5;241;43m=\u001b[39;49m\u001b[43mexc_info\u001b[49m\u001b[43m[\u001b[49m\u001b[38;5;241;43m2\u001b[39;49m\u001b[43m]\u001b[49m\u001b[43m,\u001b[49m\u001b[43m \u001b[49m\u001b[43mfrom_\u001b[49m\u001b[38;5;241;43m=\u001b[39;49m\u001b[43me\u001b[49m\n\u001b[1;32m   2136\u001b[0m \u001b[43m    \u001b[49m\u001b[43m)\u001b[49m\n\u001b[1;32m   2137\u001b[0m \u001b[38;5;28;01melse\u001b[39;00m:\n\u001b[1;32m   2138\u001b[0m     util\u001b[38;5;241m.\u001b[39mraise_(exc_info[\u001b[38;5;241m1\u001b[39m], with_traceback\u001b[38;5;241m=\u001b[39mexc_info[\u001b[38;5;241m2\u001b[39m])\n",
      "File \u001b[0;32m/opt/conda/lib/python3.9/site-packages/sqlalchemy/util/compat.py:211\u001b[0m, in \u001b[0;36mraise_\u001b[0;34m(***failed resolving arguments***)\u001b[0m\n\u001b[1;32m    208\u001b[0m     exception\u001b[38;5;241m.\u001b[39m__cause__ \u001b[38;5;241m=\u001b[39m replace_context\n\u001b[1;32m    210\u001b[0m \u001b[38;5;28;01mtry\u001b[39;00m:\n\u001b[0;32m--> 211\u001b[0m     \u001b[38;5;28;01mraise\u001b[39;00m exception\n\u001b[1;32m    212\u001b[0m \u001b[38;5;28;01mfinally\u001b[39;00m:\n\u001b[1;32m    213\u001b[0m     \u001b[38;5;66;03m# credit to\u001b[39;00m\n\u001b[1;32m    214\u001b[0m     \u001b[38;5;66;03m# https://cosmicpercolator.com/2016/01/13/exception-leaks-in-python-2-and-3/\u001b[39;00m\n\u001b[1;32m    215\u001b[0m     \u001b[38;5;66;03m# as the __traceback__ object creates a cycle\u001b[39;00m\n\u001b[1;32m    216\u001b[0m     \u001b[38;5;28;01mdel\u001b[39;00m exception, replace_context, from_, with_traceback\n",
      "File \u001b[0;32m/opt/conda/lib/python3.9/site-packages/sqlalchemy/engine/base.py:1910\u001b[0m, in \u001b[0;36mConnection._execute_context\u001b[0;34m(self, dialect, constructor, statement, parameters, execution_options, *args, **kw)\u001b[0m\n\u001b[1;32m   1908\u001b[0m                 \u001b[38;5;28;01mbreak\u001b[39;00m\n\u001b[1;32m   1909\u001b[0m     \u001b[38;5;28;01mif\u001b[39;00m \u001b[38;5;129;01mnot\u001b[39;00m evt_handled:\n\u001b[0;32m-> 1910\u001b[0m         \u001b[38;5;28;43mself\u001b[39;49m\u001b[38;5;241;43m.\u001b[39;49m\u001b[43mdialect\u001b[49m\u001b[38;5;241;43m.\u001b[39;49m\u001b[43mdo_execute\u001b[49m\u001b[43m(\u001b[49m\n\u001b[1;32m   1911\u001b[0m \u001b[43m            \u001b[49m\u001b[43mcursor\u001b[49m\u001b[43m,\u001b[49m\u001b[43m \u001b[49m\u001b[43mstatement\u001b[49m\u001b[43m,\u001b[49m\u001b[43m \u001b[49m\u001b[43mparameters\u001b[49m\u001b[43m,\u001b[49m\u001b[43m \u001b[49m\u001b[43mcontext\u001b[49m\n\u001b[1;32m   1912\u001b[0m \u001b[43m        \u001b[49m\u001b[43m)\u001b[49m\n\u001b[1;32m   1914\u001b[0m \u001b[38;5;28;01mif\u001b[39;00m \u001b[38;5;28mself\u001b[39m\u001b[38;5;241m.\u001b[39m_has_events \u001b[38;5;129;01mor\u001b[39;00m \u001b[38;5;28mself\u001b[39m\u001b[38;5;241m.\u001b[39mengine\u001b[38;5;241m.\u001b[39m_has_events:\n\u001b[1;32m   1915\u001b[0m     \u001b[38;5;28mself\u001b[39m\u001b[38;5;241m.\u001b[39mdispatch\u001b[38;5;241m.\u001b[39mafter_cursor_execute(\n\u001b[1;32m   1916\u001b[0m         \u001b[38;5;28mself\u001b[39m,\n\u001b[1;32m   1917\u001b[0m         cursor,\n\u001b[0;32m   (...)\u001b[0m\n\u001b[1;32m   1921\u001b[0m         context\u001b[38;5;241m.\u001b[39mexecutemany,\n\u001b[1;32m   1922\u001b[0m     )\n",
      "File \u001b[0;32m/opt/conda/lib/python3.9/site-packages/sqlalchemy/engine/default.py:736\u001b[0m, in \u001b[0;36mDefaultDialect.do_execute\u001b[0;34m(self, cursor, statement, parameters, context)\u001b[0m\n\u001b[1;32m    735\u001b[0m \u001b[38;5;28;01mdef\u001b[39;00m \u001b[38;5;21mdo_execute\u001b[39m(\u001b[38;5;28mself\u001b[39m, cursor, statement, parameters, context\u001b[38;5;241m=\u001b[39m\u001b[38;5;28;01mNone\u001b[39;00m):\n\u001b[0;32m--> 736\u001b[0m     \u001b[43mcursor\u001b[49m\u001b[38;5;241;43m.\u001b[39;49m\u001b[43mexecute\u001b[49m\u001b[43m(\u001b[49m\u001b[43mstatement\u001b[49m\u001b[43m,\u001b[49m\u001b[43m \u001b[49m\u001b[43mparameters\u001b[49m\u001b[43m)\u001b[49m\n",
      "File \u001b[0;32m/opt/conda/lib/python3.9/site-packages/google/cloud/bigquery/dbapi/_helpers.py:494\u001b[0m, in \u001b[0;36mraise_on_closed.<locals>._raise_on_closed.<locals>.with_closed_check\u001b[0;34m(self, *args, **kwargs)\u001b[0m\n\u001b[1;32m    492\u001b[0m \u001b[38;5;28;01mif\u001b[39;00m \u001b[38;5;28mgetattr\u001b[39m(\u001b[38;5;28mself\u001b[39m, closed_attr_name):\n\u001b[1;32m    493\u001b[0m     \u001b[38;5;28;01mraise\u001b[39;00m exc_class(exc_msg)\n\u001b[0;32m--> 494\u001b[0m \u001b[38;5;28;01mreturn\u001b[39;00m \u001b[43mmethod\u001b[49m\u001b[43m(\u001b[49m\u001b[38;5;28;43mself\u001b[39;49m\u001b[43m,\u001b[49m\u001b[43m \u001b[49m\u001b[38;5;241;43m*\u001b[39;49m\u001b[43margs\u001b[49m\u001b[43m,\u001b[49m\u001b[43m \u001b[49m\u001b[38;5;241;43m*\u001b[39;49m\u001b[38;5;241;43m*\u001b[39;49m\u001b[43mkwargs\u001b[49m\u001b[43m)\u001b[49m\n",
      "File \u001b[0;32m/opt/conda/lib/python3.9/site-packages/google/cloud/bigquery/dbapi/cursor.py:176\u001b[0m, in \u001b[0;36mCursor.execute\u001b[0;34m(self, operation, parameters, job_id, job_config)\u001b[0m\n\u001b[1;32m    141\u001b[0m \u001b[38;5;250m\u001b[39m\u001b[38;5;124;03m\"\"\"Prepare and execute a database operation.\u001b[39;00m\n\u001b[1;32m    142\u001b[0m \n\u001b[1;32m    143\u001b[0m \u001b[38;5;124;03m.. note::\u001b[39;00m\n\u001b[0;32m   (...)\u001b[0m\n\u001b[1;32m    173\u001b[0m \u001b[38;5;124;03m        (Optional) Extra configuration options for the query job.\u001b[39;00m\n\u001b[1;32m    174\u001b[0m \u001b[38;5;124;03m\"\"\"\u001b[39;00m\n\u001b[1;32m    175\u001b[0m formatted_operation, parameter_types \u001b[38;5;241m=\u001b[39m _format_operation(operation, parameters)\n\u001b[0;32m--> 176\u001b[0m \u001b[38;5;28;43mself\u001b[39;49m\u001b[38;5;241;43m.\u001b[39;49m\u001b[43m_execute\u001b[49m\u001b[43m(\u001b[49m\n\u001b[1;32m    177\u001b[0m \u001b[43m    \u001b[49m\u001b[43mformatted_operation\u001b[49m\u001b[43m,\u001b[49m\u001b[43m \u001b[49m\u001b[43mparameters\u001b[49m\u001b[43m,\u001b[49m\u001b[43m \u001b[49m\u001b[43mjob_id\u001b[49m\u001b[43m,\u001b[49m\u001b[43m \u001b[49m\u001b[43mjob_config\u001b[49m\u001b[43m,\u001b[49m\u001b[43m \u001b[49m\u001b[43mparameter_types\u001b[49m\n\u001b[1;32m    178\u001b[0m \u001b[43m\u001b[49m\u001b[43m)\u001b[49m\n",
      "File \u001b[0;32m/opt/conda/lib/python3.9/site-packages/google/cloud/bigquery/dbapi/cursor.py:215\u001b[0m, in \u001b[0;36mCursor._execute\u001b[0;34m(self, formatted_operation, parameters, job_id, job_config, parameter_types)\u001b[0m\n\u001b[1;32m    213\u001b[0m     \u001b[38;5;28mself\u001b[39m\u001b[38;5;241m.\u001b[39m_query_job\u001b[38;5;241m.\u001b[39mresult()\n\u001b[1;32m    214\u001b[0m \u001b[38;5;28;01mexcept\u001b[39;00m google\u001b[38;5;241m.\u001b[39mcloud\u001b[38;5;241m.\u001b[39mexceptions\u001b[38;5;241m.\u001b[39mGoogleCloudError \u001b[38;5;28;01mas\u001b[39;00m exc:\n\u001b[0;32m--> 215\u001b[0m     \u001b[38;5;28;01mraise\u001b[39;00m exceptions\u001b[38;5;241m.\u001b[39mDatabaseError(exc)\n\u001b[1;32m    217\u001b[0m query_results \u001b[38;5;241m=\u001b[39m \u001b[38;5;28mself\u001b[39m\u001b[38;5;241m.\u001b[39m_query_job\u001b[38;5;241m.\u001b[39m_query_results\n\u001b[1;32m    218\u001b[0m \u001b[38;5;28mself\u001b[39m\u001b[38;5;241m.\u001b[39m_set_rowcount(query_results)\n",
      "\u001b[0;31mDatabaseError\u001b[0m: (google.cloud.bigquery.dbapi.exceptions.DatabaseError) 400 division by zero: -4 / 0\n\nLocation: us-west2\nJob ID: e99eb887-67ef-4a83-878d-1d91b3f4e979\n\n[SQL: SELECT `mart_ntd_validation.fct_ntd_rr20_service_checks_1`.`organization`, `mart_ntd_validation.fct_ntd_rr20_service_checks_1`.`name_of_check`, `mart_ntd_validation.fct_ntd_rr20_service_checks_1`.`mode`, `mart_ntd_validation.fct_ntd_rr20_service_checks_1`.`year_of_data`, `mart_ntd_validation.fct_ntd_rr20_service_checks_1`.`check_status`, `mart_ntd_validation.fct_ntd_rr20_service_checks_1`.`value_checked`, `mart_ntd_validation.fct_ntd_rr20_service_checks_1`.`description`, `mart_ntd_validation.fct_ntd_rr20_service_checks_1`.`Agency_Response`, `mart_ntd_validation.fct_ntd_rr20_service_checks_1`.`date_checked` \nFROM `mart_ntd_validation.fct_ntd_rr20_service_checks` AS `mart_ntd_validation.fct_ntd_rr20_service_checks_1` \nWHERE (`mart_ntd_validation.fct_ntd_rr20_service_checks_1`.`organization` NOT IN UNNEST(%(organization_1:STRING)s))]\n[parameters: {'organization_1': ['City of Arvin', 'Town of Truckee', 'Colusa County Transit Agency', 'San Joaquin Regional Transit District']}]\n(Background on this error at: https://sqlalche.me/e/14/4xp6)"
     ]
    }
   ],
   "source": [
    "# query the fct model without the error orgs, then see what modes are in it.\n",
    "just_modes = (\n",
    "    tbls.mart_ntd_validation.fct_ntd_rr20_service_checks()\n",
    "    >> filter(~_.organization.isin(error_orgs),\n",
    "             )\n",
    "    >>collect()\n",
    ")\n",
    "\n",
    "mode_list = list(just_modes[\"mode\"].unique())"
   ]
  },
  {
   "cell_type": "code",
   "execution_count": 42,
   "id": "c8a42e96-f4d8-4b84-943a-1e98b4f16ac5",
   "metadata": {},
   "outputs": [
    {
     "ename": "NameError",
     "evalue": "name 'mode_list' is not defined",
     "output_type": "error",
     "traceback": [
      "\u001b[0;31m---------------------------------------------------------------------------\u001b[0m",
      "\u001b[0;31mNameError\u001b[0m                                 Traceback (most recent call last)",
      "Cell \u001b[0;32mIn[42], line 1\u001b[0m\n\u001b[0;32m----> 1\u001b[0m \u001b[43mmode_list\u001b[49m\n",
      "\u001b[0;31mNameError\u001b[0m: name 'mode_list' is not defined"
     ]
    }
   ],
   "source": [
    "mode_list"
   ]
  },
  {
   "cell_type": "code",
   "execution_count": 43,
   "id": "bb4a1bce-9bd6-46f0-9599-7cbf2823f22e",
   "metadata": {},
   "outputs": [
    {
     "data": {
      "text/html": [
       "<div>\n",
       "<style scoped>\n",
       "    .dataframe tbody tr th:only-of-type {\n",
       "        vertical-align: middle;\n",
       "    }\n",
       "\n",
       "    .dataframe tbody tr th {\n",
       "        vertical-align: top;\n",
       "    }\n",
       "\n",
       "    .dataframe thead th {\n",
       "        text-align: right;\n",
       "    }\n",
       "</style>\n",
       "<table border=\"1\" class=\"dataframe\">\n",
       "  <thead>\n",
       "    <tr style=\"text-align: right;\">\n",
       "      <th></th>\n",
       "      <th>organization</th>\n",
       "      <th>name_of_check</th>\n",
       "      <th>mode</th>\n",
       "      <th>year_of_data</th>\n",
       "      <th>check_status</th>\n",
       "      <th>value_checked</th>\n",
       "      <th>description</th>\n",
       "      <th>Agency_Response</th>\n",
       "      <th>date_checked</th>\n",
       "    </tr>\n",
       "  </thead>\n",
       "  <tbody>\n",
       "  </tbody>\n",
       "</table>\n",
       "</div>"
      ],
      "text/plain": [
       "Empty DataFrame\n",
       "Columns: [organization, name_of_check, mode, year_of_data, check_status, value_checked, description, Agency_Response, date_checked]\n",
       "Index: []"
      ]
     },
     "metadata": {},
     "output_type": "display_data"
    },
    {
     "data": {
      "text/html": [
       "<div>\n",
       "<style scoped>\n",
       "    .dataframe tbody tr th:only-of-type {\n",
       "        vertical-align: middle;\n",
       "    }\n",
       "\n",
       "    .dataframe tbody tr th {\n",
       "        vertical-align: top;\n",
       "    }\n",
       "\n",
       "    .dataframe thead th {\n",
       "        text-align: right;\n",
       "    }\n",
       "</style>\n",
       "<table border=\"1\" class=\"dataframe\">\n",
       "  <thead>\n",
       "    <tr style=\"text-align: right;\">\n",
       "      <th></th>\n",
       "      <th>organization</th>\n",
       "      <th>mode</th>\n",
       "      <th>tph_last_year</th>\n",
       "      <th>tph_this_year</th>\n",
       "      <th>voms_last_year</th>\n",
       "      <th>voms_this_year</th>\n",
       "      <th>vrm_last_year</th>\n",
       "      <th>vrm_this_year</th>\n",
       "    </tr>\n",
       "  </thead>\n",
       "  <tbody>\n",
       "    <tr>\n",
       "      <th>0</th>\n",
       "      <td>City of Arvin</td>\n",
       "      <td>Demand Response (DR) - (DO)</td>\n",
       "      <td>2.289235</td>\n",
       "      <td>0.0</td>\n",
       "      <td>1.0</td>\n",
       "      <td>0.0</td>\n",
       "      <td>12495.0</td>\n",
       "      <td>13371.0</td>\n",
       "    </tr>\n",
       "    <tr>\n",
       "      <th>1</th>\n",
       "      <td>City of Arvin</td>\n",
       "      <td>Deviated Fixed Route (DF) - (DO)</td>\n",
       "      <td>10.024550</td>\n",
       "      <td>0.0</td>\n",
       "      <td>3.0</td>\n",
       "      <td>0.0</td>\n",
       "      <td>120801.0</td>\n",
       "      <td>116550.0</td>\n",
       "    </tr>\n",
       "  </tbody>\n",
       "</table>\n",
       "</div>"
      ],
      "text/plain": [
       "    organization                              mode  tph_last_year  \\\n",
       "0  City of Arvin       Demand Response (DR) - (DO)       2.289235   \n",
       "1  City of Arvin  Deviated Fixed Route (DF) - (DO)      10.024550   \n",
       "\n",
       "   tph_this_year  voms_last_year  voms_this_year  vrm_last_year  vrm_this_year  \n",
       "0            0.0             1.0             0.0        12495.0        13371.0  \n",
       "1            0.0             3.0             0.0       120801.0       116550.0  "
      ]
     },
     "metadata": {},
     "output_type": "display_data"
    }
   ],
   "source": [
    "# check the error orgs to see which specific check and mode is failing in the validation report.\n",
    "# or see which checks are still being produced\n",
    "\n",
    "arvin_check_test = (\n",
    "    tbls.mart_ntd_validation.fct_ntd_rr20_service_checks()\n",
    "    >> filter(_.organization == org_list[9],\n",
    "              #_.name_of_check == \"RR20F-143: Vehicle Revenue Miles (VRM) change from zero\",\n",
    "              #_.name_of_check == \"RR20F-139: Fare Revenue Per Trip change\",\n",
    "              #_.name_of_check == \"RR20F-154: Trips per Hour change\",\n",
    "              #_.name_of_check == \"RR20F-179: Missing Service Data check\",\n",
    "              #_.name_of_check == \"RR20F-139: Vehicle Revenue Miles (VRM) % change\",\n",
    "              #_.name_of_check == \"RR20F-139: Revenue Speed change\",\n",
    "              #_.name_of_check == \"RR20F-005: Cost per Hour change\",\n",
    "              _.name_of_check == \"RR20F-171: Vehicles of Maximum Service (VOMS) change\",\n",
    "              #_.name_of_check == \"RR20F-146: Miles per Vehicle change\",\n",
    "              #_.mode == \"Demand Response (DR) - (DO)\",\n",
    "              #_.mode == \"Commuter Bus (CB) - (DO)\",\n",
    "              #_.mode == \"Deviated Fixed Route (DF) - (DO)\",\n",
    "              #_.mode == \"Demand Response (DR) - (PT)\",\n",
    "              #_.mode == \"Deviated Fixed Route (DF) - (PT)\",\n",
    "              #_.mode == \"Bus (MB) (Fixed Route) - (DO)\",\n",
    "              #_.mode == \"Bus (MB) (Fixed Route) - (PT)\",\n",
    "              #_.mode == \"Intercity Service (IC) - (PT)\",\n",
    "              #_.mode == \"Commuter Bus (CB) - (PT)\",\n",
    "              #_.mode == \"Intercity Service (IC) - (DO)\",\n",
    "              #_.mode == \"University Service (US) - (PT)\",\n",
    "              _.mode == \"Vanpool (VP) - (PT)\",\n",
    "             )\n",
    "    \n",
    "    >> collect()\n",
    ")\n",
    "\n",
    "arvin_int_check = (\n",
    "    tbls.staging.int_ntd_rr20_service_3ratios_wide()\n",
    "    >> filter(_.organization == org_list[9])\n",
    "    >> collect()\n",
    ")\n",
    "\n",
    "keep_cols=['organization',\n",
    "           \"mode\",\n",
    "           'tph_last_year',\n",
    "           'tph_this_year', \n",
    "           'voms_last_year', \n",
    "           'voms_this_year', \n",
    "           'vrm_last_year',\n",
    "           'vrm_this_year',  \n",
    "]\n",
    "\n",
    "display(\n",
    "arvin_check_test,\n",
    "# failed at: \n",
    "# RR20F-154: Trips per Hour change, \n",
    "    # mode: Demand Response (DR) - (DO) (-2.3/0)\n",
    "    # mode: Deviated Fixed Route (DF) - (DO) (-10/0)\n",
    "    \n",
    "# RR20F-171: Vehicles of Maximum Service (VOMS) change\n",
    "    # mode: Demand Response (DR) - (DO) (-1/0)\n",
    "    # mode: Deviated Fixed Route (DF) - (DO) (-3/0)\n",
    "\n",
    "# need to check the `int_ntd_rr20_service_3ratios_wide` for to see what values they have \n",
    "\n",
    "\n",
    "arvin_int_check[keep_cols]\n",
    "       )"
   ]
  },
  {
   "cell_type": "code",
   "execution_count": 44,
   "id": "c724c5e3-a817-4459-93f6-39c5813988d9",
   "metadata": {},
   "outputs": [
    {
     "data": {
      "text/html": [
       "<div>\n",
       "<style scoped>\n",
       "    .dataframe tbody tr th:only-of-type {\n",
       "        vertical-align: middle;\n",
       "    }\n",
       "\n",
       "    .dataframe tbody tr th {\n",
       "        vertical-align: top;\n",
       "    }\n",
       "\n",
       "    .dataframe thead th {\n",
       "        text-align: right;\n",
       "    }\n",
       "</style>\n",
       "<table border=\"1\" class=\"dataframe\">\n",
       "  <thead>\n",
       "    <tr style=\"text-align: right;\">\n",
       "      <th></th>\n",
       "      <th>organization</th>\n",
       "      <th>name_of_check</th>\n",
       "      <th>mode</th>\n",
       "      <th>year_of_data</th>\n",
       "      <th>check_status</th>\n",
       "      <th>value_checked</th>\n",
       "      <th>description</th>\n",
       "      <th>Agency_Response</th>\n",
       "      <th>date_checked</th>\n",
       "    </tr>\n",
       "  </thead>\n",
       "  <tbody>\n",
       "    <tr>\n",
       "      <th>0</th>\n",
       "      <td>Town of Truckee</td>\n",
       "      <td>RR20F-139: Fare Revenue Per Trip change</td>\n",
       "      <td>Demand Response (DR) - (PT)</td>\n",
       "      <td>2024</td>\n",
       "      <td>Fail</td>\n",
       "      <td>2024 = 0.3, 2023 = 0.7chg = -133.3%</td>\n",
       "      <td>The fare revenues per unlinked passenger trip for this mode has changed from last year by &gt;= 25%, please provide a narrative justification.</td>\n",
       "      <td></td>\n",
       "      <td>2024-10-11 17:37:28.465823+00:00</td>\n",
       "    </tr>\n",
       "  </tbody>\n",
       "</table>\n",
       "</div>"
      ],
      "text/plain": [
       "      organization                            name_of_check  \\\n",
       "0  Town of Truckee  RR20F-139: Fare Revenue Per Trip change   \n",
       "\n",
       "                          mode  year_of_data check_status  \\\n",
       "0  Demand Response (DR) - (PT)          2024         Fail   \n",
       "\n",
       "                         value_checked  \\\n",
       "0  2024 = 0.3, 2023 = 0.7chg = -133.3%   \n",
       "\n",
       "                                                                                                                                   description  \\\n",
       "0  The fare revenues per unlinked passenger trip for this mode has changed from last year by >= 25%, please provide a narrative justification.   \n",
       "\n",
       "  Agency_Response                     date_checked  \n",
       "0                 2024-10-11 17:37:28.465823+00:00  "
      ]
     },
     "metadata": {},
     "output_type": "display_data"
    },
    {
     "data": {
      "text/html": [
       "<div>\n",
       "<style scoped>\n",
       "    .dataframe tbody tr th:only-of-type {\n",
       "        vertical-align: middle;\n",
       "    }\n",
       "\n",
       "    .dataframe tbody tr th {\n",
       "        vertical-align: top;\n",
       "    }\n",
       "\n",
       "    .dataframe thead th {\n",
       "        text-align: right;\n",
       "    }\n",
       "</style>\n",
       "<table border=\"1\" class=\"dataframe\">\n",
       "  <thead>\n",
       "    <tr style=\"text-align: right;\">\n",
       "      <th></th>\n",
       "      <th>organization</th>\n",
       "      <th>mode</th>\n",
       "      <th>tph_last_year</th>\n",
       "      <th>tph_this_year</th>\n",
       "      <th>voms_last_year</th>\n",
       "      <th>voms_this_year</th>\n",
       "      <th>vrm_last_year</th>\n",
       "      <th>vrm_this_year</th>\n",
       "    </tr>\n",
       "  </thead>\n",
       "  <tbody>\n",
       "    <tr>\n",
       "      <th>0</th>\n",
       "      <td>Town of Truckee</td>\n",
       "      <td>Bus (MB) (Fixed Route) - (PT)</td>\n",
       "      <td>6.302895</td>\n",
       "      <td>5.344347</td>\n",
       "      <td>3.0</td>\n",
       "      <td>3.0</td>\n",
       "      <td>109155.0</td>\n",
       "      <td>85100.0</td>\n",
       "    </tr>\n",
       "    <tr>\n",
       "      <th>1</th>\n",
       "      <td>Town of Truckee</td>\n",
       "      <td>Demand Response (DR) - (PT)</td>\n",
       "      <td>2.506347</td>\n",
       "      <td>4.224924</td>\n",
       "      <td>3.0</td>\n",
       "      <td>3.0</td>\n",
       "      <td>24373.0</td>\n",
       "      <td>22140.0</td>\n",
       "    </tr>\n",
       "  </tbody>\n",
       "</table>\n",
       "</div>"
      ],
      "text/plain": [
       "      organization                           mode  tph_last_year  \\\n",
       "0  Town of Truckee  Bus (MB) (Fixed Route) - (PT)       6.302895   \n",
       "1  Town of Truckee    Demand Response (DR) - (PT)       2.506347   \n",
       "\n",
       "   tph_this_year  voms_last_year  voms_this_year  vrm_last_year  vrm_this_year  \n",
       "0       5.344347             3.0             3.0       109155.0        85100.0  \n",
       "1       4.224924             3.0             3.0        24373.0        22140.0  "
      ]
     },
     "metadata": {},
     "output_type": "display_data"
    }
   ],
   "source": [
    "# check the error orgs to see which specific check is failing in the validation report.\n",
    "# or see which checks are still being produced\n",
    "\n",
    "truckee_check_test = (\n",
    "    tbls.mart_ntd_validation.fct_ntd_rr20_service_checks()\n",
    "    >> filter(_.organization == org_list[14],\n",
    "              #_.name_of_check == \"RR20F-143: Vehicle Revenue Miles (VRM) change from zero\",\n",
    "              _.name_of_check == \"RR20F-139: Fare Revenue Per Trip change\",\n",
    "              #_.name_of_check == \"RR20F-154: Trips per Hour change\",\n",
    "              #_.name_of_check == \"RR20F-179: Missing Service Data check\",\n",
    "              #_.name_of_check == \"RR20F-139: Vehicle Revenue Miles (VRM) % change\",\n",
    "              #_.name_of_check == \"RR20F-139: Revenue Speed change\",\n",
    "              #_.name_of_check == \"RR20F-005: Cost per Hour change\",\n",
    "              #_.name_of_check == \"RR20F-171: Vehicles of Maximum Service (VOMS) change\",\n",
    "              #_.name_of_check == \"RR20F-146: Miles per Vehicle change\",\n",
    "              #_.mode == \"Demand Response (DR) - (DO)\",\n",
    "              #_.mode == \"Commuter Bus (CB) - (DO)\",\n",
    "              #_.mode == \"Deviated Fixed Route (DF) - (DO)\",\n",
    "              _.mode == \"Demand Response (DR) - (PT)\",\n",
    "              #_.mode == \"Deviated Fixed Route (DF) - (PT)\",\n",
    "              #_.mode == \"Bus (MB) (Fixed Route) - (DO)\",\n",
    "              #_.mode == \"Bus (MB) (Fixed Route) - (PT)\",\n",
    "              #_.mode == \"Intercity Service (IC) - (PT)\",\n",
    "              #_.mode == \"Commuter Bus (CB) - (PT)\",\n",
    "              #_.mode == \"Intercity Service (IC) - (DO)\",\n",
    "              #_.mode == \"University Service (US) - (PT)\",\n",
    "              #_.mode == \"Vanpool (VP) - (PT)\",\n",
    "             )\n",
    "    \n",
    "    >> collect()\n",
    ")\n",
    "truckee_int_check = (\n",
    "    tbls.staging.int_ntd_rr20_service_3ratios_wide()\n",
    "    >> filter(_.organization == org_list[14])\n",
    "    >> collect()\n",
    ")\n",
    "\n",
    "display(\n",
    "    truckee_check_test,\n",
    "# failed at:\n",
    "# RR20F-139: Fare Revenue Per Trip change\n",
    "    # mode: Bus (MB) (Fixed Route) - (PT) (0/0)\n",
    "\n",
    "\n",
    "# need to check the `int_ntd_rr20_service_3ratios_wide` for to see what values they have \n",
    "    truckee_int_check[keep_cols]\n",
    ")"
   ]
  },
  {
   "cell_type": "code",
   "execution_count": 45,
   "id": "f46dac0f-ee51-422b-a326-5e58a91b4484",
   "metadata": {},
   "outputs": [
    {
     "data": {
      "text/html": [
       "<div>\n",
       "<style scoped>\n",
       "    .dataframe tbody tr th:only-of-type {\n",
       "        vertical-align: middle;\n",
       "    }\n",
       "\n",
       "    .dataframe tbody tr th {\n",
       "        vertical-align: top;\n",
       "    }\n",
       "\n",
       "    .dataframe thead th {\n",
       "        text-align: right;\n",
       "    }\n",
       "</style>\n",
       "<table border=\"1\" class=\"dataframe\">\n",
       "  <thead>\n",
       "    <tr style=\"text-align: right;\">\n",
       "      <th></th>\n",
       "      <th>organization</th>\n",
       "      <th>name_of_check</th>\n",
       "      <th>mode</th>\n",
       "      <th>year_of_data</th>\n",
       "      <th>check_status</th>\n",
       "      <th>value_checked</th>\n",
       "      <th>description</th>\n",
       "      <th>Agency_Response</th>\n",
       "      <th>date_checked</th>\n",
       "    </tr>\n",
       "  </thead>\n",
       "  <tbody>\n",
       "  </tbody>\n",
       "</table>\n",
       "</div>"
      ],
      "text/plain": [
       "Empty DataFrame\n",
       "Columns: [organization, name_of_check, mode, year_of_data, check_status, value_checked, description, Agency_Response, date_checked]\n",
       "Index: []"
      ]
     },
     "metadata": {},
     "output_type": "display_data"
    },
    {
     "data": {
      "text/html": [
       "<div>\n",
       "<style scoped>\n",
       "    .dataframe tbody tr th:only-of-type {\n",
       "        vertical-align: middle;\n",
       "    }\n",
       "\n",
       "    .dataframe tbody tr th {\n",
       "        vertical-align: top;\n",
       "    }\n",
       "\n",
       "    .dataframe thead th {\n",
       "        text-align: right;\n",
       "    }\n",
       "</style>\n",
       "<table border=\"1\" class=\"dataframe\">\n",
       "  <thead>\n",
       "    <tr style=\"text-align: right;\">\n",
       "      <th></th>\n",
       "      <th>organization</th>\n",
       "      <th>mode</th>\n",
       "      <th>tph_last_year</th>\n",
       "      <th>tph_this_year</th>\n",
       "      <th>voms_last_year</th>\n",
       "      <th>voms_this_year</th>\n",
       "      <th>vrm_last_year</th>\n",
       "      <th>vrm_this_year</th>\n",
       "    </tr>\n",
       "  </thead>\n",
       "  <tbody>\n",
       "    <tr>\n",
       "      <th>0</th>\n",
       "      <td>Colusa County Transit Agency</td>\n",
       "      <td>Demand Response (DR) - (DO)</td>\n",
       "      <td>4.17158</td>\n",
       "      <td>0.0</td>\n",
       "      <td>7.0</td>\n",
       "      <td>7.0</td>\n",
       "      <td>141531.0</td>\n",
       "      <td>149880.0</td>\n",
       "    </tr>\n",
       "  </tbody>\n",
       "</table>\n",
       "</div>"
      ],
      "text/plain": [
       "                   organization                         mode  tph_last_year  \\\n",
       "0  Colusa County Transit Agency  Demand Response (DR) - (DO)        4.17158   \n",
       "\n",
       "   tph_this_year  voms_last_year  voms_this_year  vrm_last_year  vrm_this_year  \n",
       "0            0.0             7.0             7.0       141531.0       149880.0  "
      ]
     },
     "metadata": {},
     "output_type": "display_data"
    }
   ],
   "source": [
    "# check the error orgs to see which specific check is failing in the validation report.\n",
    "# or see which checks are still being produced\n",
    "\n",
    "colusa_check_test = (\n",
    "    tbls.mart_ntd_validation.fct_ntd_rr20_service_checks()\n",
    "    >> filter(_.organization == org_list[16],\n",
    "              #_.name_of_check == \"RR20F-143: Vehicle Revenue Miles (VRM) change from zero\",\n",
    "              #_.name_of_check == \"RR20F-139: Fare Revenue Per Trip change\",\n",
    "              _.name_of_check == \"RR20F-154: Trips per Hour change\",\n",
    "              #_.name_of_check == \"RR20F-179: Missing Service Data check\",\n",
    "              #_.name_of_check == \"RR20F-139: Vehicle Revenue Miles (VRM) % change\",\n",
    "              #_.name_of_check == \"RR20F-139: Revenue Speed change\",\n",
    "              #_.name_of_check == \"RR20F-005: Cost per Hour change\",\n",
    "              #_.name_of_check == \"RR20F-171: Vehicles of Maximum Service (VOMS) change\",\n",
    "              #_.name_of_check == \"RR20F-146: Miles per Vehicle change\",\n",
    "              #_.mode == \"Demand Response (DR) - (DO)\",\n",
    "              _.mode == \"Commuter Bus (CB) - (DO)\",\n",
    "              #_.mode == \"Deviated Fixed Route (DF) - (DO)\",\n",
    "              #_.mode == \"Demand Response (DR) - (PT)\",\n",
    "              #_.mode == \"Deviated Fixed Route (DF) - (PT)\",\n",
    "              #_.mode == \"Bus (MB) (Fixed Route) - (DO)\",\n",
    "              #_.mode == \"Bus (MB) (Fixed Route) - (PT)\",\n",
    "              #_.mode == \"Intercity Service (IC) - (PT)\",\n",
    "              #_.mode == \"Commuter Bus (CB) - (PT)\",\n",
    "              #_.mode == \"Intercity Service (IC) - (DO)\",\n",
    "              #_.mode == \"University Service (US) - (PT)\",\n",
    "              #_.mode == \"Vanpool (VP) - (PT)\",\n",
    "             )\n",
    "    \n",
    "    >> collect()\n",
    ")\n",
    "\n",
    "\n",
    "colusa_int_check = (\n",
    "    tbls.staging.int_ntd_rr20_service_3ratios_wide()\n",
    "    >> filter(_.organization == org_list[16])\n",
    "    >> collect()\n",
    ")\n",
    "\n",
    "display(\n",
    "colusa_check_test,\n",
    "# failed at:\n",
    "# RR20F-154: Trips per Hour change\n",
    "    #mode: Demand Response (DR) - (DO) (-4.2/0)\n",
    "\n",
    "# need to check the `int_ntd_rr20_service_3ratios_wide` for to see what values they have \n",
    "colusa_int_check[keep_cols]\n",
    ")\n"
   ]
  },
  {
   "cell_type": "code",
   "execution_count": 46,
   "id": "117dc29c-b0ee-466a-a814-f042463414ba",
   "metadata": {},
   "outputs": [
    {
     "data": {
      "text/html": [
       "<div>\n",
       "<style scoped>\n",
       "    .dataframe tbody tr th:only-of-type {\n",
       "        vertical-align: middle;\n",
       "    }\n",
       "\n",
       "    .dataframe tbody tr th {\n",
       "        vertical-align: top;\n",
       "    }\n",
       "\n",
       "    .dataframe thead th {\n",
       "        text-align: right;\n",
       "    }\n",
       "</style>\n",
       "<table border=\"1\" class=\"dataframe\">\n",
       "  <thead>\n",
       "    <tr style=\"text-align: right;\">\n",
       "      <th></th>\n",
       "      <th>organization</th>\n",
       "      <th>name_of_check</th>\n",
       "      <th>mode</th>\n",
       "      <th>year_of_data</th>\n",
       "      <th>check_status</th>\n",
       "      <th>value_checked</th>\n",
       "      <th>description</th>\n",
       "      <th>Agency_Response</th>\n",
       "      <th>date_checked</th>\n",
       "    </tr>\n",
       "  </thead>\n",
       "  <tbody>\n",
       "  </tbody>\n",
       "</table>\n",
       "</div>"
      ],
      "text/plain": [
       "Empty DataFrame\n",
       "Columns: [organization, name_of_check, mode, year_of_data, check_status, value_checked, description, Agency_Response, date_checked]\n",
       "Index: []"
      ]
     },
     "metadata": {},
     "output_type": "display_data"
    },
    {
     "data": {
      "text/html": [
       "<div>\n",
       "<style scoped>\n",
       "    .dataframe tbody tr th:only-of-type {\n",
       "        vertical-align: middle;\n",
       "    }\n",
       "\n",
       "    .dataframe tbody tr th {\n",
       "        vertical-align: top;\n",
       "    }\n",
       "\n",
       "    .dataframe thead th {\n",
       "        text-align: right;\n",
       "    }\n",
       "</style>\n",
       "<table border=\"1\" class=\"dataframe\">\n",
       "  <thead>\n",
       "    <tr style=\"text-align: right;\">\n",
       "      <th></th>\n",
       "      <th>organization</th>\n",
       "      <th>mode</th>\n",
       "      <th>tph_last_year</th>\n",
       "      <th>tph_this_year</th>\n",
       "      <th>voms_last_year</th>\n",
       "      <th>voms_this_year</th>\n",
       "      <th>vrm_last_year</th>\n",
       "      <th>vrm_this_year</th>\n",
       "    </tr>\n",
       "  </thead>\n",
       "  <tbody>\n",
       "  </tbody>\n",
       "</table>\n",
       "</div>"
      ],
      "text/plain": [
       "Empty DataFrame\n",
       "Columns: [organization, mode, tph_last_year, tph_this_year, voms_last_year, voms_this_year, vrm_last_year, vrm_this_year]\n",
       "Index: []"
      ]
     },
     "metadata": {},
     "output_type": "display_data"
    }
   ],
   "source": [
    "# check the error orgs to see which specific check is failing in the validation report.\n",
    "# or see which checks are still being produced\n",
    "\n",
    "trinity_check_test = (\n",
    "    tbls.mart_ntd_validation.fct_ntd_rr20_service_checks()\n",
    "    >> filter(_.organization == org_list[36],\n",
    "              #_.name_of_check == \"RR20F-143: Vehicle Revenue Miles (VRM) change from zero\",\n",
    "              #_.name_of_check == \"RR20F-139: Fare Revenue Per Trip change\",\n",
    "              #_.name_of_check == \"RR20F-154: Trips per Hour change\",\n",
    "              #_.name_of_check == \"RR20F-179: Missing Service Data check\",\n",
    "              #_.name_of_check == \"RR20F-139: Vehicle Revenue Miles (VRM) % change\",\n",
    "              #_.name_of_check == \"RR20F-139: Revenue Speed change\",\n",
    "              #_.name_of_check == \"RR20F-005: Cost per Hour change\",\n",
    "              _.name_of_check == \"RR20F-171: Vehicles of Maximum Service (VOMS) change\",\n",
    "              #_.name_of_check == \"RR20F-146: Miles per Vehicle change\",\n",
    "              #_.mode == \"Demand Response (DR) - (DO)\",\n",
    "              #_.mode == \"Commuter Bus (CB) - (DO)\",\n",
    "              #_.mode == \"Deviated Fixed Route (DF) - (DO)\",\n",
    "              #_.mode == \"Demand Response (DR) - (PT)\",\n",
    "              #_.mode == \"Deviated Fixed Route (DF) - (PT)\",\n",
    "              #_.mode == \"Bus (MB) (Fixed Route) - (DO)\",\n",
    "              #_.mode == \"Bus (MB) (Fixed Route) - (PT)\",\n",
    "              #_.mode == \"Intercity Service (IC) - (PT)\",\n",
    "              #_.mode == \"Commuter Bus (CB) - (PT)\",\n",
    "              #_.mode == \"Intercity Service (IC) - (DO)\",\n",
    "              _.mode == \"University Service (US) - (PT)\",\n",
    "              #_.mode == \"Vanpool (VP) - (PT)\",\n",
    "             )\n",
    "    \n",
    "    >> collect()\n",
    ")\n",
    "\n",
    "trinity_int_check = (\n",
    "    tbls.staging.int_ntd_rr20_service_3ratios_wide()\n",
    "    >> filter(_.organization == org_list[36])\n",
    "    >> collect()\n",
    ")\n",
    "\n",
    "display(\n",
    "    trinity_check_test,\n",
    "# failed at:\n",
    "# RR20F-171: Vehicles of Maximum Service (VOMS) change\n",
    "    # mode: Intercity Service (IC) - (DO)\n",
    "\n",
    "# need to check the `int_ntd_rr20_service_3ratios_wide` for to see what values they have \n",
    "    trinity_int_check[keep_cols]\n",
    ")"
   ]
  },
  {
   "cell_type": "code",
   "execution_count": 47,
   "id": "582cd089-d630-46e1-9665-cebdf032f32c",
   "metadata": {},
   "outputs": [
    {
     "data": {
      "text/html": [
       "<div>\n",
       "<style scoped>\n",
       "    .dataframe tbody tr th:only-of-type {\n",
       "        vertical-align: middle;\n",
       "    }\n",
       "\n",
       "    .dataframe tbody tr th {\n",
       "        vertical-align: top;\n",
       "    }\n",
       "\n",
       "    .dataframe thead th {\n",
       "        text-align: right;\n",
       "    }\n",
       "</style>\n",
       "<table border=\"1\" class=\"dataframe\">\n",
       "  <thead>\n",
       "    <tr style=\"text-align: right;\">\n",
       "      <th></th>\n",
       "      <th>organization</th>\n",
       "      <th>name_of_check</th>\n",
       "      <th>mode</th>\n",
       "      <th>year_of_data</th>\n",
       "      <th>check_status</th>\n",
       "      <th>value_checked</th>\n",
       "      <th>description</th>\n",
       "      <th>Agency_Response</th>\n",
       "      <th>date_checked</th>\n",
       "    </tr>\n",
       "  </thead>\n",
       "  <tbody>\n",
       "    <tr>\n",
       "      <th>12</th>\n",
       "      <td>Eastern Sierra Transit Authority</td>\n",
       "      <td>RR20F-171: Vehicles of Maximum Service (VOMS) change</td>\n",
       "      <td>Demand Response (DR) - (DO)</td>\n",
       "      <td>2024</td>\n",
       "      <td>Pass</td>\n",
       "      <td>2024 = 8, 2023 = 8chg = 0%</td>\n",
       "      <td></td>\n",
       "      <td></td>\n",
       "      <td>2024-10-11 16:52:02.360557+00:00</td>\n",
       "    </tr>\n",
       "    <tr>\n",
       "      <th>13</th>\n",
       "      <td>Eastern Sierra Transit Authority</td>\n",
       "      <td>RR20F-171: Vehicles of Maximum Service (VOMS) change</td>\n",
       "      <td>Bus (MB) (Fixed Route) - (DO)</td>\n",
       "      <td>2024</td>\n",
       "      <td>Pass</td>\n",
       "      <td>2024 = 24, 2023 = 24chg = 0%</td>\n",
       "      <td></td>\n",
       "      <td></td>\n",
       "      <td>2024-10-11 16:52:02.360557+00:00</td>\n",
       "    </tr>\n",
       "    <tr>\n",
       "      <th>14</th>\n",
       "      <td>Eastern Sierra Transit Authority</td>\n",
       "      <td>RR20F-171: Vehicles of Maximum Service (VOMS) change</td>\n",
       "      <td>Commuter Bus (CB) - (DO)</td>\n",
       "      <td>2024</td>\n",
       "      <td>Pass</td>\n",
       "      <td>2024 = 5, 2023 = 5chg = 0%</td>\n",
       "      <td></td>\n",
       "      <td></td>\n",
       "      <td>2024-10-11 16:52:02.360557+00:00</td>\n",
       "    </tr>\n",
       "    <tr>\n",
       "      <th>15</th>\n",
       "      <td>Eastern Sierra Transit Authority</td>\n",
       "      <td>RR20F-139: Fare Revenue Per Trip change</td>\n",
       "      <td>Demand Response (DR) - (DO)</td>\n",
       "      <td>2024</td>\n",
       "      <td>Fail</td>\n",
       "      <td>2024 = 21, 2023 = 40.4chg = -92.4%</td>\n",
       "      <td>The fare revenues per unlinked passenger trip for this mode has changed from last year by &gt;= 25%, please provide a narrative justification.</td>\n",
       "      <td></td>\n",
       "      <td>2024-10-11 16:52:02.360557+00:00</td>\n",
       "    </tr>\n",
       "    <tr>\n",
       "      <th>16</th>\n",
       "      <td>Eastern Sierra Transit Authority</td>\n",
       "      <td>RR20F-139: Fare Revenue Per Trip change</td>\n",
       "      <td>Bus (MB) (Fixed Route) - (DO)</td>\n",
       "      <td>2024</td>\n",
       "      <td>Pass</td>\n",
       "      <td>2024 = 1.3, 2023 = 2.5chg = -92.3%</td>\n",
       "      <td></td>\n",
       "      <td></td>\n",
       "      <td>2024-10-11 16:52:02.360557+00:00</td>\n",
       "    </tr>\n",
       "    <tr>\n",
       "      <th>17</th>\n",
       "      <td>Eastern Sierra Transit Authority</td>\n",
       "      <td>RR20F-139: Fare Revenue Per Trip change</td>\n",
       "      <td>Commuter Bus (CB) - (DO)</td>\n",
       "      <td>2024</td>\n",
       "      <td>Fail</td>\n",
       "      <td>2024 = 73.3, 2023 = 245chg = -234.2%</td>\n",
       "      <td>The fare revenues per unlinked passenger trip for this mode has changed from last year by &gt;= 25%, please provide a narrative justification.</td>\n",
       "      <td></td>\n",
       "      <td>2024-10-11 16:52:02.360557+00:00</td>\n",
       "    </tr>\n",
       "    <tr>\n",
       "      <th>18</th>\n",
       "      <td>Eastern Sierra Transit Authority</td>\n",
       "      <td>RR20F-154: Trips per Hour change</td>\n",
       "      <td>Demand Response (DR) - (DO)</td>\n",
       "      <td>2024</td>\n",
       "      <td>Fail</td>\n",
       "      <td>2024 = 2.9, 2023 = 2.9chg = 0%</td>\n",
       "      <td>The calculated trips per hour for this mode has changed from last year by &gt;= 30%, please provide a narrative justification.</td>\n",
       "      <td></td>\n",
       "      <td>2024-10-11 16:52:02.360557+00:00</td>\n",
       "    </tr>\n",
       "    <tr>\n",
       "      <th>19</th>\n",
       "      <td>Eastern Sierra Transit Authority</td>\n",
       "      <td>RR20F-154: Trips per Hour change</td>\n",
       "      <td>Bus (MB) (Fixed Route) - (DO)</td>\n",
       "      <td>2024</td>\n",
       "      <td>Fail</td>\n",
       "      <td>2024 = 24.8, 2023 = 24.4chg = 1.6%</td>\n",
       "      <td>The calculated trips per hour for this mode has changed from last year by &gt;= 30%, please provide a narrative justification.</td>\n",
       "      <td></td>\n",
       "      <td>2024-10-11 16:52:02.360557+00:00</td>\n",
       "    </tr>\n",
       "    <tr>\n",
       "      <th>20</th>\n",
       "      <td>Eastern Sierra Transit Authority</td>\n",
       "      <td>RR20F-154: Trips per Hour change</td>\n",
       "      <td>Commuter Bus (CB) - (DO)</td>\n",
       "      <td>2024</td>\n",
       "      <td>Fail</td>\n",
       "      <td>2024 = 3.7, 2023 = 2.5chg = 32.4%</td>\n",
       "      <td>The calculated trips per hour for this mode has changed from last year by &gt;= 30%, please provide a narrative justification.</td>\n",
       "      <td></td>\n",
       "      <td>2024-10-11 16:52:02.360557+00:00</td>\n",
       "    </tr>\n",
       "  </tbody>\n",
       "</table>\n",
       "</div>"
      ],
      "text/plain": [
       "                        organization  \\\n",
       "12  Eastern Sierra Transit Authority   \n",
       "13  Eastern Sierra Transit Authority   \n",
       "14  Eastern Sierra Transit Authority   \n",
       "15  Eastern Sierra Transit Authority   \n",
       "16  Eastern Sierra Transit Authority   \n",
       "17  Eastern Sierra Transit Authority   \n",
       "18  Eastern Sierra Transit Authority   \n",
       "19  Eastern Sierra Transit Authority   \n",
       "20  Eastern Sierra Transit Authority   \n",
       "\n",
       "                                           name_of_check  \\\n",
       "12  RR20F-171: Vehicles of Maximum Service (VOMS) change   \n",
       "13  RR20F-171: Vehicles of Maximum Service (VOMS) change   \n",
       "14  RR20F-171: Vehicles of Maximum Service (VOMS) change   \n",
       "15               RR20F-139: Fare Revenue Per Trip change   \n",
       "16               RR20F-139: Fare Revenue Per Trip change   \n",
       "17               RR20F-139: Fare Revenue Per Trip change   \n",
       "18                      RR20F-154: Trips per Hour change   \n",
       "19                      RR20F-154: Trips per Hour change   \n",
       "20                      RR20F-154: Trips per Hour change   \n",
       "\n",
       "                             mode  year_of_data check_status  \\\n",
       "12    Demand Response (DR) - (DO)          2024         Pass   \n",
       "13  Bus (MB) (Fixed Route) - (DO)          2024         Pass   \n",
       "14       Commuter Bus (CB) - (DO)          2024         Pass   \n",
       "15    Demand Response (DR) - (DO)          2024         Fail   \n",
       "16  Bus (MB) (Fixed Route) - (DO)          2024         Pass   \n",
       "17       Commuter Bus (CB) - (DO)          2024         Fail   \n",
       "18    Demand Response (DR) - (DO)          2024         Fail   \n",
       "19  Bus (MB) (Fixed Route) - (DO)          2024         Fail   \n",
       "20       Commuter Bus (CB) - (DO)          2024         Fail   \n",
       "\n",
       "                           value_checked  \\\n",
       "12            2024 = 8, 2023 = 8chg = 0%   \n",
       "13          2024 = 24, 2023 = 24chg = 0%   \n",
       "14            2024 = 5, 2023 = 5chg = 0%   \n",
       "15    2024 = 21, 2023 = 40.4chg = -92.4%   \n",
       "16    2024 = 1.3, 2023 = 2.5chg = -92.3%   \n",
       "17  2024 = 73.3, 2023 = 245chg = -234.2%   \n",
       "18        2024 = 2.9, 2023 = 2.9chg = 0%   \n",
       "19    2024 = 24.8, 2023 = 24.4chg = 1.6%   \n",
       "20     2024 = 3.7, 2023 = 2.5chg = 32.4%   \n",
       "\n",
       "                                                                                                                                    description  \\\n",
       "12                                                                                                                                                \n",
       "13                                                                                                                                                \n",
       "14                                                                                                                                                \n",
       "15  The fare revenues per unlinked passenger trip for this mode has changed from last year by >= 25%, please provide a narrative justification.   \n",
       "16                                                                                                                                                \n",
       "17  The fare revenues per unlinked passenger trip for this mode has changed from last year by >= 25%, please provide a narrative justification.   \n",
       "18                  The calculated trips per hour for this mode has changed from last year by >= 30%, please provide a narrative justification.   \n",
       "19                  The calculated trips per hour for this mode has changed from last year by >= 30%, please provide a narrative justification.   \n",
       "20                  The calculated trips per hour for this mode has changed from last year by >= 30%, please provide a narrative justification.   \n",
       "\n",
       "   Agency_Response                     date_checked  \n",
       "12                 2024-10-11 16:52:02.360557+00:00  \n",
       "13                 2024-10-11 16:52:02.360557+00:00  \n",
       "14                 2024-10-11 16:52:02.360557+00:00  \n",
       "15                 2024-10-11 16:52:02.360557+00:00  \n",
       "16                 2024-10-11 16:52:02.360557+00:00  \n",
       "17                 2024-10-11 16:52:02.360557+00:00  \n",
       "18                 2024-10-11 16:52:02.360557+00:00  \n",
       "19                 2024-10-11 16:52:02.360557+00:00  \n",
       "20                 2024-10-11 16:52:02.360557+00:00  "
      ]
     },
     "execution_count": 47,
     "metadata": {},
     "output_type": "execute_result"
    }
   ],
   "source": [
    "# What does a good check look like?\n",
    "check_list = [\n",
    "    \"RR20F-154: Trips per Hour change\",\n",
    "    \"RR20F-171: Vehicles of Maximum Service (VOMS) change\",\n",
    "    \"RR20F-139: Fare Revenue Per Trip change\",\n",
    "]\n",
    "\n",
    "\n",
    "fct_ntd_rr20_service_checks[fct_ntd_rr20_service_checks[\"name_of_check\"].isin(check_list)]"
   ]
  },
  {
   "cell_type": "code",
   "execution_count": 48,
   "id": "6b6ab549-37c5-44d6-bac4-de3311ff732e",
   "metadata": {},
   "outputs": [
    {
     "data": {
      "text/html": [
       "<div>\n",
       "<style scoped>\n",
       "    .dataframe tbody tr th:only-of-type {\n",
       "        vertical-align: middle;\n",
       "    }\n",
       "\n",
       "    .dataframe tbody tr th {\n",
       "        vertical-align: top;\n",
       "    }\n",
       "\n",
       "    .dataframe thead th {\n",
       "        text-align: right;\n",
       "    }\n",
       "</style>\n",
       "<table border=\"1\" class=\"dataframe\">\n",
       "  <thead>\n",
       "    <tr style=\"text-align: right;\">\n",
       "      <th></th>\n",
       "      <th>organization</th>\n",
       "      <th>mode</th>\n",
       "      <th>tph_last_year</th>\n",
       "      <th>tph_this_year</th>\n",
       "      <th>voms_last_year</th>\n",
       "      <th>voms_this_year</th>\n",
       "      <th>vrm_last_year</th>\n",
       "      <th>vrm_this_year</th>\n",
       "    </tr>\n",
       "  </thead>\n",
       "  <tbody>\n",
       "    <tr>\n",
       "      <th>0</th>\n",
       "      <td>City of Arvin</td>\n",
       "      <td>Demand Response (DR) - (DO)</td>\n",
       "      <td>2.289235</td>\n",
       "      <td>0.000000</td>\n",
       "      <td>1.0</td>\n",
       "      <td>0.0</td>\n",
       "      <td>12495.0</td>\n",
       "      <td>13371.0</td>\n",
       "    </tr>\n",
       "    <tr>\n",
       "      <th>1</th>\n",
       "      <td>City of Arvin</td>\n",
       "      <td>Deviated Fixed Route (DF) - (DO)</td>\n",
       "      <td>10.024550</td>\n",
       "      <td>0.000000</td>\n",
       "      <td>3.0</td>\n",
       "      <td>0.0</td>\n",
       "      <td>120801.0</td>\n",
       "      <td>116550.0</td>\n",
       "    </tr>\n",
       "    <tr>\n",
       "      <th>2</th>\n",
       "      <td>Colusa County Transit Agency</td>\n",
       "      <td>Demand Response (DR) - (DO)</td>\n",
       "      <td>4.171580</td>\n",
       "      <td>0.000000</td>\n",
       "      <td>7.0</td>\n",
       "      <td>7.0</td>\n",
       "      <td>141531.0</td>\n",
       "      <td>149880.0</td>\n",
       "    </tr>\n",
       "    <tr>\n",
       "      <th>3</th>\n",
       "      <td>Town of Truckee</td>\n",
       "      <td>Bus (MB) (Fixed Route) - (PT)</td>\n",
       "      <td>6.302895</td>\n",
       "      <td>5.344347</td>\n",
       "      <td>3.0</td>\n",
       "      <td>3.0</td>\n",
       "      <td>109155.0</td>\n",
       "      <td>85100.0</td>\n",
       "    </tr>\n",
       "    <tr>\n",
       "      <th>4</th>\n",
       "      <td>Town of Truckee</td>\n",
       "      <td>Demand Response (DR) - (PT)</td>\n",
       "      <td>2.506347</td>\n",
       "      <td>4.224924</td>\n",
       "      <td>3.0</td>\n",
       "      <td>3.0</td>\n",
       "      <td>24373.0</td>\n",
       "      <td>22140.0</td>\n",
       "    </tr>\n",
       "  </tbody>\n",
       "</table>\n",
       "</div>"
      ],
      "text/plain": [
       "                   organization                              mode  \\\n",
       "0                 City of Arvin       Demand Response (DR) - (DO)   \n",
       "1                 City of Arvin  Deviated Fixed Route (DF) - (DO)   \n",
       "2  Colusa County Transit Agency       Demand Response (DR) - (DO)   \n",
       "3               Town of Truckee     Bus (MB) (Fixed Route) - (PT)   \n",
       "4               Town of Truckee       Demand Response (DR) - (PT)   \n",
       "\n",
       "   tph_last_year  tph_this_year  voms_last_year  voms_this_year  \\\n",
       "0       2.289235       0.000000             1.0             0.0   \n",
       "1      10.024550       0.000000             3.0             0.0   \n",
       "2       4.171580       0.000000             7.0             7.0   \n",
       "3       6.302895       5.344347             3.0             3.0   \n",
       "4       2.506347       4.224924             3.0             3.0   \n",
       "\n",
       "   vrm_last_year  vrm_this_year  \n",
       "0        12495.0        13371.0  \n",
       "1       120801.0       116550.0  \n",
       "2       141531.0       149880.0  \n",
       "3       109155.0        85100.0  \n",
       "4        24373.0        22140.0  "
      ]
     },
     "execution_count": 48,
     "metadata": {},
     "output_type": "execute_result"
    }
   ],
   "source": [
    "# checking the int table for this validation report to insepct the tph, voms, and vrm values for these checks of the error orgs\n",
    "\n",
    "error_int_check = (\n",
    "    tbls.staging.int_ntd_rr20_service_3ratios_wide()\n",
    "    >> filter(_.organization.isin(error_orgs))\n",
    "    >> collect()\n",
    ")\n",
    "\n",
    "keep_cols=['organization',\n",
    "           \"mode\",\n",
    "    'tph_last_year',\n",
    "           'tph_this_year', \n",
    "           'voms_last_year', \n",
    "           'voms_this_year', \n",
    "           'vrm_last_year',\n",
    "           'vrm_this_year',  \n",
    "]\n",
    "\n",
    "error_int_check[keep_cols]"
   ]
  },
  {
   "cell_type": "markdown",
   "id": "314e4d9e-41ae-4688-af8f-f7479a65a4e8",
   "metadata": {},
   "source": [
    "# Summary of 2024 Update \n",
    "rr20_service_check errors investigation\n",
    "\n",
    "## orgs that were failing checks\n",
    "- City of Arvin\n",
    "\t- RR20F-154: Trips per Hour change\n",
    "\t\t- mode: Demand Response (DR) - (DO), error (-2.3/0)\n",
    "\t\t- mode: Deviated Fixed Route (DF) - (DO),  error (-10/0)\n",
    "\t- RR20F-171: Vehicles of Maximum Service (VOMS) change\n",
    "\t\t- mode: Demand Response (DR) - (DO), error (-1/0)\n",
    "\t\t- mode: Deviated Fixed Route (DF) - error (DO), (-3/0)\n",
    "<br>\n",
    "<br>\n",
    "- Town of Truckee\n",
    "    - RR20F-139: Fare Revenue Per Trip change\n",
    "        - Mode: Bus (MB) (Fixed Route) - (PT), error (0/0)\n",
    "<br>\n",
    "<br>\n",
    "- Colusa County Transit Agency\n",
    "\t- RR20F-154: Trips per Hour change \n",
    "        - Mode: Demand Response (DR) - (DO), error (-4.2/0)\n",
    "<br>\n",
    "<br>\n",
    "- Trinity County Department of Transportation\n",
    "\t- RR20F-171: Vehicles of Maximum Service (VOMS) change \n",
    "        - Mode: Intercity Service (IC) - (DO), error (-4/0)\n",
    "\n",
    "\n",
    "## for RR20F-154: Trips per Hour change: \n",
    "- condition first checks if `tph_this_year` or `tph_last_year` are `NULL` or `0`. if true, then return `did not run`. else, calculates the absolute value of `(tph_this_year - tph_last_year)/ tph_last_year`. \n",
    "- City of Arvin, mode: Demand Response (DR) - (DO): \n",
    "    - `tph_this year = 0` and `tph_last_year = 2.3`. should have returned `did not run` since tph_this_year = 0. but error was (-2.3/0)\n",
    "    - error calculated (0-2.3)/0. instead of (0-2.3/2.3)\n",
    "- Colusa County Transit Agency,Mode: Demand Response (DR) - (DO):\n",
    "    - `tph_this_year = 0` and `tph_last_year = 4.2`. also should have returned `did not run`. but error returned as (-4.2/0). \n",
    "    - meaning the calculation was (0-4.2)/0, instead of (0-4.2)4.2.\n",
    "<br>\n",
    "<br>\n",
    "\n",
    "## for RR20F-171: Vehicles of Maximum Service (VOMS) change:\n",
    "- condition first checks if (`voms_this_year = 0` and `voms_last_year !=0`) or if (`voms_this_year !=0` and `voms_last_year NOT NULL and = 0`) \"fail\", then checks if `voms_this_year is NULL or 0`, then returns \"did not run\". then checks `voms_last_year is NULL or 0`, then returns \"did not run\". all else, return pass.\n",
    "- City of Arvin, mode: Demand Response (DR) - (DO):\n",
    "    - `voms_this_year =  0` and `voms_last_year = 1.0`. should have returned `Did Not Run`.but instead got error for (-1/0).\n",
    "    - idk how it got that result \n",
    "- Trinity County Department of Transportation, Mode: Intercity Service (IC) - (DO):\n",
    "    - `voms_this_year = 0`, `voms_last_year = 4.0`. should have returned `Did not run`. but did soem calculation to get (-4/0)\n",
    "<br>\n",
    "<br>\n",
    "\n",
    "## for RR20F-139: Fare Revenue Per Trip change:\n",
    "- condition check `vrm_this_year` and `vrm_last_year` if they are NULL or 0, if so, then return \"did not run\". then checks if the absolute value of (`vrm_this_year` - `vrm_last_year`)/ `vrm_last_year`. if results >=0.3 then fail, else pass\n",
    "- Town of Truckee, Mode: Bus (MB) (Fixed Route) - (PT):\n",
    "    - `vrm_this_year = 85100.0`, `vrm_last_year =109155.0 `. should have calculated `(85100.0-109155.0)/109155.0 = 0.22, pass`. but got some calculation as (0/0)?\n",
    "    \n",
    "## conclusion\n",
    "- something about these values are not getting recognized in the conditions.\n",
    "- unsure how to solve these errors\n"
   ]
  },
  {
   "cell_type": "code",
   "execution_count": 49,
   "id": "55fdb22f-fe32-4823-b946-18c5f2e4ea4f",
   "metadata": {},
   "outputs": [
    {
     "data": {
      "text/html": [
       "<div>\n",
       "<style scoped>\n",
       "    .dataframe tbody tr th:only-of-type {\n",
       "        vertical-align: middle;\n",
       "    }\n",
       "\n",
       "    .dataframe tbody tr th {\n",
       "        vertical-align: top;\n",
       "    }\n",
       "\n",
       "    .dataframe thead th {\n",
       "        text-align: right;\n",
       "    }\n",
       "</style>\n",
       "<table border=\"1\" class=\"dataframe\">\n",
       "  <thead>\n",
       "    <tr style=\"text-align: right;\">\n",
       "      <th></th>\n",
       "      <th>organization</th>\n",
       "      <th>mode</th>\n",
       "      <th>tph_last_year</th>\n",
       "      <th>tph_this_year</th>\n",
       "      <th>voms_last_year</th>\n",
       "      <th>voms_this_year</th>\n",
       "      <th>vrm_last_year</th>\n",
       "      <th>vrm_this_year</th>\n",
       "    </tr>\n",
       "  </thead>\n",
       "  <tbody>\n",
       "    <tr>\n",
       "      <th>0</th>\n",
       "      <td>City of Arvin</td>\n",
       "      <td>Demand Response (DR) - (DO)</td>\n",
       "      <td>2.289235</td>\n",
       "      <td>0.000000</td>\n",
       "      <td>1.0</td>\n",
       "      <td>0.0</td>\n",
       "      <td>12495.0</td>\n",
       "      <td>13371.0</td>\n",
       "    </tr>\n",
       "    <tr>\n",
       "      <th>1</th>\n",
       "      <td>City of Arvin</td>\n",
       "      <td>Deviated Fixed Route (DF) - (DO)</td>\n",
       "      <td>10.024550</td>\n",
       "      <td>0.000000</td>\n",
       "      <td>3.0</td>\n",
       "      <td>0.0</td>\n",
       "      <td>120801.0</td>\n",
       "      <td>116550.0</td>\n",
       "    </tr>\n",
       "    <tr>\n",
       "      <th>2</th>\n",
       "      <td>Colusa County Transit Agency</td>\n",
       "      <td>Demand Response (DR) - (DO)</td>\n",
       "      <td>4.171580</td>\n",
       "      <td>0.000000</td>\n",
       "      <td>7.0</td>\n",
       "      <td>7.0</td>\n",
       "      <td>141531.0</td>\n",
       "      <td>149880.0</td>\n",
       "    </tr>\n",
       "    <tr>\n",
       "      <th>3</th>\n",
       "      <td>Town of Truckee</td>\n",
       "      <td>Bus (MB) (Fixed Route) - (PT)</td>\n",
       "      <td>6.302895</td>\n",
       "      <td>5.344347</td>\n",
       "      <td>3.0</td>\n",
       "      <td>3.0</td>\n",
       "      <td>109155.0</td>\n",
       "      <td>85100.0</td>\n",
       "    </tr>\n",
       "    <tr>\n",
       "      <th>4</th>\n",
       "      <td>Town of Truckee</td>\n",
       "      <td>Demand Response (DR) - (PT)</td>\n",
       "      <td>2.506347</td>\n",
       "      <td>4.224924</td>\n",
       "      <td>3.0</td>\n",
       "      <td>3.0</td>\n",
       "      <td>24373.0</td>\n",
       "      <td>22140.0</td>\n",
       "    </tr>\n",
       "  </tbody>\n",
       "</table>\n",
       "</div>"
      ],
      "text/plain": [
       "                   organization                              mode  \\\n",
       "0                 City of Arvin       Demand Response (DR) - (DO)   \n",
       "1                 City of Arvin  Deviated Fixed Route (DF) - (DO)   \n",
       "2  Colusa County Transit Agency       Demand Response (DR) - (DO)   \n",
       "3               Town of Truckee     Bus (MB) (Fixed Route) - (PT)   \n",
       "4               Town of Truckee       Demand Response (DR) - (PT)   \n",
       "\n",
       "   tph_last_year  tph_this_year  voms_last_year  voms_this_year  \\\n",
       "0       2.289235       0.000000             1.0             0.0   \n",
       "1      10.024550       0.000000             3.0             0.0   \n",
       "2       4.171580       0.000000             7.0             7.0   \n",
       "3       6.302895       5.344347             3.0             3.0   \n",
       "4       2.506347       4.224924             3.0             3.0   \n",
       "\n",
       "   vrm_last_year  vrm_this_year  \n",
       "0        12495.0        13371.0  \n",
       "1       120801.0       116550.0  \n",
       "2       141531.0       149880.0  \n",
       "3       109155.0        85100.0  \n",
       "4        24373.0        22140.0  "
      ]
     },
     "execution_count": 49,
     "metadata": {},
     "output_type": "execute_result"
    }
   ],
   "source": [
    "error_int_check[keep_cols]"
   ]
  },
  {
   "cell_type": "code",
   "execution_count": 50,
   "id": "40318aef-f6a6-46e0-9064-bcd98cdaa4d6",
   "metadata": {},
   "outputs": [
    {
     "data": {
      "text/plain": [
       "(104, 20)"
      ]
     },
     "execution_count": 50,
     "metadata": {},
     "output_type": "execute_result"
    }
   ],
   "source": [
    "all_int_service_ratio = (\n",
    "    tbls.staging.int_ntd_rr20_service_3ratios_wide()\n",
    "    >> filter(~_.organization.isin(error_orgs))\n",
    "    >> collect()\n",
    ")\n",
    "all_int_service_ratio.shape\n"
   ]
  },
  {
   "cell_type": "code",
   "execution_count": 51,
   "id": "8025101d-2e6f-4e88-bace-982530a28bd2",
   "metadata": {
    "collapsed": true,
    "jupyter": {
     "outputs_hidden": true
    },
    "tags": []
   },
   "outputs": [
    {
     "ename": "DatabaseError",
     "evalue": "(google.cloud.bigquery.dbapi.exceptions.DatabaseError) 400 division by zero: -4 / 0\n\nLocation: us-west2\nJob ID: 6d6b6bb1-e664-42af-9831-075bd7a7600b\n\n[SQL: SELECT `mart_ntd_validation.fct_ntd_rr20_service_checks_1`.`organization`, `mart_ntd_validation.fct_ntd_rr20_service_checks_1`.`name_of_check`, `mart_ntd_validation.fct_ntd_rr20_service_checks_1`.`mode`, `mart_ntd_validation.fct_ntd_rr20_service_checks_1`.`year_of_data`, `mart_ntd_validation.fct_ntd_rr20_service_checks_1`.`check_status`, `mart_ntd_validation.fct_ntd_rr20_service_checks_1`.`value_checked`, `mart_ntd_validation.fct_ntd_rr20_service_checks_1`.`description`, `mart_ntd_validation.fct_ntd_rr20_service_checks_1`.`Agency_Response`, `mart_ntd_validation.fct_ntd_rr20_service_checks_1`.`date_checked` \nFROM `mart_ntd_validation.fct_ntd_rr20_service_checks` AS `mart_ntd_validation.fct_ntd_rr20_service_checks_1` \nWHERE (`mart_ntd_validation.fct_ntd_rr20_service_checks_1`.`organization` NOT IN UNNEST(%(organization_1:STRING)s))]\n[parameters: {'organization_1': ['City of Arvin', 'Town of Truckee', 'Colusa County Transit Agency', 'San Joaquin Regional Transit District']}]\n(Background on this error at: https://sqlalche.me/e/14/4xp6)",
     "output_type": "error",
     "traceback": [
      "\u001b[0;31m---------------------------------------------------------------------------\u001b[0m",
      "\u001b[0;31mBadRequest\u001b[0m                                Traceback (most recent call last)",
      "File \u001b[0;32m/opt/conda/lib/python3.9/site-packages/google/cloud/bigquery/dbapi/cursor.py:213\u001b[0m, in \u001b[0;36mCursor._execute\u001b[0;34m(self, formatted_operation, parameters, job_id, job_config, parameter_types)\u001b[0m\n\u001b[1;32m    212\u001b[0m \u001b[38;5;28;01mtry\u001b[39;00m:\n\u001b[0;32m--> 213\u001b[0m     \u001b[38;5;28;43mself\u001b[39;49m\u001b[38;5;241;43m.\u001b[39;49m\u001b[43m_query_job\u001b[49m\u001b[38;5;241;43m.\u001b[39;49m\u001b[43mresult\u001b[49m\u001b[43m(\u001b[49m\u001b[43m)\u001b[49m\n\u001b[1;32m    214\u001b[0m \u001b[38;5;28;01mexcept\u001b[39;00m google\u001b[38;5;241m.\u001b[39mcloud\u001b[38;5;241m.\u001b[39mexceptions\u001b[38;5;241m.\u001b[39mGoogleCloudError \u001b[38;5;28;01mas\u001b[39;00m exc:\n",
      "File \u001b[0;32m/opt/conda/lib/python3.9/site-packages/google/cloud/bigquery/job/query.py:1520\u001b[0m, in \u001b[0;36mQueryJob.result\u001b[0;34m(self, page_size, max_results, retry, timeout, start_index, job_retry)\u001b[0m\n\u001b[1;32m   1518\u001b[0m         do_get_result \u001b[38;5;241m=\u001b[39m job_retry(do_get_result)\n\u001b[0;32m-> 1520\u001b[0m     \u001b[43mdo_get_result\u001b[49m\u001b[43m(\u001b[49m\u001b[43m)\u001b[49m\n\u001b[1;32m   1522\u001b[0m \u001b[38;5;28;01mexcept\u001b[39;00m exceptions\u001b[38;5;241m.\u001b[39mGoogleAPICallError \u001b[38;5;28;01mas\u001b[39;00m exc:\n",
      "File \u001b[0;32m/opt/conda/lib/python3.9/site-packages/google/api_core/retry.py:349\u001b[0m, in \u001b[0;36mRetry.__call__.<locals>.retry_wrapped_func\u001b[0;34m(*args, **kwargs)\u001b[0m\n\u001b[1;32m    346\u001b[0m sleep_generator \u001b[38;5;241m=\u001b[39m exponential_sleep_generator(\n\u001b[1;32m    347\u001b[0m     \u001b[38;5;28mself\u001b[39m\u001b[38;5;241m.\u001b[39m_initial, \u001b[38;5;28mself\u001b[39m\u001b[38;5;241m.\u001b[39m_maximum, multiplier\u001b[38;5;241m=\u001b[39m\u001b[38;5;28mself\u001b[39m\u001b[38;5;241m.\u001b[39m_multiplier\n\u001b[1;32m    348\u001b[0m )\n\u001b[0;32m--> 349\u001b[0m \u001b[38;5;28;01mreturn\u001b[39;00m \u001b[43mretry_target\u001b[49m\u001b[43m(\u001b[49m\n\u001b[1;32m    350\u001b[0m \u001b[43m    \u001b[49m\u001b[43mtarget\u001b[49m\u001b[43m,\u001b[49m\n\u001b[1;32m    351\u001b[0m \u001b[43m    \u001b[49m\u001b[38;5;28;43mself\u001b[39;49m\u001b[38;5;241;43m.\u001b[39;49m\u001b[43m_predicate\u001b[49m\u001b[43m,\u001b[49m\n\u001b[1;32m    352\u001b[0m \u001b[43m    \u001b[49m\u001b[43msleep_generator\u001b[49m\u001b[43m,\u001b[49m\n\u001b[1;32m    353\u001b[0m \u001b[43m    \u001b[49m\u001b[38;5;28;43mself\u001b[39;49m\u001b[38;5;241;43m.\u001b[39;49m\u001b[43m_timeout\u001b[49m\u001b[43m,\u001b[49m\n\u001b[1;32m    354\u001b[0m \u001b[43m    \u001b[49m\u001b[43mon_error\u001b[49m\u001b[38;5;241;43m=\u001b[39;49m\u001b[43mon_error\u001b[49m\u001b[43m,\u001b[49m\n\u001b[1;32m    355\u001b[0m \u001b[43m\u001b[49m\u001b[43m)\u001b[49m\n",
      "File \u001b[0;32m/opt/conda/lib/python3.9/site-packages/google/api_core/retry.py:191\u001b[0m, in \u001b[0;36mretry_target\u001b[0;34m(target, predicate, sleep_generator, timeout, on_error, **kwargs)\u001b[0m\n\u001b[1;32m    190\u001b[0m \u001b[38;5;28;01mtry\u001b[39;00m:\n\u001b[0;32m--> 191\u001b[0m     \u001b[38;5;28;01mreturn\u001b[39;00m \u001b[43mtarget\u001b[49m\u001b[43m(\u001b[49m\u001b[43m)\u001b[49m\n\u001b[1;32m    193\u001b[0m \u001b[38;5;66;03m# pylint: disable=broad-except\u001b[39;00m\n\u001b[1;32m    194\u001b[0m \u001b[38;5;66;03m# This function explicitly must deal with broad exceptions.\u001b[39;00m\n",
      "File \u001b[0;32m/opt/conda/lib/python3.9/site-packages/google/cloud/bigquery/job/query.py:1510\u001b[0m, in \u001b[0;36mQueryJob.result.<locals>.do_get_result\u001b[0;34m()\u001b[0m\n\u001b[1;32m   1508\u001b[0m     \u001b[38;5;28mself\u001b[39m\u001b[38;5;241m.\u001b[39m_job_retry \u001b[38;5;241m=\u001b[39m job_retry\n\u001b[0;32m-> 1510\u001b[0m \u001b[38;5;28;43msuper\u001b[39;49m\u001b[43m(\u001b[49m\u001b[43mQueryJob\u001b[49m\u001b[43m,\u001b[49m\u001b[43m \u001b[49m\u001b[38;5;28;43mself\u001b[39;49m\u001b[43m)\u001b[49m\u001b[38;5;241;43m.\u001b[39;49m\u001b[43mresult\u001b[49m\u001b[43m(\u001b[49m\u001b[43mretry\u001b[49m\u001b[38;5;241;43m=\u001b[39;49m\u001b[43mretry\u001b[49m\u001b[43m,\u001b[49m\u001b[43m \u001b[49m\u001b[43mtimeout\u001b[49m\u001b[38;5;241;43m=\u001b[39;49m\u001b[43mtimeout\u001b[49m\u001b[43m)\u001b[49m\n\u001b[1;32m   1512\u001b[0m \u001b[38;5;66;03m# Since the job could already be \"done\" (e.g. got a finished job\u001b[39;00m\n\u001b[1;32m   1513\u001b[0m \u001b[38;5;66;03m# via client.get_job), the superclass call to done() might not\u001b[39;00m\n\u001b[1;32m   1514\u001b[0m \u001b[38;5;66;03m# set the self._query_results cache.\u001b[39;00m\n",
      "File \u001b[0;32m/opt/conda/lib/python3.9/site-packages/google/cloud/bigquery/job/base.py:922\u001b[0m, in \u001b[0;36m_AsyncJob.result\u001b[0;34m(self, retry, timeout)\u001b[0m\n\u001b[1;32m    921\u001b[0m kwargs \u001b[38;5;241m=\u001b[39m {} \u001b[38;5;28;01mif\u001b[39;00m retry \u001b[38;5;129;01mis\u001b[39;00m DEFAULT_RETRY \u001b[38;5;28;01melse\u001b[39;00m {\u001b[38;5;124m\"\u001b[39m\u001b[38;5;124mretry\u001b[39m\u001b[38;5;124m\"\u001b[39m: retry}\n\u001b[0;32m--> 922\u001b[0m \u001b[38;5;28;01mreturn\u001b[39;00m \u001b[38;5;28;43msuper\u001b[39;49m\u001b[43m(\u001b[49m\u001b[43m_AsyncJob\u001b[49m\u001b[43m,\u001b[49m\u001b[43m \u001b[49m\u001b[38;5;28;43mself\u001b[39;49m\u001b[43m)\u001b[49m\u001b[38;5;241;43m.\u001b[39;49m\u001b[43mresult\u001b[49m\u001b[43m(\u001b[49m\u001b[43mtimeout\u001b[49m\u001b[38;5;241;43m=\u001b[39;49m\u001b[43mtimeout\u001b[49m\u001b[43m,\u001b[49m\u001b[43m \u001b[49m\u001b[38;5;241;43m*\u001b[39;49m\u001b[38;5;241;43m*\u001b[39;49m\u001b[43mkwargs\u001b[49m\u001b[43m)\u001b[49m\n",
      "File \u001b[0;32m/opt/conda/lib/python3.9/site-packages/google/api_core/future/polling.py:261\u001b[0m, in \u001b[0;36mPollingFuture.result\u001b[0;34m(self, timeout, retry, polling)\u001b[0m\n\u001b[1;32m    258\u001b[0m \u001b[38;5;28;01mif\u001b[39;00m \u001b[38;5;28mself\u001b[39m\u001b[38;5;241m.\u001b[39m_exception \u001b[38;5;129;01mis\u001b[39;00m \u001b[38;5;129;01mnot\u001b[39;00m \u001b[38;5;28;01mNone\u001b[39;00m:\n\u001b[1;32m    259\u001b[0m     \u001b[38;5;66;03m# pylint: disable=raising-bad-type\u001b[39;00m\n\u001b[1;32m    260\u001b[0m     \u001b[38;5;66;03m# Pylint doesn't recognize that this is valid in this case.\u001b[39;00m\n\u001b[0;32m--> 261\u001b[0m     \u001b[38;5;28;01mraise\u001b[39;00m \u001b[38;5;28mself\u001b[39m\u001b[38;5;241m.\u001b[39m_exception\n\u001b[1;32m    263\u001b[0m \u001b[38;5;28;01mreturn\u001b[39;00m \u001b[38;5;28mself\u001b[39m\u001b[38;5;241m.\u001b[39m_result\n",
      "\u001b[0;31mBadRequest\u001b[0m: 400 division by zero: -4 / 0\n\nLocation: us-west2\nJob ID: 6d6b6bb1-e664-42af-9831-075bd7a7600b\n",
      "\nDuring handling of the above exception, another exception occurred:\n",
      "\u001b[0;31mDatabaseError\u001b[0m                             Traceback (most recent call last)",
      "File \u001b[0;32m/opt/conda/lib/python3.9/site-packages/sqlalchemy/engine/base.py:1910\u001b[0m, in \u001b[0;36mConnection._execute_context\u001b[0;34m(self, dialect, constructor, statement, parameters, execution_options, *args, **kw)\u001b[0m\n\u001b[1;32m   1909\u001b[0m     \u001b[38;5;28;01mif\u001b[39;00m \u001b[38;5;129;01mnot\u001b[39;00m evt_handled:\n\u001b[0;32m-> 1910\u001b[0m         \u001b[38;5;28;43mself\u001b[39;49m\u001b[38;5;241;43m.\u001b[39;49m\u001b[43mdialect\u001b[49m\u001b[38;5;241;43m.\u001b[39;49m\u001b[43mdo_execute\u001b[49m\u001b[43m(\u001b[49m\n\u001b[1;32m   1911\u001b[0m \u001b[43m            \u001b[49m\u001b[43mcursor\u001b[49m\u001b[43m,\u001b[49m\u001b[43m \u001b[49m\u001b[43mstatement\u001b[49m\u001b[43m,\u001b[49m\u001b[43m \u001b[49m\u001b[43mparameters\u001b[49m\u001b[43m,\u001b[49m\u001b[43m \u001b[49m\u001b[43mcontext\u001b[49m\n\u001b[1;32m   1912\u001b[0m \u001b[43m        \u001b[49m\u001b[43m)\u001b[49m\n\u001b[1;32m   1914\u001b[0m \u001b[38;5;28;01mif\u001b[39;00m \u001b[38;5;28mself\u001b[39m\u001b[38;5;241m.\u001b[39m_has_events \u001b[38;5;129;01mor\u001b[39;00m \u001b[38;5;28mself\u001b[39m\u001b[38;5;241m.\u001b[39mengine\u001b[38;5;241m.\u001b[39m_has_events:\n",
      "File \u001b[0;32m/opt/conda/lib/python3.9/site-packages/sqlalchemy/engine/default.py:736\u001b[0m, in \u001b[0;36mDefaultDialect.do_execute\u001b[0;34m(self, cursor, statement, parameters, context)\u001b[0m\n\u001b[1;32m    735\u001b[0m \u001b[38;5;28;01mdef\u001b[39;00m \u001b[38;5;21mdo_execute\u001b[39m(\u001b[38;5;28mself\u001b[39m, cursor, statement, parameters, context\u001b[38;5;241m=\u001b[39m\u001b[38;5;28;01mNone\u001b[39;00m):\n\u001b[0;32m--> 736\u001b[0m     \u001b[43mcursor\u001b[49m\u001b[38;5;241;43m.\u001b[39;49m\u001b[43mexecute\u001b[49m\u001b[43m(\u001b[49m\u001b[43mstatement\u001b[49m\u001b[43m,\u001b[49m\u001b[43m \u001b[49m\u001b[43mparameters\u001b[49m\u001b[43m)\u001b[49m\n",
      "File \u001b[0;32m/opt/conda/lib/python3.9/site-packages/google/cloud/bigquery/dbapi/_helpers.py:494\u001b[0m, in \u001b[0;36mraise_on_closed.<locals>._raise_on_closed.<locals>.with_closed_check\u001b[0;34m(self, *args, **kwargs)\u001b[0m\n\u001b[1;32m    493\u001b[0m     \u001b[38;5;28;01mraise\u001b[39;00m exc_class(exc_msg)\n\u001b[0;32m--> 494\u001b[0m \u001b[38;5;28;01mreturn\u001b[39;00m \u001b[43mmethod\u001b[49m\u001b[43m(\u001b[49m\u001b[38;5;28;43mself\u001b[39;49m\u001b[43m,\u001b[49m\u001b[43m \u001b[49m\u001b[38;5;241;43m*\u001b[39;49m\u001b[43margs\u001b[49m\u001b[43m,\u001b[49m\u001b[43m \u001b[49m\u001b[38;5;241;43m*\u001b[39;49m\u001b[38;5;241;43m*\u001b[39;49m\u001b[43mkwargs\u001b[49m\u001b[43m)\u001b[49m\n",
      "File \u001b[0;32m/opt/conda/lib/python3.9/site-packages/google/cloud/bigquery/dbapi/cursor.py:176\u001b[0m, in \u001b[0;36mCursor.execute\u001b[0;34m(self, operation, parameters, job_id, job_config)\u001b[0m\n\u001b[1;32m    175\u001b[0m formatted_operation, parameter_types \u001b[38;5;241m=\u001b[39m _format_operation(operation, parameters)\n\u001b[0;32m--> 176\u001b[0m \u001b[38;5;28;43mself\u001b[39;49m\u001b[38;5;241;43m.\u001b[39;49m\u001b[43m_execute\u001b[49m\u001b[43m(\u001b[49m\n\u001b[1;32m    177\u001b[0m \u001b[43m    \u001b[49m\u001b[43mformatted_operation\u001b[49m\u001b[43m,\u001b[49m\u001b[43m \u001b[49m\u001b[43mparameters\u001b[49m\u001b[43m,\u001b[49m\u001b[43m \u001b[49m\u001b[43mjob_id\u001b[49m\u001b[43m,\u001b[49m\u001b[43m \u001b[49m\u001b[43mjob_config\u001b[49m\u001b[43m,\u001b[49m\u001b[43m \u001b[49m\u001b[43mparameter_types\u001b[49m\n\u001b[1;32m    178\u001b[0m \u001b[43m\u001b[49m\u001b[43m)\u001b[49m\n",
      "File \u001b[0;32m/opt/conda/lib/python3.9/site-packages/google/cloud/bigquery/dbapi/cursor.py:215\u001b[0m, in \u001b[0;36mCursor._execute\u001b[0;34m(self, formatted_operation, parameters, job_id, job_config, parameter_types)\u001b[0m\n\u001b[1;32m    214\u001b[0m \u001b[38;5;28;01mexcept\u001b[39;00m google\u001b[38;5;241m.\u001b[39mcloud\u001b[38;5;241m.\u001b[39mexceptions\u001b[38;5;241m.\u001b[39mGoogleCloudError \u001b[38;5;28;01mas\u001b[39;00m exc:\n\u001b[0;32m--> 215\u001b[0m     \u001b[38;5;28;01mraise\u001b[39;00m exceptions\u001b[38;5;241m.\u001b[39mDatabaseError(exc)\n\u001b[1;32m    217\u001b[0m query_results \u001b[38;5;241m=\u001b[39m \u001b[38;5;28mself\u001b[39m\u001b[38;5;241m.\u001b[39m_query_job\u001b[38;5;241m.\u001b[39m_query_results\n",
      "\u001b[0;31mDatabaseError\u001b[0m: 400 division by zero: -4 / 0\n\nLocation: us-west2\nJob ID: 6d6b6bb1-e664-42af-9831-075bd7a7600b\n",
      "\nThe above exception was the direct cause of the following exception:\n",
      "\u001b[0;31mDatabaseError\u001b[0m                             Traceback (most recent call last)",
      "Cell \u001b[0;32mIn[51], line 2\u001b[0m\n\u001b[1;32m      1\u001b[0m all_fct_service_checks \u001b[38;5;241m=\u001b[39m (\n\u001b[0;32m----> 2\u001b[0m     \u001b[43mtbls\u001b[49m\u001b[38;5;241;43m.\u001b[39;49m\u001b[43mmart_ntd_validation\u001b[49m\u001b[38;5;241;43m.\u001b[39;49m\u001b[43mfct_ntd_rr20_service_checks\u001b[49m\u001b[43m(\u001b[49m\u001b[43m)\u001b[49m\n\u001b[1;32m      3\u001b[0m \u001b[43m    \u001b[49m\u001b[38;5;241;43m>>\u001b[39;49m\u001b[43m \u001b[49m\u001b[38;5;28;43mfilter\u001b[39;49m\u001b[43m(\u001b[49m\u001b[38;5;241;43m~\u001b[39;49m\u001b[43m_\u001b[49m\u001b[38;5;241;43m.\u001b[39;49m\u001b[43morganization\u001b[49m\u001b[38;5;241;43m.\u001b[39;49m\u001b[43misin\u001b[49m\u001b[43m(\u001b[49m\u001b[43merror_orgs\u001b[49m\u001b[43m)\u001b[49m\u001b[43m)\u001b[49m\n\u001b[1;32m      4\u001b[0m \u001b[43m    \u001b[49m\u001b[38;5;241;43m>>\u001b[39;49m\u001b[43m \u001b[49m\u001b[43mcollect\u001b[49m\u001b[43m(\u001b[49m\u001b[43m)\u001b[49m\n\u001b[1;32m      5\u001b[0m )\n\u001b[1;32m      6\u001b[0m all_fct_service_checks\u001b[38;5;241m.\u001b[39mshape\n",
      "File \u001b[0;32m/opt/conda/lib/python3.9/site-packages/siuba/siu/calls.py:214\u001b[0m, in \u001b[0;36mCall.__rrshift__\u001b[0;34m(self, x)\u001b[0m\n\u001b[1;32m    210\u001b[0m \u001b[38;5;28;01mif\u001b[39;00m \u001b[38;5;28misinstance\u001b[39m(strip_symbolic(x), (Call)):\n\u001b[1;32m    211\u001b[0m     \u001b[38;5;66;03m# only allow non-calls (i.e. data) on the left.\u001b[39;00m\n\u001b[1;32m    212\u001b[0m     \u001b[38;5;28;01mraise\u001b[39;00m \u001b[38;5;167;01mTypeError\u001b[39;00m()\n\u001b[0;32m--> 214\u001b[0m \u001b[38;5;28;01mreturn\u001b[39;00m \u001b[38;5;28;43mself\u001b[39;49m\u001b[43m(\u001b[49m\u001b[43mx\u001b[49m\u001b[43m)\u001b[49m\n",
      "File \u001b[0;32m/opt/conda/lib/python3.9/site-packages/siuba/siu/calls.py:189\u001b[0m, in \u001b[0;36mCall.__call__\u001b[0;34m(self, x)\u001b[0m\n\u001b[1;32m    187\u001b[0m     \u001b[38;5;28;01mreturn\u001b[39;00m operator\u001b[38;5;241m.\u001b[39mgetitem(inst, \u001b[38;5;241m*\u001b[39mrest)\n\u001b[1;32m    188\u001b[0m \u001b[38;5;28;01melif\u001b[39;00m \u001b[38;5;28mself\u001b[39m\u001b[38;5;241m.\u001b[39mfunc \u001b[38;5;241m==\u001b[39m \u001b[38;5;124m\"\u001b[39m\u001b[38;5;124m__call__\u001b[39m\u001b[38;5;124m\"\u001b[39m:\n\u001b[0;32m--> 189\u001b[0m     \u001b[38;5;28;01mreturn\u001b[39;00m \u001b[38;5;28;43mgetattr\u001b[39;49m\u001b[43m(\u001b[49m\u001b[43minst\u001b[49m\u001b[43m,\u001b[49m\u001b[43m \u001b[49m\u001b[38;5;28;43mself\u001b[39;49m\u001b[38;5;241;43m.\u001b[39;49m\u001b[43mfunc\u001b[49m\u001b[43m)\u001b[49m\u001b[43m(\u001b[49m\u001b[38;5;241;43m*\u001b[39;49m\u001b[43mrest\u001b[49m\u001b[43m,\u001b[49m\u001b[43m \u001b[49m\u001b[38;5;241;43m*\u001b[39;49m\u001b[38;5;241;43m*\u001b[39;49m\u001b[43mkwargs\u001b[49m\u001b[43m)\u001b[49m\n\u001b[1;32m    191\u001b[0m \u001b[38;5;66;03m# in normal case, get method to call, and then call it\u001b[39;00m\n\u001b[1;32m    192\u001b[0m f_op \u001b[38;5;241m=\u001b[39m \u001b[38;5;28mgetattr\u001b[39m(operator, \u001b[38;5;28mself\u001b[39m\u001b[38;5;241m.\u001b[39mfunc)\n",
      "File \u001b[0;32m/opt/conda/lib/python3.9/site-packages/siuba/siu/dispatchers.py:167\u001b[0m, in \u001b[0;36mverb_dispatch.<locals>.wrapper\u001b[0;34m(*args, **kwargs)\u001b[0m\n\u001b[1;32m    164\u001b[0m \u001b[38;5;28;01mif\u001b[39;00m \u001b[38;5;129;01mnot\u001b[39;00m args:\n\u001b[1;32m    165\u001b[0m     \u001b[38;5;28;01mreturn\u001b[39;00m dispatch_func(NoArgs(), \u001b[38;5;241m*\u001b[39m\u001b[38;5;241m*\u001b[39mstrip_kwargs)\n\u001b[0;32m--> 167\u001b[0m \u001b[38;5;28;01mreturn\u001b[39;00m \u001b[43mdispatch_func\u001b[49m\u001b[43m(\u001b[49m\u001b[38;5;241;43m*\u001b[39;49m\u001b[43mstrip_args\u001b[49m\u001b[43m,\u001b[49m\u001b[43m \u001b[49m\u001b[38;5;241;43m*\u001b[39;49m\u001b[38;5;241;43m*\u001b[39;49m\u001b[43mstrip_kwargs\u001b[49m\u001b[43m)\u001b[49m\n",
      "File \u001b[0;32m/opt/conda/lib/python3.9/functools.py:888\u001b[0m, in \u001b[0;36msingledispatch.<locals>.wrapper\u001b[0;34m(*args, **kw)\u001b[0m\n\u001b[1;32m    884\u001b[0m \u001b[38;5;28;01mif\u001b[39;00m \u001b[38;5;129;01mnot\u001b[39;00m args:\n\u001b[1;32m    885\u001b[0m     \u001b[38;5;28;01mraise\u001b[39;00m \u001b[38;5;167;01mTypeError\u001b[39;00m(\u001b[38;5;124mf\u001b[39m\u001b[38;5;124m'\u001b[39m\u001b[38;5;132;01m{\u001b[39;00mfuncname\u001b[38;5;132;01m}\u001b[39;00m\u001b[38;5;124m requires at least \u001b[39m\u001b[38;5;124m'\u001b[39m\n\u001b[1;32m    886\u001b[0m                     \u001b[38;5;124m'\u001b[39m\u001b[38;5;124m1 positional argument\u001b[39m\u001b[38;5;124m'\u001b[39m)\n\u001b[0;32m--> 888\u001b[0m \u001b[38;5;28;01mreturn\u001b[39;00m \u001b[43mdispatch\u001b[49m\u001b[43m(\u001b[49m\u001b[43margs\u001b[49m\u001b[43m[\u001b[49m\u001b[38;5;241;43m0\u001b[39;49m\u001b[43m]\u001b[49m\u001b[38;5;241;43m.\u001b[39;49m\u001b[38;5;18;43m__class__\u001b[39;49m\u001b[43m)\u001b[49m\u001b[43m(\u001b[49m\u001b[38;5;241;43m*\u001b[39;49m\u001b[43margs\u001b[49m\u001b[43m,\u001b[49m\u001b[43m \u001b[49m\u001b[38;5;241;43m*\u001b[39;49m\u001b[38;5;241;43m*\u001b[39;49m\u001b[43mkw\u001b[49m\u001b[43m)\u001b[49m\n",
      "File \u001b[0;32m/opt/conda/lib/python3.9/site-packages/siuba/sql/verbs/compute.py:46\u001b[0m, in \u001b[0;36m_collect\u001b[0;34m(__data, as_df)\u001b[0m\n\u001b[1;32m     43\u001b[0m         \u001b[38;5;28;01mreturn\u001b[39;00m duckdb_con\u001b[38;5;241m.\u001b[39mquery(\u001b[38;5;28mstr\u001b[39m(compiled))\u001b[38;5;241m.\u001b[39mto_df()\n\u001b[1;32m     44\u001b[0m     \u001b[38;5;28;01melse\u001b[39;00m:\n\u001b[1;32m     45\u001b[0m         \u001b[38;5;66;03m#\u001b[39;00m\n\u001b[0;32m---> 46\u001b[0m         \u001b[38;5;28;01mreturn\u001b[39;00m \u001b[43msql_db\u001b[49m\u001b[38;5;241;43m.\u001b[39;49m\u001b[43mread_sql\u001b[49m\u001b[43m(\u001b[49m\u001b[43mcompiled\u001b[49m\u001b[43m)\u001b[49m\n\u001b[1;32m     48\u001b[0m \u001b[38;5;28;01mreturn\u001b[39;00m conn\u001b[38;5;241m.\u001b[39mexecute(compiled)\n",
      "File \u001b[0;32m/opt/conda/lib/python3.9/site-packages/pandas/io/sql.py:1560\u001b[0m, in \u001b[0;36mSQLDatabase.read_query\u001b[0;34m(self, sql, index_col, coerce_float, parse_dates, params, chunksize, dtype)\u001b[0m\n\u001b[1;32m   1512\u001b[0m \u001b[38;5;250m\u001b[39m\u001b[38;5;124;03m\"\"\"\u001b[39;00m\n\u001b[1;32m   1513\u001b[0m \u001b[38;5;124;03mRead SQL query into a DataFrame.\u001b[39;00m\n\u001b[1;32m   1514\u001b[0m \n\u001b[0;32m   (...)\u001b[0m\n\u001b[1;32m   1556\u001b[0m \n\u001b[1;32m   1557\u001b[0m \u001b[38;5;124;03m\"\"\"\u001b[39;00m\n\u001b[1;32m   1558\u001b[0m args \u001b[38;5;241m=\u001b[39m _convert_params(sql, params)\n\u001b[0;32m-> 1560\u001b[0m result \u001b[38;5;241m=\u001b[39m \u001b[38;5;28;43mself\u001b[39;49m\u001b[38;5;241;43m.\u001b[39;49m\u001b[43mexecute\u001b[49m\u001b[43m(\u001b[49m\u001b[38;5;241;43m*\u001b[39;49m\u001b[43margs\u001b[49m\u001b[43m)\u001b[49m\n\u001b[1;32m   1561\u001b[0m columns \u001b[38;5;241m=\u001b[39m result\u001b[38;5;241m.\u001b[39mkeys()\n\u001b[1;32m   1563\u001b[0m \u001b[38;5;28;01mif\u001b[39;00m chunksize \u001b[38;5;129;01mis\u001b[39;00m \u001b[38;5;129;01mnot\u001b[39;00m \u001b[38;5;28;01mNone\u001b[39;00m:\n",
      "File \u001b[0;32m/opt/conda/lib/python3.9/site-packages/siuba/sql/utils.py:85\u001b[0m, in \u001b[0;36m_FixedSqlDatabase.execute\u001b[0;34m(self, *args, **kwargs)\u001b[0m\n\u001b[1;32m     84\u001b[0m \u001b[38;5;28;01mdef\u001b[39;00m \u001b[38;5;21mexecute\u001b[39m(\u001b[38;5;28mself\u001b[39m, \u001b[38;5;241m*\u001b[39margs, \u001b[38;5;241m*\u001b[39m\u001b[38;5;241m*\u001b[39mkwargs):\n\u001b[0;32m---> 85\u001b[0m     \u001b[38;5;28;01mreturn\u001b[39;00m \u001b[38;5;28;43mself\u001b[39;49m\u001b[38;5;241;43m.\u001b[39;49m\u001b[43mconnectable\u001b[49m\u001b[38;5;241;43m.\u001b[39;49m\u001b[43mexecute\u001b[49m\u001b[43m(\u001b[49m\u001b[38;5;241;43m*\u001b[39;49m\u001b[43margs\u001b[49m\u001b[43m,\u001b[49m\u001b[43m \u001b[49m\u001b[38;5;241;43m*\u001b[39;49m\u001b[38;5;241;43m*\u001b[39;49m\u001b[43mkwargs\u001b[49m\u001b[43m)\u001b[49m\n",
      "File \u001b[0;32m/opt/conda/lib/python3.9/site-packages/sqlalchemy/engine/base.py:1385\u001b[0m, in \u001b[0;36mConnection.execute\u001b[0;34m(self, statement, *multiparams, **params)\u001b[0m\n\u001b[1;32m   1381\u001b[0m     util\u001b[38;5;241m.\u001b[39mraise_(\n\u001b[1;32m   1382\u001b[0m         exc\u001b[38;5;241m.\u001b[39mObjectNotExecutableError(statement), replace_context\u001b[38;5;241m=\u001b[39merr\n\u001b[1;32m   1383\u001b[0m     )\n\u001b[1;32m   1384\u001b[0m \u001b[38;5;28;01melse\u001b[39;00m:\n\u001b[0;32m-> 1385\u001b[0m     \u001b[38;5;28;01mreturn\u001b[39;00m \u001b[43mmeth\u001b[49m\u001b[43m(\u001b[49m\u001b[38;5;28;43mself\u001b[39;49m\u001b[43m,\u001b[49m\u001b[43m \u001b[49m\u001b[43mmultiparams\u001b[49m\u001b[43m,\u001b[49m\u001b[43m \u001b[49m\u001b[43mparams\u001b[49m\u001b[43m,\u001b[49m\u001b[43m \u001b[49m\u001b[43m_EMPTY_EXECUTION_OPTS\u001b[49m\u001b[43m)\u001b[49m\n",
      "File \u001b[0;32m/opt/conda/lib/python3.9/site-packages/sqlalchemy/sql/elements.py:334\u001b[0m, in \u001b[0;36mClauseElement._execute_on_connection\u001b[0;34m(self, connection, multiparams, params, execution_options, _force)\u001b[0m\n\u001b[1;32m    330\u001b[0m \u001b[38;5;28;01mdef\u001b[39;00m \u001b[38;5;21m_execute_on_connection\u001b[39m(\n\u001b[1;32m    331\u001b[0m     \u001b[38;5;28mself\u001b[39m, connection, multiparams, params, execution_options, _force\u001b[38;5;241m=\u001b[39m\u001b[38;5;28;01mFalse\u001b[39;00m\n\u001b[1;32m    332\u001b[0m ):\n\u001b[1;32m    333\u001b[0m     \u001b[38;5;28;01mif\u001b[39;00m _force \u001b[38;5;129;01mor\u001b[39;00m \u001b[38;5;28mself\u001b[39m\u001b[38;5;241m.\u001b[39msupports_execution:\n\u001b[0;32m--> 334\u001b[0m         \u001b[38;5;28;01mreturn\u001b[39;00m \u001b[43mconnection\u001b[49m\u001b[38;5;241;43m.\u001b[39;49m\u001b[43m_execute_clauseelement\u001b[49m\u001b[43m(\u001b[49m\n\u001b[1;32m    335\u001b[0m \u001b[43m            \u001b[49m\u001b[38;5;28;43mself\u001b[39;49m\u001b[43m,\u001b[49m\u001b[43m \u001b[49m\u001b[43mmultiparams\u001b[49m\u001b[43m,\u001b[49m\u001b[43m \u001b[49m\u001b[43mparams\u001b[49m\u001b[43m,\u001b[49m\u001b[43m \u001b[49m\u001b[43mexecution_options\u001b[49m\n\u001b[1;32m    336\u001b[0m \u001b[43m        \u001b[49m\u001b[43m)\u001b[49m\n\u001b[1;32m    337\u001b[0m     \u001b[38;5;28;01melse\u001b[39;00m:\n\u001b[1;32m    338\u001b[0m         \u001b[38;5;28;01mraise\u001b[39;00m exc\u001b[38;5;241m.\u001b[39mObjectNotExecutableError(\u001b[38;5;28mself\u001b[39m)\n",
      "File \u001b[0;32m/opt/conda/lib/python3.9/site-packages/sqlalchemy/engine/base.py:1577\u001b[0m, in \u001b[0;36mConnection._execute_clauseelement\u001b[0;34m(self, elem, multiparams, params, execution_options)\u001b[0m\n\u001b[1;32m   1565\u001b[0m compiled_cache \u001b[38;5;241m=\u001b[39m execution_options\u001b[38;5;241m.\u001b[39mget(\n\u001b[1;32m   1566\u001b[0m     \u001b[38;5;124m\"\u001b[39m\u001b[38;5;124mcompiled_cache\u001b[39m\u001b[38;5;124m\"\u001b[39m, \u001b[38;5;28mself\u001b[39m\u001b[38;5;241m.\u001b[39mengine\u001b[38;5;241m.\u001b[39m_compiled_cache\n\u001b[1;32m   1567\u001b[0m )\n\u001b[1;32m   1569\u001b[0m compiled_sql, extracted_params, cache_hit \u001b[38;5;241m=\u001b[39m elem\u001b[38;5;241m.\u001b[39m_compile_w_cache(\n\u001b[1;32m   1570\u001b[0m     dialect\u001b[38;5;241m=\u001b[39mdialect,\n\u001b[1;32m   1571\u001b[0m     compiled_cache\u001b[38;5;241m=\u001b[39mcompiled_cache,\n\u001b[0;32m   (...)\u001b[0m\n\u001b[1;32m   1575\u001b[0m     linting\u001b[38;5;241m=\u001b[39m\u001b[38;5;28mself\u001b[39m\u001b[38;5;241m.\u001b[39mdialect\u001b[38;5;241m.\u001b[39mcompiler_linting \u001b[38;5;241m|\u001b[39m compiler\u001b[38;5;241m.\u001b[39mWARN_LINTING,\n\u001b[1;32m   1576\u001b[0m )\n\u001b[0;32m-> 1577\u001b[0m ret \u001b[38;5;241m=\u001b[39m \u001b[38;5;28;43mself\u001b[39;49m\u001b[38;5;241;43m.\u001b[39;49m\u001b[43m_execute_context\u001b[49m\u001b[43m(\u001b[49m\n\u001b[1;32m   1578\u001b[0m \u001b[43m    \u001b[49m\u001b[43mdialect\u001b[49m\u001b[43m,\u001b[49m\n\u001b[1;32m   1579\u001b[0m \u001b[43m    \u001b[49m\u001b[43mdialect\u001b[49m\u001b[38;5;241;43m.\u001b[39;49m\u001b[43mexecution_ctx_cls\u001b[49m\u001b[38;5;241;43m.\u001b[39;49m\u001b[43m_init_compiled\u001b[49m\u001b[43m,\u001b[49m\n\u001b[1;32m   1580\u001b[0m \u001b[43m    \u001b[49m\u001b[43mcompiled_sql\u001b[49m\u001b[43m,\u001b[49m\n\u001b[1;32m   1581\u001b[0m \u001b[43m    \u001b[49m\u001b[43mdistilled_params\u001b[49m\u001b[43m,\u001b[49m\n\u001b[1;32m   1582\u001b[0m \u001b[43m    \u001b[49m\u001b[43mexecution_options\u001b[49m\u001b[43m,\u001b[49m\n\u001b[1;32m   1583\u001b[0m \u001b[43m    \u001b[49m\u001b[43mcompiled_sql\u001b[49m\u001b[43m,\u001b[49m\n\u001b[1;32m   1584\u001b[0m \u001b[43m    \u001b[49m\u001b[43mdistilled_params\u001b[49m\u001b[43m,\u001b[49m\n\u001b[1;32m   1585\u001b[0m \u001b[43m    \u001b[49m\u001b[43melem\u001b[49m\u001b[43m,\u001b[49m\n\u001b[1;32m   1586\u001b[0m \u001b[43m    \u001b[49m\u001b[43mextracted_params\u001b[49m\u001b[43m,\u001b[49m\n\u001b[1;32m   1587\u001b[0m \u001b[43m    \u001b[49m\u001b[43mcache_hit\u001b[49m\u001b[38;5;241;43m=\u001b[39;49m\u001b[43mcache_hit\u001b[49m\u001b[43m,\u001b[49m\n\u001b[1;32m   1588\u001b[0m \u001b[43m\u001b[49m\u001b[43m)\u001b[49m\n\u001b[1;32m   1589\u001b[0m \u001b[38;5;28;01mif\u001b[39;00m has_events:\n\u001b[1;32m   1590\u001b[0m     \u001b[38;5;28mself\u001b[39m\u001b[38;5;241m.\u001b[39mdispatch\u001b[38;5;241m.\u001b[39mafter_execute(\n\u001b[1;32m   1591\u001b[0m         \u001b[38;5;28mself\u001b[39m,\n\u001b[1;32m   1592\u001b[0m         elem,\n\u001b[0;32m   (...)\u001b[0m\n\u001b[1;32m   1596\u001b[0m         ret,\n\u001b[1;32m   1597\u001b[0m     )\n",
      "File \u001b[0;32m/opt/conda/lib/python3.9/site-packages/sqlalchemy/engine/base.py:1953\u001b[0m, in \u001b[0;36mConnection._execute_context\u001b[0;34m(self, dialect, constructor, statement, parameters, execution_options, *args, **kw)\u001b[0m\n\u001b[1;32m   1950\u001b[0m             branched\u001b[38;5;241m.\u001b[39mclose()\n\u001b[1;32m   1952\u001b[0m \u001b[38;5;28;01mexcept\u001b[39;00m \u001b[38;5;167;01mBaseException\u001b[39;00m \u001b[38;5;28;01mas\u001b[39;00m e:\n\u001b[0;32m-> 1953\u001b[0m     \u001b[38;5;28;43mself\u001b[39;49m\u001b[38;5;241;43m.\u001b[39;49m\u001b[43m_handle_dbapi_exception\u001b[49m\u001b[43m(\u001b[49m\n\u001b[1;32m   1954\u001b[0m \u001b[43m        \u001b[49m\u001b[43me\u001b[49m\u001b[43m,\u001b[49m\u001b[43m \u001b[49m\u001b[43mstatement\u001b[49m\u001b[43m,\u001b[49m\u001b[43m \u001b[49m\u001b[43mparameters\u001b[49m\u001b[43m,\u001b[49m\u001b[43m \u001b[49m\u001b[43mcursor\u001b[49m\u001b[43m,\u001b[49m\u001b[43m \u001b[49m\u001b[43mcontext\u001b[49m\n\u001b[1;32m   1955\u001b[0m \u001b[43m    \u001b[49m\u001b[43m)\u001b[49m\n\u001b[1;32m   1957\u001b[0m \u001b[38;5;28;01mreturn\u001b[39;00m result\n",
      "File \u001b[0;32m/opt/conda/lib/python3.9/site-packages/sqlalchemy/engine/base.py:2134\u001b[0m, in \u001b[0;36mConnection._handle_dbapi_exception\u001b[0;34m(self, e, statement, parameters, cursor, context)\u001b[0m\n\u001b[1;32m   2132\u001b[0m     util\u001b[38;5;241m.\u001b[39mraise_(newraise, with_traceback\u001b[38;5;241m=\u001b[39mexc_info[\u001b[38;5;241m2\u001b[39m], from_\u001b[38;5;241m=\u001b[39me)\n\u001b[1;32m   2133\u001b[0m \u001b[38;5;28;01melif\u001b[39;00m should_wrap:\n\u001b[0;32m-> 2134\u001b[0m     \u001b[43mutil\u001b[49m\u001b[38;5;241;43m.\u001b[39;49m\u001b[43mraise_\u001b[49m\u001b[43m(\u001b[49m\n\u001b[1;32m   2135\u001b[0m \u001b[43m        \u001b[49m\u001b[43msqlalchemy_exception\u001b[49m\u001b[43m,\u001b[49m\u001b[43m \u001b[49m\u001b[43mwith_traceback\u001b[49m\u001b[38;5;241;43m=\u001b[39;49m\u001b[43mexc_info\u001b[49m\u001b[43m[\u001b[49m\u001b[38;5;241;43m2\u001b[39;49m\u001b[43m]\u001b[49m\u001b[43m,\u001b[49m\u001b[43m \u001b[49m\u001b[43mfrom_\u001b[49m\u001b[38;5;241;43m=\u001b[39;49m\u001b[43me\u001b[49m\n\u001b[1;32m   2136\u001b[0m \u001b[43m    \u001b[49m\u001b[43m)\u001b[49m\n\u001b[1;32m   2137\u001b[0m \u001b[38;5;28;01melse\u001b[39;00m:\n\u001b[1;32m   2138\u001b[0m     util\u001b[38;5;241m.\u001b[39mraise_(exc_info[\u001b[38;5;241m1\u001b[39m], with_traceback\u001b[38;5;241m=\u001b[39mexc_info[\u001b[38;5;241m2\u001b[39m])\n",
      "File \u001b[0;32m/opt/conda/lib/python3.9/site-packages/sqlalchemy/util/compat.py:211\u001b[0m, in \u001b[0;36mraise_\u001b[0;34m(***failed resolving arguments***)\u001b[0m\n\u001b[1;32m    208\u001b[0m     exception\u001b[38;5;241m.\u001b[39m__cause__ \u001b[38;5;241m=\u001b[39m replace_context\n\u001b[1;32m    210\u001b[0m \u001b[38;5;28;01mtry\u001b[39;00m:\n\u001b[0;32m--> 211\u001b[0m     \u001b[38;5;28;01mraise\u001b[39;00m exception\n\u001b[1;32m    212\u001b[0m \u001b[38;5;28;01mfinally\u001b[39;00m:\n\u001b[1;32m    213\u001b[0m     \u001b[38;5;66;03m# credit to\u001b[39;00m\n\u001b[1;32m    214\u001b[0m     \u001b[38;5;66;03m# https://cosmicpercolator.com/2016/01/13/exception-leaks-in-python-2-and-3/\u001b[39;00m\n\u001b[1;32m    215\u001b[0m     \u001b[38;5;66;03m# as the __traceback__ object creates a cycle\u001b[39;00m\n\u001b[1;32m    216\u001b[0m     \u001b[38;5;28;01mdel\u001b[39;00m exception, replace_context, from_, with_traceback\n",
      "File \u001b[0;32m/opt/conda/lib/python3.9/site-packages/sqlalchemy/engine/base.py:1910\u001b[0m, in \u001b[0;36mConnection._execute_context\u001b[0;34m(self, dialect, constructor, statement, parameters, execution_options, *args, **kw)\u001b[0m\n\u001b[1;32m   1908\u001b[0m                 \u001b[38;5;28;01mbreak\u001b[39;00m\n\u001b[1;32m   1909\u001b[0m     \u001b[38;5;28;01mif\u001b[39;00m \u001b[38;5;129;01mnot\u001b[39;00m evt_handled:\n\u001b[0;32m-> 1910\u001b[0m         \u001b[38;5;28;43mself\u001b[39;49m\u001b[38;5;241;43m.\u001b[39;49m\u001b[43mdialect\u001b[49m\u001b[38;5;241;43m.\u001b[39;49m\u001b[43mdo_execute\u001b[49m\u001b[43m(\u001b[49m\n\u001b[1;32m   1911\u001b[0m \u001b[43m            \u001b[49m\u001b[43mcursor\u001b[49m\u001b[43m,\u001b[49m\u001b[43m \u001b[49m\u001b[43mstatement\u001b[49m\u001b[43m,\u001b[49m\u001b[43m \u001b[49m\u001b[43mparameters\u001b[49m\u001b[43m,\u001b[49m\u001b[43m \u001b[49m\u001b[43mcontext\u001b[49m\n\u001b[1;32m   1912\u001b[0m \u001b[43m        \u001b[49m\u001b[43m)\u001b[49m\n\u001b[1;32m   1914\u001b[0m \u001b[38;5;28;01mif\u001b[39;00m \u001b[38;5;28mself\u001b[39m\u001b[38;5;241m.\u001b[39m_has_events \u001b[38;5;129;01mor\u001b[39;00m \u001b[38;5;28mself\u001b[39m\u001b[38;5;241m.\u001b[39mengine\u001b[38;5;241m.\u001b[39m_has_events:\n\u001b[1;32m   1915\u001b[0m     \u001b[38;5;28mself\u001b[39m\u001b[38;5;241m.\u001b[39mdispatch\u001b[38;5;241m.\u001b[39mafter_cursor_execute(\n\u001b[1;32m   1916\u001b[0m         \u001b[38;5;28mself\u001b[39m,\n\u001b[1;32m   1917\u001b[0m         cursor,\n\u001b[0;32m   (...)\u001b[0m\n\u001b[1;32m   1921\u001b[0m         context\u001b[38;5;241m.\u001b[39mexecutemany,\n\u001b[1;32m   1922\u001b[0m     )\n",
      "File \u001b[0;32m/opt/conda/lib/python3.9/site-packages/sqlalchemy/engine/default.py:736\u001b[0m, in \u001b[0;36mDefaultDialect.do_execute\u001b[0;34m(self, cursor, statement, parameters, context)\u001b[0m\n\u001b[1;32m    735\u001b[0m \u001b[38;5;28;01mdef\u001b[39;00m \u001b[38;5;21mdo_execute\u001b[39m(\u001b[38;5;28mself\u001b[39m, cursor, statement, parameters, context\u001b[38;5;241m=\u001b[39m\u001b[38;5;28;01mNone\u001b[39;00m):\n\u001b[0;32m--> 736\u001b[0m     \u001b[43mcursor\u001b[49m\u001b[38;5;241;43m.\u001b[39;49m\u001b[43mexecute\u001b[49m\u001b[43m(\u001b[49m\u001b[43mstatement\u001b[49m\u001b[43m,\u001b[49m\u001b[43m \u001b[49m\u001b[43mparameters\u001b[49m\u001b[43m)\u001b[49m\n",
      "File \u001b[0;32m/opt/conda/lib/python3.9/site-packages/google/cloud/bigquery/dbapi/_helpers.py:494\u001b[0m, in \u001b[0;36mraise_on_closed.<locals>._raise_on_closed.<locals>.with_closed_check\u001b[0;34m(self, *args, **kwargs)\u001b[0m\n\u001b[1;32m    492\u001b[0m \u001b[38;5;28;01mif\u001b[39;00m \u001b[38;5;28mgetattr\u001b[39m(\u001b[38;5;28mself\u001b[39m, closed_attr_name):\n\u001b[1;32m    493\u001b[0m     \u001b[38;5;28;01mraise\u001b[39;00m exc_class(exc_msg)\n\u001b[0;32m--> 494\u001b[0m \u001b[38;5;28;01mreturn\u001b[39;00m \u001b[43mmethod\u001b[49m\u001b[43m(\u001b[49m\u001b[38;5;28;43mself\u001b[39;49m\u001b[43m,\u001b[49m\u001b[43m \u001b[49m\u001b[38;5;241;43m*\u001b[39;49m\u001b[43margs\u001b[49m\u001b[43m,\u001b[49m\u001b[43m \u001b[49m\u001b[38;5;241;43m*\u001b[39;49m\u001b[38;5;241;43m*\u001b[39;49m\u001b[43mkwargs\u001b[49m\u001b[43m)\u001b[49m\n",
      "File \u001b[0;32m/opt/conda/lib/python3.9/site-packages/google/cloud/bigquery/dbapi/cursor.py:176\u001b[0m, in \u001b[0;36mCursor.execute\u001b[0;34m(self, operation, parameters, job_id, job_config)\u001b[0m\n\u001b[1;32m    141\u001b[0m \u001b[38;5;250m\u001b[39m\u001b[38;5;124;03m\"\"\"Prepare and execute a database operation.\u001b[39;00m\n\u001b[1;32m    142\u001b[0m \n\u001b[1;32m    143\u001b[0m \u001b[38;5;124;03m.. note::\u001b[39;00m\n\u001b[0;32m   (...)\u001b[0m\n\u001b[1;32m    173\u001b[0m \u001b[38;5;124;03m        (Optional) Extra configuration options for the query job.\u001b[39;00m\n\u001b[1;32m    174\u001b[0m \u001b[38;5;124;03m\"\"\"\u001b[39;00m\n\u001b[1;32m    175\u001b[0m formatted_operation, parameter_types \u001b[38;5;241m=\u001b[39m _format_operation(operation, parameters)\n\u001b[0;32m--> 176\u001b[0m \u001b[38;5;28;43mself\u001b[39;49m\u001b[38;5;241;43m.\u001b[39;49m\u001b[43m_execute\u001b[49m\u001b[43m(\u001b[49m\n\u001b[1;32m    177\u001b[0m \u001b[43m    \u001b[49m\u001b[43mformatted_operation\u001b[49m\u001b[43m,\u001b[49m\u001b[43m \u001b[49m\u001b[43mparameters\u001b[49m\u001b[43m,\u001b[49m\u001b[43m \u001b[49m\u001b[43mjob_id\u001b[49m\u001b[43m,\u001b[49m\u001b[43m \u001b[49m\u001b[43mjob_config\u001b[49m\u001b[43m,\u001b[49m\u001b[43m \u001b[49m\u001b[43mparameter_types\u001b[49m\n\u001b[1;32m    178\u001b[0m \u001b[43m\u001b[49m\u001b[43m)\u001b[49m\n",
      "File \u001b[0;32m/opt/conda/lib/python3.9/site-packages/google/cloud/bigquery/dbapi/cursor.py:215\u001b[0m, in \u001b[0;36mCursor._execute\u001b[0;34m(self, formatted_operation, parameters, job_id, job_config, parameter_types)\u001b[0m\n\u001b[1;32m    213\u001b[0m     \u001b[38;5;28mself\u001b[39m\u001b[38;5;241m.\u001b[39m_query_job\u001b[38;5;241m.\u001b[39mresult()\n\u001b[1;32m    214\u001b[0m \u001b[38;5;28;01mexcept\u001b[39;00m google\u001b[38;5;241m.\u001b[39mcloud\u001b[38;5;241m.\u001b[39mexceptions\u001b[38;5;241m.\u001b[39mGoogleCloudError \u001b[38;5;28;01mas\u001b[39;00m exc:\n\u001b[0;32m--> 215\u001b[0m     \u001b[38;5;28;01mraise\u001b[39;00m exceptions\u001b[38;5;241m.\u001b[39mDatabaseError(exc)\n\u001b[1;32m    217\u001b[0m query_results \u001b[38;5;241m=\u001b[39m \u001b[38;5;28mself\u001b[39m\u001b[38;5;241m.\u001b[39m_query_job\u001b[38;5;241m.\u001b[39m_query_results\n\u001b[1;32m    218\u001b[0m \u001b[38;5;28mself\u001b[39m\u001b[38;5;241m.\u001b[39m_set_rowcount(query_results)\n",
      "\u001b[0;31mDatabaseError\u001b[0m: (google.cloud.bigquery.dbapi.exceptions.DatabaseError) 400 division by zero: -4 / 0\n\nLocation: us-west2\nJob ID: 6d6b6bb1-e664-42af-9831-075bd7a7600b\n\n[SQL: SELECT `mart_ntd_validation.fct_ntd_rr20_service_checks_1`.`organization`, `mart_ntd_validation.fct_ntd_rr20_service_checks_1`.`name_of_check`, `mart_ntd_validation.fct_ntd_rr20_service_checks_1`.`mode`, `mart_ntd_validation.fct_ntd_rr20_service_checks_1`.`year_of_data`, `mart_ntd_validation.fct_ntd_rr20_service_checks_1`.`check_status`, `mart_ntd_validation.fct_ntd_rr20_service_checks_1`.`value_checked`, `mart_ntd_validation.fct_ntd_rr20_service_checks_1`.`description`, `mart_ntd_validation.fct_ntd_rr20_service_checks_1`.`Agency_Response`, `mart_ntd_validation.fct_ntd_rr20_service_checks_1`.`date_checked` \nFROM `mart_ntd_validation.fct_ntd_rr20_service_checks` AS `mart_ntd_validation.fct_ntd_rr20_service_checks_1` \nWHERE (`mart_ntd_validation.fct_ntd_rr20_service_checks_1`.`organization` NOT IN UNNEST(%(organization_1:STRING)s))]\n[parameters: {'organization_1': ['City of Arvin', 'Town of Truckee', 'Colusa County Transit Agency', 'San Joaquin Regional Transit District']}]\n(Background on this error at: https://sqlalche.me/e/14/4xp6)"
     ]
    }
   ],
   "source": [
    "all_fct_service_checks = (\n",
    "    tbls.mart_ntd_validation.fct_ntd_rr20_service_checks()\n",
    "    >> filter(~_.organization.isin(error_orgs))\n",
    "    >> collect()\n",
    ")\n",
    "all_fct_service_checks.shape"
   ]
  },
  {
   "cell_type": "code",
   "execution_count": null,
   "id": "73b32ebf-2c8b-4de2-b1a9-c2b0d8bae8d0",
   "metadata": {},
   "outputs": [],
   "source": [
    "# are there any *_last_year = 0?\n",
    "all_int_service_ratio.columns"
   ]
  },
  {
   "cell_type": "code",
   "execution_count": 52,
   "id": "2839cd17-5e3c-4276-bfd0-0055ca2e87e9",
   "metadata": {},
   "outputs": [
    {
     "ename": "NameError",
     "evalue": "name 'all_service_ratio' is not defined",
     "output_type": "error",
     "traceback": [
      "\u001b[0;31m---------------------------------------------------------------------------\u001b[0m",
      "\u001b[0;31mNameError\u001b[0m                                 Traceback (most recent call last)",
      "Cell \u001b[0;32mIn[52], line 3\u001b[0m\n\u001b[1;32m      1\u001b[0m \u001b[38;5;66;03m# are there any *_last_year = 0?\u001b[39;00m\n\u001b[1;32m      2\u001b[0m display(\n\u001b[0;32m----> 3\u001b[0m     \u001b[43mall_service_ratio\u001b[49m[\u001b[38;5;124m\"\u001b[39m\u001b[38;5;124mtph_last_year\u001b[39m\u001b[38;5;124m\"\u001b[39m]\u001b[38;5;241m.\u001b[39munique(),\n\u001b[1;32m      4\u001b[0m     all_service_ratio[\u001b[38;5;124m\"\u001b[39m\u001b[38;5;124mvoms_last_year\u001b[39m\u001b[38;5;124m\"\u001b[39m]\u001b[38;5;241m.\u001b[39munique(),\n\u001b[1;32m      5\u001b[0m     all_service_ratio[\u001b[38;5;124m\"\u001b[39m\u001b[38;5;124mvrm_last_year\u001b[39m\u001b[38;5;124m\"\u001b[39m]\u001b[38;5;241m.\u001b[39munique()\n\u001b[1;32m      6\u001b[0m )\n",
      "\u001b[0;31mNameError\u001b[0m: name 'all_service_ratio' is not defined"
     ]
    }
   ],
   "source": [
    "# are there any *_last_year = 0?\n",
    "display(\n",
    "    all_service_ratio[\"tph_last_year\"].unique(),\n",
    "    all_service_ratio[\"voms_last_year\"].unique(),\n",
    "    all_service_ratio[\"vrm_last_year\"].unique()\n",
    ")\n"
   ]
  },
  {
   "cell_type": "code",
   "execution_count": 53,
   "id": "c8dd0724-ea83-4fa3-8f13-8ed668a2d050",
   "metadata": {},
   "outputs": [
    {
     "ename": "NameError",
     "evalue": "name 'all_fct_service_checks' is not defined",
     "output_type": "error",
     "traceback": [
      "\u001b[0;31m---------------------------------------------------------------------------\u001b[0m",
      "\u001b[0;31mNameError\u001b[0m                                 Traceback (most recent call last)",
      "Cell \u001b[0;32mIn[53], line 8\u001b[0m\n\u001b[1;32m      1\u001b[0m \u001b[38;5;66;03m# check all the \"value_checked\" values. \u001b[39;00m\n\u001b[1;32m      2\u001b[0m \u001b[38;5;66;03m# which rows have \"None\"?\u001b[39;00m\n\u001b[1;32m      4\u001b[0m short_col_list \u001b[38;5;241m=\u001b[39m[\u001b[38;5;124m\"\u001b[39m\u001b[38;5;124morganization\u001b[39m\u001b[38;5;124m\"\u001b[39m,\u001b[38;5;124m\"\u001b[39m\u001b[38;5;124mmode\u001b[39m\u001b[38;5;124m\"\u001b[39m, \u001b[38;5;124m\"\u001b[39m\u001b[38;5;124mtph_this_year\u001b[39m\u001b[38;5;124m\"\u001b[39m, \u001b[38;5;124m\"\u001b[39m\u001b[38;5;124mtph_last_year\u001b[39m\u001b[38;5;124m\"\u001b[39m]\n\u001b[1;32m      6\u001b[0m display(\n\u001b[1;32m      7\u001b[0m     \u001b[38;5;66;03m#all_fct_service_checks[(all_fct_service_checks[\"value_checked\"].isna()) & (all_fct_service_checks[\"name_of_check\"].str.contains(\"RR20F-154:\"))].head(1),\u001b[39;00m\n\u001b[0;32m----> 8\u001b[0m     \u001b[43mall_fct_service_checks\u001b[49m[(all_fct_service_checks[\u001b[38;5;124m\"\u001b[39m\u001b[38;5;124morganization\u001b[39m\u001b[38;5;124m\"\u001b[39m]\u001b[38;5;241m.\u001b[39mstr\u001b[38;5;241m.\u001b[39mcontains(\u001b[38;5;124m\"\u001b[39m\u001b[38;5;124mLassen Transit Service Agency\u001b[39m\u001b[38;5;124m\"\u001b[39m))\u001b[38;5;241m&\u001b[39m (all_fct_service_checks[\u001b[38;5;124m\"\u001b[39m\u001b[38;5;124mname_of_check\u001b[39m\u001b[38;5;124m\"\u001b[39m]\u001b[38;5;241m.\u001b[39mstr\u001b[38;5;241m.\u001b[39mcontains(\u001b[38;5;124m\"\u001b[39m\u001b[38;5;124mRR20F-154:\u001b[39m\u001b[38;5;124m\"\u001b[39m))],\n\u001b[1;32m      9\u001b[0m     all_service_ratio[all_service_ratio[\u001b[38;5;124m\"\u001b[39m\u001b[38;5;124morganization\u001b[39m\u001b[38;5;124m\"\u001b[39m]\u001b[38;5;241m.\u001b[39mstr\u001b[38;5;241m.\u001b[39mcontains(\u001b[38;5;124m\"\u001b[39m\u001b[38;5;124mLassen Transit Service Agency\u001b[39m\u001b[38;5;124m\"\u001b[39m)][short_col_list]\u001b[38;5;241m.\u001b[39mhead(),\n\u001b[1;32m     10\u001b[0m     all_service_ratio[all_service_ratio[\u001b[38;5;124m\"\u001b[39m\u001b[38;5;124mtph_last_year\u001b[39m\u001b[38;5;124m\"\u001b[39m]\u001b[38;5;241m==\u001b[39m \u001b[38;5;241m0\u001b[39m][short_col_list]\n\u001b[1;32m     11\u001b[0m )\n",
      "\u001b[0;31mNameError\u001b[0m: name 'all_fct_service_checks' is not defined"
     ]
    }
   ],
   "source": [
    "# check all the \"value_checked\" values. \n",
    "# which rows have \"None\"?\n",
    "\n",
    "short_col_list =[\"organization\",\"mode\", \"tph_this_year\", \"tph_last_year\"]\n",
    "\n",
    "display(\n",
    "    #all_fct_service_checks[(all_fct_service_checks[\"value_checked\"].isna()) & (all_fct_service_checks[\"name_of_check\"].str.contains(\"RR20F-154:\"))].head(1),\n",
    "    all_fct_service_checks[(all_fct_service_checks[\"organization\"].str.contains(\"Lassen Transit Service Agency\"))& (all_fct_service_checks[\"name_of_check\"].str.contains(\"RR20F-154:\"))],\n",
    "    all_service_ratio[all_service_ratio[\"organization\"].str.contains(\"Lassen Transit Service Agency\")][short_col_list].head(),\n",
    "    all_service_ratio[all_service_ratio[\"tph_last_year\"]== 0][short_col_list]\n",
    ")"
   ]
  },
  {
   "cell_type": "markdown",
   "id": "43fee582-002f-4cb8-8152-ee613ccd99d1",
   "metadata": {},
   "source": [
    "## checking for VIN data in A30 reports"
   ]
  },
  {
   "cell_type": "code",
   "execution_count": 98,
   "id": "183d0a92-0d84-40a1-86a3-78e07f13a825",
   "metadata": {},
   "outputs": [
    {
     "data": {
      "text/plain": [
       "9"
      ]
     },
     "execution_count": 98,
     "metadata": {},
     "output_type": "execute_result"
    }
   ],
   "source": [
    "org_list.index(\"City of Arvin\")"
   ]
  },
  {
   "cell_type": "code",
   "execution_count": 99,
   "id": "56013625-2f6a-4228-b9ec-2be1525ce129",
   "metadata": {},
   "outputs": [
    {
     "data": {
      "text/plain": [
       "'City of Arvin'"
      ]
     },
     "metadata": {},
     "output_type": "display_data"
    },
    {
     "data": {
      "text/plain": [
       "6"
      ]
     },
     "metadata": {},
     "output_type": "display_data"
    },
    {
     "data": {
      "text/plain": [
       "'0114'"
      ]
     },
     "metadata": {},
     "output_type": "display_data"
    }
   ],
   "source": [
    "org_num = 9\n",
    "display(\n",
    "    blob_2024[org_num][\"Organization\"],\n",
    "    len(blob_2024[org_num][\"NTDAssetAndResourceInfo\"][\"Data\"]),\n",
    "    blob_2024[org_num][\"NTDAssetAndResourceInfo\"][\"Data\"][1].get(\"Vin\")\n",
    ")"
   ]
  },
  {
   "cell_type": "code",
   "execution_count": null,
   "id": "9ec8d6d9-ef17-4572-bd64-3dd78c32ce0b",
   "metadata": {},
   "outputs": [],
   "source": []
  },
  {
   "cell_type": "markdown",
   "id": "e24ec9b2-6001-41de-ad71-7f9a4cc225cc",
   "metadata": {},
   "source": [
    "---"
   ]
  },
  {
   "cell_type": "markdown",
   "id": "1a9f371c",
   "metadata": {},
   "source": [
    "#### Extract the org name and details from the blob\n",
    "This is extra code to show how to inspect what organizations are in the API at any given time, in case it is helpful. "
   ]
  },
  {
   "cell_type": "code",
   "execution_count": null,
   "id": "754913dd",
   "metadata": {
    "scrolled": true
   },
   "outputs": [],
   "source": [
    "for x in blob_2024:\n",
    "    report_id = x.get('ReportId')\n",
    "    org = x.get('Organization')\n",
    "    period = x.get('ReportPeriod')\n",
    "    status = x.get('ReportStatus')\n",
    "    last_mod_string = x.get('ReportLastModifiedDate')\n",
    "    last_mod = pendulum.from_format(last_mod_string, 'MM/DD/YYYY HH:mm:ss A').in_tz('America/Los_Angeles')\n",
    "    iso = last_mod.to_iso8601_string()\n",
    "    print(f\"Report details: ID {report_id}, org {org}, report period {period}, status {status}, last modified on {last_mod_string}.\")\n",
    "#     print(f\"New datetime {last_mod}\")\n",
    "#     print(f\"iso is {iso}\")"
   ]
  },
  {
   "cell_type": "markdown",
   "id": "0bfb6aa1",
   "metadata": {},
   "source": [
    "#### Quick check on what orgs are in this API, and how many have RR-20 info"
   ]
  },
  {
   "cell_type": "code",
   "execution_count": null,
   "id": "02e87ba1",
   "metadata": {},
   "outputs": [],
   "source": [
    "org_data = []\n",
    "\n",
    "for x in blob_2024:\n",
    "    report_id = x.get('ReportId')\n",
    "    org = x.get('Organization')\n",
    "    period = x.get('ReportPeriod')\n",
    "    status = x.get('ReportStatus')\n",
    "    last_mod = pendulum.from_format(x.get('ReportLastModifiedDate'), 'MM/DD/YYYY HH:mm:ss A').in_tz('America/Los_Angeles')\n",
    "    iso = last_mod.to_iso8601_string()\n",
    "    \n",
    "    \n",
    "    rural = x['NTDReportingRR20_Rural']\n",
    "    for k,v in rural.items():\n",
    "        rural_n = len(v)\n",
    "    city = x['NTDReportingRR20_Intercity']\n",
    "    for k,v in city.items():\n",
    "        city_n = len(v)\n",
    "    urban_tribal = x['NTDReportingRR20_Urban_Tribal']\n",
    "    for k,v in urban_tribal.items():\n",
    "        urban_n = len(v)\n",
    "    \n",
    "    org_info = pd.DataFrame(data=[[report_id, org, period, status, iso, rural_n, city_n, urban_n]], \n",
    "                            columns=['report_id', 'organization', 'report_period', 'report_status', 'last_modified', \n",
    "                                     'rr20_rural_rows', 'rr20_intercity_rows', 'rr20_urban-tribal_rows'])\n",
    "#     whole_df = pd.concat([org_info, raw_df], axis=1).sort_values(by='organization')\n",
    "    \n",
    "    org_data.append(org_info)\n"
   ]
  },
  {
   "cell_type": "code",
   "execution_count": null,
   "id": "b3087f03",
   "metadata": {},
   "outputs": [],
   "source": [
    "newapi = pd.concat(org_data)\n",
    "print(len(newapi))\n",
    "newapi.head()"
   ]
  },
  {
   "cell_type": "code",
   "execution_count": null,
   "id": "c3514348",
   "metadata": {},
   "outputs": [],
   "source": [
    "newapi.to_csv('../data/newapi_rr20_11-27-23.csv')"
   ]
  },
  {
   "cell_type": "code",
   "execution_count": null,
   "id": "e3294c97",
   "metadata": {},
   "outputs": [],
   "source": []
  },
  {
   "cell_type": "markdown",
   "id": "2fde73b9",
   "metadata": {},
   "source": [
    "## Convert API data to dataframes\n",
    "Here using the test API to develop a function."
   ]
  },
  {
   "cell_type": "markdown",
   "id": "19e12a50",
   "metadata": {},
   "source": [
    "Just shove entire blob into a dataframe - this approach is what's recommended by Cal-ITP. They prefer we then do any transformations and separating of tables on dbt.  \n",
    "Downsides:\n",
    "* there are many columns with nested data (converts to lists and dictionaries). Basically each NTD report is in ONE column.\n",
    "* the column names get changed because of the nesting and of repeated columns"
   ]
  },
  {
   "cell_type": "code",
   "execution_count": null,
   "id": "03dacc90",
   "metadata": {},
   "outputs": [],
   "source": [
    "df = pd.json_normalize(blob_2024)\n",
    "df"
   ]
  },
  {
   "cell_type": "code",
   "execution_count": null,
   "id": "54d2305f",
   "metadata": {},
   "outputs": [],
   "source": [
    "df.info()"
   ]
  },
  {
   "cell_type": "code",
   "execution_count": null,
   "id": "149fbe7f",
   "metadata": {},
   "outputs": [],
   "source": [
    "df['ReportLastModifiedDate'] =  df['ReportLastModifiedDate'].astype('datetime64[ns]')\n",
    "# df['ReportLastModifiedDate'] = pd.to_datetime(df['ReportLastModifiedDate'], format='%m/%d/YYYY HH:mm:ss %p')"
   ]
  },
  {
   "cell_type": "code",
   "execution_count": null,
   "id": "dd396d9b",
   "metadata": {},
   "outputs": [],
   "source": [
    "df"
   ]
  },
  {
   "cell_type": "code",
   "execution_count": null,
   "id": "841d5bda",
   "metadata": {},
   "outputs": [],
   "source": [
    "user_dict = blob[0]['NTDReportingP50']['Data']\n",
    "user_dict # a list of dictionaries. Each dict is one row of data."
   ]
  },
  {
   "cell_type": "code",
   "execution_count": null,
   "id": "dba42a57",
   "metadata": {},
   "outputs": [],
   "source": [
    "raw_df = pd.DataFrame.from_dict(user_dict)\n",
    "raw_df"
   ]
  },
  {
   "cell_type": "markdown",
   "id": "ed24756e",
   "metadata": {},
   "source": [
    "However in several tables, rows have several columns that are nested dictionaries.  \n",
    "  \n",
    "The following code explores ways to unnest them and expand the dataframe rows. **NOTE WE DID NOT USE THIS APPROACH IN PRODUCTION. We decided to unnest tables using SQL instead, in the `staging` dbt models.**"
   ]
  },
  {
   "cell_type": "code",
   "execution_count": null,
   "id": "e4f5955b",
   "metadata": {},
   "outputs": [],
   "source": [
    "pd.json_normalize(user_dict)\n",
    "\n",
    "# This expands columns instead of expanding rows. Not exactly what we want."
   ]
  },
  {
   "cell_type": "code",
   "execution_count": null,
   "id": "99e30cce",
   "metadata": {},
   "outputs": [],
   "source": [
    "# We only really want the \"Text\" value in the dictionaries in the \"Mode\" and \"Type\" columns.\n",
    "# user_dict[0]['Mode']\n",
    "user_dict[0]"
   ]
  },
  {
   "cell_type": "code",
   "execution_count": null,
   "id": "9d59e496",
   "metadata": {},
   "outputs": [],
   "source": [
    "# How to replace certain values in a key:value pair of an existing python dictionary.\n",
    "original = user_dict[0]\n",
    "copy = {**original, 'Mode': original['Mode']['Text'], \n",
    "        'Type': original['Type']['Text']}\n",
    "copy"
   ]
  },
  {
   "cell_type": "markdown",
   "id": "4439ea78",
   "metadata": {},
   "source": [
    "----\n",
    "Done! This worked but is not super ideal because we hard-code the keys that we want to change instead of iterating over them, but it works as long as we know which dictionary items in each table are nested.  "
   ]
  },
  {
   "cell_type": "code",
   "execution_count": null,
   "id": "aebd39b9",
   "metadata": {},
   "outputs": [],
   "source": [
    "# Trying loop of creating new dict from old dict.\n",
    "# New dict will not be nested - checks for a nested dict in each value; for each nested dict, \n",
    "# we extract only the k,v pair where the key == 'Text' \n",
    "\n",
    "copy_test = {**original}\n",
    "for k,v in copy_test.items():\n",
    "    if type(v) is dict:\n",
    "        copy_test[k] = copy_test[k]['Text']\n",
    "        \n",
    "copy_test"
   ]
  },
  {
   "cell_type": "code",
   "execution_count": null,
   "id": "53d86265",
   "metadata": {},
   "outputs": [],
   "source": [
    "## Worked! Now try the above loop over an entire JSON data table\n",
    "\n",
    "for x in user_dict:\n",
    "    for k,v in x.items():\n",
    "        if type(v) is dict:\n",
    "            x[k] = x[k]['Text']"
   ]
  },
  {
   "cell_type": "code",
   "execution_count": null,
   "id": "e67630eb",
   "metadata": {},
   "outputs": [],
   "source": [
    "raw_df = pd.DataFrame.from_dict(user_dict)\n",
    "raw_df"
   ]
  },
  {
   "cell_type": "markdown",
   "id": "8240362f",
   "metadata": {},
   "source": [
    "#### Table is now one level and in the format desired."
   ]
  },
  {
   "cell_type": "code",
   "execution_count": null,
   "id": "3aac8272",
   "metadata": {},
   "outputs": [],
   "source": []
  }
 ],
 "metadata": {
  "kernelspec": {
   "display_name": "Python 3 (ipykernel)",
   "language": "python",
   "name": "python3"
  },
  "language_info": {
   "codemirror_mode": {
    "name": "ipython",
    "version": 3
   },
   "file_extension": ".py",
   "mimetype": "text/x-python",
   "name": "python",
   "nbconvert_exporter": "python",
   "pygments_lexer": "ipython3",
   "version": "3.9.13"
  }
 },
 "nbformat": 4,
 "nbformat_minor": 5
}
