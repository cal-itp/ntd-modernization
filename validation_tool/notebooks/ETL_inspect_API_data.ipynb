{
 "cells": [
  {
   "cell_type": "markdown",
   "id": "3048a882",
   "metadata": {},
   "source": [
    "The BlackCat API came with no instructions. Here we just inspect what is in it and its format. This notebook contains:  \n",
    "1. the code for inspecting the data \n",
    "2. What to do to check whether data has changed in 2024 (and years after that). \n",
    "  \n",
    "We are inferring what to do. Contact BlackCat for further instructions."
   ]
  },
  {
   "cell_type": "code",
   "execution_count": 1,
   "id": "0d6f9a00",
   "metadata": {},
   "outputs": [],
   "source": [
    "import requests\n",
    "import json\n",
    "import pandas as pd\n",
    "import numpy as np\n",
    "import pendulum\n",
    "import re"
   ]
  },
  {
   "cell_type": "markdown",
   "id": "1257b63c",
   "metadata": {},
   "source": [
    "**NOTE that the URL has the year at the end. Change this to whatever year of data you would like to get.**"
   ]
  },
  {
   "cell_type": "code",
   "execution_count": 2,
   "id": "d972680b",
   "metadata": {},
   "outputs": [],
   "source": [
    "api_2024 = \"https://services.blackcattransit.com/api/APIModules/GetNTDReportsByYear/BCG_CA/2024\""
   ]
  },
  {
   "cell_type": "code",
   "execution_count": 3,
   "id": "b9a10f78-c5c0-46ca-9172-9036926ed793",
   "metadata": {},
   "outputs": [],
   "source": [
    "api_2023 = \"https://services.blackcattransit.com/api/APIModules/GetNTDReportsByYear/BCG_CA/2023\""
   ]
  },
  {
   "cell_type": "code",
   "execution_count": 4,
   "id": "b4221f58",
   "metadata": {},
   "outputs": [],
   "source": [
    "response_2024 = requests.get(api_2024)"
   ]
  },
  {
   "cell_type": "code",
   "execution_count": 5,
   "id": "bb477a69-b353-4df2-b396-49788fa7924a",
   "metadata": {},
   "outputs": [],
   "source": [
    "response_2023 = requests.get(api_2023)"
   ]
  },
  {
   "cell_type": "code",
   "execution_count": 6,
   "id": "6f795619",
   "metadata": {},
   "outputs": [
    {
     "data": {
      "text/plain": [
       "<Response [200]>"
      ]
     },
     "metadata": {},
     "output_type": "display_data"
    },
    {
     "data": {
      "text/plain": [
       "<Response [200]>"
      ]
     },
     "metadata": {},
     "output_type": "display_data"
    }
   ],
   "source": [
    "display(\n",
    "    response_2024,\n",
    "    response_2023\n",
    ")\n",
    "#looking for response 200"
   ]
  },
  {
   "cell_type": "code",
   "execution_count": 7,
   "id": "eb3eb6c3",
   "metadata": {},
   "outputs": [],
   "source": [
    "blob_2023 = response_2023.json()\n",
    "blob_2024 = response_2024.json()"
   ]
  },
  {
   "cell_type": "code",
   "execution_count": 8,
   "id": "a0b87f3c-9bdb-46ba-97eb-6d6322e9c219",
   "metadata": {
    "tags": []
   },
   "outputs": [],
   "source": [
    "#blob_2024"
   ]
  },
  {
   "cell_type": "markdown",
   "id": "42d74472",
   "metadata": {},
   "source": [
    "**Get table and org list**"
   ]
  },
  {
   "cell_type": "code",
   "execution_count": 9,
   "id": "89652ec1",
   "metadata": {
    "tags": []
   },
   "outputs": [
    {
     "data": {
      "text/plain": [
       "85"
      ]
     },
     "metadata": {},
     "output_type": "display_data"
    },
    {
     "data": {
      "text/plain": [
       "64"
      ]
     },
     "metadata": {},
     "output_type": "display_data"
    }
   ],
   "source": [
    "# type(blob) #list\n",
    "display(\n",
    "    len(blob_2023), #35\n",
    "    len(blob_2024)\n",
    ")\n",
    "\n",
    "# type(blob[0]) #dict\n",
    "\n",
    "# blob[0]\n",
    "\n",
    "# blob['Tables']"
   ]
  },
  {
   "cell_type": "code",
   "execution_count": 10,
   "id": "798e2024",
   "metadata": {},
   "outputs": [
    {
     "data": {
      "text/plain": [
       "True"
      ]
     },
     "metadata": {},
     "output_type": "display_data"
    },
    {
     "data": {
      "text/plain": [
       "['ReportId',\n",
       " 'Organization',\n",
       " 'ReportPeriod',\n",
       " 'ReportStatus',\n",
       " 'ReportLastModifiedDate',\n",
       " 'NTDReportingStationsAndMaintenance',\n",
       " 'NTDTransitAssetManagementA15',\n",
       " 'NTDAssetAndResourceInfo',\n",
       " 'NTDReportingP10',\n",
       " 'NTDReportingP20',\n",
       " 'NTDReportingP50',\n",
       " 'NTDReportingA35',\n",
       " 'NTDReportingRR20_Intercity',\n",
       " 'NTDReportingRR20_Rural',\n",
       " 'NTDReportingRR20_Urban_Tribal',\n",
       " 'NTDReportingTAMNarrative',\n",
       " 'SS60']"
      ]
     },
     "metadata": {},
     "output_type": "display_data"
    }
   ],
   "source": [
    "tables_2023 = []\n",
    "tables_2024 = []\n",
    "\n",
    "# # For listing out ONLY the python dictionary keys in the blob (these are the tables) that start with \"NTD\"\n",
    "# for k, v in blob[0].items():\n",
    "#     if k.startswith(\"NTD\"):\n",
    "#         tables.append(k)\n",
    "\n",
    "# For listing out ALL the dict keys:\n",
    "for k, v in blob_2023[0].items():\n",
    "    tables_2023.append(k)\n",
    "    \n",
    "for k, v in blob_2024[0].items():\n",
    "    tables_2024.append(k)\n",
    "\n",
    "# compare both table list\n",
    "display(\n",
    "    tables_2023 == tables_2024,\n",
    "    #list(tables_2023), \n",
    "    list(tables_2024)\n",
    ")"
   ]
  },
  {
   "cell_type": "code",
   "execution_count": 11,
   "id": "ce721174-b37c-48c9-acc0-152f372de598",
   "metadata": {},
   "outputs": [],
   "source": [
    "# get list all org names \n",
    "org_list = [blob_2024[i][\"Organization\"] for i in range(len(blob_2024))]"
   ]
  },
  {
   "cell_type": "code",
   "execution_count": 12,
   "id": "2e33ea9c-8b95-46fb-ac65-f9cc39a2a5ac",
   "metadata": {},
   "outputs": [
    {
     "data": {
      "text/plain": [
       "24"
      ]
     },
     "execution_count": 12,
     "metadata": {},
     "output_type": "execute_result"
    }
   ],
   "source": [
    "# get index position of org names from org list\n",
    "org_list.index(\"Eastern Sierra Transit Authority\")"
   ]
  },
  {
   "cell_type": "code",
   "execution_count": 13,
   "id": "60c8a2a9-e615-450a-b309-a514798753cd",
   "metadata": {},
   "outputs": [
    {
     "data": {
      "text/plain": [
       "56"
      ]
     },
     "execution_count": 13,
     "metadata": {},
     "output_type": "execute_result"
    }
   ],
   "source": [
    "# slicing blob at specific index number, report name and 'data' field\n",
    "\n",
    "len(blob_2024[24][\"NTDReportingRR20_Rural\"][\"Data\"])"
   ]
  },
  {
   "cell_type": "markdown",
   "id": "7aefb858",
   "metadata": {},
   "source": [
    "### Inspect whether any tables have changed from last year (2023)"
   ]
  },
  {
   "cell_type": "markdown",
   "id": "9c93b0db",
   "metadata": {},
   "source": [
    "1. Pull up the external tables yaml at airflow/dags/create_external_tables/ntd_report_validation/external_table_all_ntdreports.yml\n",
    "2. Pull up the external_blackcat.all_ntdreports table in BigQuery\n",
    "  \n",
    "To help do #3 and #4 below, use the cell below to copy in table names one by one and inspect the API data for whichever year one is interested in. If you don't see any data, then cycle through the JSON list by changing `blob[0]` to `blob[1]`, `blob[3]` etc.  \n",
    "  \n",
    "3. Compare the table names above with what is in the table list on the schema there. NOTE table names in BigQuery are not *exactly* the same as the API, they have been made all lowercase with `_data` added.\n",
    "4. Compare the individual columns within each of the above tables to what is there.\n",
    "  \n",
    "Change the schema in the yaml as needed to reflect the data. Do not remove any old column names. Just add new columns and/or tables"
   ]
  },
  {
   "cell_type": "code",
   "execution_count": 14,
   "id": "da9b5bcc",
   "metadata": {
    "tags": []
   },
   "outputs": [],
   "source": [
    "# A10 report\n",
    "# check complete\n",
    "#blob_2024[3]['NTDReportingStationsAndMaintenance']['Data'][0]"
   ]
  },
  {
   "cell_type": "code",
   "execution_count": 15,
   "id": "8f574ae7",
   "metadata": {},
   "outputs": [],
   "source": [
    "# check complete\n",
    "\n",
    "# new columns: \n",
    "    #\"Type\", \n",
    "    #\"Note\", \n",
    "    #\"LastModifiedDate\"\n",
    "\n",
    "# added to draft yaml\n",
    "#blob_2024[14]['NTDTransitAssetManagementA15'][\"Data\"][0]"
   ]
  },
  {
   "cell_type": "code",
   "execution_count": 16,
   "id": "35b357eb-7d83-4159-a189-6c2686e310e0",
   "metadata": {},
   "outputs": [],
   "source": [
    "# A30\n",
    "# check complete\n",
    "\n",
    "# new columns:\n",
    "\t\t\t\t\t #'TotalVehicles':,\n",
    "\t\t\t\t\t #'ActiveVehicles',\n",
    "\t\t\t\t\t #'DedicatedFleet',\n",
    "\t\t\t\t\t #'NoCapitalReplacementResponsibility',\n",
    "\t\t\t\t\t #'AutomatedorAutonomousVehicles',\n",
    "\t\t\t\t\t #'Manufacturer',\n",
    "\t\t\t\t\t #'DescribeOtherManufacturer',\n",
    "\t\t\t\t\t #'Model',\n",
    "\t\t\t\t\t #'YearRebuilt',\n",
    "\t\t\t\t\t #'OtherFuelType',\n",
    "\t\t\t\t\t #'DuelFuelType',\n",
    "\t\t\t\t\t #'StandingCapacity',\n",
    "\t\t\t\t\t #'OtherOwnershipType',\n",
    "\t\t\t\t\t #'EmergencyVehicles',\n",
    "\t\t\t\t\t #'TypeofLastRenewal',\n",
    "\t\t\t\t\t #'UsefulLifeBenchmark,\n",
    "\t\t\t\t\t #'MilesThisYear',\n",
    "\t\t\t\t\t #'AverageLifetimeMilesPerActiveVehicle'\n",
    "                        \n",
    "# added to draft yaml\n",
    "#blob_2024[15]['NTDAssetAndResourceInfo']['Data'][1]"
   ]
  },
  {
   "cell_type": "code",
   "execution_count": 17,
   "id": "1bd5c57d-1226-428c-a969-4c21507ccba5",
   "metadata": {},
   "outputs": [],
   "source": [
    "# check complete\n",
    "#blob_2024[12]['NTDReportingP10']['Data']"
   ]
  },
  {
   "cell_type": "code",
   "execution_count": 18,
   "id": "e06f1b17-5503-4238-a11a-1d5c9733dbe7",
   "metadata": {},
   "outputs": [],
   "source": [
    "#check complete\n",
    "#blob_2024[5]['NTDReportingP20']['Data']"
   ]
  },
  {
   "cell_type": "code",
   "execution_count": 19,
   "id": "46677d0b-e1c8-4975-a64d-12e4c6cd6c1d",
   "metadata": {},
   "outputs": [],
   "source": [
    "#check complete\n",
    "#blob_2024[5]['NTDReportingP50']['Data']"
   ]
  },
  {
   "cell_type": "code",
   "execution_count": 20,
   "id": "a41f69d9",
   "metadata": {},
   "outputs": [],
   "source": [
    "#check complete\n",
    "#blob_2024[16]['NTDReportingA35']['Data'][0]"
   ]
  },
  {
   "cell_type": "code",
   "execution_count": 138,
   "id": "ec63c5ab",
   "metadata": {},
   "outputs": [
    {
     "data": {
      "text/plain": [
       "{'Id': 78,\n",
       " 'ItemId': 13,\n",
       " 'ReportId': 1084,\n",
       " 'Item': '\\r\\nIntercity Service',\n",
       " 'Type': 'Service Data',\n",
       " 'OperationsExpended': None,\n",
       " 'CapitalExpended': None,\n",
       " 'Description': None,\n",
       " 'AnnualVehicleRevMiles': 186651,\n",
       " 'RegularUnlinkedPassengerTrips': None,\n",
       " 'LastModifiedDate': '2024-10-08T16:06:56.9'}"
      ]
     },
     "execution_count": 138,
     "metadata": {},
     "output_type": "execute_result"
    }
   ],
   "source": [
    "#check complete\n",
    "blob_2024[51]['NTDReportingRR20_Intercity']['Data'][5]"
   ]
  },
  {
   "cell_type": "code",
   "execution_count": 22,
   "id": "7b1d6b6b-b0a3-4b5f-a15e-99028a74ba96",
   "metadata": {},
   "outputs": [],
   "source": [
    "# check complete\n",
    "# new columns:\n",
    "\t\t\t\t\t\t#◊ \"AnnualVehicleRevMilesComments\"\n",
    "\t\t\t\t\t\t#◊ \"AnnualVehicleRevHoursComments\"\n",
    "\t\t\t\t\t\t#◊ \"AnnualUnlinkedPassTripsComments\"\n",
    "\t\t\t\t\t\t#◊ \"AnnualVehicleMaxServiceComments\"\n",
    "                        # \"SponsoredServiceUPTComments\"\n",
    "# added to draft yaml\n",
    "#blob_2024[16]['NTDReportingRR20_Rural']['Data'][2]"
   ]
  },
  {
   "cell_type": "code",
   "execution_count": 23,
   "id": "a2bf613e-f35b-4d5c-b6b7-ae486cc3635e",
   "metadata": {},
   "outputs": [],
   "source": [
    "#check complete\n",
    "#blob_2024[6]['NTDReportingRR20_Urban_Tribal']['Data'][0]"
   ]
  },
  {
   "cell_type": "code",
   "execution_count": 139,
   "id": "acc65173-50ef-4750-bf85-042c250f3206",
   "metadata": {},
   "outputs": [
    {
     "data": {
      "text/plain": [
       "{'Id': 601,\n",
       " 'ReportId': 1012,\n",
       " 'Type': 'Revenue Vehicles',\n",
       " 'Category': 'Light-Duty Mid-Sized Bus',\n",
       " 'VehiclesInAssetClass': 1,\n",
       " 'VehiclesExceededULBTAMPlan': 0,\n",
       " 'TAMPlanGoalsDescription': None,\n",
       " 'VehiclesToBeRetiredBeyondULB': 0,\n",
       " 'VehiclesToBePurchasesNextYear': 0,\n",
       " 'VehiclesPastULBInTAM': 0,\n",
       " 'LastModifiedDate': None}"
      ]
     },
     "execution_count": 139,
     "metadata": {},
     "output_type": "execute_result"
    }
   ],
   "source": [
    "# check complete\n",
    "# NEW COLUMN(S)\n",
    "    # 'VehiclesToBePurchasesNextYear'\n",
    "    \n",
    "# added to draft yaml\n",
    "blob_2024[2]['NTDReportingTAMNarrative']['Data'][0]"
   ]
  },
  {
   "cell_type": "code",
   "execution_count": 25,
   "id": "3636cc1d-2cce-4134-9404-f07fbdf89ba3",
   "metadata": {},
   "outputs": [],
   "source": [
    "# check complete\n",
    "#blob_2024[16]['SS60']['Data'][0]"
   ]
  },
  {
   "cell_type": "markdown",
   "id": "64bb9ba4-f8da-4e62-a6f3-0ae70591b4b9",
   "metadata": {},
   "source": [
    "## examine warehouse data"
   ]
  },
  {
   "cell_type": "code",
   "execution_count": 26,
   "id": "28ca7311-4f48-4bdc-bdf3-498d3e71ddc4",
   "metadata": {},
   "outputs": [],
   "source": [
    "from calitp_data_analysis.tables import tbls\n",
    "from siuba import _, filter, count, collect, show_query"
   ]
  },
  {
   "cell_type": "code",
   "execution_count": 27,
   "id": "e3c07937-3b4c-4672-b195-1a292c335c38",
   "metadata": {},
   "outputs": [],
   "source": [
    "org = \"Eastern Sierra Transit Authority\""
   ]
  },
  {
   "cell_type": "markdown",
   "id": "aaedce57-b689-4588-93d8-ed546ee8718c",
   "metadata": {},
   "source": [
    "The cell below checks the values in the `rr20_equal_totals_check` model, and its associated `int` and `stg` model from the warehouse.\n",
    "\n",
    "\n",
    "Update model and column names with whatever you ned to check "
   ]
  },
  {
   "cell_type": "code",
   "execution_count": 28,
   "id": "b57a1d3c-ef27-4e17-8621-dd38f789ece2",
   "metadata": {},
   "outputs": [],
   "source": [
    "# Query the fct model from warehouse\n",
    "fct_ntd_rr20_service_checks = (\n",
    "    tbls.mart_ntd_validation.fct_ntd_rr20_service_checks()\n",
    "    >> filter(_.organization == org)\n",
    "    >> collect()\n",
    ")\n",
    "\n",
    "# Query the int model from warehouse\n",
    "int_ntd_rr20_service_3ratios_wide = (\n",
    "    tbls.staging.int_ntd_rr20_service_3ratios_wide()\n",
    "    >> filter(_.organization == org)\n",
    "    >> collect()\n",
    ")\n",
    "\n",
    "stg_ntd_rr20_rural = (\n",
    "    tbls.staging.stg_ntd_rr20_rural()\n",
    "    >> filter(_.organization == org, \n",
    "              _.api_report_period == 2024)\n",
    "    >> collect()\n",
    ")\n",
    "\n"
   ]
  },
  {
   "cell_type": "code",
   "execution_count": 46,
   "id": "6357d81a-fa62-4f04-a19f-b31501f7ff46",
   "metadata": {},
   "outputs": [
    {
     "data": {
      "text/html": [
       "<div>\n",
       "<style scoped>\n",
       "    .dataframe tbody tr th:only-of-type {\n",
       "        vertical-align: middle;\n",
       "    }\n",
       "\n",
       "    .dataframe tbody tr th {\n",
       "        vertical-align: top;\n",
       "    }\n",
       "\n",
       "    .dataframe thead th {\n",
       "        text-align: right;\n",
       "    }\n",
       "</style>\n",
       "<table border=\"1\" class=\"dataframe\">\n",
       "  <thead>\n",
       "    <tr style=\"text-align: right;\">\n",
       "      <th></th>\n",
       "      <th>organization</th>\n",
       "      <th>name_of_check</th>\n",
       "      <th>mode</th>\n",
       "      <th>year_of_data</th>\n",
       "      <th>check_status</th>\n",
       "      <th>value_checked</th>\n",
       "      <th>description</th>\n",
       "      <th>Agency_Response</th>\n",
       "      <th>date_checked</th>\n",
       "    </tr>\n",
       "  </thead>\n",
       "  <tbody>\n",
       "    <tr>\n",
       "      <th>0</th>\n",
       "      <td>Mendocino Transit Authority</td>\n",
       "      <td>RR20F-143: Vehicle Revenue Miles (VRM) change ...</td>\n",
       "      <td>Demand Response (DR) - (DO)</td>\n",
       "      <td>2024</td>\n",
       "      <td>Pass</td>\n",
       "      <td>2024 = 83273, 2023 = 72892chg = 12.5%</td>\n",
       "      <td></td>\n",
       "      <td></td>\n",
       "      <td>2024-10-09 16:16:42.863005+00:00</td>\n",
       "    </tr>\n",
       "    <tr>\n",
       "      <th>1</th>\n",
       "      <td>Mendocino Transit Authority</td>\n",
       "      <td>RR20F-143: Vehicle Revenue Miles (VRM) change ...</td>\n",
       "      <td>Deviated Fixed Route (DF) - (DO)</td>\n",
       "      <td>2024</td>\n",
       "      <td>Pass</td>\n",
       "      <td>2024 = 32307, 2023 = 32184chg = 0.4%</td>\n",
       "      <td></td>\n",
       "      <td></td>\n",
       "      <td>2024-10-09 16:16:42.863005+00:00</td>\n",
       "    </tr>\n",
       "    <tr>\n",
       "      <th>2</th>\n",
       "      <td>Mendocino Transit Authority</td>\n",
       "      <td>RR20F-143: Vehicle Revenue Miles (VRM) change ...</td>\n",
       "      <td>Bus (MB) (Fixed Route) - (DO)</td>\n",
       "      <td>2024</td>\n",
       "      <td>Pass</td>\n",
       "      <td>2024 = 720355, 2023 = 559702chg = 22.3%</td>\n",
       "      <td></td>\n",
       "      <td></td>\n",
       "      <td>2024-10-09 16:16:42.863005+00:00</td>\n",
       "    </tr>\n",
       "    <tr>\n",
       "      <th>3</th>\n",
       "      <td>Mendocino Transit Authority</td>\n",
       "      <td>RR20F-171: Vehicles of Maximum Service (VOMS) ...</td>\n",
       "      <td>Demand Response (DR) - (DO)</td>\n",
       "      <td>2024</td>\n",
       "      <td>Pass</td>\n",
       "      <td>2024 = 4, 2023 = 4chg = 0%</td>\n",
       "      <td></td>\n",
       "      <td></td>\n",
       "      <td>2024-10-09 16:16:42.863005+00:00</td>\n",
       "    </tr>\n",
       "    <tr>\n",
       "      <th>4</th>\n",
       "      <td>Mendocino Transit Authority</td>\n",
       "      <td>RR20F-171: Vehicles of Maximum Service (VOMS) ...</td>\n",
       "      <td>Deviated Fixed Route (DF) - (DO)</td>\n",
       "      <td>2024</td>\n",
       "      <td>Pass</td>\n",
       "      <td>2024 = 1, 2023 = 1chg = 0%</td>\n",
       "      <td></td>\n",
       "      <td></td>\n",
       "      <td>2024-10-09 16:16:42.863005+00:00</td>\n",
       "    </tr>\n",
       "  </tbody>\n",
       "</table>\n",
       "</div>"
      ],
      "text/plain": [
       "                  organization  \\\n",
       "0  Mendocino Transit Authority   \n",
       "1  Mendocino Transit Authority   \n",
       "2  Mendocino Transit Authority   \n",
       "3  Mendocino Transit Authority   \n",
       "4  Mendocino Transit Authority   \n",
       "\n",
       "                                       name_of_check  \\\n",
       "0  RR20F-143: Vehicle Revenue Miles (VRM) change ...   \n",
       "1  RR20F-143: Vehicle Revenue Miles (VRM) change ...   \n",
       "2  RR20F-143: Vehicle Revenue Miles (VRM) change ...   \n",
       "3  RR20F-171: Vehicles of Maximum Service (VOMS) ...   \n",
       "4  RR20F-171: Vehicles of Maximum Service (VOMS) ...   \n",
       "\n",
       "                               mode  year_of_data check_status  \\\n",
       "0       Demand Response (DR) - (DO)          2024         Pass   \n",
       "1  Deviated Fixed Route (DF) - (DO)          2024         Pass   \n",
       "2     Bus (MB) (Fixed Route) - (DO)          2024         Pass   \n",
       "3       Demand Response (DR) - (DO)          2024         Pass   \n",
       "4  Deviated Fixed Route (DF) - (DO)          2024         Pass   \n",
       "\n",
       "                             value_checked description Agency_Response  \\\n",
       "0    2024 = 83273, 2023 = 72892chg = 12.5%                               \n",
       "1     2024 = 32307, 2023 = 32184chg = 0.4%                               \n",
       "2  2024 = 720355, 2023 = 559702chg = 22.3%                               \n",
       "3               2024 = 4, 2023 = 4chg = 0%                               \n",
       "4               2024 = 1, 2023 = 1chg = 0%                               \n",
       "\n",
       "                      date_checked  \n",
       "0 2024-10-09 16:16:42.863005+00:00  \n",
       "1 2024-10-09 16:16:42.863005+00:00  \n",
       "2 2024-10-09 16:16:42.863005+00:00  \n",
       "3 2024-10-09 16:16:42.863005+00:00  \n",
       "4 2024-10-09 16:16:42.863005+00:00  "
      ]
     },
     "execution_count": 46,
     "metadata": {},
     "output_type": "execute_result"
    }
   ],
   "source": [
    "test = (\n",
    "    tbls.mart_ntd_validation.fct_ntd_rr20_service_checks()\n",
    "    >> filter(_.organization == org_list[39])\n",
    "    >> collect()\n",
    ")\n",
    "\n",
    "test.head()\n",
    "\n",
    "# error_list= [9 (-2.3/0), 14 (0/0), 16(0/0), 36(-4/0)]"
   ]
  },
  {
   "cell_type": "code",
   "execution_count": 47,
   "id": "4cd0fb26-d3e1-48c6-8096-5bafb4d88bc3",
   "metadata": {},
   "outputs": [
    {
     "data": {
      "text/plain": [
       "Mendocino Transit Authority    27\n",
       "Name: organization, dtype: int64"
      ]
     },
     "execution_count": 47,
     "metadata": {},
     "output_type": "execute_result"
    }
   ],
   "source": [
    "test[\"organization\"].value_counts()"
   ]
  },
  {
   "cell_type": "code",
   "execution_count": 30,
   "id": "8776967f-3d2d-44e4-8b08-c8adc5a96240",
   "metadata": {},
   "outputs": [
    {
     "data": {
      "text/plain": [
       "['City of Arvin',\n",
       " 'Town of Truckee',\n",
       " 'Colusa County Transit Agency',\n",
       " 'Trinity County Department of Transportation ']"
      ]
     },
     "execution_count": 30,
     "metadata": {},
     "output_type": "execute_result"
    }
   ],
   "source": [
    "error_list= [9, 14, 16, 36]\n",
    "\n",
    "error_orgs = [org_list[i] for i in error_list]\n",
    "\n",
    "error_orgs"
   ]
  },
  {
   "cell_type": "code",
   "execution_count": 31,
   "id": "46eee269-9e0b-48e6-8c46-519cca411bf3",
   "metadata": {},
   "outputs": [
    {
     "data": {
      "text/html": [
       "<div>\n",
       "<style scoped>\n",
       "    .dataframe tbody tr th:only-of-type {\n",
       "        vertical-align: middle;\n",
       "    }\n",
       "\n",
       "    .dataframe tbody tr th {\n",
       "        vertical-align: top;\n",
       "    }\n",
       "\n",
       "    .dataframe thead th {\n",
       "        text-align: right;\n",
       "    }\n",
       "</style>\n",
       "<table border=\"1\" class=\"dataframe\">\n",
       "  <thead>\n",
       "    <tr style=\"text-align: right;\">\n",
       "      <th></th>\n",
       "      <th>organization</th>\n",
       "      <th>mode</th>\n",
       "      <th>cph_last_year</th>\n",
       "      <th>cph_this_year</th>\n",
       "      <th>mpv_last_year</th>\n",
       "      <th>mpv_this_year</th>\n",
       "      <th>frpt_last_year</th>\n",
       "      <th>frpt_this_year</th>\n",
       "      <th>rev_speed_last_year</th>\n",
       "      <th>rev_speed_this_year</th>\n",
       "      <th>tph_last_year</th>\n",
       "      <th>tph_this_year</th>\n",
       "      <th>voms_last_year</th>\n",
       "      <th>voms_this_year</th>\n",
       "      <th>vrm_last_year</th>\n",
       "      <th>vrm_this_year</th>\n",
       "      <th>vrh_last_year</th>\n",
       "      <th>vrh_this_year</th>\n",
       "      <th>upt_last_year</th>\n",
       "      <th>upt_this_year</th>\n",
       "    </tr>\n",
       "  </thead>\n",
       "  <tbody>\n",
       "  </tbody>\n",
       "</table>\n",
       "</div>"
      ],
      "text/plain": [
       "Empty DataFrame\n",
       "Columns: [organization, mode, cph_last_year, cph_this_year, mpv_last_year, mpv_this_year, frpt_last_year, frpt_this_year, rev_speed_last_year, rev_speed_this_year, tph_last_year, tph_this_year, voms_last_year, voms_this_year, vrm_last_year, vrm_this_year, vrh_last_year, vrh_this_year, upt_last_year, upt_this_year]\n",
       "Index: []"
      ]
     },
     "execution_count": 31,
     "metadata": {},
     "output_type": "execute_result"
    }
   ],
   "source": [
    "#cant find the error orgs in int model\n",
    "int_ntd_rr20_service_3ratios_wide[int_ntd_rr20_service_3ratios_wide[\"organization\"].isin(error_list)]"
   ]
  },
  {
   "cell_type": "code",
   "execution_count": 32,
   "id": "cfc1c204-2658-4139-ab3b-beb08adacb22",
   "metadata": {},
   "outputs": [
    {
     "data": {
      "text/html": [
       "<div>\n",
       "<style scoped>\n",
       "    .dataframe tbody tr th:only-of-type {\n",
       "        vertical-align: middle;\n",
       "    }\n",
       "\n",
       "    .dataframe tbody tr th {\n",
       "        vertical-align: top;\n",
       "    }\n",
       "\n",
       "    .dataframe thead th {\n",
       "        text-align: right;\n",
       "    }\n",
       "</style>\n",
       "<table border=\"1\" class=\"dataframe\">\n",
       "  <thead>\n",
       "    <tr style=\"text-align: right;\">\n",
       "      <th></th>\n",
       "      <th>organization</th>\n",
       "      <th>api_report_status</th>\n",
       "      <th>api_report_last_modified_date</th>\n",
       "      <th>api_report_period</th>\n",
       "      <th>id</th>\n",
       "      <th>report_id</th>\n",
       "      <th>item</th>\n",
       "      <th>revenue</th>\n",
       "      <th>type</th>\n",
       "      <th>css_class</th>\n",
       "      <th>operations_expended</th>\n",
       "      <th>capital_expended</th>\n",
       "      <th>description</th>\n",
       "      <th>annual_vehicle_rev_miles</th>\n",
       "      <th>annual_vehicle_rev_hours</th>\n",
       "      <th>annual_unlinked_pass_trips</th>\n",
       "      <th>annual_vehicle_max_service</th>\n",
       "      <th>sponsored_service_upt</th>\n",
       "      <th>quantity</th>\n",
       "      <th>last_modified_date</th>\n",
       "    </tr>\n",
       "  </thead>\n",
       "  <tbody>\n",
       "  </tbody>\n",
       "</table>\n",
       "</div>"
      ],
      "text/plain": [
       "Empty DataFrame\n",
       "Columns: [organization, api_report_status, api_report_last_modified_date, api_report_period, id, report_id, item, revenue, type, css_class, operations_expended, capital_expended, description, annual_vehicle_rev_miles, annual_vehicle_rev_hours, annual_unlinked_pass_trips, annual_vehicle_max_service, sponsored_service_upt, quantity, last_modified_date]\n",
       "Index: []"
      ]
     },
     "execution_count": 32,
     "metadata": {},
     "output_type": "execute_result"
    }
   ],
   "source": [
    "# does error list appear in stg model? NOT IN STAGIN MODEL!?\n",
    "stg_ntd_rr20_rural[stg_ntd_rr20_rural[\"organization\"].isin(error_list)]"
   ]
  },
  {
   "cell_type": "code",
   "execution_count": 33,
   "id": "a69ceb04-7d94-4ae7-b56e-fca3f5601bd7",
   "metadata": {},
   "outputs": [
    {
     "name": "stdout",
     "output_type": "stream",
     "text": [
      "1\n",
      "1\n",
      "1\n",
      "1\n"
     ]
    }
   ],
   "source": [
    "# checking blob for error list\n",
    "for i in error_list:\n",
    "    print(len(blob_2024[i][\"NTDReportingRR20_Rural\"]))"
   ]
  },
  {
   "cell_type": "code",
   "execution_count": 34,
   "id": "21fa5495-d283-401b-be56-0b26cf8326c0",
   "metadata": {},
   "outputs": [
    {
     "name": "stdout",
     "output_type": "stream",
     "text": [
      "\n",
      "\n",
      "Passenger-Paid Fares\n",
      "Organization-Paid Fares\n",
      "Passenger-Paid Fares\n",
      "Organization-Paid Fares\n",
      "None\n",
      "None\n",
      "None\n",
      "None\n"
     ]
    }
   ],
   "source": [
    "for i in range(10):\n",
    "    print(blob_2024[9][\"NTDReportingRR20_Rural\"][\"Data\"][i].get(\"Revenue\"))"
   ]
  },
  {
   "cell_type": "code",
   "execution_count": 35,
   "id": "a3927b9d-d891-4051-8cb0-8d3a5175a96e",
   "metadata": {},
   "outputs": [
    {
     "data": {
      "text/plain": [
       "{'Id': 14150,\n",
       " 'ReportId': 1026,\n",
       " 'Item': 'Demand Response (DR) - (DO)',\n",
       " 'Revenue': '',\n",
       " 'Type': 'Expenses by Mode',\n",
       " 'CssClass': 'expense',\n",
       " 'OperationsExpended': None,\n",
       " 'CapitalExpended': None,\n",
       " 'Description': None,\n",
       " 'AnnualVehicleRevMiles': None,\n",
       " 'AnnualVehicleRevMilesComments': None,\n",
       " 'AnnualVehicleRevHours': None,\n",
       " 'AnnualVehicleRevHoursComments': None,\n",
       " 'AnnualUnlinkedPassTrips': None,\n",
       " 'AnnualUnlinkedPassTripsComments': None,\n",
       " 'AnnualVehicleMaxService': None,\n",
       " 'AnnualVehicleMaxServiceComments': None,\n",
       " 'SponsoredServiceUPT': None,\n",
       " 'SponsoredServiceUPTComments': None,\n",
       " 'Quantity': None,\n",
       " 'LastModifiedDate': '2024-09-26T17:48:25.27'}"
      ]
     },
     "execution_count": 35,
     "metadata": {},
     "output_type": "execute_result"
    }
   ],
   "source": [
    "blob_2024[9][\"NTDReportingRR20_Rural\"][\"Data\"][0]"
   ]
  },
  {
   "cell_type": "code",
   "execution_count": 36,
   "id": "111fbc74-3cad-40c9-a7fe-e6b147a1da0c",
   "metadata": {},
   "outputs": [
    {
     "data": {
      "text/plain": [
       "['City of Arvin',\n",
       " 'Town of Truckee',\n",
       " 'Colusa County Transit Agency',\n",
       " 'Trinity County Department of Transportation ']"
      ]
     },
     "execution_count": 36,
     "metadata": {},
     "output_type": "execute_result"
    }
   ],
   "source": [
    "error_orgs"
   ]
  },
  {
   "cell_type": "code",
   "execution_count": 37,
   "id": "3f47dbe5-f8c3-4c6d-b3d9-79165135f7e4",
   "metadata": {},
   "outputs": [],
   "source": [
    "error_rr20_rural = (\n",
    "    tbls.staging.stg_ntd_rr20_rural()\n",
    "    >> filter(_.organization.isin([error_orgs]),\n",
    "              _.api_report_period == 2024)\n",
    "    >> collect()\n",
    ")"
   ]
  },
  {
   "cell_type": "code",
   "execution_count": 38,
   "id": "19555887-7b79-42c1-88a9-4e9e0853e6fa",
   "metadata": {},
   "outputs": [
    {
     "data": {
      "text/html": [
       "<div>\n",
       "<style scoped>\n",
       "    .dataframe tbody tr th:only-of-type {\n",
       "        vertical-align: middle;\n",
       "    }\n",
       "\n",
       "    .dataframe tbody tr th {\n",
       "        vertical-align: top;\n",
       "    }\n",
       "\n",
       "    .dataframe thead th {\n",
       "        text-align: right;\n",
       "    }\n",
       "</style>\n",
       "<table border=\"1\" class=\"dataframe\">\n",
       "  <thead>\n",
       "    <tr style=\"text-align: right;\">\n",
       "      <th></th>\n",
       "      <th>organization</th>\n",
       "      <th>api_report_status</th>\n",
       "      <th>api_report_last_modified_date</th>\n",
       "      <th>api_report_period</th>\n",
       "      <th>id</th>\n",
       "      <th>report_id</th>\n",
       "      <th>item</th>\n",
       "      <th>revenue</th>\n",
       "      <th>type</th>\n",
       "      <th>css_class</th>\n",
       "      <th>operations_expended</th>\n",
       "      <th>capital_expended</th>\n",
       "      <th>description</th>\n",
       "      <th>annual_vehicle_rev_miles</th>\n",
       "      <th>annual_vehicle_rev_hours</th>\n",
       "      <th>annual_unlinked_pass_trips</th>\n",
       "      <th>annual_vehicle_max_service</th>\n",
       "      <th>sponsored_service_upt</th>\n",
       "      <th>quantity</th>\n",
       "      <th>last_modified_date</th>\n",
       "    </tr>\n",
       "  </thead>\n",
       "  <tbody>\n",
       "    <tr>\n",
       "      <th>0</th>\n",
       "      <td>City of Arvin</td>\n",
       "      <td>Not Submitted</td>\n",
       "      <td>2024-09-25 18:30:48+00:00</td>\n",
       "      <td>2024</td>\n",
       "      <td>14150</td>\n",
       "      <td>1026</td>\n",
       "      <td>Demand Response (DR) - (DO)</td>\n",
       "      <td></td>\n",
       "      <td>Expenses by Mode</td>\n",
       "      <td>expense</td>\n",
       "      <td>None</td>\n",
       "      <td>None</td>\n",
       "      <td>None</td>\n",
       "      <td>NaN</td>\n",
       "      <td>NaN</td>\n",
       "      <td>NaN</td>\n",
       "      <td>NaN</td>\n",
       "      <td>NaN</td>\n",
       "      <td>None</td>\n",
       "      <td>2024-09-26 17:48:25.270000+00:00</td>\n",
       "    </tr>\n",
       "    <tr>\n",
       "      <th>1</th>\n",
       "      <td>City of Arvin</td>\n",
       "      <td>Not Submitted</td>\n",
       "      <td>2024-09-25 18:30:48+00:00</td>\n",
       "      <td>2024</td>\n",
       "      <td>14151</td>\n",
       "      <td>1026</td>\n",
       "      <td>Deviated Fixed Route (DF) - (DO)</td>\n",
       "      <td></td>\n",
       "      <td>Expenses by Mode</td>\n",
       "      <td>expense</td>\n",
       "      <td>None</td>\n",
       "      <td>None</td>\n",
       "      <td>None</td>\n",
       "      <td>NaN</td>\n",
       "      <td>NaN</td>\n",
       "      <td>NaN</td>\n",
       "      <td>NaN</td>\n",
       "      <td>NaN</td>\n",
       "      <td>None</td>\n",
       "      <td>2024-09-26 17:48:25.270000+00:00</td>\n",
       "    </tr>\n",
       "    <tr>\n",
       "      <th>2</th>\n",
       "      <td>City of Arvin</td>\n",
       "      <td>Not Submitted</td>\n",
       "      <td>2024-09-25 18:30:48+00:00</td>\n",
       "      <td>2024</td>\n",
       "      <td>14152</td>\n",
       "      <td>1026</td>\n",
       "      <td>Demand Response (DR) - (DO)</td>\n",
       "      <td>Passenger-Paid Fares</td>\n",
       "      <td>Fare Revenues</td>\n",
       "      <td>revenue</td>\n",
       "      <td>None</td>\n",
       "      <td>None</td>\n",
       "      <td>None</td>\n",
       "      <td>NaN</td>\n",
       "      <td>NaN</td>\n",
       "      <td>NaN</td>\n",
       "      <td>NaN</td>\n",
       "      <td>NaN</td>\n",
       "      <td>None</td>\n",
       "      <td>2024-09-26 17:48:25.270000+00:00</td>\n",
       "    </tr>\n",
       "  </tbody>\n",
       "</table>\n",
       "</div>"
      ],
      "text/plain": [
       "    organization api_report_status api_report_last_modified_date  \\\n",
       "0  City of Arvin     Not Submitted     2024-09-25 18:30:48+00:00   \n",
       "1  City of Arvin     Not Submitted     2024-09-25 18:30:48+00:00   \n",
       "2  City of Arvin     Not Submitted     2024-09-25 18:30:48+00:00   \n",
       "\n",
       "   api_report_period     id  report_id                              item  \\\n",
       "0               2024  14150       1026       Demand Response (DR) - (DO)   \n",
       "1               2024  14151       1026  Deviated Fixed Route (DF) - (DO)   \n",
       "2               2024  14152       1026       Demand Response (DR) - (DO)   \n",
       "\n",
       "                revenue              type css_class operations_expended  \\\n",
       "0                        Expenses by Mode   expense                None   \n",
       "1                        Expenses by Mode   expense                None   \n",
       "2  Passenger-Paid Fares     Fare Revenues   revenue                None   \n",
       "\n",
       "  capital_expended description  annual_vehicle_rev_miles  \\\n",
       "0             None        None                       NaN   \n",
       "1             None        None                       NaN   \n",
       "2             None        None                       NaN   \n",
       "\n",
       "   annual_vehicle_rev_hours  annual_unlinked_pass_trips  \\\n",
       "0                       NaN                         NaN   \n",
       "1                       NaN                         NaN   \n",
       "2                       NaN                         NaN   \n",
       "\n",
       "   annual_vehicle_max_service  sponsored_service_upt quantity  \\\n",
       "0                         NaN                    NaN     None   \n",
       "1                         NaN                    NaN     None   \n",
       "2                         NaN                    NaN     None   \n",
       "\n",
       "                last_modified_date  \n",
       "0 2024-09-26 17:48:25.270000+00:00  \n",
       "1 2024-09-26 17:48:25.270000+00:00  \n",
       "2 2024-09-26 17:48:25.270000+00:00  "
      ]
     },
     "execution_count": 38,
     "metadata": {},
     "output_type": "execute_result"
    }
   ],
   "source": [
    "error_rr20_rural.head(3)"
   ]
  },
  {
   "cell_type": "code",
   "execution_count": 39,
   "id": "3d2af142-4408-4342-bc2e-ad016ad8d85b",
   "metadata": {},
   "outputs": [
    {
     "data": {
      "text/plain": [
       "Series([], Name: capital_expended, dtype: int64)"
      ]
     },
     "execution_count": 39,
     "metadata": {},
     "output_type": "execute_result"
    }
   ],
   "source": [
    "error_rr20_rural[\"capital_expended\"].value_counts()"
   ]
  },
  {
   "cell_type": "code",
   "execution_count": 40,
   "id": "26533e7b-5dab-456c-94b6-963cccef8f84",
   "metadata": {},
   "outputs": [
    {
     "data": {
      "text/plain": [
       "Submitted    56\n",
       "Name: api_report_status, dtype: int64"
      ]
     },
     "execution_count": 40,
     "metadata": {},
     "output_type": "execute_result"
    }
   ],
   "source": [
    "# what do other have for \"revenue\"?\n",
    "stg_ntd_rr20_rural[\"api_report_status\"].value_counts()"
   ]
  },
  {
   "cell_type": "code",
   "execution_count": 41,
   "id": "2b618fc9-c8af-4dc3-ac12-db0f28a694ff",
   "metadata": {},
   "outputs": [
    {
     "data": {
      "text/html": [
       "<div>\n",
       "<style scoped>\n",
       "    .dataframe tbody tr th:only-of-type {\n",
       "        vertical-align: middle;\n",
       "    }\n",
       "\n",
       "    .dataframe tbody tr th {\n",
       "        vertical-align: top;\n",
       "    }\n",
       "\n",
       "    .dataframe thead th {\n",
       "        text-align: right;\n",
       "    }\n",
       "</style>\n",
       "<table border=\"1\" class=\"dataframe\">\n",
       "  <thead>\n",
       "    <tr style=\"text-align: right;\">\n",
       "      <th></th>\n",
       "      <th>organization</th>\n",
       "      <th>name_of_check</th>\n",
       "      <th>mode</th>\n",
       "      <th>year_of_data</th>\n",
       "      <th>check_status</th>\n",
       "      <th>value_checked</th>\n",
       "      <th>description</th>\n",
       "      <th>Agency_Response</th>\n",
       "      <th>date_checked</th>\n",
       "    </tr>\n",
       "  </thead>\n",
       "  <tbody>\n",
       "    <tr>\n",
       "      <th>3</th>\n",
       "      <td>Eastern Sierra Transit Authority</td>\n",
       "      <td>RR20F-139: Revenue Speed change</td>\n",
       "      <td>Bus (MB) (Fixed Route) - (DO)</td>\n",
       "      <td>2024</td>\n",
       "      <td>Fail</td>\n",
       "      <td>2024 = 17, 2023 = 16.9chg = -83%</td>\n",
       "      <td>The revenue speed, the avg speed of your vehic...</td>\n",
       "      <td></td>\n",
       "      <td>2024-10-09 16:13:28.364198+00:00</td>\n",
       "    </tr>\n",
       "    <tr>\n",
       "      <th>4</th>\n",
       "      <td>Eastern Sierra Transit Authority</td>\n",
       "      <td>RR20F-139: Revenue Speed change</td>\n",
       "      <td>Demand Response (DR) - (DO)</td>\n",
       "      <td>2024</td>\n",
       "      <td>Fail</td>\n",
       "      <td>2024 = 8.8, 2023 = 8.6chg = -91%</td>\n",
       "      <td>The revenue speed, the avg speed of your vehic...</td>\n",
       "      <td></td>\n",
       "      <td>2024-10-09 16:13:28.364198+00:00</td>\n",
       "    </tr>\n",
       "    <tr>\n",
       "      <th>5</th>\n",
       "      <td>Eastern Sierra Transit Authority</td>\n",
       "      <td>RR20F-139: Revenue Speed change</td>\n",
       "      <td>Commuter Bus (CB) - (DO)</td>\n",
       "      <td>2024</td>\n",
       "      <td>Fail</td>\n",
       "      <td>2024 = 43.5, 2023 = 33.4chg = -57%</td>\n",
       "      <td>The revenue speed, the avg speed of your vehic...</td>\n",
       "      <td></td>\n",
       "      <td>2024-10-09 16:13:28.364198+00:00</td>\n",
       "    </tr>\n",
       "    <tr>\n",
       "      <th>9</th>\n",
       "      <td>Eastern Sierra Transit Authority</td>\n",
       "      <td>RR20F-139: Vehicle Revenue Miles (VRM) % change</td>\n",
       "      <td>Bus (MB) (Fixed Route) - (DO)</td>\n",
       "      <td>2024</td>\n",
       "      <td>Fail</td>\n",
       "      <td>2024 = 606924, 2023 = 585952chg = 3.5%</td>\n",
       "      <td>The annual vehicle revenue miles for this mode...</td>\n",
       "      <td></td>\n",
       "      <td>2024-10-09 16:13:28.364198+00:00</td>\n",
       "    </tr>\n",
       "    <tr>\n",
       "      <th>10</th>\n",
       "      <td>Eastern Sierra Transit Authority</td>\n",
       "      <td>RR20F-139: Vehicle Revenue Miles (VRM) % change</td>\n",
       "      <td>Demand Response (DR) - (DO)</td>\n",
       "      <td>2024</td>\n",
       "      <td>Fail</td>\n",
       "      <td>2024 = 170407, 2023 = 156732chg = 8%</td>\n",
       "      <td>The annual vehicle revenue miles for this mode...</td>\n",
       "      <td></td>\n",
       "      <td>2024-10-09 16:13:28.364198+00:00</td>\n",
       "    </tr>\n",
       "  </tbody>\n",
       "</table>\n",
       "</div>"
      ],
      "text/plain": [
       "                        organization  \\\n",
       "3   Eastern Sierra Transit Authority   \n",
       "4   Eastern Sierra Transit Authority   \n",
       "5   Eastern Sierra Transit Authority   \n",
       "9   Eastern Sierra Transit Authority   \n",
       "10  Eastern Sierra Transit Authority   \n",
       "\n",
       "                                      name_of_check  \\\n",
       "3                   RR20F-139: Revenue Speed change   \n",
       "4                   RR20F-139: Revenue Speed change   \n",
       "5                   RR20F-139: Revenue Speed change   \n",
       "9   RR20F-139: Vehicle Revenue Miles (VRM) % change   \n",
       "10  RR20F-139: Vehicle Revenue Miles (VRM) % change   \n",
       "\n",
       "                             mode  year_of_data check_status  \\\n",
       "3   Bus (MB) (Fixed Route) - (DO)          2024         Fail   \n",
       "4     Demand Response (DR) - (DO)          2024         Fail   \n",
       "5        Commuter Bus (CB) - (DO)          2024         Fail   \n",
       "9   Bus (MB) (Fixed Route) - (DO)          2024         Fail   \n",
       "10    Demand Response (DR) - (DO)          2024         Fail   \n",
       "\n",
       "                             value_checked  \\\n",
       "3         2024 = 17, 2023 = 16.9chg = -83%   \n",
       "4         2024 = 8.8, 2023 = 8.6chg = -91%   \n",
       "5       2024 = 43.5, 2023 = 33.4chg = -57%   \n",
       "9   2024 = 606924, 2023 = 585952chg = 3.5%   \n",
       "10    2024 = 170407, 2023 = 156732chg = 8%   \n",
       "\n",
       "                                          description Agency_Response  \\\n",
       "3   The revenue speed, the avg speed of your vehic...                   \n",
       "4   The revenue speed, the avg speed of your vehic...                   \n",
       "5   The revenue speed, the avg speed of your vehic...                   \n",
       "9   The annual vehicle revenue miles for this mode...                   \n",
       "10  The annual vehicle revenue miles for this mode...                   \n",
       "\n",
       "                       date_checked  \n",
       "3  2024-10-09 16:13:28.364198+00:00  \n",
       "4  2024-10-09 16:13:28.364198+00:00  \n",
       "5  2024-10-09 16:13:28.364198+00:00  \n",
       "9  2024-10-09 16:13:28.364198+00:00  \n",
       "10 2024-10-09 16:13:28.364198+00:00  "
      ]
     },
     "execution_count": 41,
     "metadata": {},
     "output_type": "execute_result"
    }
   ],
   "source": [
    "# investigating the rr20 service check errors\n",
    "fct_ntd_rr20_service_checks[fct_ntd_rr20_service_checks[\"check_status\"] ==\"Fail\"].head()"
   ]
  },
  {
   "cell_type": "code",
   "execution_count": 42,
   "id": "4cf976fa-b7cb-4339-8c1b-2c6c2ea24a8e",
   "metadata": {},
   "outputs": [
    {
     "data": {
      "text/plain": [
       "array(['RR20F-179: Missing Service Data check',\n",
       "       'RR20F-139: Revenue Speed change',\n",
       "       'RR20F-171: Vehicles of Maximum Service (VOMS) change',\n",
       "       'RR20F-139: Vehicle Revenue Miles (VRM) % change',\n",
       "       'RR20F-143: Vehicle Revenue Miles (VRM) change from zero',\n",
       "       'RR20F-146: Miles per Vehicle change',\n",
       "       'RR20F-005: Cost per Hour change',\n",
       "       'RR20F-139: Fare Revenue Per Trip change',\n",
       "       'RR20F-154: Trips per Hour change'], dtype=object)"
      ]
     },
     "execution_count": 42,
     "metadata": {},
     "output_type": "execute_result"
    }
   ],
   "source": [
    "fct_ntd_rr20_service_checks[\"name_of_check\"].unique()"
   ]
  },
  {
   "cell_type": "code",
   "execution_count": 43,
   "id": "743b6b0b-415a-4bdf-be6e-ca671a5e3828",
   "metadata": {},
   "outputs": [
    {
     "data": {
      "text/plain": [
       "2024 = 606924, 2023 = 585952chg = 3.5%                        2\n",
       "2024 = 170407, 2023 = 156732chg = 8%                          2\n",
       "2024 = 189887, 2023 = 115303chg = 39.3%                       2\n",
       "2024 Service data: VRM=606924 VRH=35605 UPT=883954 VOMS=24    1\n",
       "2024 = 37977.4, 2023 = 23060.6chg = 39.3%                     1\n",
       "2024 = 2.9, 2023 = 2.9chg = 0%                                1\n",
       "2024 = 24.8, 2023 = 24.4chg = 1.6%                            1\n",
       "2024 = 73.3, 2023 = 245chg = -234.2%                          1\n",
       "2024 = 21, 2023 = 40.4chg = -92.4%                            1\n",
       "2024 = 1.3, 2023 = 2.5chg = -92.3%                            1\n",
       "2024 = 98, 2023 = 124.2chg = -26.7%                           1\n",
       "2024 = 95.4, 2023 = 78.9chg = 17.3%                           1\n",
       "2024 = 136.3, 2023 = 118.4chg = 13.1%                         1\n",
       "2024 = 25288.5, 2023 = 24414.7chg = 3.5%                      1\n",
       "2024 = 21300.9, 2023 = 19591.5chg = 8%                        1\n",
       "2024 Service data: VRM=170407 VRH=19459 UPT=56496 VOMS=8      1\n",
       "2024 = 5, 2023 = 5chg = 0%                                    1\n",
       "2024 = 8, 2023 = 8chg = 0%                                    1\n",
       "2024 = 24, 2023 = 24chg = 0%                                  1\n",
       "2024 = 43.5, 2023 = 33.4chg = -57%                            1\n",
       "2024 = 8.8, 2023 = 8.6chg = -91%                              1\n",
       "2024 = 17, 2023 = 16.9chg = -83%                              1\n",
       "2024 Service data: VRM=189887 VRH=4370 UPT=16168 VOMS=5       1\n",
       "2024 = 3.7, 2023 = 2.5chg = 32.4%                             1\n",
       "Name: value_checked, dtype: int64"
      ]
     },
     "execution_count": 43,
     "metadata": {},
     "output_type": "execute_result"
    }
   ],
   "source": [
    "fct_ntd_rr20_service_checks[\"value_checked\"].value_counts()"
   ]
  },
  {
   "cell_type": "code",
   "execution_count": 44,
   "id": "5d328faa-cff0-4e63-a332-2e3625afc4f6",
   "metadata": {},
   "outputs": [
    {
     "ename": "NameError",
     "evalue": "name 'int_rr20' is not defined",
     "output_type": "error",
     "traceback": [
      "\u001b[0;31m---------------------------------------------------------------------------\u001b[0m",
      "\u001b[0;31mNameError\u001b[0m                                 Traceback (most recent call last)",
      "Cell \u001b[0;32mIn[44], line 2\u001b[0m\n\u001b[1;32m      1\u001b[0m display(\n\u001b[0;32m----> 2\u001b[0m     \u001b[43mint_rr20\u001b[49m[\u001b[38;5;124m\"\u001b[39m\u001b[38;5;124mvrm_this_year\u001b[39m\u001b[38;5;124m\"\u001b[39m],\n\u001b[1;32m      3\u001b[0m     int_rr20[\u001b[38;5;124m\"\u001b[39m\u001b[38;5;124mvrm_last_year\u001b[39m\u001b[38;5;124m\"\u001b[39m]\n\u001b[1;32m      4\u001b[0m )\n",
      "\u001b[0;31mNameError\u001b[0m: name 'int_rr20' is not defined"
     ]
    }
   ],
   "source": [
    "display(\n",
    "    int_rr20[\"vrm_this_year\"],\n",
    "    int_rr20[\"vrm_last_year\"]\n",
    ")\n"
   ]
  },
  {
   "cell_type": "code",
   "execution_count": null,
   "id": "29deac4f-ca4d-4cbc-a04f-228b7b61586b",
   "metadata": {},
   "outputs": [],
   "source": [
    "# sum the \"expense\" and \"operations\" revenue/expense rows for the agency\n",
    "\n",
    "op_ex = stg_rr20[stg_rr20[\"css_class\"]==\"expense\"][\"operations_expended\"].sum()\n",
    "op_rev = stg_rr20[stg_rr20[\"css_class\"]==\"revenue\"][\"operations_expended\"].sum()\n",
    "\n",
    "int_op_ex = int_rr20[\"Total_Annual_Op_Expenses_by_Mode\"][0]\n",
    "int_op_rev = int_rr20[\"Total_Annual_Op_Revenues_Expended\"][0]\n",
    "\n",
    "print(f\"\"\"Org: {org}\n",
    "Does opX and opRev match? {op_ex == op_rev}\n",
    "Does warehouse opX and opRev match? {int_op_ex == int_op_rev}\n",
    "opx: {op_ex}\n",
    "oprev: {op_rev}\n",
    "Does opX and warehouse opX match? {op_ex == int_op_ex}\n",
    "Does opRev and warehouse opRev match? {op_rev == int_op_rev}\n",
    "warehouse opx: {int_op_ex}\n",
    "warehouse oprev: {int_op_rev}\"\"\")\n",
    "display(fct_rr20)"
   ]
  },
  {
   "cell_type": "code",
   "execution_count": 71,
   "id": "311f9113-4876-4a18-a93b-ff9b19b41170",
   "metadata": {},
   "outputs": [
    {
     "data": {
      "text/plain": [
       "[9, 14, 16, 36]"
      ]
     },
     "metadata": {},
     "output_type": "display_data"
    },
    {
     "data": {
      "text/plain": [
       "['City of Arvin',\n",
       " 'Town of Truckee',\n",
       " 'Colusa County Transit Agency',\n",
       " 'Trinity County Department of Transportation ']"
      ]
     },
     "metadata": {},
     "output_type": "display_data"
    }
   ],
   "source": [
    "display(error_list, error_orgs)"
   ]
  },
  {
   "cell_type": "code",
   "execution_count": 184,
   "id": "bb4a1bce-9bd6-46f0-9599-7cbf2823f22e",
   "metadata": {},
   "outputs": [
    {
     "data": {
      "text/html": [
       "<div>\n",
       "<style scoped>\n",
       "    .dataframe tbody tr th:only-of-type {\n",
       "        vertical-align: middle;\n",
       "    }\n",
       "\n",
       "    .dataframe tbody tr th {\n",
       "        vertical-align: top;\n",
       "    }\n",
       "\n",
       "    .dataframe thead th {\n",
       "        text-align: right;\n",
       "    }\n",
       "</style>\n",
       "<table border=\"1\" class=\"dataframe\">\n",
       "  <thead>\n",
       "    <tr style=\"text-align: right;\">\n",
       "      <th></th>\n",
       "      <th>organization</th>\n",
       "      <th>tph_last_year</th>\n",
       "      <th>tph_this_year</th>\n",
       "      <th>voms_last_year</th>\n",
       "      <th>voms_this_year</th>\n",
       "      <th>vrm_last_year</th>\n",
       "      <th>vrm_this_year</th>\n",
       "    </tr>\n",
       "  </thead>\n",
       "  <tbody>\n",
       "    <tr>\n",
       "      <th>0</th>\n",
       "      <td>City of Arvin</td>\n",
       "      <td>2.289235</td>\n",
       "      <td>0.0</td>\n",
       "      <td>1.0</td>\n",
       "      <td>0.0</td>\n",
       "      <td>12495.0</td>\n",
       "      <td>13371.0</td>\n",
       "    </tr>\n",
       "    <tr>\n",
       "      <th>1</th>\n",
       "      <td>City of Arvin</td>\n",
       "      <td>10.024550</td>\n",
       "      <td>0.0</td>\n",
       "      <td>3.0</td>\n",
       "      <td>0.0</td>\n",
       "      <td>120801.0</td>\n",
       "      <td>116550.0</td>\n",
       "    </tr>\n",
       "  </tbody>\n",
       "</table>\n",
       "</div>"
      ],
      "text/plain": [
       "    organization  tph_last_year  tph_this_year  voms_last_year  \\\n",
       "0  City of Arvin       2.289235            0.0             1.0   \n",
       "1  City of Arvin      10.024550            0.0             3.0   \n",
       "\n",
       "   voms_this_year  vrm_last_year  vrm_this_year  \n",
       "0             0.0        12495.0        13371.0  \n",
       "1             0.0       120801.0       116550.0  "
      ]
     },
     "metadata": {},
     "output_type": "display_data"
    }
   ],
   "source": [
    "# check the error orgs to see which specific check is failing in the validation report.\n",
    "# or see which checks are still being produced\n",
    "\n",
    "arvin_check_test = (\n",
    "    tbls.mart_ntd_validation.fct_ntd_rr20_service_checks()\n",
    "    >> filter(_.organization == org_list[9],\n",
    "              #_.name_of_check == \"RR20F-143: Vehicle Revenue Miles (VRM) change from zero\",\n",
    "              #_.name_of_check == \"RR20F-139: Fare Revenue Per Trip change\",\n",
    "              #_.name_of_check == \"RR20F-154: Trips per Hour change\",\n",
    "              #_.name_of_check == \"RR20F-179: Missing Service Data check\",\n",
    "              #_.name_of_check == \"RR20F-139: Vehicle Revenue Miles (VRM) % change\",\n",
    "              #_.name_of_check == \"RR20F-139: Revenue Speed change\",\n",
    "              #_.name_of_check == \"RR20F-005: Cost per Hour change\",\n",
    "              #_.name_of_check == \"RR20F-171: Vehicles of Maximum Service (VOMS) change\",\n",
    "              _.name_of_check == \"RR20F-146: Miles per Vehicle change\",\n",
    "             )\n",
    "    \n",
    "    >> collect()\n",
    ")\n",
    "\n",
    "arvin_int_check = (\n",
    "    tbls.staging.int_ntd_rr20_service_3ratios_wide()\n",
    "    >> filter(_.organization == org_list[9])\n",
    "    >> collect()\n",
    ")\n",
    "\n",
    "keep_cols=['organization',\n",
    "    'tph_last_year',\n",
    "           'tph_this_year', \n",
    "           'voms_last_year', \n",
    "           'voms_this_year', \n",
    "           'vrm_last_year',\n",
    "           'vrm_this_year',  \n",
    "]\n",
    "\n",
    "display(\n",
    "    #arvin_check_test,\n",
    "# failed at: \n",
    "# RR20F-154: Trips per Hour change\n",
    "# RR20F-171: Vehicles of Maximum Service (VOMS) change\n",
    "\n",
    "# need to check the `int_ntd_rr20_service_3ratios_wide` for to see what values they have \n",
    "\n",
    "\n",
    "arvin_int_check[keep_cols]\n",
    "       )"
   ]
  },
  {
   "cell_type": "code",
   "execution_count": 121,
   "id": "c724c5e3-a817-4459-93f6-39c5813988d9",
   "metadata": {},
   "outputs": [
    {
     "data": {
      "text/html": [
       "<div>\n",
       "<style scoped>\n",
       "    .dataframe tbody tr th:only-of-type {\n",
       "        vertical-align: middle;\n",
       "    }\n",
       "\n",
       "    .dataframe tbody tr th {\n",
       "        vertical-align: top;\n",
       "    }\n",
       "\n",
       "    .dataframe thead th {\n",
       "        text-align: right;\n",
       "    }\n",
       "</style>\n",
       "<table border=\"1\" class=\"dataframe\">\n",
       "  <thead>\n",
       "    <tr style=\"text-align: right;\">\n",
       "      <th></th>\n",
       "      <th>organization</th>\n",
       "      <th>name_of_check</th>\n",
       "      <th>mode</th>\n",
       "      <th>year_of_data</th>\n",
       "      <th>check_status</th>\n",
       "      <th>value_checked</th>\n",
       "      <th>description</th>\n",
       "      <th>Agency_Response</th>\n",
       "      <th>date_checked</th>\n",
       "    </tr>\n",
       "  </thead>\n",
       "  <tbody>\n",
       "    <tr>\n",
       "      <th>0</th>\n",
       "      <td>Town of Truckee</td>\n",
       "      <td>RR20F-146: Miles per Vehicle change</td>\n",
       "      <td>Bus (MB) (Fixed Route) - (PT)</td>\n",
       "      <td>2024</td>\n",
       "      <td>Fail</td>\n",
       "      <td>2024 = 28366.7, 2023 = 36385chg = -28.3%</td>\n",
       "      <td>The miles per vehicle for this mode has change...</td>\n",
       "      <td></td>\n",
       "      <td>2024-10-09 16:56:31.198352+00:00</td>\n",
       "    </tr>\n",
       "    <tr>\n",
       "      <th>1</th>\n",
       "      <td>Town of Truckee</td>\n",
       "      <td>RR20F-146: Miles per Vehicle change</td>\n",
       "      <td>Demand Response (DR) - (PT)</td>\n",
       "      <td>2024</td>\n",
       "      <td>Fail</td>\n",
       "      <td>2024 = 7380, 2023 = 8124.3chg = -10.1%</td>\n",
       "      <td>The miles per vehicle for this mode has change...</td>\n",
       "      <td></td>\n",
       "      <td>2024-10-09 16:56:31.198352+00:00</td>\n",
       "    </tr>\n",
       "  </tbody>\n",
       "</table>\n",
       "</div>"
      ],
      "text/plain": [
       "      organization                        name_of_check  \\\n",
       "0  Town of Truckee  RR20F-146: Miles per Vehicle change   \n",
       "1  Town of Truckee  RR20F-146: Miles per Vehicle change   \n",
       "\n",
       "                            mode  year_of_data check_status  \\\n",
       "0  Bus (MB) (Fixed Route) - (PT)          2024         Fail   \n",
       "1    Demand Response (DR) - (PT)          2024         Fail   \n",
       "\n",
       "                              value_checked  \\\n",
       "0  2024 = 28366.7, 2023 = 36385chg = -28.3%   \n",
       "1    2024 = 7380, 2023 = 8124.3chg = -10.1%   \n",
       "\n",
       "                                         description Agency_Response  \\\n",
       "0  The miles per vehicle for this mode has change...                   \n",
       "1  The miles per vehicle for this mode has change...                   \n",
       "\n",
       "                      date_checked  \n",
       "0 2024-10-09 16:56:31.198352+00:00  \n",
       "1 2024-10-09 16:56:31.198352+00:00  "
      ]
     },
     "execution_count": 121,
     "metadata": {},
     "output_type": "execute_result"
    }
   ],
   "source": [
    "# check the error orgs to see which specific check is failing in the validation report.\n",
    "# or see which checks are still being produced\n",
    "\n",
    "truckee_check_test = (\n",
    "    tbls.mart_ntd_validation.fct_ntd_rr20_service_checks()\n",
    "    >> filter(_.organization == org_list[14],\n",
    "              #_.name_of_check == \"RR20F-143: Vehicle Revenue Miles (VRM) change from zero\",\n",
    "              #_.name_of_check == \"RR20F-139: Fare Revenue Per Trip change\",\n",
    "              #_.name_of_check == \"RR20F-154: Trips per Hour change\",\n",
    "              #_.name_of_check == \"RR20F-179: Missing Service Data check\",\n",
    "              #_.name_of_check == \"RR20F-139: Vehicle Revenue Miles (VRM) % change\",\n",
    "              #_.name_of_check == \"RR20F-139: Revenue Speed change\",\n",
    "              #_.name_of_check == \"RR20F-005: Cost per Hour change\",\n",
    "              #_.name_of_check == \"RR20F-171: Vehicles of Maximum Service (VOMS) change\",\n",
    "              _.name_of_check == \"RR20F-146: Miles per Vehicle change\",\n",
    "             )\n",
    "    \n",
    "    >> collect()\n",
    ")\n",
    "\n",
    "truckee_check_test\n",
    "# failed at:\n",
    "# RR20F-139: Fare Revenue Per Trip change\n",
    "\n",
    "# need to check the `int_ntd_rr20_service_3ratios_wide` for to see what values they have \n"
   ]
  },
  {
   "cell_type": "code",
   "execution_count": 151,
   "id": "f46dac0f-ee51-422b-a326-5e58a91b4484",
   "metadata": {},
   "outputs": [
    {
     "data": {
      "text/html": [
       "<div>\n",
       "<style scoped>\n",
       "    .dataframe tbody tr th:only-of-type {\n",
       "        vertical-align: middle;\n",
       "    }\n",
       "\n",
       "    .dataframe tbody tr th {\n",
       "        vertical-align: top;\n",
       "    }\n",
       "\n",
       "    .dataframe thead th {\n",
       "        text-align: right;\n",
       "    }\n",
       "</style>\n",
       "<table border=\"1\" class=\"dataframe\">\n",
       "  <thead>\n",
       "    <tr style=\"text-align: right;\">\n",
       "      <th></th>\n",
       "      <th>organization</th>\n",
       "      <th>name_of_check</th>\n",
       "      <th>mode</th>\n",
       "      <th>year_of_data</th>\n",
       "      <th>check_status</th>\n",
       "      <th>value_checked</th>\n",
       "      <th>description</th>\n",
       "      <th>Agency_Response</th>\n",
       "      <th>date_checked</th>\n",
       "    </tr>\n",
       "  </thead>\n",
       "  <tbody>\n",
       "    <tr>\n",
       "      <th>0</th>\n",
       "      <td>Colusa County Transit Agency</td>\n",
       "      <td>RR20F-171: Vehicles of Maximum Service (VOMS) ...</td>\n",
       "      <td>Demand Response (DR) - (DO)</td>\n",
       "      <td>2024</td>\n",
       "      <td>Pass</td>\n",
       "      <td>2024 = 7, 2023 = 7chg = 0%</td>\n",
       "      <td></td>\n",
       "      <td></td>\n",
       "      <td>2024-10-09 17:43:00.658577+00:00</td>\n",
       "    </tr>\n",
       "  </tbody>\n",
       "</table>\n",
       "</div>"
      ],
      "text/plain": [
       "                   organization  \\\n",
       "0  Colusa County Transit Agency   \n",
       "\n",
       "                                       name_of_check  \\\n",
       "0  RR20F-171: Vehicles of Maximum Service (VOMS) ...   \n",
       "\n",
       "                          mode  year_of_data check_status  \\\n",
       "0  Demand Response (DR) - (DO)          2024         Pass   \n",
       "\n",
       "                value_checked description Agency_Response  \\\n",
       "0  2024 = 7, 2023 = 7chg = 0%                               \n",
       "\n",
       "                      date_checked  \n",
       "0 2024-10-09 17:43:00.658577+00:00  "
      ]
     },
     "execution_count": 151,
     "metadata": {},
     "output_type": "execute_result"
    }
   ],
   "source": [
    "# check the error orgs to see which specific check is failing in the validation report.\n",
    "# or see which checks are still being produced\n",
    "\n",
    "colusa_check_test = (\n",
    "    tbls.mart_ntd_validation.fct_ntd_rr20_service_checks()\n",
    "    >> filter(_.organization == org_list[16],\n",
    "              #_.name_of_check == \"RR20F-143: Vehicle Revenue Miles (VRM) change from zero\",\n",
    "              #_.name_of_check == \"RR20F-139: Fare Revenue Per Trip change\",\n",
    "              #_.name_of_check == \"RR20F-154: Trips per Hour change\",\n",
    "              #_.name_of_check == \"RR20F-179: Missing Service Data check\",\n",
    "              #_.name_of_check == \"RR20F-139: Vehicle Revenue Miles (VRM) % change\",\n",
    "              #_.name_of_check == \"RR20F-139: Revenue Speed change\",\n",
    "              #_.name_of_check == \"RR20F-005: Cost per Hour change\",\n",
    "              _.name_of_check == \"RR20F-171: Vehicles of Maximum Service (VOMS) change\",\n",
    "              #_.name_of_check == \"RR20F-146: Miles per Vehicle change\",\n",
    "             )\n",
    "    \n",
    "    >> collect()\n",
    ")\n",
    "\n",
    "colusa_check_test\n",
    "# failed at:\n",
    "# RR20F-154: Trips per Hour change\n",
    "\n",
    "# need to check the `int_ntd_rr20_service_3ratios_wide` for to see what values they have \n",
    "\n"
   ]
  },
  {
   "cell_type": "code",
   "execution_count": 150,
   "id": "117dc29c-b0ee-466a-a814-f042463414ba",
   "metadata": {},
   "outputs": [
    {
     "data": {
      "text/html": [
       "<div>\n",
       "<style scoped>\n",
       "    .dataframe tbody tr th:only-of-type {\n",
       "        vertical-align: middle;\n",
       "    }\n",
       "\n",
       "    .dataframe tbody tr th {\n",
       "        vertical-align: top;\n",
       "    }\n",
       "\n",
       "    .dataframe thead th {\n",
       "        text-align: right;\n",
       "    }\n",
       "</style>\n",
       "<table border=\"1\" class=\"dataframe\">\n",
       "  <thead>\n",
       "    <tr style=\"text-align: right;\">\n",
       "      <th></th>\n",
       "      <th>organization</th>\n",
       "      <th>name_of_check</th>\n",
       "      <th>mode</th>\n",
       "      <th>year_of_data</th>\n",
       "      <th>check_status</th>\n",
       "      <th>value_checked</th>\n",
       "      <th>description</th>\n",
       "      <th>Agency_Response</th>\n",
       "      <th>date_checked</th>\n",
       "    </tr>\n",
       "  </thead>\n",
       "  <tbody>\n",
       "    <tr>\n",
       "      <th>0</th>\n",
       "      <td>Trinity County Department of Transportation</td>\n",
       "      <td>RR20F-154: Trips per Hour change</td>\n",
       "      <td>Intercity Service (IC) - (DO)</td>\n",
       "      <td>2024</td>\n",
       "      <td>Fail</td>\n",
       "      <td>2024 = 2, 2023 = 2.1chg = -5%</td>\n",
       "      <td>The calculated trips per hour for this mode ha...</td>\n",
       "      <td></td>\n",
       "      <td>2024-10-09 17:42:42.963943+00:00</td>\n",
       "    </tr>\n",
       "  </tbody>\n",
       "</table>\n",
       "</div>"
      ],
      "text/plain": [
       "                                   organization  \\\n",
       "0  Trinity County Department of Transportation    \n",
       "\n",
       "                      name_of_check                           mode  \\\n",
       "0  RR20F-154: Trips per Hour change  Intercity Service (IC) - (DO)   \n",
       "\n",
       "   year_of_data check_status                  value_checked  \\\n",
       "0          2024         Fail  2024 = 2, 2023 = 2.1chg = -5%   \n",
       "\n",
       "                                         description Agency_Response  \\\n",
       "0  The calculated trips per hour for this mode ha...                   \n",
       "\n",
       "                      date_checked  \n",
       "0 2024-10-09 17:42:42.963943+00:00  "
      ]
     },
     "execution_count": 150,
     "metadata": {},
     "output_type": "execute_result"
    }
   ],
   "source": [
    "# check the error orgs to see which specific check is failing in the validation report.\n",
    "# or see which checks are still being produced\n",
    "\n",
    "trinity_check_test = (\n",
    "    tbls.mart_ntd_validation.fct_ntd_rr20_service_checks()\n",
    "    >> filter(_.organization == org_list[36],\n",
    "              #_.name_of_check == \"RR20F-143: Vehicle Revenue Miles (VRM) change from zero\",\n",
    "              #_.name_of_check == \"RR20F-139: Fare Revenue Per Trip change\",\n",
    "              _.name_of_check == \"RR20F-154: Trips per Hour change\",\n",
    "              #_.name_of_check == \"RR20F-179: Missing Service Data check\",\n",
    "              #_.name_of_check == \"RR20F-139: Vehicle Revenue Miles (VRM) % change\",\n",
    "              #_.name_of_check == \"RR20F-139: Revenue Speed change\",\n",
    "              #_.name_of_check == \"RR20F-005: Cost per Hour change\",\n",
    "              #_.name_of_check == \"RR20F-171: Vehicles of Maximum Service (VOMS) change\",\n",
    "              #_.name_of_check == \"RR20F-146: Miles per Vehicle change\",\n",
    "             )\n",
    "    \n",
    "    >> collect()\n",
    ")\n",
    "\n",
    "trinity_check_test\n",
    "# failed at:\n",
    "# RR20F-171: Vehicles of Maximum Service (VOMS) change\n",
    "\n",
    "# need to check the `int_ntd_rr20_service_3ratios_wide` for to see what values they have \n"
   ]
  },
  {
   "cell_type": "code",
   "execution_count": 149,
   "id": "582cd089-d630-46e1-9665-cebdf032f32c",
   "metadata": {},
   "outputs": [
    {
     "data": {
      "text/plain": [
       "(27, 9)"
      ]
     },
     "execution_count": 149,
     "metadata": {},
     "output_type": "execute_result"
    }
   ],
   "source": [
    "# What does a good check look like?\n",
    "check_list = [\n",
    "    \"RR20F-154: Trips per Hour change\",\n",
    "    \"RR20F-171: Vehicles of Maximum Service (VOMS) change\",\n",
    "    \"RR20F-139: Fare Revenue Per Trip change\",\n",
    "]\n",
    "\n",
    "# \n",
    "\n",
    "\n",
    "fct_ntd_rr20_service_checks.shape"
   ]
  },
  {
   "cell_type": "markdown",
   "id": "314e4d9e-41ae-4688-af8f-f7479a65a4e8",
   "metadata": {},
   "source": [
    "## for RR20F-154: Trips per Hour change: \n",
    "- first checks if `tph_this_year` or `tph_last_year` are `NULL` or `0`. if true, then return `did not run`\n",
    "- else, calculates the absolute value of `(tph_this_year - tph_last_year)/ tph_last_year`. \n",
    "- City of Arvin error was (-2.3/0), meaning that `tph_last_year` = 0, should have been caught by the first conditions and return \"did not run\"\n",
    "- there are other agencies with this check that have the \"did not run\" check status.\n",
    "\n",
    "## for RR20F-171: Vehicles of Maximum Service (VOMS) change:\n",
    "- first checks if `voms_this_year` or `voms_last_year` is some combination of 0, not 0 or NULL and returns \"fail\",\n",
    "- then checks if `voms_this_year` and `voms_last_year` are NULL or !=0, then returns \"did not run\"\n",
    "- but City of Arvin's error was (0/0) and Trinity's error was (-4/0), which both should have been caught\n",
    "- there are other agencies with this check that have the \"did not run\" status\n",
    "\n",
    "## for RR20F-139: Fare Revenue Per Trip change:\n",
    "- check `vrm_this_year` and `vrm_last_year` if they are NULL or 0, if so, then return \"did not run\",\n",
    "- then checks if the absolute value of (`vrm_this_year` - `vrm_last_year`)/ `vrm_last_year`.\n",
    "- but Truckee's error was 0/0. so `vrm_last year` must equal 0, which should have been caught before?\n",
    "- there are other agencies with this check that have the \"did not run\" status"
   ]
  },
  {
   "cell_type": "code",
   "execution_count": 172,
   "id": "e8fcf522-355d-4115-8085-1c471d9131f4",
   "metadata": {},
   "outputs": [
    {
     "data": {
      "text/plain": [
       "No data but this check was run before the NTD submission due date in 2024.             46\n",
       "No data but this check was run before the NTD submission due date in 2024 for VOMS.    23\n",
       "Name: description, dtype: int64"
      ]
     },
     "execution_count": 172,
     "metadata": {},
     "output_type": "execute_result"
    }
   ],
   "source": [
    "# check rr20 service check for any rows that have \"did not run\" in there \"check_status\"\n",
    "\n",
    "not_list = (\n",
    "    tbls.mart_ntd_validation.fct_ntd_rr20_service_checks()\n",
    "    >> filter(~_.organization.isin(org_list),\n",
    "             )\n",
    "    \n",
    "    >> collect()\n",
    ")\n",
    "\n",
    "not_list[(not_list[\"name_of_check\"].isin(check_list)) & (not_list[\"check_status\"]==\"Did Not Run\")][\"description\"].value_counts()"
   ]
  },
  {
   "cell_type": "code",
   "execution_count": 187,
   "id": "6b6ab549-37c5-44d6-bac4-de3311ff732e",
   "metadata": {},
   "outputs": [
    {
     "data": {
      "text/html": [
       "<div>\n",
       "<style scoped>\n",
       "    .dataframe tbody tr th:only-of-type {\n",
       "        vertical-align: middle;\n",
       "    }\n",
       "\n",
       "    .dataframe tbody tr th {\n",
       "        vertical-align: top;\n",
       "    }\n",
       "\n",
       "    .dataframe thead th {\n",
       "        text-align: right;\n",
       "    }\n",
       "</style>\n",
       "<table border=\"1\" class=\"dataframe\">\n",
       "  <thead>\n",
       "    <tr style=\"text-align: right;\">\n",
       "      <th></th>\n",
       "      <th>organization</th>\n",
       "      <th>tph_last_year</th>\n",
       "      <th>tph_this_year</th>\n",
       "      <th>voms_last_year</th>\n",
       "      <th>voms_this_year</th>\n",
       "      <th>vrm_last_year</th>\n",
       "      <th>vrm_this_year</th>\n",
       "    </tr>\n",
       "  </thead>\n",
       "  <tbody>\n",
       "    <tr>\n",
       "      <th>0</th>\n",
       "      <td>City of Arvin</td>\n",
       "      <td>2.289235</td>\n",
       "      <td>0.000000</td>\n",
       "      <td>1.0</td>\n",
       "      <td>0.0</td>\n",
       "      <td>12495.0</td>\n",
       "      <td>13371.0</td>\n",
       "    </tr>\n",
       "    <tr>\n",
       "      <th>1</th>\n",
       "      <td>City of Arvin</td>\n",
       "      <td>10.024550</td>\n",
       "      <td>0.000000</td>\n",
       "      <td>3.0</td>\n",
       "      <td>0.0</td>\n",
       "      <td>120801.0</td>\n",
       "      <td>116550.0</td>\n",
       "    </tr>\n",
       "    <tr>\n",
       "      <th>2</th>\n",
       "      <td>Colusa County Transit Agency</td>\n",
       "      <td>4.171580</td>\n",
       "      <td>0.000000</td>\n",
       "      <td>7.0</td>\n",
       "      <td>7.0</td>\n",
       "      <td>141531.0</td>\n",
       "      <td>149880.0</td>\n",
       "    </tr>\n",
       "    <tr>\n",
       "      <th>3</th>\n",
       "      <td>Town of Truckee</td>\n",
       "      <td>6.302895</td>\n",
       "      <td>5.344347</td>\n",
       "      <td>3.0</td>\n",
       "      <td>3.0</td>\n",
       "      <td>109155.0</td>\n",
       "      <td>85100.0</td>\n",
       "    </tr>\n",
       "    <tr>\n",
       "      <th>4</th>\n",
       "      <td>Town of Truckee</td>\n",
       "      <td>2.506347</td>\n",
       "      <td>4.224924</td>\n",
       "      <td>3.0</td>\n",
       "      <td>3.0</td>\n",
       "      <td>24373.0</td>\n",
       "      <td>22140.0</td>\n",
       "    </tr>\n",
       "    <tr>\n",
       "      <th>5</th>\n",
       "      <td>Trinity County Department of Transportation</td>\n",
       "      <td>2.102253</td>\n",
       "      <td>2.021668</td>\n",
       "      <td>4.0</td>\n",
       "      <td>0.0</td>\n",
       "      <td>116650.0</td>\n",
       "      <td>128945.0</td>\n",
       "    </tr>\n",
       "  </tbody>\n",
       "</table>\n",
       "</div>"
      ],
      "text/plain": [
       "                                   organization  tph_last_year  tph_this_year  \\\n",
       "0                                 City of Arvin       2.289235       0.000000   \n",
       "1                                 City of Arvin      10.024550       0.000000   \n",
       "2                  Colusa County Transit Agency       4.171580       0.000000   \n",
       "3                               Town of Truckee       6.302895       5.344347   \n",
       "4                               Town of Truckee       2.506347       4.224924   \n",
       "5  Trinity County Department of Transportation        2.102253       2.021668   \n",
       "\n",
       "   voms_last_year  voms_this_year  vrm_last_year  vrm_this_year  \n",
       "0             1.0             0.0        12495.0        13371.0  \n",
       "1             3.0             0.0       120801.0       116550.0  \n",
       "2             7.0             7.0       141531.0       149880.0  \n",
       "3             3.0             3.0       109155.0        85100.0  \n",
       "4             3.0             3.0        24373.0        22140.0  \n",
       "5             4.0             0.0       116650.0       128945.0  "
      ]
     },
     "execution_count": 187,
     "metadata": {},
     "output_type": "execute_result"
    }
   ],
   "source": [
    "error_int_check = (\n",
    "    tbls.staging.int_ntd_rr20_service_3ratios_wide()\n",
    "    >> filter(_.organization.isin(error_orgs))\n",
    "    >> collect()\n",
    ")\n",
    "\n",
    "keep_cols=['organization',\n",
    "    'tph_last_year',\n",
    "           'tph_this_year', \n",
    "           'voms_last_year', \n",
    "           'voms_this_year', \n",
    "           'vrm_last_year',\n",
    "           'vrm_this_year',  \n",
    "]\n",
    "\n",
    "error_int_check[keep_cols]"
   ]
  },
  {
   "cell_type": "markdown",
   "id": "1a9f371c",
   "metadata": {},
   "source": [
    "#### Extract the org name and details from the blob\n",
    "This is extra code to show how to inspect what organizations are in the API at any given time, in case it is helpful. "
   ]
  },
  {
   "cell_type": "code",
   "execution_count": null,
   "id": "754913dd",
   "metadata": {
    "scrolled": true
   },
   "outputs": [],
   "source": [
    "for x in blob_2024:\n",
    "    report_id = x.get('ReportId')\n",
    "    org = x.get('Organization')\n",
    "    period = x.get('ReportPeriod')\n",
    "    status = x.get('ReportStatus')\n",
    "    last_mod_string = x.get('ReportLastModifiedDate')\n",
    "    last_mod = pendulum.from_format(last_mod_string, 'MM/DD/YYYY HH:mm:ss A').in_tz('America/Los_Angeles')\n",
    "    iso = last_mod.to_iso8601_string()\n",
    "    print(f\"Report details: ID {report_id}, org {org}, report period {period}, status {status}, last modified on {last_mod_string}.\")\n",
    "#     print(f\"New datetime {last_mod}\")\n",
    "#     print(f\"iso is {iso}\")"
   ]
  },
  {
   "cell_type": "markdown",
   "id": "0bfb6aa1",
   "metadata": {},
   "source": [
    "#### Quick check on what orgs are in this API, and how many have RR-20 info"
   ]
  },
  {
   "cell_type": "code",
   "execution_count": null,
   "id": "02e87ba1",
   "metadata": {},
   "outputs": [],
   "source": [
    "org_data = []\n",
    "\n",
    "for x in blob_2024:\n",
    "    report_id = x.get('ReportId')\n",
    "    org = x.get('Organization')\n",
    "    period = x.get('ReportPeriod')\n",
    "    status = x.get('ReportStatus')\n",
    "    last_mod = pendulum.from_format(x.get('ReportLastModifiedDate'), 'MM/DD/YYYY HH:mm:ss A').in_tz('America/Los_Angeles')\n",
    "    iso = last_mod.to_iso8601_string()\n",
    "    \n",
    "    \n",
    "    rural = x['NTDReportingRR20_Rural']\n",
    "    for k,v in rural.items():\n",
    "        rural_n = len(v)\n",
    "    city = x['NTDReportingRR20_Intercity']\n",
    "    for k,v in city.items():\n",
    "        city_n = len(v)\n",
    "    urban_tribal = x['NTDReportingRR20_Urban_Tribal']\n",
    "    for k,v in urban_tribal.items():\n",
    "        urban_n = len(v)\n",
    "    \n",
    "    org_info = pd.DataFrame(data=[[report_id, org, period, status, iso, rural_n, city_n, urban_n]], \n",
    "                            columns=['report_id', 'organization', 'report_period', 'report_status', 'last_modified', \n",
    "                                     'rr20_rural_rows', 'rr20_intercity_rows', 'rr20_urban-tribal_rows'])\n",
    "#     whole_df = pd.concat([org_info, raw_df], axis=1).sort_values(by='organization')\n",
    "    \n",
    "    org_data.append(org_info)\n"
   ]
  },
  {
   "cell_type": "code",
   "execution_count": null,
   "id": "b3087f03",
   "metadata": {},
   "outputs": [],
   "source": [
    "newapi = pd.concat(org_data)\n",
    "print(len(newapi))\n",
    "newapi.head()"
   ]
  },
  {
   "cell_type": "code",
   "execution_count": null,
   "id": "c3514348",
   "metadata": {},
   "outputs": [],
   "source": [
    "newapi.to_csv('../data/newapi_rr20_11-27-23.csv')"
   ]
  },
  {
   "cell_type": "code",
   "execution_count": null,
   "id": "e3294c97",
   "metadata": {},
   "outputs": [],
   "source": []
  },
  {
   "cell_type": "markdown",
   "id": "2fde73b9",
   "metadata": {},
   "source": [
    "## Convert API data to dataframes\n",
    "Here using the test API to develop a function."
   ]
  },
  {
   "cell_type": "markdown",
   "id": "19e12a50",
   "metadata": {},
   "source": [
    "Just shove entire blob into a dataframe - this approach is what's recommended by Cal-ITP. They prefer we then do any transformations and separating of tables on dbt.  \n",
    "Downsides:\n",
    "* there are many columns with nested data (converts to lists and dictionaries). Basically each NTD report is in ONE column.\n",
    "* the column names get changed because of the nesting and of repeated columns"
   ]
  },
  {
   "cell_type": "code",
   "execution_count": null,
   "id": "03dacc90",
   "metadata": {},
   "outputs": [],
   "source": [
    "df = pd.json_normalize(blob_2024)\n",
    "df"
   ]
  },
  {
   "cell_type": "code",
   "execution_count": null,
   "id": "54d2305f",
   "metadata": {},
   "outputs": [],
   "source": [
    "df.info()"
   ]
  },
  {
   "cell_type": "code",
   "execution_count": null,
   "id": "149fbe7f",
   "metadata": {},
   "outputs": [],
   "source": [
    "df['ReportLastModifiedDate'] =  df['ReportLastModifiedDate'].astype('datetime64[ns]')\n",
    "# df['ReportLastModifiedDate'] = pd.to_datetime(df['ReportLastModifiedDate'], format='%m/%d/YYYY HH:mm:ss %p')"
   ]
  },
  {
   "cell_type": "code",
   "execution_count": null,
   "id": "dd396d9b",
   "metadata": {},
   "outputs": [],
   "source": [
    "df"
   ]
  },
  {
   "cell_type": "code",
   "execution_count": null,
   "id": "841d5bda",
   "metadata": {},
   "outputs": [],
   "source": [
    "user_dict = blob[0]['NTDReportingP50']['Data']\n",
    "user_dict # a list of dictionaries. Each dict is one row of data."
   ]
  },
  {
   "cell_type": "code",
   "execution_count": null,
   "id": "dba42a57",
   "metadata": {},
   "outputs": [],
   "source": [
    "raw_df = pd.DataFrame.from_dict(user_dict)\n",
    "raw_df"
   ]
  },
  {
   "cell_type": "markdown",
   "id": "ed24756e",
   "metadata": {},
   "source": [
    "However in several tables, rows have several columns that are nested dictionaries.  \n",
    "  \n",
    "The following code explores ways to unnest them and expand the dataframe rows. **NOTE WE DID NOT USE THIS APPROACH IN PRODUCTION. We decided to unnest tables using SQL instead, in the `staging` dbt models.**"
   ]
  },
  {
   "cell_type": "code",
   "execution_count": null,
   "id": "e4f5955b",
   "metadata": {},
   "outputs": [],
   "source": [
    "pd.json_normalize(user_dict)\n",
    "\n",
    "# This expands columns instead of expanding rows. Not exactly what we want."
   ]
  },
  {
   "cell_type": "code",
   "execution_count": null,
   "id": "99e30cce",
   "metadata": {},
   "outputs": [],
   "source": [
    "# We only really want the \"Text\" value in the dictionaries in the \"Mode\" and \"Type\" columns.\n",
    "# user_dict[0]['Mode']\n",
    "user_dict[0]"
   ]
  },
  {
   "cell_type": "code",
   "execution_count": null,
   "id": "9d59e496",
   "metadata": {},
   "outputs": [],
   "source": [
    "# How to replace certain values in a key:value pair of an existing python dictionary.\n",
    "original = user_dict[0]\n",
    "copy = {**original, 'Mode': original['Mode']['Text'], \n",
    "        'Type': original['Type']['Text']}\n",
    "copy"
   ]
  },
  {
   "cell_type": "markdown",
   "id": "4439ea78",
   "metadata": {},
   "source": [
    "----\n",
    "Done! This worked but is not super ideal because we hard-code the keys that we want to change instead of iterating over them, but it works as long as we know which dictionary items in each table are nested.  "
   ]
  },
  {
   "cell_type": "code",
   "execution_count": null,
   "id": "aebd39b9",
   "metadata": {},
   "outputs": [],
   "source": [
    "# Trying loop of creating new dict from old dict.\n",
    "# New dict will not be nested - checks for a nested dict in each value; for each nested dict, \n",
    "# we extract only the k,v pair where the key == 'Text' \n",
    "\n",
    "copy_test = {**original}\n",
    "for k,v in copy_test.items():\n",
    "    if type(v) is dict:\n",
    "        copy_test[k] = copy_test[k]['Text']\n",
    "        \n",
    "copy_test"
   ]
  },
  {
   "cell_type": "code",
   "execution_count": null,
   "id": "53d86265",
   "metadata": {},
   "outputs": [],
   "source": [
    "## Worked! Now try the above loop over an entire JSON data table\n",
    "\n",
    "for x in user_dict:\n",
    "    for k,v in x.items():\n",
    "        if type(v) is dict:\n",
    "            x[k] = x[k]['Text']"
   ]
  },
  {
   "cell_type": "code",
   "execution_count": null,
   "id": "e67630eb",
   "metadata": {},
   "outputs": [],
   "source": [
    "raw_df = pd.DataFrame.from_dict(user_dict)\n",
    "raw_df"
   ]
  },
  {
   "cell_type": "markdown",
   "id": "8240362f",
   "metadata": {},
   "source": [
    "#### Table is now one level and in the format desired."
   ]
  },
  {
   "cell_type": "code",
   "execution_count": null,
   "id": "3aac8272",
   "metadata": {},
   "outputs": [],
   "source": []
  }
 ],
 "metadata": {
  "kernelspec": {
   "display_name": "Python 3 (ipykernel)",
   "language": "python",
   "name": "python3"
  },
  "language_info": {
   "codemirror_mode": {
    "name": "ipython",
    "version": 3
   },
   "file_extension": ".py",
   "mimetype": "text/x-python",
   "name": "python",
   "nbconvert_exporter": "python",
   "pygments_lexer": "ipython3",
   "version": "3.9.13"
  }
 },
 "nbformat": 4,
 "nbformat_minor": 5
}
