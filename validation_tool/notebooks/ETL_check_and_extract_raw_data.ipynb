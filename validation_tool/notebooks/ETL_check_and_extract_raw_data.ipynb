{
 "cells": [
  {
   "cell_type": "markdown",
   "id": "bb3d1705",
   "metadata": {},
   "source": [
    "#### Extract and load raw data - NTD validator pipeline\n",
    "This notebook shows the code development steps for the script `check_raw_data.py`\n",
    "Tentative plan:  \n",
    "1.\tScan the Google Cloud bucket once a ... day? Scan Sharepoint folder (or hit the API once per day)  \n",
    "2.\tGrab all report files (BlackCat submitted reports are stored in GCS in excel files)  \n",
    "    a.\tGrab all files that start with the filename for each particular report (e.g., \"NTD_Annual_Report_Rural_2023_\\<dateuploaded>.xlsx\" for the RR-20)  \n",
    "    b.\tFunction to get the latest one (based on end of filename) - these files have data for ALL ORGS that have submitted so far  \n",
    "    c.\thenceforth referred to as \"DATASET A\"  \n",
    "3.\tIn each, check for all new organizations with a report submitted between last time checked and current time  \n",
    "    ~a.\tAssuming there's a timestamp for last submitted~  \n",
    "    b.\tGrab the appropriate table from the \"blackcat_raw\" dataset in BigQuery (What we already have)  \n",
    "    c.\thenceforth referred to as \"DATASET B\"  \n",
    "4.\tFor loop to go through by each org in DATASET A and:  \n",
    "    a.\tcreate temp data frames of their data only, from DATASET A and DATASET B  \n",
    "    b.\tDelete timestamp of date uploaded, from DATASET B  \n",
    "    c.\tcompare to see if identical  \n",
    "    d.\tif so, pass  \n",
    "5.\tif not identical, then it's either a new submission or revision  \n",
    "    a.\tContinue on to validation checks  \n",
    "    b.\tContinue on to saving data to \"blackcat_raw\" data tables  \n",
    "    c.\tadd in upload timestamp column  \n"
   ]
  },
  {
   "cell_type": "code",
   "execution_count": 1,
   "id": "f093c278",
   "metadata": {},
   "outputs": [],
   "source": [
    "from google.cloud import bigquery, storage\n",
    "import pandas as pd\n",
    "import datetime\n",
    "import re"
   ]
  },
  {
   "cell_type": "markdown",
   "id": "db3c44fd",
   "metadata": {},
   "source": [
    "**First, connect to Google Cloud**"
   ]
  },
  {
   "cell_type": "code",
   "execution_count": 2,
   "id": "460b697f",
   "metadata": {},
   "outputs": [],
   "source": [
    "storage_client = storage.Client(project='cal-itp-data-infra')"
   ]
  },
  {
   "cell_type": "code",
   "execution_count": 3,
   "id": "07cf2d20",
   "metadata": {},
   "outputs": [],
   "source": [
    "bucket_name = \"calitp-ntd-report-validation\"\n",
    "\n",
    "bucket = storage_client.get_bucket(bucket_name)"
   ]
  },
  {
   "cell_type": "code",
   "execution_count": 4,
   "id": "e8ba3e03",
   "metadata": {},
   "outputs": [
    {
     "data": {
      "text/plain": [
       "<Bucket: calitp-ntd-report-validation>"
      ]
     },
     "execution_count": 4,
     "metadata": {},
     "output_type": "execute_result"
    }
   ],
   "source": [
    "bucket"
   ]
  },
  {
   "cell_type": "code",
   "execution_count": 7,
   "id": "0a33c5a0",
   "metadata": {
    "collapsed": true
   },
   "outputs": [
    {
     "name": "stdout",
     "output_type": "stream",
     "text": [
      "analysis-output-models\n",
      "artifacts.cal-itp-data-infra.appspot.com\n",
      "cal-itp-data-infra.appspot.com\n",
      "calitp-aggregator-scraper\n",
      "calitp-airtable\n",
      "calitp-amplitude-benefits-events\n",
      "calitp-analytics-data\n",
      "calitp-backups-grafana\n",
      "calitp-backups-metabase\n",
      "calitp-backups-sentry\n",
      "calitp-backups-test\n",
      "calitp-ci-artifacts\n",
      "calitp-dbt-artifacts\n",
      "calitp-elavon-parsed\n",
      "calitp-elavon-raw\n",
      "calitp-gtfs-download-config\n",
      "calitp-gtfs-rt-parsed\n",
      "calitp-gtfs-rt-raw-deprecated\n",
      "calitp-gtfs-rt-raw-v2\n",
      "calitp-gtfs-rt-validation\n",
      "calitp-gtfs-schedule-parsed\n",
      "calitp-gtfs-schedule-parsed-hourly\n",
      "calitp-gtfs-schedule-raw-v2\n",
      "calitp-gtfs-schedule-unzipped\n",
      "calitp-gtfs-schedule-unzipped-hourly\n",
      "calitp-gtfs-schedule-validation\n",
      "calitp-gtfs-schedule-validation-hourly\n",
      "calitp-jamesl-gcp-components-tfstate\n",
      "calitp-map-tiles\n",
      "calitp-ntd-data-products\n",
      "calitp-ntd-report-validation\n",
      "calitp-payments-littlepay-parsed\n",
      "calitp-payments-littlepay-raw\n",
      "calitp-prod-gcp-components-tfstate\n",
      "calitp-publish\n",
      "calitp-publish-data-analysis\n",
      "calitp-reports-data\n",
      "cold-storage-outputs-gtfs-data-test\n",
      "dataproc-staging-us-west2-1005246706141-sfgmtgyp\n",
      "dev-calitp-aggregator-scraper\n",
      "dev-calitp-gtfs-rt-raw\n",
      "dev-calitp-test-sandbox\n",
      "gtfs-data\n",
      "gtfs-data-test\n",
      "gtfs-schedule-backfill-test\n",
      "gtfs-schedule-backfill-test-deprecated\n",
      "ingest_amplitude_raw_prod\n",
      "littlepay-data-extract-prod\n",
      "rt-parsed\n",
      "rt-parsed-deprecated\n",
      "staging.cal-itp-data-infra.appspot.com\n",
      "test-calitp-aggregator-scraper\n",
      "test-calitp-airtable\n",
      "test-calitp-dbt-artifacts\n",
      "test-calitp-dbt-python-models\n",
      "test-calitp-elavon\n",
      "test-calitp-elavon-parsed\n",
      "test-calitp-elavon-raw\n",
      "test-calitp-gtfs-config\n",
      "test-calitp-gtfs-download-config\n",
      "test-calitp-gtfs-raw\n",
      "test-calitp-gtfs-rt-parsed\n",
      "test-calitp-gtfs-rt-raw\n",
      "test-calitp-gtfs-rt-raw-v2\n",
      "test-calitp-gtfs-rt-validation\n",
      "test-calitp-gtfs-schedule-parsed\n",
      "test-calitp-gtfs-schedule-parsed-hourly\n",
      "test-calitp-gtfs-schedule-processed\n",
      "test-calitp-gtfs-schedule-raw\n",
      "test-calitp-gtfs-schedule-raw-v2\n",
      "test-calitp-gtfs-schedule-raw-v2-backfill-test\n",
      "test-calitp-gtfs-schedule-unzipped\n",
      "test-calitp-gtfs-schedule-unzipped-hourly\n",
      "test-calitp-gtfs-schedule-validation\n",
      "test-calitp-gtfs-schedule-validation-hourly\n",
      "test-calitp-ntd-data-products\n",
      "test-calitp-ntd-report-validation\n",
      "test-calitp-payments-littlepay-parsed\n",
      "test-calitp-payments-littlepay-raw\n",
      "test-calitp-publish\n",
      "test-calitp-publish-data-analysis\n",
      "test-calitp-reports-data\n",
      "test-calitp-sentry\n",
      "test-rt-parsed\n",
      "test-rt-validations\n",
      "us-west2-calitp-airflow2-pr-171e4e47-bucket\n",
      "us.artifacts.cal-itp-data-infra.appspot.com\n"
     ]
    }
   ],
   "source": [
    "buckets = storage_client.list_buckets()\n",
    "buckets # <google.api_core.page_iterator.HTTPIterator at 0x7fc650b840d0>\n",
    "\n",
    "# this lists all the buckets in the Cal ITP project\n",
    "for bucket in buckets:\n",
    "        print(bucket.name)"
   ]
  },
  {
   "cell_type": "code",
   "execution_count": 12,
   "id": "472d5a23",
   "metadata": {
    "scrolled": true
   },
   "outputs": [
    {
     "data": {
      "text/plain": [
       "[<Blob: us.artifacts.cal-itp-data-infra.appspot.com, containers/images/sha256:012673bfdf8a902e8f90320ba2858e51708cac3e592b684e2c769c4330262fe8, 1630336376393109>,\n",
       " <Blob: us.artifacts.cal-itp-data-infra.appspot.com, containers/images/sha256:05f60bd112ef9c0d9ecdbc4bbb59743fea31ad7cdc4aefc7915258731734c9c9, 1630337085328912>,\n",
       " <Blob: us.artifacts.cal-itp-data-infra.appspot.com, containers/images/sha256:062ada600c9e0239e04bfc21da3719c4d0db3276450b28c455231f416015ba9f, 1626705521505559>,\n",
       " <Blob: us.artifacts.cal-itp-data-infra.appspot.com, containers/images/sha256:0ab5ec7719940ff567e31ea7bcb202c5a70cf97551c77fd8a9ffcffe8d8c6a57, 1630337083471178>,\n",
       " <Blob: us.artifacts.cal-itp-data-infra.appspot.com, containers/images/sha256:0bde298e076a8f3680a810ea79dc73250029fba8340b2380c138bfacb0101610, 1634311932186980>,\n",
       " <Blob: us.artifacts.cal-itp-data-infra.appspot.com, containers/images/sha256:0c02b2144076aedf7707e7763a5cd07fbd0de4ef631977075076b16c7fa0fc46, 1617909136841535>,\n",
       " <Blob: us.artifacts.cal-itp-data-infra.appspot.com, containers/images/sha256:0c6b8ff8c37e92eb1ca65ed8917e818927d5bf318b6f18896049b5d9afc28343, 1643300798899007>,\n",
       " <Blob: us.artifacts.cal-itp-data-infra.appspot.com, containers/images/sha256:0d92a37d25b8b5b05ee8bdc69dfc163e22ae298e5c1465d87be35d61083d3e50, 1643300800693752>,\n",
       " <Blob: us.artifacts.cal-itp-data-infra.appspot.com, containers/images/sha256:0e29546d541cdbd309281d21a73a9d1db78665c1b95b74f32b009e0b77a6e1e3, 1641595808177728>,\n",
       " <Blob: us.artifacts.cal-itp-data-infra.appspot.com, containers/images/sha256:0fdbe6c3fa8f92d63d829aa179373d676fca24babc8b3b86af0e1bc8b3471369, 1642011899229596>,\n",
       " <Blob: us.artifacts.cal-itp-data-infra.appspot.com, containers/images/sha256:11af5c51fa7314dfdc706cb630035fe7b180b12ed3603dd1530d436837c93d9e, 1647269023581872>,\n",
       " <Blob: us.artifacts.cal-itp-data-infra.appspot.com, containers/images/sha256:12abdd900563d02f06e465f3eff36c0923b01b7b1765c9548c4a971d476fe094, 1641595806702388>,\n",
       " <Blob: us.artifacts.cal-itp-data-infra.appspot.com, containers/images/sha256:12de8c754e45686ace9e25d11bee372b070eed5b5ab20aa3b4fab8c936496d02, 1647016310064560>,\n",
       " <Blob: us.artifacts.cal-itp-data-infra.appspot.com, containers/images/sha256:1334e0fe2851ea7f3d2509a3907312a665d7c6b085e1f0671f6cd2dcf37b82db, 1626705521884148>,\n",
       " <Blob: us.artifacts.cal-itp-data-infra.appspot.com, containers/images/sha256:134633f8863d9c6c43ee158adab89d2748bc762e9dbedb1687a57d0aad9be167, 1617911588100568>,\n",
       " <Blob: us.artifacts.cal-itp-data-infra.appspot.com, containers/images/sha256:138a5d56c7fd4bd2f1e12527414e3c5017f583ea46316b3f6cc1fa4df1c8e2f3, 1630337084299789>,\n",
       " <Blob: us.artifacts.cal-itp-data-infra.appspot.com, containers/images/sha256:15575fd59b0b47683e96eee643c7595d54ed0c60bc7efb18bfe31e41dcfc12d5, 1642011898986065>,\n",
       " <Blob: us.artifacts.cal-itp-data-infra.appspot.com, containers/images/sha256:162cd60083c29ec270882b5972133789e8e9cafee3e93b76fa7d2720dc546125, 1634311932628409>,\n",
       " <Blob: us.artifacts.cal-itp-data-infra.appspot.com, containers/images/sha256:16c8cbf0f44e1c165537f8ca65cca689d0079b35b15eafdcf1cab4d4514c34d9, 1643300798390348>,\n",
       " <Blob: us.artifacts.cal-itp-data-infra.appspot.com, containers/images/sha256:17bb0bd829314d08c33e86b2cc0c6f46b1dd4e721c834e3afb44c5fe6a9561ac, 1627398866697870>,\n",
       " <Blob: us.artifacts.cal-itp-data-infra.appspot.com, containers/images/sha256:17bb54d65d3c0f561cf44fbdc2177b8c2c44f1e674c216a116c947e44164e774, 1617909627606753>,\n",
       " <Blob: us.artifacts.cal-itp-data-infra.appspot.com, containers/images/sha256:1acf565088aae3ef2159885f29853bce88eb16082b0c98fcacd08fc9008c84b9, 1630337084494416>,\n",
       " <Blob: us.artifacts.cal-itp-data-infra.appspot.com, containers/images/sha256:1c3cf1a24fe3f1c137fb16981b4737a0a2e7564967f2f27a7a52e262088343f0, 1643300798339975>,\n",
       " <Blob: us.artifacts.cal-itp-data-infra.appspot.com, containers/images/sha256:1ec7c3bcb4b287487eab99f3ce2a6932f37957d4c904430c3acd8b2687a72244, 1626705521485220>,\n",
       " <Blob: us.artifacts.cal-itp-data-infra.appspot.com, containers/images/sha256:208ab81fda08334a21968ef373b9804cf408633e94d439793055cd8e486561aa, 1617909137990595>,\n",
       " <Blob: us.artifacts.cal-itp-data-infra.appspot.com, containers/images/sha256:23db909161a11350eaec030ed97cd5e7bfdff3a2072cdd685ba84fe83e34d611, 1641595807330064>,\n",
       " <Blob: us.artifacts.cal-itp-data-infra.appspot.com, containers/images/sha256:24b875db24d1ead357f254d85015a927c536406f39ecd772889c99f343d8cf0f, 1617910391023966>,\n",
       " <Blob: us.artifacts.cal-itp-data-infra.appspot.com, containers/images/sha256:254fb073403aeb06d76dc33ef5ec52a68b0db0fc1380ce2f064533c465410a84, 1630337086969841>,\n",
       " <Blob: us.artifacts.cal-itp-data-infra.appspot.com, containers/images/sha256:286aeeb5ccd6c965a1be1ef1ac3ec278923297e67875505e9acaa6ef2f411638, 1617909163542705>,\n",
       " <Blob: us.artifacts.cal-itp-data-infra.appspot.com, containers/images/sha256:28b7c1b4296dd05b35fe38e7fdf32e43ac28a496b34c67e861e98ec6c3ee8a25, 1641757515392088>,\n",
       " <Blob: us.artifacts.cal-itp-data-infra.appspot.com, containers/images/sha256:28d5c88297bd1ed51738e285cc320fba0a2274bef9e0019af7ebd6e06f1316ba, 1647269023617658>,\n",
       " <Blob: us.artifacts.cal-itp-data-infra.appspot.com, containers/images/sha256:2c7c1ad9ef8452470252c8279fe57473b8bbef909c8e68f91a5b1d6352e976ec, 1634311931959705>,\n",
       " <Blob: us.artifacts.cal-itp-data-infra.appspot.com, containers/images/sha256:2f2b2e030155d32fbf69b4feeced1877ce0e3f21b5f27b98eb080c3ef01a70df, 1647016309506237>,\n",
       " <Blob: us.artifacts.cal-itp-data-infra.appspot.com, containers/images/sha256:3274ca17d564b2bfb3481a161cd9dbfda04a81482d6fb7919a593eff5a83af1f, 1630336374567611>,\n",
       " <Blob: us.artifacts.cal-itp-data-infra.appspot.com, containers/images/sha256:32e2b26b2623a85fbd6b6dc2df97e1029da662dadc8d0a9b989599d7df1a5fde, 1643318032013506>,\n",
       " <Blob: us.artifacts.cal-itp-data-infra.appspot.com, containers/images/sha256:339b9e0dd56f692ce5a5d7260aa6d3073691ea884796c6a23661c9853f3a78eb, 1645028037729263>,\n",
       " <Blob: us.artifacts.cal-itp-data-infra.appspot.com, containers/images/sha256:3c24ae8b66041c09dabc913b6f16fb914d5640b53b10747a343ddc5bb5bd6769, 1634311932383630>,\n",
       " <Blob: us.artifacts.cal-itp-data-infra.appspot.com, containers/images/sha256:3c2cba919283a210665e480bcbf943eaaf4ed87a83f02e81bb286b8bdead0e75, 1617909137469939>,\n",
       " <Blob: us.artifacts.cal-itp-data-infra.appspot.com, containers/images/sha256:3f17120b662fce7fbaf269c93e4bcf6ba1e4389f86d16fcbbdf397596cc7a512, 1645028037403451>,\n",
       " <Blob: us.artifacts.cal-itp-data-infra.appspot.com, containers/images/sha256:40a42e6db467b743dc9437ce3d68f45241f75280516c2ecfb58194b0f556ec60, 1643300798410898>,\n",
       " <Blob: us.artifacts.cal-itp-data-infra.appspot.com, containers/images/sha256:412caad352a3ecbb29c080379407ae0761e7b9b454f7239cbfd1d1da25e06b29, 1643300798883938>,\n",
       " <Blob: us.artifacts.cal-itp-data-infra.appspot.com, containers/images/sha256:41a0ec658d7bffe989a0b8d6cdb98640672a2721e3a3056ebd42a3d9cf09c160, 1617911565519922>,\n",
       " <Blob: us.artifacts.cal-itp-data-infra.appspot.com, containers/images/sha256:451882dd93abf4588a14c7b21aaeeaa99804f8f5903b381a8b75bbdf17aed9a0, 1617909137980126>,\n",
       " <Blob: us.artifacts.cal-itp-data-infra.appspot.com, containers/images/sha256:454ad1f87c49bd00371bd81a927a2b1c61f3dc0727956f26e112eaa17dcf06b2, 1647016313474543>,\n",
       " <Blob: us.artifacts.cal-itp-data-infra.appspot.com, containers/images/sha256:461bb1d8c517c7f9fc0f1df66c9dc34c85a23421c1e1c540b2e28cbb258e75f5, 1643300798854384>,\n",
       " <Blob: us.artifacts.cal-itp-data-infra.appspot.com, containers/images/sha256:4b7424e0369c8657cd7aea5f7ad296817d4d0d016c18b4503e331d75e0d1e9f4, 1630337084296337>,\n",
       " <Blob: us.artifacts.cal-itp-data-infra.appspot.com, containers/images/sha256:4c25b3090c2685271afcffc2a4db73f15ab11a0124bfcde6085c934a4e6f4a51, 1630337084784059>,\n",
       " <Blob: us.artifacts.cal-itp-data-infra.appspot.com, containers/images/sha256:4cf366a44afafe6885bf5142dadfd715462a33da8ccec7f912e67afecd9caf34, 1617909136905517>,\n",
       " <Blob: us.artifacts.cal-itp-data-infra.appspot.com, containers/images/sha256:4f0c6a82e700f6fc1cc807998e5c287923701e5447fa20ded7c98ec2c86c52f7, 1617910392057040>,\n",
       " <Blob: us.artifacts.cal-itp-data-infra.appspot.com, containers/images/sha256:4ff1945c672b08a1791df62afaaf8aff14d3047155365f9c3646902937f7ffe6, 1647016310211429>,\n",
       " <Blob: us.artifacts.cal-itp-data-infra.appspot.com, containers/images/sha256:518ecc04d7405e2c37b9bb82101fca711e51af62dcc99095892fbfa966d40805, 1647016315013045>,\n",
       " <Blob: us.artifacts.cal-itp-data-infra.appspot.com, containers/images/sha256:532f6f7237092ebd79f21ccd3cf050138b31abeed1b29bac39cfdb30786a615b, 1626705521959065>,\n",
       " <Blob: us.artifacts.cal-itp-data-infra.appspot.com, containers/images/sha256:56fe4fa22bfa703d6d5460429fd04e46708ff6d336d1f1abb3a1c6c0a93b241f, 1626705523582832>,\n",
       " <Blob: us.artifacts.cal-itp-data-infra.appspot.com, containers/images/sha256:59be076fea2721b60c67676e685dc44a7c42784498fae524bb146276f3cb984f, 1634311934675137>,\n",
       " <Blob: us.artifacts.cal-itp-data-infra.appspot.com, containers/images/sha256:5b916a38ace463d2f8b2d66d34e2bf05c2ac5ff8d7785f18c983114e5d32901c, 1641757514150616>,\n",
       " <Blob: us.artifacts.cal-itp-data-infra.appspot.com, containers/images/sha256:5cf06daf65610482c638dcc63479a8281e667e37f7842219d66f2dedf63718f4, 1630337084161225>,\n",
       " <Blob: us.artifacts.cal-itp-data-infra.appspot.com, containers/images/sha256:5d0ddbf568b3ae1e9686605a95a104d96d655f18c3096e87bc23a7e4d35afa86, 1647016308944557>,\n",
       " <Blob: us.artifacts.cal-itp-data-infra.appspot.com, containers/images/sha256:5e55ba18a2089ef984cf68639e24e0699c2f0e06229e5c986f99f518e13a0079, 1647016308660518>,\n",
       " <Blob: us.artifacts.cal-itp-data-infra.appspot.com, containers/images/sha256:5e88ca15437b3dc8d05eeaf131cafadcf3cfa5cecf2983527f881ba1f67b84c3, 1630337083487160>,\n",
       " <Blob: us.artifacts.cal-itp-data-infra.appspot.com, containers/images/sha256:627ad10ca288a7ce45fa46a90e82a483a4555ab569523a134861994b499abfbb, 1617909136196129>,\n",
       " <Blob: us.artifacts.cal-itp-data-infra.appspot.com, containers/images/sha256:6320d69c2d86f66d1209cc6354da21bcfbdd25d78869d4d108367e81650605ac, 1647016309592041>,\n",
       " <Blob: us.artifacts.cal-itp-data-infra.appspot.com, containers/images/sha256:642b805c41dd114349b2c02ae8572bf6a8b6e937c427c92a3fc21dee1b1b38ce, 1641929268117178>,\n",
       " <Blob: us.artifacts.cal-itp-data-infra.appspot.com, containers/images/sha256:6494e4811622b31c027ccac322ca463937fd805f569a93e6f15c01aade718793, 1641595807249238>,\n",
       " <Blob: us.artifacts.cal-itp-data-infra.appspot.com, containers/images/sha256:64c0f10e4cfa269d154d1eb6cacfe7f80c8752cdba00f38e25b0cb19dc7cc34a, 1630337083858790>,\n",
       " <Blob: us.artifacts.cal-itp-data-infra.appspot.com, containers/images/sha256:64c6019915460fcde93e1459215af2e86bf5b3751da8a7b71608a775332ed6b7, 1641929270553630>,\n",
       " <Blob: us.artifacts.cal-itp-data-infra.appspot.com, containers/images/sha256:65d943ee54c1fa196b54ab9a6673174c66eea04cfa1a4ac5b0328b74f066a4d9, 1626705521976392>,\n",
       " <Blob: us.artifacts.cal-itp-data-infra.appspot.com, containers/images/sha256:69081f6d2ccce79109b5adfdfbb54dd2cd7781ba151ae32e3ff90650d76ced02, 1643300797965821>,\n",
       " <Blob: us.artifacts.cal-itp-data-infra.appspot.com, containers/images/sha256:6d8aa320c0a6145bc71832c0b2e6e4802267f94e223aa5fe09ce4e298ad9802b, 1642011901434344>,\n",
       " <Blob: us.artifacts.cal-itp-data-infra.appspot.com, containers/images/sha256:6e33c1a412b2e6aedaaec72815c3186f4fdfc7b0f9026c5dd7c0d4ca69de519c, 1643302632353918>,\n",
       " <Blob: us.artifacts.cal-itp-data-infra.appspot.com, containers/images/sha256:6f9f74896dfa93fe0172f594faba85e0b4e8a0481a0fefd9112efc7e4d3c78f7, 1641595807223550>,\n",
       " <Blob: us.artifacts.cal-itp-data-infra.appspot.com, containers/images/sha256:724cfd2dc19be12b837643ea67bd5ad7a6fd98049a88f02ec70eca30fa03a5a1, 1645028037657254>,\n",
       " <Blob: us.artifacts.cal-itp-data-infra.appspot.com, containers/images/sha256:73710ff333eae9ba9a41b1e9afa01e277054422e83fb941fba1ddd444166b427, 1647016309566401>,\n",
       " <Blob: us.artifacts.cal-itp-data-infra.appspot.com, containers/images/sha256:76571888410befe61a75dd27d009038714785fa5ccb4bdadfede174d14949e3d, 1630337083855950>,\n",
       " <Blob: us.artifacts.cal-itp-data-infra.appspot.com, containers/images/sha256:791fc4b2afed4abaedb12f3413d49cc2544afeb90d7ec422c16f6f50ef291ad3, 1643318015296561>,\n",
       " <Blob: us.artifacts.cal-itp-data-infra.appspot.com, containers/images/sha256:795304b2b9112f40a50de5f993302de3851fd6a2416b12b843bdc31af5c946b0, 1626705525159011>,\n",
       " <Blob: us.artifacts.cal-itp-data-infra.appspot.com, containers/images/sha256:7feebe900870e39c351c9026d419fa44e8e6989d2e120ee816bd484c6c2ec8b1, 1645028040015542>,\n",
       " <Blob: us.artifacts.cal-itp-data-infra.appspot.com, containers/images/sha256:808edda3c2e855dc13af758b35cefbcc417ad1ab4fead7f72234b09aeda893a0, 1643300798618462>,\n",
       " <Blob: us.artifacts.cal-itp-data-infra.appspot.com, containers/images/sha256:822da47770fef64cc8bd78deb6fe52b5e1e83255ac46bd1be26b85a0217f9bc0, 1634311932593312>,\n",
       " <Blob: us.artifacts.cal-itp-data-infra.appspot.com, containers/images/sha256:8662d96c83fd6fdf978df6724d21c8ee7287daf0c597e054b6c7f6aba0cd192d, 1641929268124859>,\n",
       " <Blob: us.artifacts.cal-itp-data-infra.appspot.com, containers/images/sha256:8792da60e6eb852c9a8f35588fc950aa46864b0a1a6e49f6a4e88acc47a596b7, 1643318033713823>,\n",
       " <Blob: us.artifacts.cal-itp-data-infra.appspot.com, containers/images/sha256:8962bc0fad55b13afedfeb6ad5cb06fd065461cf3e1ae4e7aeae5eeb17b179df, 1626705522227284>,\n",
       " <Blob: us.artifacts.cal-itp-data-infra.appspot.com, containers/images/sha256:8a4322d1621dec2def676639847e546c07a1da4ba0c035edb1036bf5fb45063b, 1634311932184447>,\n",
       " <Blob: us.artifacts.cal-itp-data-infra.appspot.com, containers/images/sha256:8d5b61bf6e76d3deb4b925b57e9519709f9b148a7791dba0abb15b4da2659090, 1617910366385294>,\n",
       " <Blob: us.artifacts.cal-itp-data-infra.appspot.com, containers/images/sha256:8fe83d3079f44e11b5b928791a7221f19be70efbd8e2dfe6a6f7bfc3cec7a531, 1626705522249434>,\n",
       " <Blob: us.artifacts.cal-itp-data-infra.appspot.com, containers/images/sha256:8fea50ba36745ae611e63664ab0a61a4ad8fd25230448d9e850849b590cb22ef, 1617909162524814>,\n",
       " <Blob: us.artifacts.cal-itp-data-infra.appspot.com, containers/images/sha256:90528f72b4348fe2953c34ff7b95b3569007c9cb47a77c8c1046b1fe141ccc72, 1627398864087560>,\n",
       " <Blob: us.artifacts.cal-itp-data-infra.appspot.com, containers/images/sha256:942374d5c11438b68e78d44b36c9eac8fe0a2570c33681d7263b0f3f069c06b9, 1630337084149754>,\n",
       " <Blob: us.artifacts.cal-itp-data-infra.appspot.com, containers/images/sha256:9a8e94ad8d02c8c15b22728311dc207fe3e6e2492adde032bd410a5079517adf, 1643318015340184>,\n",
       " <Blob: us.artifacts.cal-itp-data-infra.appspot.com, containers/images/sha256:9b66a4f06001c25200bf5697980a311f70b4e057b0d0891332aadbc0995dd14c, 1643302630728864>,\n",
       " <Blob: us.artifacts.cal-itp-data-infra.appspot.com, containers/images/sha256:9b829c73b52b92b97d5c07a54fb0f3e921995a296c714b53a32ae67d19231fcd, 1641595807701993>,\n",
       " <Blob: us.artifacts.cal-itp-data-infra.appspot.com, containers/images/sha256:9bfe4dd1ecef0508aba3c9046b31cf6671e80df85f92bedacdb28b713f7f1f8d, 1645028036858722>,\n",
       " <Blob: us.artifacts.cal-itp-data-infra.appspot.com, containers/images/sha256:9e2dcfe3ddc3298d80e1fbf3db42f61198903590af8857d3a012f125bd7ae4e0, 1617909137467995>,\n",
       " <Blob: us.artifacts.cal-itp-data-infra.appspot.com, containers/images/sha256:a2afa66c68a026c735396c4eacda5cc3c8b62376430f0ecd02df44da2c6f7d6c, 1645028038500898>,\n",
       " <Blob: us.artifacts.cal-itp-data-infra.appspot.com, containers/images/sha256:a613ae160be035979666fa2b186fdd7b7b89eb20ee190a18d30914aef004e550, 1643302629987548>,\n",
       " <Blob: us.artifacts.cal-itp-data-infra.appspot.com, containers/images/sha256:a949fef34d76434408bd8aa65d4a5d35efc8427caf6d2dc0364131a3a742a509, 1643302629997395>,\n",
       " <Blob: us.artifacts.cal-itp-data-infra.appspot.com, containers/images/sha256:ac44072fd63979357558886d6d591a422efc18f438aa71c72c4479a46d26223a, 1617909626289560>,\n",
       " <Blob: us.artifacts.cal-itp-data-infra.appspot.com, containers/images/sha256:ada1762e76024dd216336649249fc2470257acc5af277bae3c71710382df345f, 1647016309783165>,\n",
       " <Blob: us.artifacts.cal-itp-data-infra.appspot.com, containers/images/sha256:aec2e3a8937195ce2863f352c687f204daf3f261310254bb290ce1e5a82ec005, 1626705521491638>,\n",
       " <Blob: us.artifacts.cal-itp-data-infra.appspot.com, containers/images/sha256:b511421cb797606b5700a392af68ab88fdd3dec3fbbbf47de941f307cb0efa38, 1617909137406850>,\n",
       " <Blob: us.artifacts.cal-itp-data-infra.appspot.com, containers/images/sha256:b8deb11649443d56be499b169bf396c881c2360b08f4c73603d683a888dc8394, 1643300798382010>,\n",
       " <Blob: us.artifacts.cal-itp-data-infra.appspot.com, containers/images/sha256:b95c0dd0dc0d3d367cc5b85f86d8881afb658e8eb341a86daf3835c2f14159ac, 1630337084433730>,\n",
       " <Blob: us.artifacts.cal-itp-data-infra.appspot.com, containers/images/sha256:bb7d5a84853b217ac05783963f12b034243070c1c9c8d2e60ada47444f3cce04, 1634311932822081>,\n",
       " <Blob: us.artifacts.cal-itp-data-infra.appspot.com, containers/images/sha256:bc8195608be8dbb1b971bfb728ecb021ed81c485fef3ac7357450d064810be79, 1617911589467391>,\n",
       " <Blob: us.artifacts.cal-itp-data-infra.appspot.com, containers/images/sha256:c0707b06f9d54727d886054ce3f3892ac8529a3214ec5d488a1e98d8ae1e1dcc, 1641757514220392>,\n",
       " <Blob: us.artifacts.cal-itp-data-infra.appspot.com, containers/images/sha256:c700d5891fdb9f2b517ea3cd74c27533d90f003b03ae4812e448ef038ace961d, 1642011899794744>,\n",
       " <Blob: us.artifacts.cal-itp-data-infra.appspot.com, containers/images/sha256:c70f1f96633e7052f03051365fc9a9133fac67fb28d717d64b5f1b0cf8405d08, 1641595807332174>,\n",
       " <Blob: us.artifacts.cal-itp-data-infra.appspot.com, containers/images/sha256:c9d2d81226a43a97871acd5afb7e8aabfad4d6b62ae1709c870df3ee230bc3f5, 1634311932402736>,\n",
       " <Blob: us.artifacts.cal-itp-data-infra.appspot.com, containers/images/sha256:cb5b7ae361722f070eca53f35823ed21baa85d61d5d95cd5a95ab53d740cdd56, 1641595807682712>,\n",
       " <Blob: us.artifacts.cal-itp-data-infra.appspot.com, containers/images/sha256:ccba14545fc249e01a059ed19c9da742925e63ee83b3f25a870f2a8b6e7fec0d, 1641595806119421>,\n",
       " <Blob: us.artifacts.cal-itp-data-infra.appspot.com, containers/images/sha256:cd2d1026cb7d4b50342b08df53e2047c68dc6f9052b3c2c594ea21bd9baaf991, 1641757516740981>,\n",
       " <Blob: us.artifacts.cal-itp-data-infra.appspot.com, containers/images/sha256:cde126eda03f050ef5591c9cb6031850c66856e4fadad1f6932b6bd5e244d18c, 1627398864112213>,\n",
       " <Blob: us.artifacts.cal-itp-data-infra.appspot.com, containers/images/sha256:ce21177acd67c25d69574679d8f31e502a49070a1eb469c78d858f9df0923692, 1643300797711244>,\n",
       " <Blob: us.artifacts.cal-itp-data-infra.appspot.com, containers/images/sha256:ce66a62d86ba662bf688b0421375aad47229d9422b553dc35bc448099fbd0296, 1647269024304893>,\n",
       " <Blob: us.artifacts.cal-itp-data-infra.appspot.com, containers/images/sha256:cf33d4667dafd0be09e8047cd63e59e6fc5a9d7fb33f1aac9e5f08ed3df3731b, 1634311933439693>,\n",
       " <Blob: us.artifacts.cal-itp-data-infra.appspot.com, containers/images/sha256:cfadf9880bc25d1742a2df5ca43f674d18f762e923e97b900127ccde903fe233, 1641595806119392>,\n",
       " <Blob: us.artifacts.cal-itp-data-infra.appspot.com, containers/images/sha256:d1aa47c7b599c5f5d078d40e8b46942fac687550fcd161809ba31624106b0a39, 1643300798184602>,\n",
       " <Blob: us.artifacts.cal-itp-data-infra.appspot.com, containers/images/sha256:d32e17419b7ee61bbd89c2f0d2833a99cf45e594257d15cb567e4cf7771ce34a, 1634311932594279>,\n",
       " <Blob: us.artifacts.cal-itp-data-infra.appspot.com, containers/images/sha256:d615f360f415b91ebcb572013923412b0caab50c442b4e59f289fc28b6ba7f29, 1627398865071181>,\n",
       " <Blob: us.artifacts.cal-itp-data-infra.appspot.com, containers/images/sha256:d80855ff7bdfde83d0e6fd1e02ca935b23449d5c26bcfca9fe2912e8bc5d040a, 1617909136870505>,\n",
       " <Blob: us.artifacts.cal-itp-data-infra.appspot.com, containers/images/sha256:d86a944eeb7ba6aa631616d325ac5850e2d7a32cb293bfc0594c71c03e69c613, 1617909602504127>,\n",
       " <Blob: us.artifacts.cal-itp-data-infra.appspot.com, containers/images/sha256:d960726af2bec62a87ceb07182f7b94c47be03909077e23d8226658f80b47f87, 1626705522440469>,\n",
       " <Blob: us.artifacts.cal-itp-data-infra.appspot.com, containers/images/sha256:d9e0b7c3a02a80b9687533f8198be65298e8191283e052c701a28a1a0436ed8f, 1635252376573409>,\n",
       " <Blob: us.artifacts.cal-itp-data-infra.appspot.com, containers/images/sha256:da518107cac61af14aa37f515007d29cc7edb0cd07a062f8ac76d6f01422406c, 1641595812327755>,\n",
       " <Blob: us.artifacts.cal-itp-data-infra.appspot.com, containers/images/sha256:daafe55ab30d753fff1202dd4524d8319578546a4583e2a37d1c41c95e8c7729, 1645028037133980>,\n",
       " <Blob: us.artifacts.cal-itp-data-infra.appspot.com, containers/images/sha256:dd003fb68ae6b57eb2c0418fc62de0b799fd9de2d7ee63e3a0e53bd9b198ae9b, 1641929268935380>,\n",
       " <Blob: us.artifacts.cal-itp-data-infra.appspot.com, containers/images/sha256:dda0b0fc259f419fb4b99c6e64859200b2587f77581a3bf87e3d8764b11b0654, 1643300799251636>,\n",
       " <Blob: us.artifacts.cal-itp-data-infra.appspot.com, containers/images/sha256:dfcb1f30e47486d7246eb3e29eabe61622d686aa32f5802ab0c0b4287eed6ce5, 1635252374431772>,\n",
       " <Blob: us.artifacts.cal-itp-data-infra.appspot.com, containers/images/sha256:e169b6c7c6289494dc183375db05b4297cc0b18565b9929a3c0f8f70c8188379, 1634311931959529>,\n",
       " <Blob: us.artifacts.cal-itp-data-infra.appspot.com, containers/images/sha256:e34717301b0358a2e3706f95253b3ae0da77a78e0e39e2dabce565db1cbebcc8, 1645028037731657>,\n",
       " <Blob: us.artifacts.cal-itp-data-infra.appspot.com, containers/images/sha256:e4d61adff2077d048c6372d73c41b0bd68f525ad41f5530af05098a876683055, 1647016310334835>,\n",
       " <Blob: us.artifacts.cal-itp-data-infra.appspot.com, containers/images/sha256:e671b59d768a5b276167ba5a98a94b02effd9a73b6a56770a8736b37d092b267, 1647269025509216>,\n",
       " <Blob: us.artifacts.cal-itp-data-infra.appspot.com, containers/images/sha256:e6795237ff68c894c8607222a1d8675e85587cbf894e2121f95003dcf69a5e22, 1641595814525695>,\n",
       " <Blob: us.artifacts.cal-itp-data-infra.appspot.com, containers/images/sha256:e6d3e61f7a504fa66d7275123969e9917570188650eb84b2280a726b996040f6, 1643300798836282>,\n",
       " <Blob: us.artifacts.cal-itp-data-infra.appspot.com, containers/images/sha256:e6f236c5938781f70b8d1c2453095503ce7489031fc3d5f226ec78c2fa5ca2a5, 1617909136157400>,\n",
       " <Blob: us.artifacts.cal-itp-data-infra.appspot.com, containers/images/sha256:e8d62473a22dec9ffef056b2017968a9dc484c8f836fb6d79f46980b309e9138, 1626705522383271>,\n",
       " <Blob: us.artifacts.cal-itp-data-infra.appspot.com, containers/images/sha256:ea44eb1fdfdfc0133ed12738a109ae882e96d71a4898656e35862317934e5547, 1643302629989352>,\n",
       " <Blob: us.artifacts.cal-itp-data-infra.appspot.com, containers/images/sha256:ee4603f648b4665515739b43a2902be771f0048101946f8521857ff6c03e7008, 1617909136205510>,\n",
       " <Blob: us.artifacts.cal-itp-data-infra.appspot.com, containers/images/sha256:ef035ad2cec7bf91bb16b9797a1b42de02dbd534385bf5923756cdd89d9178b9, 1617909138532016>,\n",
       " <Blob: us.artifacts.cal-itp-data-infra.appspot.com, containers/images/sha256:f02b617c6a8c415a175f44d7e2c5d3b521059f2a6112c5f022e005a44a759f2d, 1634311932649549>,\n",
       " <Blob: us.artifacts.cal-itp-data-infra.appspot.com, containers/images/sha256:f56ac2f3eb90d43db3c4575d513e6dfdb1c5cff4d4c9fbc7be90052701a2997e, 1643318015282109>,\n",
       " <Blob: us.artifacts.cal-itp-data-infra.appspot.com, containers/images/sha256:f6027d367705c99099e7884a7d6b36efa0bccd833701feaa66d36d55c0cb46b1, 1647016309212770>,\n",
       " <Blob: us.artifacts.cal-itp-data-infra.appspot.com, containers/images/sha256:f66b090fe0682d6d4ee3133d8254afa014bda4830b1803eb5d1fc65f00b4bfdb, 1645028037730434>,\n",
       " <Blob: us.artifacts.cal-itp-data-infra.appspot.com, containers/images/sha256:f6add89785475f7e0f7a1a91e67f00f99c7317ba2d6e8657dc1a262d2f83f401, 1647016310452384>,\n",
       " <Blob: us.artifacts.cal-itp-data-infra.appspot.com, containers/images/sha256:fcb6d5f7c98604476fda91fe5f61be5b56fdc398814fb15f7ea998f53023e774, 1641595806677479>,\n",
       " <Blob: us.artifacts.cal-itp-data-infra.appspot.com, containers/images/sha256:fdc5585e0835e1f57cae18bb717a77aeb1ba8dd2c72317251ae23b4f56930a76, 1647269023567062>,\n",
       " <Blob: us.artifacts.cal-itp-data-infra.appspot.com, containers/images/sha256:ff5b10aec998344606441aec43a335ab6326f32aae331aab27da16a6bb4ec2be, 1647016310267466>]"
      ]
     },
     "execution_count": 12,
     "metadata": {},
     "output_type": "execute_result"
    }
   ],
   "source": [
    "## Not super useful \n",
    "\n",
    "blobs = list(bucket.list_blobs())\n",
    "blobs"
   ]
  },
  {
   "cell_type": "code",
   "execution_count": 10,
   "id": "a4183865",
   "metadata": {},
   "outputs": [
    {
     "data": {
      "text/plain": [
       "<google.api_core.page_iterator.HTTPIterator at 0x7f97b87b2520>"
      ]
     },
     "execution_count": 10,
     "metadata": {},
     "output_type": "execute_result"
    }
   ],
   "source": [
    "storage_client.list_blobs(\"calitp-ntd-report-validation\")"
   ]
  },
  {
   "cell_type": "markdown",
   "id": "42a550cb",
   "metadata": {},
   "source": [
    "### Find the correct bucket, then search for the latest data \n",
    "Grab all report files (BlackCat submitted reports are stored in GCS in excel files)  \n",
    "a. Grab all files that start with the filename for each particular report (e.g., \"NTD_Annual_Report_Rural_2023_<dateuploaded>.xlsx\" for the RR-20)  \n",
    "b. Function to get the latest one (based on end of filename) - these files have data for ALL ORGS that have submitted so far  \n",
    "c. henceforth referred to as \"DATASET A\""
   ]
  },
  {
   "cell_type": "markdown",
   "id": "5a57fa1e",
   "metadata": {},
   "source": [
    "USING THE `calitp` LIBRARY - using `storage_client.get_bucket('calitp-ntd-report-validation')` doesn't work for me on Airflow despite working here. Authentication issue when trying on Airflow?  \n",
    "  \n",
    "https://gcsfs.readthedocs.io/en/latest/api.html"
   ]
  },
  {
   "cell_type": "code",
   "execution_count": 17,
   "id": "d51c3126",
   "metadata": {},
   "outputs": [],
   "source": [
    "import sys\n",
    "sys.path.insert(0, \"/Users/kim.engie/Dev/caltrans/git_repos/data-infra/packages/calitp-data-infra\")\n",
    "from calitp_data_infra.storage import get_fs\n",
    "\n",
    "\n",
    "fs = get_fs()\n",
    "# type(fs)\n",
    "# fs.ls('calitp-ntd-report-validation')\n",
    "# type(fs.ls('calitp-ntd-report-validation'))\n",
    "# print(fs.ls('calitp-ntd-report-validation'))"
   ]
  },
  {
   "cell_type": "code",
   "execution_count": 33,
   "id": "ab249b2c",
   "metadata": {},
   "outputs": [
    {
     "data": {
      "text/plain": [
       "['calitp-ntd-report-validation/blackcat_ntd_reports_2023_raw/',\n",
       " 'calitp-ntd-report-validation/blackcat_ntd_reports_2023_raw/A_30_Revenue_Vehicle_Report _2023_2023-10-17.xlsx',\n",
       " 'calitp-ntd-report-validation/blackcat_ntd_reports_2023_raw/A_30_Revenue_Vehicle_Report_2023_2023-10-04.xlsx',\n",
       " 'calitp-ntd-report-validation/blackcat_ntd_reports_2023_raw/A_30_Revenue_Vehicle_Report_2023_2023-10-10.xlsx',\n",
       " 'calitp-ntd-report-validation/blackcat_ntd_reports_2023_raw/A_30_Revenue_Vehicle_Report_2023_2023-10-24.xlsx',\n",
       " 'calitp-ntd-report-validation/blackcat_ntd_reports_2023_raw/NTD_Annual_Report_Rural_2023_2023-09-28.xlsx',\n",
       " 'calitp-ntd-report-validation/blackcat_ntd_reports_2023_raw/NTD_Annual_Report_Rural_2023_2023-10-05.xlsx',\n",
       " 'calitp-ntd-report-validation/blackcat_ntd_reports_2023_raw/NTD_Annual_Report_Rural_2023_2023-10-10.xlsx',\n",
       " 'calitp-ntd-report-validation/blackcat_ntd_reports_2023_raw/NTD_Annual_Report_Rural_2023_2023-10-17.xlsx',\n",
       " 'calitp-ntd-report-validation/blackcat_ntd_reports_2023_raw/NTD_Annual_Report_Rural_2023_2023-10-24.xlsx',\n",
       " 'calitp-ntd-report-validation/blackcat_ntd_reports_2023_raw/NTD_Stations_and_Maintenace_Facilities_A10_2023_2023-10-05.xlsx',\n",
       " 'calitp-ntd-report-validation/blackcat_ntd_reports_2023_raw/NTD_Stations_and_Maintenace_Facilities_A10_2023_2023-10-10.xlsx',\n",
       " 'calitp-ntd-report-validation/blackcat_ntd_reports_2023_raw/NTD_Stations_and_Maintenace_Facilities_A10_2023_2023-10-17.xlsx',\n",
       " 'calitp-ntd-report-validation/blackcat_ntd_reports_2023_raw/NTD_Stations_and_Maintenace_Facilities_A10_2023_2023-10-24.xlsx',\n",
       " 'calitp-ntd-report-validation/blackcat_ntd_reports_2023_raw/RevenueVehicles_2023-10-04.xlsx']"
      ]
     },
     "execution_count": 33,
     "metadata": {},
     "output_type": "execute_result"
    }
   ],
   "source": [
    "fs.ls('calitp-ntd-report-validation/blackcat_ntd_reports_2023_raw')\n",
    "# fs.isdir('calitp-ntd-report-validation/blackcat_ntd_reports_2023_raw')   #False"
   ]
  },
  {
   "cell_type": "code",
   "execution_count": 34,
   "id": "998306bd",
   "metadata": {},
   "outputs": [],
   "source": [
    "# Need dict code table to decipher a) forms to files - will be the BEGINNING of the form name\n",
    "this_year=datetime.datetime.now().year\n",
    "# print(this_year)\n",
    "\n",
    "\n",
    "form_to_file_dict = {\n",
    "    \"RR-20\": f\"NTD_Annual_Report_Rural_{this_year}\",\n",
    "    \"A-30\": f\"A_30_Revenue_Vehicle_Report_{this_year}\",\n",
    "    \"A-10\": f\"NTD_Stations_and_Maintenace_Facilities_A10_{this_year}\",\n",
    "    \"Inventory\": \"RevenueVehicles\"\n",
    "}\n"
   ]
  },
  {
   "cell_type": "code",
   "execution_count": 35,
   "id": "83d5d274",
   "metadata": {},
   "outputs": [
    {
     "name": "stdout",
     "output_type": "stream",
     "text": [
      "NTD_Annual_Report_Rural_2023\n"
     ]
    }
   ],
   "source": [
    "form_to_check = \"RR-20\"\n",
    "file_prefix = form_to_file_dict.get(form_to_check) #'NTD_Annual_Report_Rural_2023'\n",
    "print(file_prefix)"
   ]
  },
  {
   "cell_type": "code",
   "execution_count": 38,
   "id": "c9585979",
   "metadata": {},
   "outputs": [
    {
     "name": "stdout",
     "output_type": "stream",
     "text": [
      "calitp-ntd-report-validation/blackcat_ntd_reports_2023_raw/NTD_Annual_Report_Rural_2023_2023-09-28.xlsx\n",
      "['2023-09-28']\n",
      "calitp-ntd-report-validation/blackcat_ntd_reports_2023_raw/NTD_Annual_Report_Rural_2023_2023-10-05.xlsx\n",
      "['2023-09-28', '2023-10-05']\n",
      "calitp-ntd-report-validation/blackcat_ntd_reports_2023_raw/NTD_Annual_Report_Rural_2023_2023-10-10.xlsx\n",
      "['2023-09-28', '2023-10-05', '2023-10-10']\n",
      "calitp-ntd-report-validation/blackcat_ntd_reports_2023_raw/NTD_Annual_Report_Rural_2023_2023-10-17.xlsx\n",
      "['2023-09-28', '2023-10-05', '2023-10-10', '2023-10-17']\n",
      "calitp-ntd-report-validation/blackcat_ntd_reports_2023_raw/NTD_Annual_Report_Rural_2023_2023-10-24.xlsx\n",
      "['2023-09-28', '2023-10-05', '2023-10-10', '2023-10-17', '2023-10-24']\n",
      "['2023-10-24', '2023-10-17', '2023-10-10', '2023-10-05', '2023-09-28']\n"
     ]
    }
   ],
   "source": [
    "# Get the most recent file in the raw bucket\n",
    "all_dates=[]\n",
    "for file in fs.ls('calitp-ntd-report-validation/blackcat_ntd_reports_2023_raw'):\n",
    "    if file_prefix in file:\n",
    "        print(file)\n",
    "        f = file.split('/')[-1]\n",
    "#         print(f)\n",
    "        fdate = re.search(r'(\\d{4}-\\d{2}-\\d{2})', f).group()\n",
    "        all_dates.append(fdate)\n",
    "        print(all_dates)\n",
    "    else:\n",
    "        pass\n",
    "\n",
    "all_dates.sort(key=lambda date: datetime.datetime.strptime(date, \"%Y-%m-%d\"), reverse=True)\n",
    "print(all_dates)"
   ]
  },
  {
   "cell_type": "code",
   "execution_count": 49,
   "id": "2738b9b7",
   "metadata": {},
   "outputs": [
    {
     "data": {
      "text/plain": [
       "'calitp-ntd-report-validation/blackcat_ntd_reports_2023_raw/NTD_Annual_Report_Rural_2023_2023-10-24.xlsx'"
      ]
     },
     "execution_count": 49,
     "metadata": {},
     "output_type": "execute_result"
    }
   ],
   "source": [
    "latest_date = all_dates[0]\n",
    "latest_date\n",
    "\n",
    "for file in fs.ls('calitp-ntd-report-validation/blackcat_ntd_reports_2023_raw'):\n",
    "    if (latest_date in file) and (file_prefix in file):\n",
    "        latest_file = file\n",
    "\n",
    "latest_file"
   ]
  },
  {
   "cell_type": "markdown",
   "id": "60d57eb9",
   "metadata": {},
   "source": [
    "### Pull data from latest file, and compare to existing data in BG\n",
    "Next: cycle through each worksheet, filter by org, pull raw data in BQ and compare.  \n",
    "* Grab the appropriate table from the \"blackcat_raw\" dataset in BigQuery (What we already have)\n",
    "* henceforth referred to as \"DATASET B\"  \n",
    "For loop to go through by each org in DATASET A and:  \n",
    "* create temp data frames of their data only, from DATASET A and DATASET B\n",
    "* Delete timestamp of date uploaded, from DATASET B\n",
    "* compare to see if identical\n",
    "* if so, pass\n"
   ]
  },
  {
   "cell_type": "code",
   "execution_count": 43,
   "id": "d83ee99e",
   "metadata": {},
   "outputs": [],
   "source": [
    "form_to_sheets_dict = {\n",
    "        \"RR-20\": ['Basics.Contacts', 'Modes', 'Expenses By Mode', 'Revenues By Mode', 'Financials - 2', 'Service Data', 'Safety', 'Other Resources'],\n",
    "        \"A-30\": ['A-30 (Rural) RVI'],\n",
    "        \"A-10\": ['PurchaseTranspFacOwnTypes', 'DirectlyOperatedFacOwnTypes'],\n",
    "        \"Inventory\": ['Revenue Vehicles']\n",
    "    }"
   ]
  },
  {
   "cell_type": "code",
   "execution_count": 44,
   "id": "eb099907",
   "metadata": {},
   "outputs": [
    {
     "data": {
      "text/plain": [
       "['Basics.Contacts',\n",
       " 'Modes',\n",
       " 'Expenses By Mode',\n",
       " 'Revenues By Mode',\n",
       " 'Financials - 2',\n",
       " 'Service Data',\n",
       " 'Safety',\n",
       " 'Other Resources']"
      ]
     },
     "execution_count": 44,
     "metadata": {},
     "output_type": "execute_result"
    }
   ],
   "source": [
    "# Get the worksheet names for the specific file we're loading.\n",
    "our_sheets = form_to_sheets_dict.get(form_to_check)\n",
    "our_sheets"
   ]
  },
  {
   "cell_type": "code",
   "execution_count": 45,
   "id": "ba8a046d",
   "metadata": {},
   "outputs": [],
   "source": [
    "def load_excel_data(filepath, sheetname):\n",
    "    df = pd.read_excel(filepath,\n",
    "                        sheet_name=sheetname,\n",
    "                        index_col=None)\n",
    "    return df\n"
   ]
  },
  {
   "cell_type": "code",
   "execution_count": 46,
   "id": "7b7ed889",
   "metadata": {},
   "outputs": [],
   "source": [
    "# This is only for getting a list of the subrecipients that are in the raw data - \n",
    "# if we're checking the RR-20, pull from the 2nd sheet (skip the 1st contacts info cuz it looks like it always lists everyone, regardless of who actually submitted something)\n",
    "# all other forms have only 1 worksheet so just grab that one.\n",
    "\n",
    "if form_to_check == \"RR-20\":\n",
    "    sheet = form_to_sheets_dict.get(form_to_check)[1]\n",
    "else:\n",
    "    sheet = form_to_sheets_dict.get(form_to_check)[0]"
   ]
  },
  {
   "cell_type": "code",
   "execution_count": 47,
   "id": "75a2efed",
   "metadata": {},
   "outputs": [
    {
     "data": {
      "text/plain": [
       "'Modes'"
      ]
     },
     "execution_count": 47,
     "metadata": {},
     "output_type": "execute_result"
    }
   ],
   "source": [
    "sheet"
   ]
  },
  {
   "cell_type": "code",
   "execution_count": 50,
   "id": "156472ed",
   "metadata": {},
   "outputs": [
    {
     "data": {
      "text/html": [
       "<div>\n",
       "<style scoped>\n",
       "    .dataframe tbody tr th:only-of-type {\n",
       "        vertical-align: middle;\n",
       "    }\n",
       "\n",
       "    .dataframe tbody tr th {\n",
       "        vertical-align: top;\n",
       "    }\n",
       "\n",
       "    .dataframe thead th {\n",
       "        text-align: right;\n",
       "    }\n",
       "</style>\n",
       "<table border=\"1\" class=\"dataframe\">\n",
       "  <thead>\n",
       "    <tr style=\"text-align: right;\">\n",
       "      <th></th>\n",
       "      <th>Organization Legal Name</th>\n",
       "      <th>Common Name/Acronym/DBA</th>\n",
       "      <th>Fiscal Year</th>\n",
       "      <th>Operating/Capital</th>\n",
       "      <th>Mode</th>\n",
       "      <th>Total Annual Expenses By Mode</th>\n",
       "    </tr>\n",
       "  </thead>\n",
       "  <tbody>\n",
       "    <tr>\n",
       "      <th>0</th>\n",
       "      <td>Amador Transit</td>\n",
       "      <td>NaN</td>\n",
       "      <td>2023</td>\n",
       "      <td>Capital</td>\n",
       "      <td>Commuter Bus (CB) - (DO)</td>\n",
       "      <td>0.0</td>\n",
       "    </tr>\n",
       "    <tr>\n",
       "      <th>1</th>\n",
       "      <td>Amador Transit</td>\n",
       "      <td>NaN</td>\n",
       "      <td>2023</td>\n",
       "      <td>Capital</td>\n",
       "      <td>Demand Response (DR) - (DO)</td>\n",
       "      <td>0.0</td>\n",
       "    </tr>\n",
       "    <tr>\n",
       "      <th>2</th>\n",
       "      <td>Amador Transit</td>\n",
       "      <td>NaN</td>\n",
       "      <td>2023</td>\n",
       "      <td>Capital</td>\n",
       "      <td>Deviated Fixed Route (DF) - (DO)</td>\n",
       "      <td>0.0</td>\n",
       "    </tr>\n",
       "    <tr>\n",
       "      <th>3</th>\n",
       "      <td>Amador Transit</td>\n",
       "      <td>NaN</td>\n",
       "      <td>2023</td>\n",
       "      <td>Operating</td>\n",
       "      <td>Commuter Bus (CB) - (DO)</td>\n",
       "      <td>196746.0</td>\n",
       "    </tr>\n",
       "    <tr>\n",
       "      <th>4</th>\n",
       "      <td>Amador Transit</td>\n",
       "      <td>NaN</td>\n",
       "      <td>2023</td>\n",
       "      <td>Operating</td>\n",
       "      <td>Demand Response (DR) - (DO)</td>\n",
       "      <td>394415.0</td>\n",
       "    </tr>\n",
       "    <tr>\n",
       "      <th>...</th>\n",
       "      <td>...</td>\n",
       "      <td>...</td>\n",
       "      <td>...</td>\n",
       "      <td>...</td>\n",
       "      <td>...</td>\n",
       "      <td>...</td>\n",
       "    </tr>\n",
       "    <tr>\n",
       "      <th>145</th>\n",
       "      <td>Tuolumne County Transit Agency (TCTA)</td>\n",
       "      <td>TCT</td>\n",
       "      <td>2023</td>\n",
       "      <td>Capital</td>\n",
       "      <td>Demand Response (DR) - (PT)</td>\n",
       "      <td>0.0</td>\n",
       "    </tr>\n",
       "    <tr>\n",
       "      <th>146</th>\n",
       "      <td>Tuolumne County Transit Agency (TCTA)</td>\n",
       "      <td>TCT</td>\n",
       "      <td>2023</td>\n",
       "      <td>Operating</td>\n",
       "      <td>Bus (MB) (Fixed Route) - (PT)</td>\n",
       "      <td>997518.0</td>\n",
       "    </tr>\n",
       "    <tr>\n",
       "      <th>147</th>\n",
       "      <td>Tuolumne County Transit Agency (TCTA)</td>\n",
       "      <td>TCT</td>\n",
       "      <td>2023</td>\n",
       "      <td>Operating</td>\n",
       "      <td>Demand Response (DR) - (PT)</td>\n",
       "      <td>1436041.0</td>\n",
       "    </tr>\n",
       "    <tr>\n",
       "      <th>148</th>\n",
       "      <td>Yosemite Area Regional Transportation System</td>\n",
       "      <td>YARTS</td>\n",
       "      <td>2023</td>\n",
       "      <td>Capital</td>\n",
       "      <td>Bus (MB) (Fixed Route) - (PT)</td>\n",
       "      <td>2429189.0</td>\n",
       "    </tr>\n",
       "    <tr>\n",
       "      <th>149</th>\n",
       "      <td>Yosemite Area Regional Transportation System</td>\n",
       "      <td>YARTS</td>\n",
       "      <td>2023</td>\n",
       "      <td>Operating</td>\n",
       "      <td>Bus (MB) (Fixed Route) - (PT)</td>\n",
       "      <td>3678726.0</td>\n",
       "    </tr>\n",
       "  </tbody>\n",
       "</table>\n",
       "<p>150 rows × 6 columns</p>\n",
       "</div>"
      ],
      "text/plain": [
       "                           Organization Legal Name Common Name/Acronym/DBA  \\\n",
       "0                                   Amador Transit                     NaN   \n",
       "1                                   Amador Transit                     NaN   \n",
       "2                                   Amador Transit                     NaN   \n",
       "3                                   Amador Transit                     NaN   \n",
       "4                                   Amador Transit                     NaN   \n",
       "..                                             ...                     ...   \n",
       "145          Tuolumne County Transit Agency (TCTA)                     TCT   \n",
       "146          Tuolumne County Transit Agency (TCTA)                     TCT   \n",
       "147          Tuolumne County Transit Agency (TCTA)                     TCT   \n",
       "148  Yosemite Area Regional Transportation System                    YARTS   \n",
       "149  Yosemite Area Regional Transportation System                    YARTS   \n",
       "\n",
       "     Fiscal Year Operating/Capital                              Mode  \\\n",
       "0           2023           Capital          Commuter Bus (CB) - (DO)   \n",
       "1           2023           Capital       Demand Response (DR) - (DO)   \n",
       "2           2023           Capital  Deviated Fixed Route (DF) - (DO)   \n",
       "3           2023         Operating          Commuter Bus (CB) - (DO)   \n",
       "4           2023         Operating       Demand Response (DR) - (DO)   \n",
       "..           ...               ...                               ...   \n",
       "145         2023           Capital       Demand Response (DR) - (PT)   \n",
       "146         2023         Operating     Bus (MB) (Fixed Route) - (PT)   \n",
       "147         2023         Operating       Demand Response (DR) - (PT)   \n",
       "148         2023           Capital     Bus (MB) (Fixed Route) - (PT)   \n",
       "149         2023         Operating     Bus (MB) (Fixed Route) - (PT)   \n",
       "\n",
       "     Total Annual Expenses By Mode  \n",
       "0                              0.0  \n",
       "1                              0.0  \n",
       "2                              0.0  \n",
       "3                         196746.0  \n",
       "4                         394415.0  \n",
       "..                             ...  \n",
       "145                            0.0  \n",
       "146                       997518.0  \n",
       "147                      1436041.0  \n",
       "148                      2429189.0  \n",
       "149                      3678726.0  \n",
       "\n",
       "[150 rows x 6 columns]"
      ]
     },
     "execution_count": 50,
     "metadata": {},
     "output_type": "execute_result"
    }
   ],
   "source": [
    "sheet = 'Expenses By Mode'\n",
    "df = load_excel_data(f\"gs://{latest_file}\", sheet)\n",
    "# df = load_excel_data(f\"gs://{bucket_name}/{latest_file}\", sheet)\n",
    "df"
   ]
  },
  {
   "cell_type": "code",
   "execution_count": 17,
   "id": "e2ed69f9",
   "metadata": {
    "scrolled": true
   },
   "outputs": [
    {
     "data": {
      "text/plain": [
       "array(['Alpine County Community Development', 'Amador Transit',\n",
       "       'Calaveras Transit Agency ', 'City of Arcata', 'City of Arvin',\n",
       "       'City of Auburn', 'City of California City', 'City of Chowchilla ',\n",
       "       'City of Corcoran - Corcoran Area Transit', 'City of Dixon',\n",
       "       'City of Guadalupe', 'City of McFarland', 'City of Needles',\n",
       "       'City of Ridgecrest', 'City of Rio Vista', 'City of Shafter',\n",
       "       'City of Solvang', 'City of Taft', 'City of Tehachapi',\n",
       "       'Colusa County Transit Agency', 'County of Mariposa',\n",
       "       'County of Nevada Public Works, Transit Services Division',\n",
       "       'County of Sacramento Department of Transportation',\n",
       "       'County of Shasta Department of Public Works',\n",
       "       'Eastern Sierra Transit Authority', 'Eureka Transit Service',\n",
       "       'Fresno County Rural Transit Agency',\n",
       "       'Glenn County Transportation Commission',\n",
       "       'Humboldt Transit Authority',\n",
       "       'Kern Regional Transit (County of Kern)', 'Lake Transit Authority',\n",
       "       'Madera County', 'Mendocino Transit Authority',\n",
       "       'Modoc Transportation Agency', 'Morongo Basin Transit Authority',\n",
       "       'Mountain Area Regional Transit Authority',\n",
       "       'Palo Verde Valley Transit Agency',\n",
       "       'Plumas County Transportation Commission',\n",
       "       'Redwood Coast Transit Authority',\n",
       "       'San Benito County Local Transportation Authority',\n",
       "       'Sierra County Transportation Commission',\n",
       "       'Tehama County Transit Agency', 'Town of Truckee',\n",
       "       'Trinity County Department of Transportation ',\n",
       "       'Tuolumne County Transit Agency (TCTA)',\n",
       "       'Yosemite Area Regional Transportation System '], dtype=object)"
      ]
     },
     "execution_count": 17,
     "metadata": {},
     "output_type": "execute_result"
    }
   ],
   "source": [
    "orgs_in_file = df['Organization Legal Name'].unique()\n",
    "orgs_in_file"
   ]
  },
  {
   "cell_type": "code",
   "execution_count": 31,
   "id": "dada28c4",
   "metadata": {},
   "outputs": [],
   "source": [
    "org = 'Alpine County Community Development'\n",
    "df = df[df['Organization Legal Name']== org]"
   ]
  },
  {
   "cell_type": "code",
   "execution_count": 32,
   "id": "6be78d0d",
   "metadata": {},
   "outputs": [
    {
     "data": {
      "text/html": [
       "<div>\n",
       "<style scoped>\n",
       "    .dataframe tbody tr th:only-of-type {\n",
       "        vertical-align: middle;\n",
       "    }\n",
       "\n",
       "    .dataframe tbody tr th {\n",
       "        vertical-align: top;\n",
       "    }\n",
       "\n",
       "    .dataframe thead th {\n",
       "        text-align: right;\n",
       "    }\n",
       "</style>\n",
       "<table border=\"1\" class=\"dataframe\">\n",
       "  <thead>\n",
       "    <tr style=\"text-align: right;\">\n",
       "      <th></th>\n",
       "      <th>Organization Legal Name</th>\n",
       "      <th>Common Name/Acronym/DBA</th>\n",
       "      <th>Fiscal Year</th>\n",
       "      <th>Operating/Capital</th>\n",
       "      <th>Mode</th>\n",
       "      <th>Total Annual Expenses By Mode</th>\n",
       "    </tr>\n",
       "  </thead>\n",
       "  <tbody>\n",
       "    <tr>\n",
       "      <th>0</th>\n",
       "      <td>Alpine County Community Development</td>\n",
       "      <td>NaN</td>\n",
       "      <td>2023</td>\n",
       "      <td>Capital</td>\n",
       "      <td>Demand Response (DR) - (DO)</td>\n",
       "      <td>0.0</td>\n",
       "    </tr>\n",
       "    <tr>\n",
       "      <th>1</th>\n",
       "      <td>Alpine County Community Development</td>\n",
       "      <td>NaN</td>\n",
       "      <td>2023</td>\n",
       "      <td>Operating</td>\n",
       "      <td>Demand Response (DR) - (DO)</td>\n",
       "      <td>81766.0</td>\n",
       "    </tr>\n",
       "  </tbody>\n",
       "</table>\n",
       "</div>"
      ],
      "text/plain": [
       "               Organization Legal Name Common Name/Acronym/DBA  Fiscal Year  \\\n",
       "0  Alpine County Community Development                     NaN         2023   \n",
       "1  Alpine County Community Development                     NaN         2023   \n",
       "\n",
       "  Operating/Capital                         Mode  \\\n",
       "0           Capital  Demand Response (DR) - (DO)   \n",
       "1         Operating  Demand Response (DR) - (DO)   \n",
       "\n",
       "   Total Annual Expenses By Mode  \n",
       "0                            0.0  \n",
       "1                        81766.0  "
      ]
     },
     "execution_count": 32,
     "metadata": {},
     "output_type": "execute_result"
    }
   ],
   "source": [
    "df"
   ]
  },
  {
   "cell_type": "code",
   "execution_count": 33,
   "id": "99dcb9c5",
   "metadata": {},
   "outputs": [
    {
     "data": {
      "text/plain": [
       "Organization Legal Name           object\n",
       "Common Name/Acronym/DBA           object\n",
       "Fiscal Year                        int64\n",
       "Operating/Capital                 object\n",
       "Mode                              object\n",
       "Total Annual Expenses By Mode    float64\n",
       "dtype: object"
      ]
     },
     "execution_count": 33,
     "metadata": {},
     "output_type": "execute_result"
    }
   ],
   "source": [
    "df.dtypes"
   ]
  },
  {
   "cell_type": "code",
   "execution_count": 16,
   "id": "4cb5712c",
   "metadata": {},
   "outputs": [
    {
     "data": {
      "text/plain": [
       "['Alpine County Community Development',\n",
       " 'Amador Transit',\n",
       " 'Butte County Association of Governments/ Butte Regional Transit',\n",
       " 'Calaveras Transit Agency',\n",
       " 'City of Arvin',\n",
       " 'City of Auburn',\n",
       " 'City of California City',\n",
       " 'City of Chowchilla',\n",
       " 'City of Corcoran - Corcoran Area Transit',\n",
       " 'City of Dinuba',\n",
       " 'City of Dixon',\n",
       " 'City of Escalon',\n",
       " 'City of Eureka/Eureka Transit Service',\n",
       " 'City of Guadalupe',\n",
       " 'City of McFarland',\n",
       " 'City of Needles',\n",
       " 'City of Ojai',\n",
       " 'City of Ridgecrest',\n",
       " 'City of Rio Vista',\n",
       " 'City of Santa Maria',\n",
       " 'City of Shafter',\n",
       " 'City of Solvang',\n",
       " 'City of Taft',\n",
       " 'City of Tehachapi',\n",
       " 'City of Visalia',\n",
       " 'City of Wasco',\n",
       " 'City of Woodlake',\n",
       " 'County of Colusa/ Colusa County Transit Agency',\n",
       " 'County of Glenn Transit Service/Glenn County Transportation Commission',\n",
       " 'County of Los Angeles - Department of Public Works',\n",
       " 'County of Mariposa',\n",
       " 'County of Nevada Public Works, Transit Services Division',\n",
       " 'County of Plumas/Plumas County Transportation Commission',\n",
       " 'County of Sacramento Department of Transportation',\n",
       " 'County of Shasta Department of Public Works',\n",
       " 'County of Siskiyou',\n",
       " 'County of Sonoma - Sonoma County Transit',\n",
       " 'County of Trinity/Trinity County Department of Transportation',\n",
       " 'County of Tulare',\n",
       " 'County of Tuolumne/Tuolumne County Transit Agency (TCTA)',\n",
       " 'Eastern Contra Costa Transit Authority',\n",
       " 'Eastern Sierra Transit Authority',\n",
       " 'El Dorado County Transit Authority',\n",
       " 'Eureka Transit Service',\n",
       " 'Fresno County Rural Transit Agency',\n",
       " 'Greyhound Lines, Inc.',\n",
       " 'Humboldt Transit Authority',\n",
       " 'Imperial County Transportation Commission',\n",
       " 'Kern Regional Transit',\n",
       " 'Kings County Area Public Transit Agency',\n",
       " 'Lake Transit Authority',\n",
       " 'Lassen Transit Service Agency',\n",
       " 'Livermore Amador Valley Transit Authority',\n",
       " 'Madera County',\n",
       " 'Marin County Transit District',\n",
       " 'Mendocino Transit Authority',\n",
       " 'Modoc Transportation Agency',\n",
       " 'Monterey-Salinas Transit',\n",
       " 'Morongo Basin Transit Authority',\n",
       " 'Mountain Area Regional Transit Authority',\n",
       " 'Napa Valley Transportation Authority',\n",
       " 'North County Transit District',\n",
       " 'Palo Verde Valley Transit Agency',\n",
       " 'Placer County Public Works (TART & PCT)',\n",
       " 'Plumas County Transportation Commission',\n",
       " 'Redwood Coast Transit Authority',\n",
       " 'Riverside Transit Agency',\n",
       " 'San Benito County Local Transportation Authority',\n",
       " 'San Diego Metropolitan Transit System',\n",
       " 'San Joaquin Regional Transit District',\n",
       " 'San Luis Obispo Regional Transit Authority',\n",
       " 'San Mateo County Transit District',\n",
       " 'Santa Barbara County Association of Governments',\n",
       " 'Santa Clara Valley Transportation Authority',\n",
       " 'Santa Cruz Metropolitan Transit District',\n",
       " 'Sierra County Transportation Commission',\n",
       " 'Sonoma County Transit',\n",
       " 'Stanislaus County Public Works - Transit Division',\n",
       " 'Sunline Transit Agency',\n",
       " 'Tehama County Transit Agency',\n",
       " 'Town of Truckee',\n",
       " 'Transit Joint Powers Authority for Merced County',\n",
       " 'Trinity County Department of Transportation',\n",
       " 'Tulare County Regional Transportation Agency',\n",
       " 'Tuolumne County Transit Agency (TCTA)',\n",
       " 'Victor Valley Transit Authority',\n",
       " 'Yolo County Transportation District',\n",
       " 'Yosemite Area Regional Transportation System',\n",
       " 'Yuba-Sutter Transit Authority',\n",
       " 'Yurok Tribe Transit']"
      ]
     },
     "execution_count": 16,
     "metadata": {},
     "output_type": "execute_result"
    }
   ],
   "source": [
    "orgs = pd.read_csv(\"../data/organizations.csv\")\n",
    "orgs_to_submit = orgs['Organization'].unique() # I see some whitespaces\n",
    "orgs_to_submit = [x.strip(' ') for x in orgs_to_submit]\n",
    "orgs_to_submit"
   ]
  },
  {
   "cell_type": "code",
   "execution_count": 114,
   "id": "a3c9f3b0",
   "metadata": {},
   "outputs": [
    {
     "data": {
      "text/html": [
       "<div>\n",
       "<style scoped>\n",
       "    .dataframe tbody tr th:only-of-type {\n",
       "        vertical-align: middle;\n",
       "    }\n",
       "\n",
       "    .dataframe tbody tr th {\n",
       "        vertical-align: top;\n",
       "    }\n",
       "\n",
       "    .dataframe thead th {\n",
       "        text-align: right;\n",
       "    }\n",
       "</style>\n",
       "<table border=\"1\" class=\"dataframe\">\n",
       "  <thead>\n",
       "    <tr style=\"text-align: right;\">\n",
       "      <th></th>\n",
       "      <th>Organization Legal Name</th>\n",
       "      <th>Common Name/Acronym/DBA</th>\n",
       "      <th>Fiscal Year</th>\n",
       "      <th>Mode</th>\n",
       "      <th>Type of Service</th>\n",
       "      <th>Commitment Date</th>\n",
       "      <th>Start Date</th>\n",
       "      <th>End Date</th>\n",
       "    </tr>\n",
       "  </thead>\n",
       "  <tbody>\n",
       "    <tr>\n",
       "      <th>0</th>\n",
       "      <td>City of Arvin</td>\n",
       "      <td>NaN</td>\n",
       "      <td>2023</td>\n",
       "      <td>Demand Response (DR)</td>\n",
       "      <td>DO - Directly Operated</td>\n",
       "      <td>NaN</td>\n",
       "      <td>NaN</td>\n",
       "      <td>NaN</td>\n",
       "    </tr>\n",
       "    <tr>\n",
       "      <th>1</th>\n",
       "      <td>City of Arvin</td>\n",
       "      <td>NaN</td>\n",
       "      <td>2023</td>\n",
       "      <td>Deviated Fixed Route (DF)</td>\n",
       "      <td>DO - Directly Operated</td>\n",
       "      <td>NaN</td>\n",
       "      <td>NaN</td>\n",
       "      <td>NaN</td>\n",
       "    </tr>\n",
       "  </tbody>\n",
       "</table>\n",
       "</div>"
      ],
      "text/plain": [
       "  Organization Legal Name Common Name/Acronym/DBA  Fiscal Year  \\\n",
       "0           City of Arvin                     NaN         2023   \n",
       "1           City of Arvin                     NaN         2023   \n",
       "\n",
       "                        Mode         Type of Service  Commitment Date  \\\n",
       "0       Demand Response (DR)  DO - Directly Operated              NaN   \n",
       "1  Deviated Fixed Route (DF)  DO - Directly Operated              NaN   \n",
       "\n",
       "   Start Date  End Date  \n",
       "0         NaN       NaN  \n",
       "1         NaN       NaN  "
      ]
     },
     "execution_count": 114,
     "metadata": {},
     "output_type": "execute_result"
    }
   ],
   "source": [
    "'City of Arvin' in orgs_to_submit #make an if check in later function\n",
    "\n",
    "df[df['Organization Legal Name']== 'City of Arvin']"
   ]
  },
  {
   "cell_type": "markdown",
   "id": "97ac2cd6",
   "metadata": {},
   "source": [
    "---\n",
    "### Now we have the raw data coming in, for one subrecipient.\n",
    "Now we must pull that data from  BigQuery  \n",
    "Finally, eventually,  check against the data in BigQuery.  \n",
    "  \n",
    "TO TEST:  \n",
    "First, I will load some of the newest data into BigQuery already. This is a 1-time event to set up tables, and infer schemas and table names. I loaded **only Tehama** so that when we test loading in new data, we have an example of some data that should be skipped over and some that should be written.\n"
   ]
  },
  {
   "cell_type": "markdown",
   "id": "e5202119",
   "metadata": {},
   "source": [
    "FIRST, load in Tehama's data"
   ]
  },
  {
   "cell_type": "code",
   "execution_count": 18,
   "id": "6b384494",
   "metadata": {},
   "outputs": [],
   "source": [
    "# Construct a BigQuery client object.\n",
    "client = bigquery.Client()"
   ]
  },
  {
   "cell_type": "code",
   "execution_count": 19,
   "id": "8adfcf12",
   "metadata": {},
   "outputs": [],
   "source": [
    "# Get data from GCS - RR020 from 2023\n",
    "\n",
    "rr20_service =  load_excel_data(f\"gs://{bucket_name}/{latest_file}\",sheetname=\"Service Data\")\n",
    "rr20_exp_by_mode = load_excel_data(f\"gs://{bucket_name}/{latest_file}\", sheetname=\"Expenses By Mode\")\n",
    "rr20_rev_by_mode = load_excel_data(f\"gs://{bucket_name}/{latest_file}\", sheetname=\"Revenues By Mode\")\n",
    "rr20_fin = load_excel_data(f\"gs://{bucket_name}/{latest_file}\", sheetname=\"Financials - 2\")\n",
    "rr20_safety = load_excel_data(f\"gs://{bucket_name}/{latest_file}\", sheetname=\"Safety\")\n",
    "rr20_other = load_excel_data(f\"gs://{bucket_name}/{latest_file}\", sheetname=\"Other Resources\")\n",
    "rr20_contactinfo = load_excel_data(f\"gs://{bucket_name}/{latest_file}\", sheetname=\"Basics.Contacts\")\n",
    "rr20_modes = load_excel_data(f\"gs://{bucket_name}/{latest_file}\",sheetname=\"Modes\")"
   ]
  },
  {
   "cell_type": "code",
   "execution_count": 20,
   "id": "c1ef0f4d",
   "metadata": {},
   "outputs": [],
   "source": [
    "# Cut down dataframes to only Tehama\n",
    "rr20_service = rr20_service[rr20_service['Organization Legal Name']== 'Tehama County Transit Agency']\n",
    "rr20_exp_by_mode = rr20_exp_by_mode[rr20_exp_by_mode['Organization Legal Name']== 'Tehama County Transit Agency']\n",
    "rr20_rev_by_mode = rr20_rev_by_mode[rr20_rev_by_mode['Organization Legal Name']== 'Tehama County Transit Agency']\n",
    "rr20_fin = rr20_fin[rr20_fin['Organization Legal Name']== 'Tehama County Transit Agency']\n",
    "rr20_safety = rr20_safety[rr20_safety['Organization Legal Name']== 'Tehama County Transit Agency']\n",
    "rr20_other = rr20_other[rr20_other['Organization Legal Name']== 'Tehama County Transit Agency']\n",
    "rr20_contactinfo = rr20_contactinfo[rr20_contactinfo['Organization Legal Name']== 'Tehama County Transit Agency']\n",
    "rr20_modes = rr20_modes[rr20_modes['Organization Legal Name']== 'Tehama County Transit Agency']"
   ]
  },
  {
   "cell_type": "code",
   "execution_count": 21,
   "id": "3784e127",
   "metadata": {},
   "outputs": [],
   "source": [
    "# Add column for date uploaded\n",
    "# upload_d = datetime.datetime.now().date() #.strftime('%Y-%m-%d')\n",
    "upload_d = pd.to_datetime(datetime.datetime(2023,9,29))\n",
    "rr20_service['date_uploaded'] = pd.to_datetime(upload_d)\n",
    "rr20_exp_by_mode['date_uploaded'] = pd.to_datetime(upload_d)\n",
    "rr20_rev_by_mode['date_uploaded'] = pd.to_datetime(upload_d)\n",
    "rr20_fin['date_uploaded'] = pd.to_datetime(upload_d)\n",
    "rr20_safety['date_uploaded'] = pd.to_datetime(upload_d)\n",
    "rr20_other['date_uploaded'] = pd.to_datetime(upload_d)\n",
    "rr20_contactinfo['date_uploaded'] = pd.to_datetime(upload_d)\n",
    "rr20_modes['date_uploaded'] = pd.to_datetime(upload_d)"
   ]
  },
  {
   "cell_type": "code",
   "execution_count": 22,
   "id": "778f996f",
   "metadata": {},
   "outputs": [
    {
     "data": {
      "text/html": [
       "<div>\n",
       "<style scoped>\n",
       "    .dataframe tbody tr th:only-of-type {\n",
       "        vertical-align: middle;\n",
       "    }\n",
       "\n",
       "    .dataframe tbody tr th {\n",
       "        vertical-align: top;\n",
       "    }\n",
       "\n",
       "    .dataframe thead th {\n",
       "        text-align: right;\n",
       "    }\n",
       "</style>\n",
       "<table border=\"1\" class=\"dataframe\">\n",
       "  <thead>\n",
       "    <tr style=\"text-align: right;\">\n",
       "      <th></th>\n",
       "      <th>Organization Legal Name</th>\n",
       "      <th>Common Name/Acronym/DBA</th>\n",
       "      <th>Fiscal Year</th>\n",
       "      <th>Mode</th>\n",
       "      <th>Type of Service</th>\n",
       "      <th>Commitment Date</th>\n",
       "      <th>Start Date</th>\n",
       "      <th>End Date</th>\n",
       "      <th>date_uploaded</th>\n",
       "    </tr>\n",
       "  </thead>\n",
       "  <tbody>\n",
       "    <tr>\n",
       "      <th>77</th>\n",
       "      <td>Tehama County Transit Agency</td>\n",
       "      <td>TRAX</td>\n",
       "      <td>2023</td>\n",
       "      <td>Bus (MB) (Fixed Route)</td>\n",
       "      <td>PT - Purchased Transportation</td>\n",
       "      <td>NaT</td>\n",
       "      <td>NaT</td>\n",
       "      <td>NaT</td>\n",
       "      <td>2023-09-29</td>\n",
       "    </tr>\n",
       "    <tr>\n",
       "      <th>78</th>\n",
       "      <td>Tehama County Transit Agency</td>\n",
       "      <td>TRAX</td>\n",
       "      <td>2023</td>\n",
       "      <td>Demand Response (DR)</td>\n",
       "      <td>PT - Purchased Transportation</td>\n",
       "      <td>NaT</td>\n",
       "      <td>NaT</td>\n",
       "      <td>NaT</td>\n",
       "      <td>2023-09-29</td>\n",
       "    </tr>\n",
       "  </tbody>\n",
       "</table>\n",
       "</div>"
      ],
      "text/plain": [
       "         Organization Legal Name Common Name/Acronym/DBA  Fiscal Year  \\\n",
       "77  Tehama County Transit Agency                    TRAX         2023   \n",
       "78  Tehama County Transit Agency                    TRAX         2023   \n",
       "\n",
       "                      Mode                Type of Service Commitment Date  \\\n",
       "77  Bus (MB) (Fixed Route)  PT - Purchased Transportation             NaT   \n",
       "78    Demand Response (DR)  PT - Purchased Transportation             NaT   \n",
       "\n",
       "   Start Date End Date date_uploaded  \n",
       "77        NaT      NaT    2023-09-29  \n",
       "78        NaT      NaT    2023-09-29  "
      ]
     },
     "execution_count": 22,
     "metadata": {},
     "output_type": "execute_result"
    }
   ],
   "source": [
    "rr20_modes.head(3)"
   ]
  },
  {
   "cell_type": "code",
   "execution_count": 23,
   "id": "241e9ed3",
   "metadata": {},
   "outputs": [
    {
     "data": {
      "text/plain": [
       "Organization Legal Name            object\n",
       "Common Name/Acronym/DBA            object\n",
       "Fiscal Year                         int64\n",
       "Mode                               object\n",
       "Type of Service                    object\n",
       "Commitment Date            datetime64[ns]\n",
       "Start Date                 datetime64[ns]\n",
       "End Date                   datetime64[ns]\n",
       "date_uploaded              datetime64[ns]\n",
       "dtype: object"
      ]
     },
     "execution_count": 23,
     "metadata": {},
     "output_type": "execute_result"
    }
   ],
   "source": [
    "rr20_modes.dtypes"
   ]
  },
  {
   "cell_type": "code",
   "execution_count": 28,
   "id": "beed0804",
   "metadata": {},
   "outputs": [
    {
     "name": "stderr",
     "output_type": "stream",
     "text": [
      "/var/folders/3h/9n_2y6x178l41fsp4dg802f00000gn/T/ipykernel_3619/795530115.py:1: FutureWarning: The default value of regex will change from True to False in a future version. In addition, single character regular expressions will *not* be treated as literal strings when regex=True.\n",
      "  rr20_modes.columns = (rr20_modes.columns.str.replace(' ', '_').str.replace('/', '_')\n",
      "/var/folders/3h/9n_2y6x178l41fsp4dg802f00000gn/T/ipykernel_3619/795530115.py:1: FutureWarning: The default value of regex will change from True to False in a future version.\n",
      "  rr20_modes.columns = (rr20_modes.columns.str.replace(' ', '_').str.replace('/', '_')\n"
     ]
    }
   ],
   "source": [
    "rr20_modes.columns = (rr20_modes.columns.str.replace(' ', '_').str.replace('/', '_')\n",
    "                 .str.replace('.', '_').str.replace('-', '')\n",
    "                 .str.replace('#', 'num')\n",
    "                 .str.replace('\\W+', ''))"
   ]
  },
  {
   "cell_type": "code",
   "execution_count": 29,
   "id": "e6c68c96",
   "metadata": {},
   "outputs": [
    {
     "data": {
      "text/plain": [
       "Index(['Organization_Legal_Name', 'Common_Name_Acronym_DBA', 'Fiscal_Year',\n",
       "       'Mode', 'Type_of_Service', 'Commitment_Date', 'Start_Date', 'End_Date',\n",
       "       'date_uploaded'],\n",
       "      dtype='object')"
      ]
     },
     "execution_count": 29,
     "metadata": {},
     "output_type": "execute_result"
    }
   ],
   "source": [
    "rr20_modes.columns"
   ]
  },
  {
   "cell_type": "code",
   "execution_count": 203,
   "id": "8a2d8716",
   "metadata": {},
   "outputs": [],
   "source": [
    "rr20_service_tehama = rr20_service.copy()"
   ]
  },
  {
   "cell_type": "markdown",
   "id": "0ac57ce1",
   "metadata": {},
   "source": [
    "### Load and create 2023 RR-20 tables in BigQuery \n",
    "This code is reused with slight modifications from `ETL_Load_data_GCS_to_BQ.ipynb`  \n",
    "  \n",
    "**IF YOU RUN IT, IT WILL ERROR OUT.**\n",
    "It was run once to initially create the 2023 raw tabels in BigQuery. That is its sole purpose, and we don't need it anymore. To see how it was developed, see the notebook `ETL_Load_data_GCS_to_BQ.ipynb`  "
   ]
  },
  {
   "cell_type": "code",
   "execution_count": 437,
   "id": "6a065977",
   "metadata": {
    "scrolled": true
   },
   "outputs": [
    {
     "name": "stderr",
     "output_type": "stream",
     "text": [
      "/var/folders/3h/9n_2y6x178l41fsp4dg802f00000gn/T/ipykernel_14484/3645223876.py:17: FutureWarning: The default value of regex will change from True to False in a future version. In addition, single character regular expressions will *not* be treated as literal strings when regex=True.\n",
      "  v.columns = (v.columns.str.replace(' ', '_').str.replace('/', '_')\n",
      "/var/folders/3h/9n_2y6x178l41fsp4dg802f00000gn/T/ipykernel_14484/3645223876.py:17: FutureWarning: The default value of regex will change from True to False in a future version.\n",
      "  v.columns = (v.columns.str.replace(' ', '_').str.replace('/', '_')\n"
     ]
    },
    {
     "name": "stdout",
     "output_type": "stream",
     "text": [
      "Created table cal-itp-data-infra.blackcat_raw.cal-itp-data-infra.blackcat_raw.2023_rr20_modes\n",
      "Loaded 2 rows and 9 columns to cal-itp-data-infra.blackcat_raw.2023_rr20_modes\n"
     ]
    },
    {
     "name": "stderr",
     "output_type": "stream",
     "text": [
      "/var/folders/3h/9n_2y6x178l41fsp4dg802f00000gn/T/ipykernel_14484/3645223876.py:17: FutureWarning: The default value of regex will change from True to False in a future version. In addition, single character regular expressions will *not* be treated as literal strings when regex=True.\n",
      "  v.columns = (v.columns.str.replace(' ', '_').str.replace('/', '_')\n",
      "/var/folders/3h/9n_2y6x178l41fsp4dg802f00000gn/T/ipykernel_14484/3645223876.py:17: FutureWarning: The default value of regex will change from True to False in a future version.\n",
      "  v.columns = (v.columns.str.replace(' ', '_').str.replace('/', '_')\n"
     ]
    },
    {
     "name": "stdout",
     "output_type": "stream",
     "text": [
      "Created table cal-itp-data-infra.blackcat_raw.cal-itp-data-infra.blackcat_raw.2023_rr20_service_data\n",
      "Loaded 2 rows and 10 columns to cal-itp-data-infra.blackcat_raw.2023_rr20_service_data\n"
     ]
    },
    {
     "name": "stderr",
     "output_type": "stream",
     "text": [
      "/var/folders/3h/9n_2y6x178l41fsp4dg802f00000gn/T/ipykernel_14484/3645223876.py:17: FutureWarning: The default value of regex will change from True to False in a future version. In addition, single character regular expressions will *not* be treated as literal strings when regex=True.\n",
      "  v.columns = (v.columns.str.replace(' ', '_').str.replace('/', '_')\n",
      "/var/folders/3h/9n_2y6x178l41fsp4dg802f00000gn/T/ipykernel_14484/3645223876.py:17: FutureWarning: The default value of regex will change from True to False in a future version.\n",
      "  v.columns = (v.columns.str.replace(' ', '_').str.replace('/', '_')\n"
     ]
    },
    {
     "name": "stdout",
     "output_type": "stream",
     "text": [
      "Created table cal-itp-data-infra.blackcat_raw.cal-itp-data-infra.blackcat_raw.2023_rr20_expenses_by_mode\n",
      "Loaded 4 rows and 7 columns to cal-itp-data-infra.blackcat_raw.2023_rr20_expenses_by_mode\n"
     ]
    },
    {
     "name": "stderr",
     "output_type": "stream",
     "text": [
      "/var/folders/3h/9n_2y6x178l41fsp4dg802f00000gn/T/ipykernel_14484/3645223876.py:17: FutureWarning: The default value of regex will change from True to False in a future version. In addition, single character regular expressions will *not* be treated as literal strings when regex=True.\n",
      "  v.columns = (v.columns.str.replace(' ', '_').str.replace('/', '_')\n",
      "/var/folders/3h/9n_2y6x178l41fsp4dg802f00000gn/T/ipykernel_14484/3645223876.py:17: FutureWarning: The default value of regex will change from True to False in a future version.\n",
      "  v.columns = (v.columns.str.replace(' ', '_').str.replace('/', '_')\n"
     ]
    },
    {
     "name": "stdout",
     "output_type": "stream",
     "text": [
      "Created table cal-itp-data-infra.blackcat_raw.cal-itp-data-infra.blackcat_raw.2023_rr20_revenues_by_mode\n",
      "Loaded 8 rows and 8 columns to cal-itp-data-infra.blackcat_raw.2023_rr20_revenues_by_mode\n"
     ]
    },
    {
     "name": "stderr",
     "output_type": "stream",
     "text": [
      "/var/folders/3h/9n_2y6x178l41fsp4dg802f00000gn/T/ipykernel_14484/3645223876.py:17: FutureWarning: The default value of regex will change from True to False in a future version. In addition, single character regular expressions will *not* be treated as literal strings when regex=True.\n",
      "  v.columns = (v.columns.str.replace(' ', '_').str.replace('/', '_')\n",
      "/var/folders/3h/9n_2y6x178l41fsp4dg802f00000gn/T/ipykernel_14484/3645223876.py:17: FutureWarning: The default value of regex will change from True to False in a future version.\n",
      "  v.columns = (v.columns.str.replace(' ', '_').str.replace('/', '_')\n"
     ]
    },
    {
     "name": "stdout",
     "output_type": "stream",
     "text": [
      "Created table cal-itp-data-infra.blackcat_raw.cal-itp-data-infra.blackcat_raw.2023_rr20_financials__2\n",
      "Loaded 2 rows and 46 columns to cal-itp-data-infra.blackcat_raw.2023_rr20_financials__2\n"
     ]
    },
    {
     "name": "stderr",
     "output_type": "stream",
     "text": [
      "/var/folders/3h/9n_2y6x178l41fsp4dg802f00000gn/T/ipykernel_14484/3645223876.py:17: FutureWarning: The default value of regex will change from True to False in a future version. In addition, single character regular expressions will *not* be treated as literal strings when regex=True.\n",
      "  v.columns = (v.columns.str.replace(' ', '_').str.replace('/', '_')\n",
      "/var/folders/3h/9n_2y6x178l41fsp4dg802f00000gn/T/ipykernel_14484/3645223876.py:17: FutureWarning: The default value of regex will change from True to False in a future version.\n",
      "  v.columns = (v.columns.str.replace(' ', '_').str.replace('/', '_')\n"
     ]
    },
    {
     "name": "stdout",
     "output_type": "stream",
     "text": [
      "Created table cal-itp-data-infra.blackcat_raw.cal-itp-data-infra.blackcat_raw.2023_rr20_safety\n",
      "Loaded 0 rows and 7 columns to cal-itp-data-infra.blackcat_raw.2023_rr20_safety\n"
     ]
    },
    {
     "name": "stderr",
     "output_type": "stream",
     "text": [
      "/var/folders/3h/9n_2y6x178l41fsp4dg802f00000gn/T/ipykernel_14484/3645223876.py:17: FutureWarning: The default value of regex will change from True to False in a future version. In addition, single character regular expressions will *not* be treated as literal strings when regex=True.\n",
      "  v.columns = (v.columns.str.replace(' ', '_').str.replace('/', '_')\n",
      "/var/folders/3h/9n_2y6x178l41fsp4dg802f00000gn/T/ipykernel_14484/3645223876.py:17: FutureWarning: The default value of regex will change from True to False in a future version.\n",
      "  v.columns = (v.columns.str.replace(' ', '_').str.replace('/', '_')\n"
     ]
    },
    {
     "name": "stdout",
     "output_type": "stream",
     "text": [
      "Created table cal-itp-data-infra.blackcat_raw.cal-itp-data-infra.blackcat_raw.2023_rr20_other_resources\n",
      "Loaded 1 rows and 6 columns to cal-itp-data-infra.blackcat_raw.2023_rr20_other_resources\n"
     ]
    },
    {
     "name": "stderr",
     "output_type": "stream",
     "text": [
      "/var/folders/3h/9n_2y6x178l41fsp4dg802f00000gn/T/ipykernel_14484/3645223876.py:17: FutureWarning: The default value of regex will change from True to False in a future version. In addition, single character regular expressions will *not* be treated as literal strings when regex=True.\n",
      "  v.columns = (v.columns.str.replace(' ', '_').str.replace('/', '_')\n",
      "/var/folders/3h/9n_2y6x178l41fsp4dg802f00000gn/T/ipykernel_14484/3645223876.py:17: FutureWarning: The default value of regex will change from True to False in a future version.\n",
      "  v.columns = (v.columns.str.replace(' ', '_').str.replace('/', '_')\n"
     ]
    },
    {
     "name": "stdout",
     "output_type": "stream",
     "text": [
      "Created table cal-itp-data-infra.blackcat_raw.cal-itp-data-infra.blackcat_raw.2023_rr20_basics_contacts\n",
      "Loaded 1 rows and 15 columns to cal-itp-data-infra.blackcat_raw.2023_rr20_basics_contacts\n"
     ]
    }
   ],
   "source": [
    "# Tables to create and load - we need the df and a string name for the next loop.\n",
    "# We carefully make the keys (which will be the BQ table names) exactly the same thing as the Excel worksheets \n",
    "# except in lowercase and replacing spaces, \"/\", \".\" and \"-\" with _ \n",
    "dfdict = {\"rr20_modes\": rr20_modes,\n",
    "          \"rr20_service_data\": rr20_service, \n",
    "          \"rr20_expenses_by_mode\": rr20_exp_by_mode, \n",
    "          \"rr20_revenues_by_mode\": rr20_rev_by_mode,\n",
    "          \"rr20_financials__2\": rr20_fin,\n",
    "          \"rr20_safety\": rr20_safety, \n",
    "          \"rr20_other_resources\": rr20_other, \n",
    "          \"rr20_basics_contacts\": rr20_contactinfo}\n",
    "          \n",
    "for k,v in dfdict.items():\n",
    "    table_id = f\"cal-itp-data-infra.blackcat_raw.{this_year}_{k}\" # Set table_id \n",
    "\n",
    "    # Remove spaces and slashes from col names - - they are illegal in BQ\n",
    "    v.columns = (v.columns.str.replace(' ', '_').str.replace('/', '_')\n",
    "                 .str.replace('.', '_').str.replace('-', '')\n",
    "                 .str.replace('#', 'num')\n",
    "                 .str.replace('\\W+', '') #other things, just strip out\n",
    "                )\n",
    "    columns = v.columns.values\n",
    "    \n",
    "    # Make dict of colname: BQ type\n",
    "    schema_dict = {}\n",
    "    for x in columns:\n",
    "        if v[x].dtypes == 'float64':\n",
    "            schema_dict[x] = \"FLOAT64\"\n",
    "        elif v[x].dtypes == 'int64':\n",
    "            schema_dict[x] = \"INT64\"\n",
    "        elif v[x].dtypes == 'object':\n",
    "            schema_dict[x] =  \"STRING\"\n",
    "        elif v[x].dtypes == 'datetime64[ns]':\n",
    "            schema_dict[x] =  \"DATETIME\"\n",
    "    \n",
    "    schema = []\n",
    "    for k2, v2 in schema_dict.items():\n",
    "        schema.append(bigquery.SchemaField(k2, v2)) \n",
    "    \n",
    "    table = bigquery.Table(table_id, schema=schema)\n",
    "    table = client.create_table(table) # API request to create table\n",
    "    print(f\"Created table {table.project}.{table.dataset_id}.{table_id}\")\n",
    "\n",
    "    #https://cloud.google.com/bigquery/docs/samples/bigquery-load-table-dataframe\n",
    "    job_service = client.load_table_from_dataframe(\n",
    "        v, table_id)  \n",
    "    job_service.result()  # Wait for the job to complete.\n",
    "    table = client.get_table(table_id) # API request to load data\n",
    "\n",
    "    print(f\"Loaded {table.num_rows} rows and {len(table.schema)} columns to {table_id}\")"
   ]
  },
  {
   "cell_type": "markdown",
   "id": "124e2443",
   "metadata": {},
   "source": [
    "## Now compare raw data in GCS Bucket to data in BigQuery\n",
    "Check for and skip over what is there, write anything new. To verify code will work for every table, we cycle through each worksheet 1 by 1 in the code below. Meaning I switch out the sheetname in `sheet = \"Other Resources\"` and in the `load_excel_data` step:  \n",
    "```['Basics.Contacts',\n",
    " 'Modes',\n",
    " 'Expenses By Mode',\n",
    " 'Revenues By Mode',\n",
    " 'Financials - 2',\n",
    " 'Service Data',\n",
    " 'Safety',\n",
    " 'Other Resources']```"
   ]
  },
  {
   "cell_type": "code",
   "execution_count": 119,
   "id": "b98e5595",
   "metadata": {},
   "outputs": [
    {
     "data": {
      "text/plain": [
       "'rr20'"
      ]
     },
     "execution_count": 119,
     "metadata": {},
     "output_type": "execute_result"
    }
   ],
   "source": [
    "bq_form_ref = form_to_check.replace(\"-\",\"\").lower()\n",
    "bq_form_ref"
   ]
  },
  {
   "cell_type": "code",
   "execution_count": 379,
   "id": "0aa7fa2a",
   "metadata": {},
   "outputs": [
    {
     "data": {
      "text/plain": [
       "'other_resources'"
      ]
     },
     "execution_count": 379,
     "metadata": {},
     "output_type": "execute_result"
    }
   ],
   "source": [
    "sheet = \"Other Resources\"\n",
    "\n",
    "bq_sheet_ref = sheet.replace(\" \", \"_\").replace(\"/\", \"_\").replace(\".\", \"_\").replace(\"-\", \"\").replace('\\W+', '').lower()\n",
    "bq_sheet_ref"
   ]
  },
  {
   "cell_type": "code",
   "execution_count": 380,
   "id": "0dfc57c7",
   "metadata": {},
   "outputs": [
    {
     "data": {
      "text/plain": [
       "'cal-itp-data-infra.blackcat_raw.2023_rr20_other_resources'"
      ]
     },
     "execution_count": 380,
     "metadata": {},
     "output_type": "execute_result"
    }
   ],
   "source": [
    "# Set table_id to the ID of the table to check.\n",
    "#----------- Service\n",
    "table_id = f\"cal-itp-data-infra.blackcat_raw.{this_year}_{bq_file_ref}_{bq_sheet_ref}\"\n",
    "table_id\n"
   ]
  },
  {
   "cell_type": "code",
   "execution_count": 418,
   "id": "d2e96a11",
   "metadata": {},
   "outputs": [
    {
     "name": "stdout",
     "output_type": "stream",
     "text": [
      "SELECT * from blackcat_raw.2023_rr20_other_resources\n",
      "        WHERE Organization_Legal_Name = 'City of Arvin'\n",
      "        \n",
      "         \n"
     ]
    },
    {
     "data": {
      "text/html": [
       "<div>\n",
       "<style scoped>\n",
       "    .dataframe tbody tr th:only-of-type {\n",
       "        vertical-align: middle;\n",
       "    }\n",
       "\n",
       "    .dataframe tbody tr th {\n",
       "        vertical-align: top;\n",
       "    }\n",
       "\n",
       "    .dataframe thead th {\n",
       "        text-align: right;\n",
       "    }\n",
       "</style>\n",
       "<table border=\"1\" class=\"dataframe\">\n",
       "  <thead>\n",
       "    <tr style=\"text-align: right;\">\n",
       "      <th></th>\n",
       "      <th>Organization_Legal_Name</th>\n",
       "      <th>Common_Name_Acronym_DBA</th>\n",
       "      <th>Fiscal_Year</th>\n",
       "      <th>Number_of_Volunteer_Drivers</th>\n",
       "      <th>Number_of_Personal_Vehicles_in_Service</th>\n",
       "      <th>date_uploaded</th>\n",
       "    </tr>\n",
       "  </thead>\n",
       "  <tbody>\n",
       "    <tr>\n",
       "      <th>0</th>\n",
       "      <td>City of Arvin</td>\n",
       "      <td>None</td>\n",
       "      <td>2023</td>\n",
       "      <td>0</td>\n",
       "      <td>0</td>\n",
       "      <td>2023-10-02</td>\n",
       "    </tr>\n",
       "  </tbody>\n",
       "</table>\n",
       "</div>"
      ],
      "text/plain": [
       "  Organization_Legal_Name Common_Name_Acronym_DBA  Fiscal_Year  \\\n",
       "0           City of Arvin                    None         2023   \n",
       "\n",
       "   Number_of_Volunteer_Drivers  Number_of_Personal_Vehicles_in_Service  \\\n",
       "0                            0                                       0   \n",
       "\n",
       "  date_uploaded  \n",
       "0    2023-10-02  "
      ]
     },
     "execution_count": 418,
     "metadata": {},
     "output_type": "execute_result"
    }
   ],
   "source": [
    "org_to_check = 'City of Arvin' # 'Tehama County Transit Agency' \n",
    "sql = f\"\"\"SELECT * from blackcat_raw.{this_year}_{bq_file_ref}_{bq_sheet_ref}\n",
    "        WHERE Organization_Legal_Name = '{org_to_check}'\n",
    "        \n",
    "         \"\"\"\n",
    "print(sql)\n",
    "bq = client.query(sql).to_dataframe()\n",
    "bq"
   ]
  },
  {
   "cell_type": "code",
   "execution_count": 402,
   "id": "a91f0384",
   "metadata": {},
   "outputs": [
    {
     "data": {
      "text/html": [
       "<div>\n",
       "<style scoped>\n",
       "    .dataframe tbody tr th:only-of-type {\n",
       "        vertical-align: middle;\n",
       "    }\n",
       "\n",
       "    .dataframe tbody tr th {\n",
       "        vertical-align: top;\n",
       "    }\n",
       "\n",
       "    .dataframe thead th {\n",
       "        text-align: right;\n",
       "    }\n",
       "</style>\n",
       "<table border=\"1\" class=\"dataframe\">\n",
       "  <thead>\n",
       "    <tr style=\"text-align: right;\">\n",
       "      <th></th>\n",
       "      <th>Organization_Legal_Name</th>\n",
       "      <th>Common_Name_Acronym_DBA</th>\n",
       "      <th>Fiscal_Year</th>\n",
       "      <th>Number_of_Volunteer_Drivers</th>\n",
       "      <th>Number_of_Personal_Vehicles_in_Service</th>\n",
       "      <th>date_uploaded</th>\n",
       "    </tr>\n",
       "  </thead>\n",
       "  <tbody>\n",
       "    <tr>\n",
       "      <th>0</th>\n",
       "      <td>City of Arvin</td>\n",
       "      <td>None</td>\n",
       "      <td>2023</td>\n",
       "      <td>0</td>\n",
       "      <td>0</td>\n",
       "      <td>2023-09-29</td>\n",
       "    </tr>\n",
       "  </tbody>\n",
       "</table>\n",
       "</div>"
      ],
      "text/plain": [
       "  Organization_Legal_Name Common_Name_Acronym_DBA  Fiscal_Year  \\\n",
       "0           City of Arvin                    None         2023   \n",
       "\n",
       "   Number_of_Volunteer_Drivers  Number_of_Personal_Vehicles_in_Service  \\\n",
       "0                            0                                       0   \n",
       "\n",
       "  date_uploaded  \n",
       "0    2023-09-29  "
      ]
     },
     "execution_count": 402,
     "metadata": {},
     "output_type": "execute_result"
    }
   ],
   "source": [
    "# bq = bq.drop_duplicates()\n",
    "# print(np.isnan(bq['Common_Name_Acronym_DBA'][0]))\n",
    "bq"
   ]
  },
  {
   "cell_type": "code",
   "execution_count": 403,
   "id": "44542bee",
   "metadata": {},
   "outputs": [
    {
     "data": {
      "text/html": [
       "<div>\n",
       "<style scoped>\n",
       "    .dataframe tbody tr th:only-of-type {\n",
       "        vertical-align: middle;\n",
       "    }\n",
       "\n",
       "    .dataframe tbody tr th {\n",
       "        vertical-align: top;\n",
       "    }\n",
       "\n",
       "    .dataframe thead th {\n",
       "        text-align: right;\n",
       "    }\n",
       "</style>\n",
       "<table border=\"1\" class=\"dataframe\">\n",
       "  <thead>\n",
       "    <tr style=\"text-align: right;\">\n",
       "      <th></th>\n",
       "      <th>Organization Legal Name</th>\n",
       "      <th>Common Name/Acronym/DBA</th>\n",
       "      <th>Fiscal Year</th>\n",
       "      <th>Number of Volunteer Drivers</th>\n",
       "      <th>Number of Personal Vehicles in Service</th>\n",
       "      <th>date_uploaded</th>\n",
       "    </tr>\n",
       "  </thead>\n",
       "  <tbody>\n",
       "    <tr>\n",
       "      <th>0</th>\n",
       "      <td>City of Arvin</td>\n",
       "      <td>NaN</td>\n",
       "      <td>2023</td>\n",
       "      <td>0</td>\n",
       "      <td>0</td>\n",
       "      <td>2023-10-02</td>\n",
       "    </tr>\n",
       "  </tbody>\n",
       "</table>\n",
       "</div>"
      ],
      "text/plain": [
       "  Organization Legal Name Common Name/Acronym/DBA  Fiscal Year  \\\n",
       "0           City of Arvin                     NaN         2023   \n",
       "\n",
       "   Number of Volunteer Drivers  Number of Personal Vehicles in Service  \\\n",
       "0                            0                                       0   \n",
       "\n",
       "  date_uploaded  \n",
       "0    2023-10-02  "
      ]
     },
     "execution_count": 403,
     "metadata": {},
     "output_type": "execute_result"
    }
   ],
   "source": [
    "raw_data = load_excel_data(f\"gs://{bucket_name}/{latest_file}\",sheetname=\"Other Resources\")\n",
    "raw_data = raw_data[raw_data['Organization Legal Name']== org_to_check]\n",
    "upload_d = datetime.datetime.now().date() #.strftime('%Y-%m-%d')\n",
    "raw_data['date_uploaded'] = pd.to_datetime(upload_d) # pd.to_datetime(datetime.datetime(2023,9,29))\n",
    "\n",
    "raw_data"
   ]
  },
  {
   "cell_type": "code",
   "execution_count": 404,
   "id": "d31ab3f9",
   "metadata": {},
   "outputs": [
    {
     "name": "stderr",
     "output_type": "stream",
     "text": [
      "/var/folders/3h/9n_2y6x178l41fsp4dg802f00000gn/T/ipykernel_14484/853763721.py:2: FutureWarning: The default value of regex will change from True to False in a future version. In addition, single character regular expressions will *not* be treated as literal strings when regex=True.\n",
      "  raw_data.columns = (raw_data.columns.str.replace(' ', '_') #other whitespaces are replaced with an underscore\n",
      "/var/folders/3h/9n_2y6x178l41fsp4dg802f00000gn/T/ipykernel_14484/853763721.py:2: FutureWarning: The default value of regex will change from True to False in a future version.\n",
      "  raw_data.columns = (raw_data.columns.str.replace(' ', '_') #other whitespaces are replaced with an underscore\n"
     ]
    },
    {
     "data": {
      "text/html": [
       "<div>\n",
       "<style scoped>\n",
       "    .dataframe tbody tr th:only-of-type {\n",
       "        vertical-align: middle;\n",
       "    }\n",
       "\n",
       "    .dataframe tbody tr th {\n",
       "        vertical-align: top;\n",
       "    }\n",
       "\n",
       "    .dataframe thead th {\n",
       "        text-align: right;\n",
       "    }\n",
       "</style>\n",
       "<table border=\"1\" class=\"dataframe\">\n",
       "  <thead>\n",
       "    <tr style=\"text-align: right;\">\n",
       "      <th></th>\n",
       "      <th>Organization_Legal_Name</th>\n",
       "      <th>Common_Name_Acronym_DBA</th>\n",
       "      <th>Fiscal_Year</th>\n",
       "      <th>Number_of_Volunteer_Drivers</th>\n",
       "      <th>Number_of_Personal_Vehicles_in_Service</th>\n",
       "      <th>date_uploaded</th>\n",
       "    </tr>\n",
       "  </thead>\n",
       "  <tbody>\n",
       "    <tr>\n",
       "      <th>0</th>\n",
       "      <td>City of Arvin</td>\n",
       "      <td>NaN</td>\n",
       "      <td>2023</td>\n",
       "      <td>0</td>\n",
       "      <td>0</td>\n",
       "      <td>2023-10-02</td>\n",
       "    </tr>\n",
       "  </tbody>\n",
       "</table>\n",
       "</div>"
      ],
      "text/plain": [
       "  Organization_Legal_Name Common_Name_Acronym_DBA  Fiscal_Year  \\\n",
       "0           City of Arvin                     NaN         2023   \n",
       "\n",
       "   Number_of_Volunteer_Drivers  Number_of_Personal_Vehicles_in_Service  \\\n",
       "0                            0                                       0   \n",
       "\n",
       "  date_uploaded  \n",
       "0    2023-10-02  "
      ]
     },
     "execution_count": 404,
     "metadata": {},
     "output_type": "execute_result"
    }
   ],
   "source": [
    "raw_data.rename(columns=lambda x: x.strip(), inplace=True) #first remove trailing/leading whitespace\n",
    "raw_data.columns = (raw_data.columns.str.replace(' ', '_') #other whitespaces are replaced with an underscore\n",
    "                                    .str.replace('/', '_').str.replace('.', '_')\n",
    "                                     .str.replace('-', '')\n",
    "                                    .str.replace('#', 'num')\n",
    "                                    .str.replace('\\W+', '') #other things, just strip out\n",
    "                                    )\n",
    "raw_data"
   ]
  },
  {
   "cell_type": "markdown",
   "id": "845d8a12",
   "metadata": {},
   "source": [
    "**Test different ways of checking for datasets being identical**"
   ]
  },
  {
   "cell_type": "code",
   "execution_count": 419,
   "id": "69a3bbe3",
   "metadata": {},
   "outputs": [
    {
     "data": {
      "text/html": [
       "<div>\n",
       "<style scoped>\n",
       "    .dataframe tbody tr th:only-of-type {\n",
       "        vertical-align: middle;\n",
       "    }\n",
       "\n",
       "    .dataframe tbody tr th {\n",
       "        vertical-align: top;\n",
       "    }\n",
       "\n",
       "    .dataframe thead th {\n",
       "        text-align: right;\n",
       "    }\n",
       "</style>\n",
       "<table border=\"1\" class=\"dataframe\">\n",
       "  <thead>\n",
       "    <tr style=\"text-align: right;\">\n",
       "      <th></th>\n",
       "      <th>Organization_Legal_Name</th>\n",
       "      <th>Common_Name_Acronym_DBA</th>\n",
       "      <th>Fiscal_Year</th>\n",
       "      <th>Number_of_Volunteer_Drivers</th>\n",
       "      <th>Number_of_Personal_Vehicles_in_Service</th>\n",
       "    </tr>\n",
       "  </thead>\n",
       "  <tbody>\n",
       "    <tr>\n",
       "      <th>0</th>\n",
       "      <td>City of Arvin</td>\n",
       "      <td>None</td>\n",
       "      <td>2023</td>\n",
       "      <td>0</td>\n",
       "      <td>0</td>\n",
       "    </tr>\n",
       "  </tbody>\n",
       "</table>\n",
       "</div>"
      ],
      "text/plain": [
       "  Organization_Legal_Name Common_Name_Acronym_DBA  Fiscal_Year  \\\n",
       "0           City of Arvin                    None         2023   \n",
       "\n",
       "   Number_of_Volunteer_Drivers  Number_of_Personal_Vehicles_in_Service  \n",
       "0                            0                                       0  "
      ]
     },
     "execution_count": 419,
     "metadata": {},
     "output_type": "execute_result"
    }
   ],
   "source": [
    "bq_compare = bq.drop(['date_uploaded'], axis=1)\n",
    "bq_compare.sort_values(by=bq_compare.columns.tolist()).reset_index(drop=True)\n"
   ]
  },
  {
   "cell_type": "code",
   "execution_count": 405,
   "id": "742a3ff2",
   "metadata": {},
   "outputs": [
    {
     "name": "stdout",
     "output_type": "stream",
     "text": [
      "'date_uploaded'\n"
     ]
    }
   ],
   "source": [
    "# THIS WORKS IF WE:\n",
    "# use check_dtype=False, otherwise it does not work (error is Attribute \"dtype\" are different [left]: Int64 [right]: int64)\n",
    "# drop indexes and reset, otherwise if index #s are different will say dataframes differ (irrelevant here)\n",
    "# resort columns because if rows are in different order, will error\n",
    "try:\n",
    "    pd.testing.assert_frame_equal(bq.sort_values(by=bq.columns.tolist())\n",
    "                                  .reset_index(drop=True), \n",
    "                              raw_data.sort_values(by=raw_data.columns.tolist())\n",
    "                                  .reset_index(drop=True), \n",
    "                              check_dtype=False)\n",
    "    print(\"data equals....etc. message\")\n",
    "except Exception as ex:\n",
    "    print(ex)"
   ]
  },
  {
   "cell_type": "code",
   "execution_count": 351,
   "id": "92d1d78b",
   "metadata": {},
   "outputs": [
    {
     "data": {
      "text/plain": [
       "False"
      ]
     },
     "execution_count": 351,
     "metadata": {},
     "output_type": "execute_result"
    }
   ],
   "source": [
    "raw_data.equals(bq)"
   ]
  },
  {
   "cell_type": "code",
   "execution_count": 353,
   "id": "05b96bfa",
   "metadata": {},
   "outputs": [
    {
     "data": {
      "text/plain": [
       "False"
      ]
     },
     "execution_count": 353,
     "metadata": {},
     "output_type": "execute_result"
    }
   ],
   "source": [
    "## this one ignores the index and just checks the values\n",
    "# BUT 'None and 'NaN' are not equal so its not great for checking nulls in numerical and string fields.\n",
    "import numpy as np\n",
    "\n",
    "np.array_equal(data.values,rr20_modes.values) #, equal_nan=True\n",
    "# np.allclose(data,rr20_modes, equal_nan=True, rtol=0, atol=0)"
   ]
  },
  {
   "cell_type": "markdown",
   "id": "2a1e9f97",
   "metadata": {},
   "source": [
    "**Now sort through upload dates and grab the latest one**"
   ]
  },
  {
   "cell_type": "markdown",
   "id": "c0f20a4c",
   "metadata": {},
   "source": [
    "TO DO: sift through Tehama in BQ, grab only the latest date set. Need RunID?"
   ]
  },
  {
   "cell_type": "code",
   "execution_count": 238,
   "id": "ff49b3cf",
   "metadata": {},
   "outputs": [
    {
     "data": {
      "text/plain": [
       "array(['2023-09-29T00:00:00.000000000'], dtype='datetime64[ns]')"
      ]
     },
     "execution_count": 238,
     "metadata": {},
     "output_type": "execute_result"
    }
   ],
   "source": [
    "upload_dates = data_tehama['date_uploaded'].unique()\n",
    "upload_dates"
   ]
  },
  {
   "cell_type": "code",
   "execution_count": 247,
   "id": "4e33367c",
   "metadata": {},
   "outputs": [
    {
     "data": {
      "text/plain": [
       "Timestamp('2023-10-01 00:00:00')"
      ]
     },
     "execution_count": 247,
     "metadata": {},
     "output_type": "execute_result"
    }
   ],
   "source": [
    "# upload_dates.sort()\n",
    "# upload_dates\n",
    "\n",
    "test = [pd.to_datetime(datetime.datetime(2023, 9, 21)), \n",
    "        pd.to_datetime(datetime.datetime(2023, 9, 20)), \n",
    "        pd.to_datetime(datetime.datetime(2023, 10, 1))]\n",
    "test.sort()\n",
    "max(test)"
   ]
  },
  {
   "cell_type": "code",
   "execution_count": 248,
   "id": "524f9dda",
   "metadata": {},
   "outputs": [
    {
     "data": {
      "text/html": [
       "<div>\n",
       "<style scoped>\n",
       "    .dataframe tbody tr th:only-of-type {\n",
       "        vertical-align: middle;\n",
       "    }\n",
       "\n",
       "    .dataframe tbody tr th {\n",
       "        vertical-align: top;\n",
       "    }\n",
       "\n",
       "    .dataframe thead th {\n",
       "        text-align: right;\n",
       "    }\n",
       "</style>\n",
       "<table border=\"1\" class=\"dataframe\">\n",
       "  <thead>\n",
       "    <tr style=\"text-align: right;\">\n",
       "      <th></th>\n",
       "      <th>Organization_Legal_Name</th>\n",
       "      <th>Common_Name_Acronym_DBA</th>\n",
       "      <th>Fiscal_Year</th>\n",
       "      <th>Number_of_Volunteer_Drivers</th>\n",
       "      <th>Number_of_Personal_Vehicles_in_Service</th>\n",
       "      <th>date_uploaded</th>\n",
       "    </tr>\n",
       "  </thead>\n",
       "  <tbody>\n",
       "    <tr>\n",
       "      <th>1</th>\n",
       "      <td>Tehama County Transit Agency</td>\n",
       "      <td>TRAX</td>\n",
       "      <td>2023</td>\n",
       "      <td>0</td>\n",
       "      <td>0</td>\n",
       "      <td>2023-09-29</td>\n",
       "    </tr>\n",
       "  </tbody>\n",
       "</table>\n",
       "</div>"
      ],
      "text/plain": [
       "        Organization_Legal_Name Common_Name_Acronym_DBA  Fiscal_Year  \\\n",
       "1  Tehama County Transit Agency                    TRAX         2023   \n",
       "\n",
       "   Number_of_Volunteer_Drivers  Number_of_Personal_Vehicles_in_Service  \\\n",
       "1                            0                                       0   \n",
       "\n",
       "  date_uploaded  \n",
       "1    2023-09-29  "
      ]
     },
     "execution_count": 248,
     "metadata": {},
     "output_type": "execute_result"
    }
   ],
   "source": [
    "data_tehama[data_tehama['date_uploaded']==max(upload_dates)]"
   ]
  },
  {
   "cell_type": "markdown",
   "id": "c7e88386",
   "metadata": {},
   "source": [
    "### Now we have the raw data already in BigQuery, for 1 subrecipient"
   ]
  },
  {
   "cell_type": "code",
   "execution_count": 122,
   "id": "846a2c12",
   "metadata": {},
   "outputs": [
    {
     "data": {
      "text/plain": [
       "['Basics.Contacts',\n",
       " 'Modes',\n",
       " 'Expenses By Mode',\n",
       " 'Revenues By Mode',\n",
       " 'Financials - 2',\n",
       " 'Service Data',\n",
       " 'Safety',\n",
       " 'Other Resources']"
      ]
     },
     "execution_count": 122,
     "metadata": {},
     "output_type": "execute_result"
    }
   ],
   "source": [
    "bucket_name = \"calitp-ntd-report-validation\"\n",
    "our_sheets"
   ]
  },
  {
   "cell_type": "code",
   "execution_count": 161,
   "id": "79806993",
   "metadata": {},
   "outputs": [
    {
     "name": "stdout",
     "output_type": "stream",
     "text": [
      "basics_contacts\n",
      "modes\n",
      "expenses_by_mode\n",
      "revenues_by_mode\n",
      "financials__2\n",
      "service_data\n",
      "safety\n",
      "other_resources\n"
     ]
    }
   ],
   "source": [
    "# Checking that we can automatically get matching table names from the worksheets:\n",
    "for sheet in our_sheets:\n",
    "    bq_sheet_ref = sheet.replace(\" \", \"_\").replace(\"/\", \"_\").replace(\".\", \"_\").replace(\"-\", \"\").replace('\\W+', '').lower()\n",
    "    print(bq_sheet_ref)\n"
   ]
  },
  {
   "cell_type": "markdown",
   "id": "3cc182ce",
   "metadata": {},
   "source": [
    "**Now adding in a logger.** Much better than using print statements to show progress during a job"
   ]
  },
  {
   "cell_type": "code",
   "execution_count": 430,
   "id": "5a7c1934",
   "metadata": {},
   "outputs": [],
   "source": [
    "def write_to_log(logfilename):\n",
    "    '''\n",
    "    Creates a logger object that outputs to a log file, to the filename specified,\n",
    "    and also streams to console.\n",
    "    '''\n",
    "    logger = logging.getLogger(__name__)\n",
    "    logger.setLevel(logging.INFO)\n",
    "    formatter = logging.Formatter(f'%(asctime)s:%(levelname)s: %(message)s',\n",
    "                                  datefmt='%y-%m-%d %H:%M:%S')\n",
    "    file_handler = logging.FileHandler(logfilename)\n",
    "    file_handler.setFormatter(formatter)\n",
    "    stream_handler = logging.StreamHandler()\n",
    "    stream_handler.setFormatter(formatter)\n",
    "\n",
    "    if not logger.hasHandlers():\n",
    "        logger.addHandler(file_handler)\n",
    "        logger.addHandler(stream_handler)\n",
    "\n",
    "    return logger"
   ]
  },
  {
   "cell_type": "code",
   "execution_count": 432,
   "id": "8d041120",
   "metadata": {},
   "outputs": [],
   "source": [
    "import logging \n",
    "\n",
    "# Set up the logger object\n",
    "logger = write_to_log('load_raw_data_output.log')"
   ]
  },
  {
   "cell_type": "code",
   "execution_count": 440,
   "id": "d3d5d3eb",
   "metadata": {},
   "outputs": [],
   "source": [
    "### FINAL FUNCTION - takes the above code snippets and rolls it up into one function.\n",
    "# If I put in org for an arg, will have to loop this through the orgs in the raw data. \n",
    "# But that keeps this function simpler so that's how it is written\n",
    "\n",
    "def compare_datasets(form_to_check, latest_file, logger, org):\n",
    "    form_to_sheets_dict = {\n",
    "        \"RR-20\": ['Basics.Contacts', 'Modes', 'Expenses By Mode', 'Revenues By Mode', 'Financials - 2', 'Service Data', 'Safety', 'Other Resources'],\n",
    "        \"A-30\": ['A-30 (Rural) RVI']\n",
    "    }\n",
    "    \n",
    "    excelsheets = form_to_sheets_dict.get(form_to_check) #get Excel sheetnames depending on form\n",
    "    bq_form_ref = form_to_check.replace(\"-\",\"\").lower() #this is something like \"rr20\" for the \"RR-20\" form_to_check\n",
    "    \n",
    "    # Load incoming data, worksheet by worksheet\n",
    "    for sheet in excelsheets:\n",
    "        bq_sheet_ref = sheet.replace(\" \", \"_\").replace(\"/\", \"_\").replace(\".\", \"_\").replace(\"-\", \"\").replace('\\W+', '').lower()\n",
    "        logger.info(f\"Checking data for {org} from {bq_file_ref}_{bq_sheet_ref}\")\n",
    "        incoming_df = load_excel_data(f\"gs://{bucket_name}/{latest_file}\",sheetname=sheet)\n",
    "        incoming_org_data = incoming_df[incoming_df['Organization Legal Name']== org].copy()\n",
    "        \n",
    "        \n",
    "        # Now we have only 1 org's data. Remove spaces and slashes from col names - they are illegal in BQ\n",
    "        incoming_org_data.columns = (incoming_org_data.columns.str.replace(' ', '_', regex=True)\n",
    "                                    .str.replace('/', '_').str.replace('.', '_', regex=True)\n",
    "                                     .str.replace('-', '', regex=True)\n",
    "                                     .str.replace('#', 'num', regex=True)\n",
    "                                    .str.replace('\\W+', '', regex=True) #other things, just strip out\n",
    "                                    )\n",
    "        \n",
    "        # Check what data is already in BQ\n",
    "        existing_data_query = f\"\"\"SELECT * from blackcat_raw.{this_year}_{bq_form_ref}_{bq_sheet_ref}\n",
    "            WHERE Organization_Legal_Name = '{org}'\"\"\"\n",
    "        client = bigquery.Client()\n",
    "        bq_data = client.query(existing_data_query).to_dataframe()\n",
    "        bq_data = bq_data.drop_duplicates()\n",
    "                \n",
    "        logger.info(f\"Found {len(bq_data)} rows in {bq_form_ref}_{bq_sheet_ref} for {org}\")\n",
    "        \n",
    "        table_id = f\"cal-itp-data-infra.blackcat_raw.{this_year}_{bq_form_ref}_{bq_sheet_ref}\"\n",
    "        table = bigquery.Table(table_id) \n",
    "        job_config = bigquery.LoadJobConfig(\n",
    "            create_disposition=\"CREATE_IF_NEEDED\",\n",
    "            write_disposition=\"WRITE_APPEND\"\n",
    "        )\n",
    "                \n",
    "        if (len(bq_data) > 0) and (len(incoming_org_data) > 0 ):\n",
    "            # Get the data with the latest upload date only - because this table serves as running storage for every report submittal.\n",
    "            upload_dates = bq_data['date_uploaded'].unique()\n",
    "            upload_dates.sort()\n",
    "            bq_data = bq_data[bq_data['date_uploaded']==max(upload_dates)]\n",
    "            bq_compare = bq_data.drop(['date_uploaded'], axis=1)\n",
    "\n",
    "            try:\n",
    "                logger.info(\"Checking for existing data\")\n",
    "                pd.testing.assert_frame_equal(bq_compare.sort_values(by=bq_compare.columns.tolist())\n",
    "                                              .reset_index(drop=True), \n",
    "                                          incoming_org_data.sort_values(by=incoming_org_data.columns.tolist())\n",
    "                                              .reset_index(drop=True), \n",
    "                                          check_dtype=False)\n",
    "                logger.info(f\"{org} data in {bq_form_ref}_{bq_sheet_ref} is already in BigQuery, not writing.\")\n",
    "                pass\n",
    "            except Exception as ex:\n",
    "                logger.info(f\"Data tables are not the same, with {type(ex).__name__}: {ex}.\")\n",
    "\n",
    "                incoming_org_data.loc[:, 'date_uploaded'] = pd.to_datetime(datetime.datetime.now().date()) # Add in 'date_uploaded' column \n",
    "                job_service = client.load_table_from_dataframe(incoming_org_data, table_id, job_config=job_config)  # API request to load data\n",
    "                job_service.result()  # Wait for the job to complete.\n",
    "                table = client.get_table(table_id) \n",
    "        elif len(incoming_org_data) == 0:\n",
    "            logger.info(f\"No incoming data for {table_id}, skipping.\")\n",
    "            pass\n",
    "        else:\n",
    "            logger.info(f\"Did not find existing data in {table_id} for {org}, loading new raw data.\")\n",
    "            incoming_org_data.loc[:, 'date_uploaded'] = pd.to_datetime(datetime.datetime.now().date()) # Add in 'date_uploaded' column \n",
    "            job_service = client.load_table_from_dataframe(incoming_org_data, table_id, job_config=job_config)  # API request to load data\n",
    "            job_service.result()  # Wait for the job to complete.\n",
    "            table = client.get_table(table_id)     \n",
    "        \n",
    "        logger.info(f\"Loaded {table.num_rows} rows and {len(table.schema)} columns to {table_id} for {org}\")\n",
    "        \n",
    "        "
   ]
  },
  {
   "cell_type": "code",
   "execution_count": 429,
   "id": "f774b99d",
   "metadata": {},
   "outputs": [
    {
     "name": "stdout",
     "output_type": "stream",
     "text": [
      "Checking data for Tehama County Transit Agency from rr20_basics_contacts\n"
     ]
    },
    {
     "name": "stderr",
     "output_type": "stream",
     "text": [
      "/var/folders/3h/9n_2y6x178l41fsp4dg802f00000gn/T/ipykernel_14484/3404193009.py:21: SettingWithCopyWarning: \n",
      "A value is trying to be set on a copy of a slice from a DataFrame.\n",
      "Try using .loc[row_indexer,col_indexer] = value instead\n",
      "\n",
      "See the caveats in the documentation: https://pandas.pydata.org/pandas-docs/stable/user_guide/indexing.html#returning-a-view-versus-a-copy\n",
      "  incoming_org_data['date_uploaded'] = pd.to_datetime(datetime.datetime.now().date())\n",
      "/var/folders/3h/9n_2y6x178l41fsp4dg802f00000gn/T/ipykernel_14484/3404193009.py:25: FutureWarning: The default value of regex will change from True to False in a future version. In addition, single character regular expressions will *not* be treated as literal strings when regex=True.\n",
      "  incoming_org_data.columns = (incoming_org_data.columns.str.replace(' ', '_')\n",
      "/var/folders/3h/9n_2y6x178l41fsp4dg802f00000gn/T/ipykernel_14484/3404193009.py:25: FutureWarning: The default value of regex will change from True to False in a future version.\n",
      "  incoming_org_data.columns = (incoming_org_data.columns.str.replace(' ', '_')\n"
     ]
    },
    {
     "name": "stdout",
     "output_type": "stream",
     "text": [
      "Found 2 rows in rr20_basics_contacts for Tehama County Transit Agency\n",
      "Testing for equality.\n",
      "Tehama County Transit Agency data in rr20_basics_contacts is already in BigQuery, not writing.\n",
      "Loaded None rows and 15 columns to cal-itp-data-infra.blackcat_raw.2023_rr20_basics_contacts for Tehama County Transit Agency\n",
      "Checking data for Tehama County Transit Agency from rr20_modes\n"
     ]
    },
    {
     "name": "stderr",
     "output_type": "stream",
     "text": [
      "/var/folders/3h/9n_2y6x178l41fsp4dg802f00000gn/T/ipykernel_14484/3404193009.py:21: SettingWithCopyWarning: \n",
      "A value is trying to be set on a copy of a slice from a DataFrame.\n",
      "Try using .loc[row_indexer,col_indexer] = value instead\n",
      "\n",
      "See the caveats in the documentation: https://pandas.pydata.org/pandas-docs/stable/user_guide/indexing.html#returning-a-view-versus-a-copy\n",
      "  incoming_org_data['date_uploaded'] = pd.to_datetime(datetime.datetime.now().date())\n",
      "/var/folders/3h/9n_2y6x178l41fsp4dg802f00000gn/T/ipykernel_14484/3404193009.py:25: FutureWarning: The default value of regex will change from True to False in a future version. In addition, single character regular expressions will *not* be treated as literal strings when regex=True.\n",
      "  incoming_org_data.columns = (incoming_org_data.columns.str.replace(' ', '_')\n",
      "/var/folders/3h/9n_2y6x178l41fsp4dg802f00000gn/T/ipykernel_14484/3404193009.py:25: FutureWarning: The default value of regex will change from True to False in a future version.\n",
      "  incoming_org_data.columns = (incoming_org_data.columns.str.replace(' ', '_')\n"
     ]
    },
    {
     "name": "stdout",
     "output_type": "stream",
     "text": [
      "Found 4 rows in rr20_modes for Tehama County Transit Agency\n",
      "Testing for equality.\n",
      "Tehama County Transit Agency data in rr20_modes is already in BigQuery, not writing.\n",
      "Loaded None rows and 9 columns to cal-itp-data-infra.blackcat_raw.2023_rr20_modes for Tehama County Transit Agency\n",
      "Checking data for Tehama County Transit Agency from rr20_expenses_by_mode\n"
     ]
    },
    {
     "name": "stderr",
     "output_type": "stream",
     "text": [
      "/var/folders/3h/9n_2y6x178l41fsp4dg802f00000gn/T/ipykernel_14484/3404193009.py:21: SettingWithCopyWarning: \n",
      "A value is trying to be set on a copy of a slice from a DataFrame.\n",
      "Try using .loc[row_indexer,col_indexer] = value instead\n",
      "\n",
      "See the caveats in the documentation: https://pandas.pydata.org/pandas-docs/stable/user_guide/indexing.html#returning-a-view-versus-a-copy\n",
      "  incoming_org_data['date_uploaded'] = pd.to_datetime(datetime.datetime.now().date())\n",
      "/var/folders/3h/9n_2y6x178l41fsp4dg802f00000gn/T/ipykernel_14484/3404193009.py:25: FutureWarning: The default value of regex will change from True to False in a future version. In addition, single character regular expressions will *not* be treated as literal strings when regex=True.\n",
      "  incoming_org_data.columns = (incoming_org_data.columns.str.replace(' ', '_')\n",
      "/var/folders/3h/9n_2y6x178l41fsp4dg802f00000gn/T/ipykernel_14484/3404193009.py:25: FutureWarning: The default value of regex will change from True to False in a future version.\n",
      "  incoming_org_data.columns = (incoming_org_data.columns.str.replace(' ', '_')\n"
     ]
    },
    {
     "name": "stdout",
     "output_type": "stream",
     "text": [
      "Found 8 rows in rr20_expenses_by_mode for Tehama County Transit Agency\n",
      "Testing for equality.\n",
      "Tehama County Transit Agency data in rr20_expenses_by_mode is already in BigQuery, not writing.\n",
      "Loaded None rows and 7 columns to cal-itp-data-infra.blackcat_raw.2023_rr20_expenses_by_mode for Tehama County Transit Agency\n",
      "Checking data for Tehama County Transit Agency from rr20_revenues_by_mode\n"
     ]
    },
    {
     "name": "stderr",
     "output_type": "stream",
     "text": [
      "/var/folders/3h/9n_2y6x178l41fsp4dg802f00000gn/T/ipykernel_14484/3404193009.py:21: SettingWithCopyWarning: \n",
      "A value is trying to be set on a copy of a slice from a DataFrame.\n",
      "Try using .loc[row_indexer,col_indexer] = value instead\n",
      "\n",
      "See the caveats in the documentation: https://pandas.pydata.org/pandas-docs/stable/user_guide/indexing.html#returning-a-view-versus-a-copy\n",
      "  incoming_org_data['date_uploaded'] = pd.to_datetime(datetime.datetime.now().date())\n",
      "/var/folders/3h/9n_2y6x178l41fsp4dg802f00000gn/T/ipykernel_14484/3404193009.py:25: FutureWarning: The default value of regex will change from True to False in a future version. In addition, single character regular expressions will *not* be treated as literal strings when regex=True.\n",
      "  incoming_org_data.columns = (incoming_org_data.columns.str.replace(' ', '_')\n",
      "/var/folders/3h/9n_2y6x178l41fsp4dg802f00000gn/T/ipykernel_14484/3404193009.py:25: FutureWarning: The default value of regex will change from True to False in a future version.\n",
      "  incoming_org_data.columns = (incoming_org_data.columns.str.replace(' ', '_')\n"
     ]
    },
    {
     "name": "stdout",
     "output_type": "stream",
     "text": [
      "Found 16 rows in rr20_revenues_by_mode for Tehama County Transit Agency\n",
      "Testing for equality.\n",
      "Tehama County Transit Agency data in rr20_revenues_by_mode is already in BigQuery, not writing.\n",
      "Loaded None rows and 8 columns to cal-itp-data-infra.blackcat_raw.2023_rr20_revenues_by_mode for Tehama County Transit Agency\n",
      "Checking data for Tehama County Transit Agency from rr20_financials__2\n"
     ]
    },
    {
     "name": "stderr",
     "output_type": "stream",
     "text": [
      "/var/folders/3h/9n_2y6x178l41fsp4dg802f00000gn/T/ipykernel_14484/3404193009.py:21: SettingWithCopyWarning: \n",
      "A value is trying to be set on a copy of a slice from a DataFrame.\n",
      "Try using .loc[row_indexer,col_indexer] = value instead\n",
      "\n",
      "See the caveats in the documentation: https://pandas.pydata.org/pandas-docs/stable/user_guide/indexing.html#returning-a-view-versus-a-copy\n",
      "  incoming_org_data['date_uploaded'] = pd.to_datetime(datetime.datetime.now().date())\n",
      "/var/folders/3h/9n_2y6x178l41fsp4dg802f00000gn/T/ipykernel_14484/3404193009.py:25: FutureWarning: The default value of regex will change from True to False in a future version. In addition, single character regular expressions will *not* be treated as literal strings when regex=True.\n",
      "  incoming_org_data.columns = (incoming_org_data.columns.str.replace(' ', '_')\n",
      "/var/folders/3h/9n_2y6x178l41fsp4dg802f00000gn/T/ipykernel_14484/3404193009.py:25: FutureWarning: The default value of regex will change from True to False in a future version.\n",
      "  incoming_org_data.columns = (incoming_org_data.columns.str.replace(' ', '_')\n"
     ]
    },
    {
     "name": "stdout",
     "output_type": "stream",
     "text": [
      "Found 4 rows in rr20_financials__2 for Tehama County Transit Agency\n",
      "Testing for equality.\n",
      "Tehama County Transit Agency data in rr20_financials__2 is already in BigQuery, not writing.\n",
      "Loaded None rows and 46 columns to cal-itp-data-infra.blackcat_raw.2023_rr20_financials__2 for Tehama County Transit Agency\n",
      "Checking data for Tehama County Transit Agency from rr20_service_data\n"
     ]
    },
    {
     "name": "stderr",
     "output_type": "stream",
     "text": [
      "/var/folders/3h/9n_2y6x178l41fsp4dg802f00000gn/T/ipykernel_14484/3404193009.py:21: SettingWithCopyWarning: \n",
      "A value is trying to be set on a copy of a slice from a DataFrame.\n",
      "Try using .loc[row_indexer,col_indexer] = value instead\n",
      "\n",
      "See the caveats in the documentation: https://pandas.pydata.org/pandas-docs/stable/user_guide/indexing.html#returning-a-view-versus-a-copy\n",
      "  incoming_org_data['date_uploaded'] = pd.to_datetime(datetime.datetime.now().date())\n",
      "/var/folders/3h/9n_2y6x178l41fsp4dg802f00000gn/T/ipykernel_14484/3404193009.py:25: FutureWarning: The default value of regex will change from True to False in a future version. In addition, single character regular expressions will *not* be treated as literal strings when regex=True.\n",
      "  incoming_org_data.columns = (incoming_org_data.columns.str.replace(' ', '_')\n",
      "/var/folders/3h/9n_2y6x178l41fsp4dg802f00000gn/T/ipykernel_14484/3404193009.py:25: FutureWarning: The default value of regex will change from True to False in a future version.\n",
      "  incoming_org_data.columns = (incoming_org_data.columns.str.replace(' ', '_')\n"
     ]
    },
    {
     "name": "stdout",
     "output_type": "stream",
     "text": [
      "Found 4 rows in rr20_service_data for Tehama County Transit Agency\n",
      "Testing for equality.\n",
      "Tehama County Transit Agency data in rr20_service_data is already in BigQuery, not writing.\n",
      "Loaded None rows and 10 columns to cal-itp-data-infra.blackcat_raw.2023_rr20_service_data for Tehama County Transit Agency\n",
      "Checking data for Tehama County Transit Agency from rr20_safety\n"
     ]
    },
    {
     "name": "stderr",
     "output_type": "stream",
     "text": [
      "/var/folders/3h/9n_2y6x178l41fsp4dg802f00000gn/T/ipykernel_14484/3404193009.py:25: FutureWarning: The default value of regex will change from True to False in a future version. In addition, single character regular expressions will *not* be treated as literal strings when regex=True.\n",
      "  incoming_org_data.columns = (incoming_org_data.columns.str.replace(' ', '_')\n",
      "/var/folders/3h/9n_2y6x178l41fsp4dg802f00000gn/T/ipykernel_14484/3404193009.py:25: FutureWarning: The default value of regex will change from True to False in a future version.\n",
      "  incoming_org_data.columns = (incoming_org_data.columns.str.replace(' ', '_')\n"
     ]
    },
    {
     "name": "stdout",
     "output_type": "stream",
     "text": [
      "Found 0 rows in rr20_safety for Tehama County Transit Agency\n",
      "Did not find existing data in cal-itp-data-infra.blackcat_raw.2023_rr20_safety for Tehama County Transit Agency, loading new raw data.\n",
      "Loaded 1 rows and 7 columns to cal-itp-data-infra.blackcat_raw.2023_rr20_safety for Tehama County Transit Agency\n",
      "Checking data for Tehama County Transit Agency from rr20_other_resources\n"
     ]
    },
    {
     "name": "stderr",
     "output_type": "stream",
     "text": [
      "/var/folders/3h/9n_2y6x178l41fsp4dg802f00000gn/T/ipykernel_14484/3404193009.py:21: SettingWithCopyWarning: \n",
      "A value is trying to be set on a copy of a slice from a DataFrame.\n",
      "Try using .loc[row_indexer,col_indexer] = value instead\n",
      "\n",
      "See the caveats in the documentation: https://pandas.pydata.org/pandas-docs/stable/user_guide/indexing.html#returning-a-view-versus-a-copy\n",
      "  incoming_org_data['date_uploaded'] = pd.to_datetime(datetime.datetime.now().date())\n",
      "/var/folders/3h/9n_2y6x178l41fsp4dg802f00000gn/T/ipykernel_14484/3404193009.py:25: FutureWarning: The default value of regex will change from True to False in a future version. In addition, single character regular expressions will *not* be treated as literal strings when regex=True.\n",
      "  incoming_org_data.columns = (incoming_org_data.columns.str.replace(' ', '_')\n",
      "/var/folders/3h/9n_2y6x178l41fsp4dg802f00000gn/T/ipykernel_14484/3404193009.py:25: FutureWarning: The default value of regex will change from True to False in a future version.\n",
      "  incoming_org_data.columns = (incoming_org_data.columns.str.replace(' ', '_')\n"
     ]
    },
    {
     "name": "stdout",
     "output_type": "stream",
     "text": [
      "Found 2 rows in rr20_other_resources for Tehama County Transit Agency\n",
      "Testing for equality.\n",
      "Tehama County Transit Agency data in rr20_other_resources is already in BigQuery, not writing.\n",
      "Loaded None rows and 6 columns to cal-itp-data-infra.blackcat_raw.2023_rr20_other_resources for Tehama County Transit Agency\n"
     ]
    }
   ],
   "source": [
    "# First I ran only Tehama's data, if the function is working as it should, nothing should be written to BigQuery\n",
    "# since it's already there.\n",
    "compare_datasets(\"RR-20\", latest_file, 'Tehama County Transit Agency')"
   ]
  },
  {
   "cell_type": "code",
   "execution_count": 439,
   "id": "3effd50e",
   "metadata": {},
   "outputs": [
    {
     "name": "stdout",
     "output_type": "stream",
     "text": [
      "Checking data for City of Arvin from rr20_basics_contacts\n"
     ]
    },
    {
     "name": "stderr",
     "output_type": "stream",
     "text": [
      "/var/folders/3h/9n_2y6x178l41fsp4dg802f00000gn/T/ipykernel_14484/2873406759.py:21: SettingWithCopyWarning: \n",
      "A value is trying to be set on a copy of a slice from a DataFrame.\n",
      "Try using .loc[row_indexer,col_indexer] = value instead\n",
      "\n",
      "See the caveats in the documentation: https://pandas.pydata.org/pandas-docs/stable/user_guide/indexing.html#returning-a-view-versus-a-copy\n",
      "  incoming_org_data['date_uploaded'] = pd.to_datetime(datetime.datetime.now().date())\n",
      "/var/folders/3h/9n_2y6x178l41fsp4dg802f00000gn/T/ipykernel_14484/2873406759.py:25: FutureWarning: The default value of regex will change from True to False in a future version. In addition, single character regular expressions will *not* be treated as literal strings when regex=True.\n",
      "  incoming_org_data.columns = (incoming_org_data.columns.str.replace(' ', '_')\n",
      "/var/folders/3h/9n_2y6x178l41fsp4dg802f00000gn/T/ipykernel_14484/2873406759.py:25: FutureWarning: The default value of regex will change from True to False in a future version.\n",
      "  incoming_org_data.columns = (incoming_org_data.columns.str.replace(' ', '_')\n",
      "23-10-02 14:34:08:INFO: Found 0 rows in rr20_basics_contacts for City of Arvin\n",
      "23-10-02 14:34:08:INFO: Did not find existing data in cal-itp-data-infra.blackcat_raw.2023_rr20_basics_contacts for City of Arvin, loading new raw data.\n",
      "23-10-02 14:34:12:INFO: Loaded 2 rows and 15 columns to cal-itp-data-infra.blackcat_raw.2023_rr20_basics_contacts for City of Arvin\n"
     ]
    },
    {
     "name": "stdout",
     "output_type": "stream",
     "text": [
      "Checking data for City of Arvin from rr20_modes\n"
     ]
    },
    {
     "name": "stderr",
     "output_type": "stream",
     "text": [
      "/var/folders/3h/9n_2y6x178l41fsp4dg802f00000gn/T/ipykernel_14484/2873406759.py:21: SettingWithCopyWarning: \n",
      "A value is trying to be set on a copy of a slice from a DataFrame.\n",
      "Try using .loc[row_indexer,col_indexer] = value instead\n",
      "\n",
      "See the caveats in the documentation: https://pandas.pydata.org/pandas-docs/stable/user_guide/indexing.html#returning-a-view-versus-a-copy\n",
      "  incoming_org_data['date_uploaded'] = pd.to_datetime(datetime.datetime.now().date())\n",
      "/var/folders/3h/9n_2y6x178l41fsp4dg802f00000gn/T/ipykernel_14484/2873406759.py:25: FutureWarning: The default value of regex will change from True to False in a future version. In addition, single character regular expressions will *not* be treated as literal strings when regex=True.\n",
      "  incoming_org_data.columns = (incoming_org_data.columns.str.replace(' ', '_')\n",
      "/var/folders/3h/9n_2y6x178l41fsp4dg802f00000gn/T/ipykernel_14484/2873406759.py:25: FutureWarning: The default value of regex will change from True to False in a future version.\n",
      "  incoming_org_data.columns = (incoming_org_data.columns.str.replace(' ', '_')\n",
      "23-10-02 14:34:14:INFO: Found 0 rows in rr20_modes for City of Arvin\n",
      "23-10-02 14:34:14:INFO: Did not find existing data in cal-itp-data-infra.blackcat_raw.2023_rr20_modes for City of Arvin, loading new raw data.\n",
      "23-10-02 14:34:17:INFO: Loaded 4 rows and 9 columns to cal-itp-data-infra.blackcat_raw.2023_rr20_modes for City of Arvin\n"
     ]
    },
    {
     "name": "stdout",
     "output_type": "stream",
     "text": [
      "Checking data for City of Arvin from rr20_expenses_by_mode\n"
     ]
    },
    {
     "name": "stderr",
     "output_type": "stream",
     "text": [
      "/var/folders/3h/9n_2y6x178l41fsp4dg802f00000gn/T/ipykernel_14484/2873406759.py:21: SettingWithCopyWarning: \n",
      "A value is trying to be set on a copy of a slice from a DataFrame.\n",
      "Try using .loc[row_indexer,col_indexer] = value instead\n",
      "\n",
      "See the caveats in the documentation: https://pandas.pydata.org/pandas-docs/stable/user_guide/indexing.html#returning-a-view-versus-a-copy\n",
      "  incoming_org_data['date_uploaded'] = pd.to_datetime(datetime.datetime.now().date())\n",
      "/var/folders/3h/9n_2y6x178l41fsp4dg802f00000gn/T/ipykernel_14484/2873406759.py:25: FutureWarning: The default value of regex will change from True to False in a future version. In addition, single character regular expressions will *not* be treated as literal strings when regex=True.\n",
      "  incoming_org_data.columns = (incoming_org_data.columns.str.replace(' ', '_')\n",
      "/var/folders/3h/9n_2y6x178l41fsp4dg802f00000gn/T/ipykernel_14484/2873406759.py:25: FutureWarning: The default value of regex will change from True to False in a future version.\n",
      "  incoming_org_data.columns = (incoming_org_data.columns.str.replace(' ', '_')\n",
      "23-10-02 14:34:19:INFO: Found 0 rows in rr20_expenses_by_mode for City of Arvin\n",
      "23-10-02 14:34:19:INFO: Did not find existing data in cal-itp-data-infra.blackcat_raw.2023_rr20_expenses_by_mode for City of Arvin, loading new raw data.\n",
      "23-10-02 14:34:21:INFO: Loaded 8 rows and 7 columns to cal-itp-data-infra.blackcat_raw.2023_rr20_expenses_by_mode for City of Arvin\n"
     ]
    },
    {
     "name": "stdout",
     "output_type": "stream",
     "text": [
      "Checking data for City of Arvin from rr20_revenues_by_mode\n"
     ]
    },
    {
     "name": "stderr",
     "output_type": "stream",
     "text": [
      "/var/folders/3h/9n_2y6x178l41fsp4dg802f00000gn/T/ipykernel_14484/2873406759.py:21: SettingWithCopyWarning: \n",
      "A value is trying to be set on a copy of a slice from a DataFrame.\n",
      "Try using .loc[row_indexer,col_indexer] = value instead\n",
      "\n",
      "See the caveats in the documentation: https://pandas.pydata.org/pandas-docs/stable/user_guide/indexing.html#returning-a-view-versus-a-copy\n",
      "  incoming_org_data['date_uploaded'] = pd.to_datetime(datetime.datetime.now().date())\n",
      "/var/folders/3h/9n_2y6x178l41fsp4dg802f00000gn/T/ipykernel_14484/2873406759.py:25: FutureWarning: The default value of regex will change from True to False in a future version. In addition, single character regular expressions will *not* be treated as literal strings when regex=True.\n",
      "  incoming_org_data.columns = (incoming_org_data.columns.str.replace(' ', '_')\n",
      "/var/folders/3h/9n_2y6x178l41fsp4dg802f00000gn/T/ipykernel_14484/2873406759.py:25: FutureWarning: The default value of regex will change from True to False in a future version.\n",
      "  incoming_org_data.columns = (incoming_org_data.columns.str.replace(' ', '_')\n",
      "23-10-02 14:34:24:INFO: Found 0 rows in rr20_revenues_by_mode for City of Arvin\n",
      "23-10-02 14:34:24:INFO: Did not find existing data in cal-itp-data-infra.blackcat_raw.2023_rr20_revenues_by_mode for City of Arvin, loading new raw data.\n",
      "23-10-02 14:34:27:INFO: Loaded 16 rows and 8 columns to cal-itp-data-infra.blackcat_raw.2023_rr20_revenues_by_mode for City of Arvin\n"
     ]
    },
    {
     "name": "stdout",
     "output_type": "stream",
     "text": [
      "Checking data for City of Arvin from rr20_financials__2\n"
     ]
    },
    {
     "name": "stderr",
     "output_type": "stream",
     "text": [
      "/var/folders/3h/9n_2y6x178l41fsp4dg802f00000gn/T/ipykernel_14484/2873406759.py:21: SettingWithCopyWarning: \n",
      "A value is trying to be set on a copy of a slice from a DataFrame.\n",
      "Try using .loc[row_indexer,col_indexer] = value instead\n",
      "\n",
      "See the caveats in the documentation: https://pandas.pydata.org/pandas-docs/stable/user_guide/indexing.html#returning-a-view-versus-a-copy\n",
      "  incoming_org_data['date_uploaded'] = pd.to_datetime(datetime.datetime.now().date())\n",
      "/var/folders/3h/9n_2y6x178l41fsp4dg802f00000gn/T/ipykernel_14484/2873406759.py:25: FutureWarning: The default value of regex will change from True to False in a future version. In addition, single character regular expressions will *not* be treated as literal strings when regex=True.\n",
      "  incoming_org_data.columns = (incoming_org_data.columns.str.replace(' ', '_')\n",
      "/var/folders/3h/9n_2y6x178l41fsp4dg802f00000gn/T/ipykernel_14484/2873406759.py:25: FutureWarning: The default value of regex will change from True to False in a future version.\n",
      "  incoming_org_data.columns = (incoming_org_data.columns.str.replace(' ', '_')\n",
      "23-10-02 14:34:29:INFO: Found 0 rows in rr20_financials__2 for City of Arvin\n",
      "23-10-02 14:34:29:INFO: Did not find existing data in cal-itp-data-infra.blackcat_raw.2023_rr20_financials__2 for City of Arvin, loading new raw data.\n",
      "23-10-02 14:34:32:INFO: Loaded 4 rows and 46 columns to cal-itp-data-infra.blackcat_raw.2023_rr20_financials__2 for City of Arvin\n"
     ]
    },
    {
     "name": "stdout",
     "output_type": "stream",
     "text": [
      "Checking data for City of Arvin from rr20_service_data\n"
     ]
    },
    {
     "name": "stderr",
     "output_type": "stream",
     "text": [
      "/var/folders/3h/9n_2y6x178l41fsp4dg802f00000gn/T/ipykernel_14484/2873406759.py:21: SettingWithCopyWarning: \n",
      "A value is trying to be set on a copy of a slice from a DataFrame.\n",
      "Try using .loc[row_indexer,col_indexer] = value instead\n",
      "\n",
      "See the caveats in the documentation: https://pandas.pydata.org/pandas-docs/stable/user_guide/indexing.html#returning-a-view-versus-a-copy\n",
      "  incoming_org_data['date_uploaded'] = pd.to_datetime(datetime.datetime.now().date())\n",
      "/var/folders/3h/9n_2y6x178l41fsp4dg802f00000gn/T/ipykernel_14484/2873406759.py:25: FutureWarning: The default value of regex will change from True to False in a future version. In addition, single character regular expressions will *not* be treated as literal strings when regex=True.\n",
      "  incoming_org_data.columns = (incoming_org_data.columns.str.replace(' ', '_')\n",
      "/var/folders/3h/9n_2y6x178l41fsp4dg802f00000gn/T/ipykernel_14484/2873406759.py:25: FutureWarning: The default value of regex will change from True to False in a future version.\n",
      "  incoming_org_data.columns = (incoming_org_data.columns.str.replace(' ', '_')\n",
      "23-10-02 14:34:34:INFO: Found 0 rows in rr20_service_data for City of Arvin\n",
      "23-10-02 14:34:34:INFO: Did not find existing data in cal-itp-data-infra.blackcat_raw.2023_rr20_service_data for City of Arvin, loading new raw data.\n",
      "23-10-02 14:34:37:INFO: Loaded 4 rows and 10 columns to cal-itp-data-infra.blackcat_raw.2023_rr20_service_data for City of Arvin\n"
     ]
    },
    {
     "name": "stdout",
     "output_type": "stream",
     "text": [
      "Checking data for City of Arvin from rr20_safety\n"
     ]
    },
    {
     "name": "stderr",
     "output_type": "stream",
     "text": [
      "/var/folders/3h/9n_2y6x178l41fsp4dg802f00000gn/T/ipykernel_14484/2873406759.py:25: FutureWarning: The default value of regex will change from True to False in a future version. In addition, single character regular expressions will *not* be treated as literal strings when regex=True.\n",
      "  incoming_org_data.columns = (incoming_org_data.columns.str.replace(' ', '_')\n",
      "/var/folders/3h/9n_2y6x178l41fsp4dg802f00000gn/T/ipykernel_14484/2873406759.py:25: FutureWarning: The default value of regex will change from True to False in a future version.\n",
      "  incoming_org_data.columns = (incoming_org_data.columns.str.replace(' ', '_')\n",
      "23-10-02 14:34:39:INFO: Found 0 rows in rr20_safety for City of Arvin\n",
      "23-10-02 14:34:39:INFO: Did not find existing data in cal-itp-data-infra.blackcat_raw.2023_rr20_safety for City of Arvin, loading new raw data.\n",
      "23-10-02 14:34:46:INFO: Loaded 0 rows and 7 columns to cal-itp-data-infra.blackcat_raw.2023_rr20_safety for City of Arvin\n"
     ]
    },
    {
     "name": "stdout",
     "output_type": "stream",
     "text": [
      "Checking data for City of Arvin from rr20_other_resources\n"
     ]
    },
    {
     "name": "stderr",
     "output_type": "stream",
     "text": [
      "/var/folders/3h/9n_2y6x178l41fsp4dg802f00000gn/T/ipykernel_14484/2873406759.py:21: SettingWithCopyWarning: \n",
      "A value is trying to be set on a copy of a slice from a DataFrame.\n",
      "Try using .loc[row_indexer,col_indexer] = value instead\n",
      "\n",
      "See the caveats in the documentation: https://pandas.pydata.org/pandas-docs/stable/user_guide/indexing.html#returning-a-view-versus-a-copy\n",
      "  incoming_org_data['date_uploaded'] = pd.to_datetime(datetime.datetime.now().date())\n",
      "/var/folders/3h/9n_2y6x178l41fsp4dg802f00000gn/T/ipykernel_14484/2873406759.py:25: FutureWarning: The default value of regex will change from True to False in a future version. In addition, single character regular expressions will *not* be treated as literal strings when regex=True.\n",
      "  incoming_org_data.columns = (incoming_org_data.columns.str.replace(' ', '_')\n",
      "/var/folders/3h/9n_2y6x178l41fsp4dg802f00000gn/T/ipykernel_14484/2873406759.py:25: FutureWarning: The default value of regex will change from True to False in a future version.\n",
      "  incoming_org_data.columns = (incoming_org_data.columns.str.replace(' ', '_')\n",
      "23-10-02 14:34:48:INFO: Found 0 rows in rr20_other_resources for City of Arvin\n",
      "23-10-02 14:34:48:INFO: Did not find existing data in cal-itp-data-infra.blackcat_raw.2023_rr20_other_resources for City of Arvin, loading new raw data.\n",
      "23-10-02 14:34:51:INFO: Loaded 2 rows and 6 columns to cal-itp-data-infra.blackcat_raw.2023_rr20_other_resources for City of Arvin\n"
     ]
    },
    {
     "name": "stdout",
     "output_type": "stream",
     "text": [
      "Checking data for City of Corcoran - Corcoran Area Transit from rr20_basics_contacts\n"
     ]
    },
    {
     "name": "stderr",
     "output_type": "stream",
     "text": [
      "/var/folders/3h/9n_2y6x178l41fsp4dg802f00000gn/T/ipykernel_14484/2873406759.py:21: SettingWithCopyWarning: \n",
      "A value is trying to be set on a copy of a slice from a DataFrame.\n",
      "Try using .loc[row_indexer,col_indexer] = value instead\n",
      "\n",
      "See the caveats in the documentation: https://pandas.pydata.org/pandas-docs/stable/user_guide/indexing.html#returning-a-view-versus-a-copy\n",
      "  incoming_org_data['date_uploaded'] = pd.to_datetime(datetime.datetime.now().date())\n",
      "/var/folders/3h/9n_2y6x178l41fsp4dg802f00000gn/T/ipykernel_14484/2873406759.py:25: FutureWarning: The default value of regex will change from True to False in a future version. In addition, single character regular expressions will *not* be treated as literal strings when regex=True.\n",
      "  incoming_org_data.columns = (incoming_org_data.columns.str.replace(' ', '_')\n",
      "/var/folders/3h/9n_2y6x178l41fsp4dg802f00000gn/T/ipykernel_14484/2873406759.py:25: FutureWarning: The default value of regex will change from True to False in a future version.\n",
      "  incoming_org_data.columns = (incoming_org_data.columns.str.replace(' ', '_')\n",
      "23-10-02 14:34:53:INFO: Found 0 rows in rr20_basics_contacts for City of Corcoran - Corcoran Area Transit\n",
      "23-10-02 14:34:53:INFO: Did not find existing data in cal-itp-data-infra.blackcat_raw.2023_rr20_basics_contacts for City of Corcoran - Corcoran Area Transit, loading new raw data.\n",
      "23-10-02 14:34:56:INFO: Loaded 3 rows and 15 columns to cal-itp-data-infra.blackcat_raw.2023_rr20_basics_contacts for City of Corcoran - Corcoran Area Transit\n"
     ]
    },
    {
     "name": "stdout",
     "output_type": "stream",
     "text": [
      "Checking data for City of Corcoran - Corcoran Area Transit from rr20_modes\n"
     ]
    },
    {
     "name": "stderr",
     "output_type": "stream",
     "text": [
      "/var/folders/3h/9n_2y6x178l41fsp4dg802f00000gn/T/ipykernel_14484/2873406759.py:21: SettingWithCopyWarning: \n",
      "A value is trying to be set on a copy of a slice from a DataFrame.\n",
      "Try using .loc[row_indexer,col_indexer] = value instead\n",
      "\n",
      "See the caveats in the documentation: https://pandas.pydata.org/pandas-docs/stable/user_guide/indexing.html#returning-a-view-versus-a-copy\n",
      "  incoming_org_data['date_uploaded'] = pd.to_datetime(datetime.datetime.now().date())\n",
      "/var/folders/3h/9n_2y6x178l41fsp4dg802f00000gn/T/ipykernel_14484/2873406759.py:25: FutureWarning: The default value of regex will change from True to False in a future version. In addition, single character regular expressions will *not* be treated as literal strings when regex=True.\n",
      "  incoming_org_data.columns = (incoming_org_data.columns.str.replace(' ', '_')\n",
      "/var/folders/3h/9n_2y6x178l41fsp4dg802f00000gn/T/ipykernel_14484/2873406759.py:25: FutureWarning: The default value of regex will change from True to False in a future version.\n",
      "  incoming_org_data.columns = (incoming_org_data.columns.str.replace(' ', '_')\n",
      "23-10-02 14:34:58:INFO: Found 0 rows in rr20_modes for City of Corcoran - Corcoran Area Transit\n",
      "23-10-02 14:34:58:INFO: Did not find existing data in cal-itp-data-infra.blackcat_raw.2023_rr20_modes for City of Corcoran - Corcoran Area Transit, loading new raw data.\n",
      "23-10-02 14:35:01:INFO: Loaded 5 rows and 9 columns to cal-itp-data-infra.blackcat_raw.2023_rr20_modes for City of Corcoran - Corcoran Area Transit\n"
     ]
    },
    {
     "name": "stdout",
     "output_type": "stream",
     "text": [
      "Checking data for City of Corcoran - Corcoran Area Transit from rr20_expenses_by_mode\n"
     ]
    },
    {
     "name": "stderr",
     "output_type": "stream",
     "text": [
      "/var/folders/3h/9n_2y6x178l41fsp4dg802f00000gn/T/ipykernel_14484/2873406759.py:21: SettingWithCopyWarning: \n",
      "A value is trying to be set on a copy of a slice from a DataFrame.\n",
      "Try using .loc[row_indexer,col_indexer] = value instead\n",
      "\n",
      "See the caveats in the documentation: https://pandas.pydata.org/pandas-docs/stable/user_guide/indexing.html#returning-a-view-versus-a-copy\n",
      "  incoming_org_data['date_uploaded'] = pd.to_datetime(datetime.datetime.now().date())\n",
      "/var/folders/3h/9n_2y6x178l41fsp4dg802f00000gn/T/ipykernel_14484/2873406759.py:25: FutureWarning: The default value of regex will change from True to False in a future version. In addition, single character regular expressions will *not* be treated as literal strings when regex=True.\n",
      "  incoming_org_data.columns = (incoming_org_data.columns.str.replace(' ', '_')\n",
      "/var/folders/3h/9n_2y6x178l41fsp4dg802f00000gn/T/ipykernel_14484/2873406759.py:25: FutureWarning: The default value of regex will change from True to False in a future version.\n",
      "  incoming_org_data.columns = (incoming_org_data.columns.str.replace(' ', '_')\n",
      "23-10-02 14:35:03:INFO: Found 0 rows in rr20_expenses_by_mode for City of Corcoran - Corcoran Area Transit\n",
      "23-10-02 14:35:03:INFO: Did not find existing data in cal-itp-data-infra.blackcat_raw.2023_rr20_expenses_by_mode for City of Corcoran - Corcoran Area Transit, loading new raw data.\n",
      "23-10-02 14:35:06:INFO: Loaded 10 rows and 7 columns to cal-itp-data-infra.blackcat_raw.2023_rr20_expenses_by_mode for City of Corcoran - Corcoran Area Transit\n"
     ]
    },
    {
     "name": "stdout",
     "output_type": "stream",
     "text": [
      "Checking data for City of Corcoran - Corcoran Area Transit from rr20_revenues_by_mode\n"
     ]
    },
    {
     "name": "stderr",
     "output_type": "stream",
     "text": [
      "/var/folders/3h/9n_2y6x178l41fsp4dg802f00000gn/T/ipykernel_14484/2873406759.py:21: SettingWithCopyWarning: \n",
      "A value is trying to be set on a copy of a slice from a DataFrame.\n",
      "Try using .loc[row_indexer,col_indexer] = value instead\n",
      "\n",
      "See the caveats in the documentation: https://pandas.pydata.org/pandas-docs/stable/user_guide/indexing.html#returning-a-view-versus-a-copy\n",
      "  incoming_org_data['date_uploaded'] = pd.to_datetime(datetime.datetime.now().date())\n",
      "/var/folders/3h/9n_2y6x178l41fsp4dg802f00000gn/T/ipykernel_14484/2873406759.py:25: FutureWarning: The default value of regex will change from True to False in a future version. In addition, single character regular expressions will *not* be treated as literal strings when regex=True.\n",
      "  incoming_org_data.columns = (incoming_org_data.columns.str.replace(' ', '_')\n",
      "/var/folders/3h/9n_2y6x178l41fsp4dg802f00000gn/T/ipykernel_14484/2873406759.py:25: FutureWarning: The default value of regex will change from True to False in a future version.\n",
      "  incoming_org_data.columns = (incoming_org_data.columns.str.replace(' ', '_')\n",
      "23-10-02 14:35:08:INFO: Found 0 rows in rr20_revenues_by_mode for City of Corcoran - Corcoran Area Transit\n",
      "23-10-02 14:35:08:INFO: Did not find existing data in cal-itp-data-infra.blackcat_raw.2023_rr20_revenues_by_mode for City of Corcoran - Corcoran Area Transit, loading new raw data.\n",
      "23-10-02 14:35:11:INFO: Loaded 20 rows and 8 columns to cal-itp-data-infra.blackcat_raw.2023_rr20_revenues_by_mode for City of Corcoran - Corcoran Area Transit\n"
     ]
    },
    {
     "name": "stdout",
     "output_type": "stream",
     "text": [
      "Checking data for City of Corcoran - Corcoran Area Transit from rr20_financials__2\n"
     ]
    },
    {
     "name": "stderr",
     "output_type": "stream",
     "text": [
      "/var/folders/3h/9n_2y6x178l41fsp4dg802f00000gn/T/ipykernel_14484/2873406759.py:21: SettingWithCopyWarning: \n",
      "A value is trying to be set on a copy of a slice from a DataFrame.\n",
      "Try using .loc[row_indexer,col_indexer] = value instead\n",
      "\n",
      "See the caveats in the documentation: https://pandas.pydata.org/pandas-docs/stable/user_guide/indexing.html#returning-a-view-versus-a-copy\n",
      "  incoming_org_data['date_uploaded'] = pd.to_datetime(datetime.datetime.now().date())\n",
      "/var/folders/3h/9n_2y6x178l41fsp4dg802f00000gn/T/ipykernel_14484/2873406759.py:25: FutureWarning: The default value of regex will change from True to False in a future version. In addition, single character regular expressions will *not* be treated as literal strings when regex=True.\n",
      "  incoming_org_data.columns = (incoming_org_data.columns.str.replace(' ', '_')\n",
      "/var/folders/3h/9n_2y6x178l41fsp4dg802f00000gn/T/ipykernel_14484/2873406759.py:25: FutureWarning: The default value of regex will change from True to False in a future version.\n",
      "  incoming_org_data.columns = (incoming_org_data.columns.str.replace(' ', '_')\n",
      "23-10-02 14:35:13:INFO: Found 0 rows in rr20_financials__2 for City of Corcoran - Corcoran Area Transit\n",
      "23-10-02 14:35:13:INFO: Did not find existing data in cal-itp-data-infra.blackcat_raw.2023_rr20_financials__2 for City of Corcoran - Corcoran Area Transit, loading new raw data.\n",
      "23-10-02 14:35:17:INFO: Loaded 6 rows and 46 columns to cal-itp-data-infra.blackcat_raw.2023_rr20_financials__2 for City of Corcoran - Corcoran Area Transit\n"
     ]
    },
    {
     "name": "stdout",
     "output_type": "stream",
     "text": [
      "Checking data for City of Corcoran - Corcoran Area Transit from rr20_service_data\n"
     ]
    },
    {
     "name": "stderr",
     "output_type": "stream",
     "text": [
      "/var/folders/3h/9n_2y6x178l41fsp4dg802f00000gn/T/ipykernel_14484/2873406759.py:21: SettingWithCopyWarning: \n",
      "A value is trying to be set on a copy of a slice from a DataFrame.\n",
      "Try using .loc[row_indexer,col_indexer] = value instead\n",
      "\n",
      "See the caveats in the documentation: https://pandas.pydata.org/pandas-docs/stable/user_guide/indexing.html#returning-a-view-versus-a-copy\n",
      "  incoming_org_data['date_uploaded'] = pd.to_datetime(datetime.datetime.now().date())\n",
      "/var/folders/3h/9n_2y6x178l41fsp4dg802f00000gn/T/ipykernel_14484/2873406759.py:25: FutureWarning: The default value of regex will change from True to False in a future version. In addition, single character regular expressions will *not* be treated as literal strings when regex=True.\n",
      "  incoming_org_data.columns = (incoming_org_data.columns.str.replace(' ', '_')\n",
      "/var/folders/3h/9n_2y6x178l41fsp4dg802f00000gn/T/ipykernel_14484/2873406759.py:25: FutureWarning: The default value of regex will change from True to False in a future version.\n",
      "  incoming_org_data.columns = (incoming_org_data.columns.str.replace(' ', '_')\n",
      "23-10-02 14:35:20:INFO: Found 0 rows in rr20_service_data for City of Corcoran - Corcoran Area Transit\n",
      "23-10-02 14:35:20:INFO: Did not find existing data in cal-itp-data-infra.blackcat_raw.2023_rr20_service_data for City of Corcoran - Corcoran Area Transit, loading new raw data.\n",
      "23-10-02 14:35:25:INFO: Loaded 5 rows and 10 columns to cal-itp-data-infra.blackcat_raw.2023_rr20_service_data for City of Corcoran - Corcoran Area Transit\n"
     ]
    },
    {
     "name": "stdout",
     "output_type": "stream",
     "text": [
      "Checking data for City of Corcoran - Corcoran Area Transit from rr20_safety\n"
     ]
    },
    {
     "name": "stderr",
     "output_type": "stream",
     "text": [
      "/var/folders/3h/9n_2y6x178l41fsp4dg802f00000gn/T/ipykernel_14484/2873406759.py:25: FutureWarning: The default value of regex will change from True to False in a future version. In addition, single character regular expressions will *not* be treated as literal strings when regex=True.\n",
      "  incoming_org_data.columns = (incoming_org_data.columns.str.replace(' ', '_')\n",
      "/var/folders/3h/9n_2y6x178l41fsp4dg802f00000gn/T/ipykernel_14484/2873406759.py:25: FutureWarning: The default value of regex will change from True to False in a future version.\n",
      "  incoming_org_data.columns = (incoming_org_data.columns.str.replace(' ', '_')\n",
      "23-10-02 14:35:28:INFO: Found 0 rows in rr20_safety for City of Corcoran - Corcoran Area Transit\n",
      "23-10-02 14:35:28:INFO: Did not find existing data in cal-itp-data-infra.blackcat_raw.2023_rr20_safety for City of Corcoran - Corcoran Area Transit, loading new raw data.\n",
      "23-10-02 14:35:30:INFO: Loaded 1 rows and 7 columns to cal-itp-data-infra.blackcat_raw.2023_rr20_safety for City of Corcoran - Corcoran Area Transit\n"
     ]
    },
    {
     "name": "stdout",
     "output_type": "stream",
     "text": [
      "Checking data for City of Corcoran - Corcoran Area Transit from rr20_other_resources\n"
     ]
    },
    {
     "name": "stderr",
     "output_type": "stream",
     "text": [
      "/var/folders/3h/9n_2y6x178l41fsp4dg802f00000gn/T/ipykernel_14484/2873406759.py:21: SettingWithCopyWarning: \n",
      "A value is trying to be set on a copy of a slice from a DataFrame.\n",
      "Try using .loc[row_indexer,col_indexer] = value instead\n",
      "\n",
      "See the caveats in the documentation: https://pandas.pydata.org/pandas-docs/stable/user_guide/indexing.html#returning-a-view-versus-a-copy\n",
      "  incoming_org_data['date_uploaded'] = pd.to_datetime(datetime.datetime.now().date())\n",
      "/var/folders/3h/9n_2y6x178l41fsp4dg802f00000gn/T/ipykernel_14484/2873406759.py:25: FutureWarning: The default value of regex will change from True to False in a future version. In addition, single character regular expressions will *not* be treated as literal strings when regex=True.\n",
      "  incoming_org_data.columns = (incoming_org_data.columns.str.replace(' ', '_')\n",
      "/var/folders/3h/9n_2y6x178l41fsp4dg802f00000gn/T/ipykernel_14484/2873406759.py:25: FutureWarning: The default value of regex will change from True to False in a future version.\n",
      "  incoming_org_data.columns = (incoming_org_data.columns.str.replace(' ', '_')\n",
      "23-10-02 14:35:33:INFO: Found 0 rows in rr20_other_resources for City of Corcoran - Corcoran Area Transit\n",
      "23-10-02 14:35:33:INFO: Did not find existing data in cal-itp-data-infra.blackcat_raw.2023_rr20_other_resources for City of Corcoran - Corcoran Area Transit, loading new raw data.\n",
      "23-10-02 14:35:36:INFO: Loaded 3 rows and 6 columns to cal-itp-data-infra.blackcat_raw.2023_rr20_other_resources for City of Corcoran - Corcoran Area Transit\n"
     ]
    },
    {
     "name": "stdout",
     "output_type": "stream",
     "text": [
      "Checking data for County of Shasta Department of Public Works from rr20_basics_contacts\n"
     ]
    },
    {
     "name": "stderr",
     "output_type": "stream",
     "text": [
      "/var/folders/3h/9n_2y6x178l41fsp4dg802f00000gn/T/ipykernel_14484/2873406759.py:21: SettingWithCopyWarning: \n",
      "A value is trying to be set on a copy of a slice from a DataFrame.\n",
      "Try using .loc[row_indexer,col_indexer] = value instead\n",
      "\n",
      "See the caveats in the documentation: https://pandas.pydata.org/pandas-docs/stable/user_guide/indexing.html#returning-a-view-versus-a-copy\n",
      "  incoming_org_data['date_uploaded'] = pd.to_datetime(datetime.datetime.now().date())\n",
      "/var/folders/3h/9n_2y6x178l41fsp4dg802f00000gn/T/ipykernel_14484/2873406759.py:25: FutureWarning: The default value of regex will change from True to False in a future version. In addition, single character regular expressions will *not* be treated as literal strings when regex=True.\n",
      "  incoming_org_data.columns = (incoming_org_data.columns.str.replace(' ', '_')\n",
      "/var/folders/3h/9n_2y6x178l41fsp4dg802f00000gn/T/ipykernel_14484/2873406759.py:25: FutureWarning: The default value of regex will change from True to False in a future version.\n",
      "  incoming_org_data.columns = (incoming_org_data.columns.str.replace(' ', '_')\n",
      "23-10-02 14:35:39:INFO: Found 0 rows in rr20_basics_contacts for County of Shasta Department of Public Works\n",
      "23-10-02 14:35:39:INFO: Did not find existing data in cal-itp-data-infra.blackcat_raw.2023_rr20_basics_contacts for County of Shasta Department of Public Works, loading new raw data.\n",
      "23-10-02 14:35:41:INFO: Loaded 4 rows and 15 columns to cal-itp-data-infra.blackcat_raw.2023_rr20_basics_contacts for County of Shasta Department of Public Works\n"
     ]
    },
    {
     "name": "stdout",
     "output_type": "stream",
     "text": [
      "Checking data for County of Shasta Department of Public Works from rr20_modes\n"
     ]
    },
    {
     "name": "stderr",
     "output_type": "stream",
     "text": [
      "/var/folders/3h/9n_2y6x178l41fsp4dg802f00000gn/T/ipykernel_14484/2873406759.py:21: SettingWithCopyWarning: \n",
      "A value is trying to be set on a copy of a slice from a DataFrame.\n",
      "Try using .loc[row_indexer,col_indexer] = value instead\n",
      "\n",
      "See the caveats in the documentation: https://pandas.pydata.org/pandas-docs/stable/user_guide/indexing.html#returning-a-view-versus-a-copy\n",
      "  incoming_org_data['date_uploaded'] = pd.to_datetime(datetime.datetime.now().date())\n",
      "/var/folders/3h/9n_2y6x178l41fsp4dg802f00000gn/T/ipykernel_14484/2873406759.py:25: FutureWarning: The default value of regex will change from True to False in a future version. In addition, single character regular expressions will *not* be treated as literal strings when regex=True.\n",
      "  incoming_org_data.columns = (incoming_org_data.columns.str.replace(' ', '_')\n",
      "/var/folders/3h/9n_2y6x178l41fsp4dg802f00000gn/T/ipykernel_14484/2873406759.py:25: FutureWarning: The default value of regex will change from True to False in a future version.\n",
      "  incoming_org_data.columns = (incoming_org_data.columns.str.replace(' ', '_')\n",
      "23-10-02 14:35:43:INFO: Found 0 rows in rr20_modes for County of Shasta Department of Public Works\n",
      "23-10-02 14:35:43:INFO: Did not find existing data in cal-itp-data-infra.blackcat_raw.2023_rr20_modes for County of Shasta Department of Public Works, loading new raw data.\n",
      "23-10-02 14:35:46:INFO: Loaded 7 rows and 9 columns to cal-itp-data-infra.blackcat_raw.2023_rr20_modes for County of Shasta Department of Public Works\n"
     ]
    },
    {
     "name": "stdout",
     "output_type": "stream",
     "text": [
      "Checking data for County of Shasta Department of Public Works from rr20_expenses_by_mode\n"
     ]
    },
    {
     "name": "stderr",
     "output_type": "stream",
     "text": [
      "/var/folders/3h/9n_2y6x178l41fsp4dg802f00000gn/T/ipykernel_14484/2873406759.py:21: SettingWithCopyWarning: \n",
      "A value is trying to be set on a copy of a slice from a DataFrame.\n",
      "Try using .loc[row_indexer,col_indexer] = value instead\n",
      "\n",
      "See the caveats in the documentation: https://pandas.pydata.org/pandas-docs/stable/user_guide/indexing.html#returning-a-view-versus-a-copy\n",
      "  incoming_org_data['date_uploaded'] = pd.to_datetime(datetime.datetime.now().date())\n",
      "/var/folders/3h/9n_2y6x178l41fsp4dg802f00000gn/T/ipykernel_14484/2873406759.py:25: FutureWarning: The default value of regex will change from True to False in a future version. In addition, single character regular expressions will *not* be treated as literal strings when regex=True.\n",
      "  incoming_org_data.columns = (incoming_org_data.columns.str.replace(' ', '_')\n",
      "/var/folders/3h/9n_2y6x178l41fsp4dg802f00000gn/T/ipykernel_14484/2873406759.py:25: FutureWarning: The default value of regex will change from True to False in a future version.\n",
      "  incoming_org_data.columns = (incoming_org_data.columns.str.replace(' ', '_')\n",
      "23-10-02 14:35:48:INFO: Found 0 rows in rr20_expenses_by_mode for County of Shasta Department of Public Works\n",
      "23-10-02 14:35:48:INFO: Did not find existing data in cal-itp-data-infra.blackcat_raw.2023_rr20_expenses_by_mode for County of Shasta Department of Public Works, loading new raw data.\n",
      "23-10-02 14:35:51:INFO: Loaded 14 rows and 7 columns to cal-itp-data-infra.blackcat_raw.2023_rr20_expenses_by_mode for County of Shasta Department of Public Works\n"
     ]
    },
    {
     "name": "stdout",
     "output_type": "stream",
     "text": [
      "Checking data for County of Shasta Department of Public Works from rr20_revenues_by_mode\n"
     ]
    },
    {
     "name": "stderr",
     "output_type": "stream",
     "text": [
      "/var/folders/3h/9n_2y6x178l41fsp4dg802f00000gn/T/ipykernel_14484/2873406759.py:21: SettingWithCopyWarning: \n",
      "A value is trying to be set on a copy of a slice from a DataFrame.\n",
      "Try using .loc[row_indexer,col_indexer] = value instead\n",
      "\n",
      "See the caveats in the documentation: https://pandas.pydata.org/pandas-docs/stable/user_guide/indexing.html#returning-a-view-versus-a-copy\n",
      "  incoming_org_data['date_uploaded'] = pd.to_datetime(datetime.datetime.now().date())\n",
      "/var/folders/3h/9n_2y6x178l41fsp4dg802f00000gn/T/ipykernel_14484/2873406759.py:25: FutureWarning: The default value of regex will change from True to False in a future version. In addition, single character regular expressions will *not* be treated as literal strings when regex=True.\n",
      "  incoming_org_data.columns = (incoming_org_data.columns.str.replace(' ', '_')\n",
      "/var/folders/3h/9n_2y6x178l41fsp4dg802f00000gn/T/ipykernel_14484/2873406759.py:25: FutureWarning: The default value of regex will change from True to False in a future version.\n",
      "  incoming_org_data.columns = (incoming_org_data.columns.str.replace(' ', '_')\n",
      "23-10-02 14:35:53:INFO: Found 0 rows in rr20_revenues_by_mode for County of Shasta Department of Public Works\n",
      "23-10-02 14:35:53:INFO: Did not find existing data in cal-itp-data-infra.blackcat_raw.2023_rr20_revenues_by_mode for County of Shasta Department of Public Works, loading new raw data.\n",
      "23-10-02 14:35:57:INFO: Loaded 28 rows and 8 columns to cal-itp-data-infra.blackcat_raw.2023_rr20_revenues_by_mode for County of Shasta Department of Public Works\n"
     ]
    },
    {
     "name": "stdout",
     "output_type": "stream",
     "text": [
      "Checking data for County of Shasta Department of Public Works from rr20_financials__2\n"
     ]
    },
    {
     "name": "stderr",
     "output_type": "stream",
     "text": [
      "/var/folders/3h/9n_2y6x178l41fsp4dg802f00000gn/T/ipykernel_14484/2873406759.py:21: SettingWithCopyWarning: \n",
      "A value is trying to be set on a copy of a slice from a DataFrame.\n",
      "Try using .loc[row_indexer,col_indexer] = value instead\n",
      "\n",
      "See the caveats in the documentation: https://pandas.pydata.org/pandas-docs/stable/user_guide/indexing.html#returning-a-view-versus-a-copy\n",
      "  incoming_org_data['date_uploaded'] = pd.to_datetime(datetime.datetime.now().date())\n",
      "/var/folders/3h/9n_2y6x178l41fsp4dg802f00000gn/T/ipykernel_14484/2873406759.py:25: FutureWarning: The default value of regex will change from True to False in a future version. In addition, single character regular expressions will *not* be treated as literal strings when regex=True.\n",
      "  incoming_org_data.columns = (incoming_org_data.columns.str.replace(' ', '_')\n",
      "/var/folders/3h/9n_2y6x178l41fsp4dg802f00000gn/T/ipykernel_14484/2873406759.py:25: FutureWarning: The default value of regex will change from True to False in a future version.\n",
      "  incoming_org_data.columns = (incoming_org_data.columns.str.replace(' ', '_')\n",
      "23-10-02 14:35:59:INFO: Found 0 rows in rr20_financials__2 for County of Shasta Department of Public Works\n",
      "23-10-02 14:35:59:INFO: Did not find existing data in cal-itp-data-infra.blackcat_raw.2023_rr20_financials__2 for County of Shasta Department of Public Works, loading new raw data.\n",
      "23-10-02 14:36:01:INFO: Loaded 8 rows and 46 columns to cal-itp-data-infra.blackcat_raw.2023_rr20_financials__2 for County of Shasta Department of Public Works\n"
     ]
    },
    {
     "name": "stdout",
     "output_type": "stream",
     "text": [
      "Checking data for County of Shasta Department of Public Works from rr20_service_data\n"
     ]
    },
    {
     "name": "stderr",
     "output_type": "stream",
     "text": [
      "/var/folders/3h/9n_2y6x178l41fsp4dg802f00000gn/T/ipykernel_14484/2873406759.py:21: SettingWithCopyWarning: \n",
      "A value is trying to be set on a copy of a slice from a DataFrame.\n",
      "Try using .loc[row_indexer,col_indexer] = value instead\n",
      "\n",
      "See the caveats in the documentation: https://pandas.pydata.org/pandas-docs/stable/user_guide/indexing.html#returning-a-view-versus-a-copy\n",
      "  incoming_org_data['date_uploaded'] = pd.to_datetime(datetime.datetime.now().date())\n",
      "/var/folders/3h/9n_2y6x178l41fsp4dg802f00000gn/T/ipykernel_14484/2873406759.py:25: FutureWarning: The default value of regex will change from True to False in a future version. In addition, single character regular expressions will *not* be treated as literal strings when regex=True.\n",
      "  incoming_org_data.columns = (incoming_org_data.columns.str.replace(' ', '_')\n",
      "/var/folders/3h/9n_2y6x178l41fsp4dg802f00000gn/T/ipykernel_14484/2873406759.py:25: FutureWarning: The default value of regex will change from True to False in a future version.\n",
      "  incoming_org_data.columns = (incoming_org_data.columns.str.replace(' ', '_')\n",
      "23-10-02 14:36:03:INFO: Found 0 rows in rr20_service_data for County of Shasta Department of Public Works\n",
      "23-10-02 14:36:03:INFO: Did not find existing data in cal-itp-data-infra.blackcat_raw.2023_rr20_service_data for County of Shasta Department of Public Works, loading new raw data.\n",
      "23-10-02 14:36:07:INFO: Loaded 7 rows and 10 columns to cal-itp-data-infra.blackcat_raw.2023_rr20_service_data for County of Shasta Department of Public Works\n"
     ]
    },
    {
     "name": "stdout",
     "output_type": "stream",
     "text": [
      "Checking data for County of Shasta Department of Public Works from rr20_safety\n"
     ]
    },
    {
     "name": "stderr",
     "output_type": "stream",
     "text": [
      "/var/folders/3h/9n_2y6x178l41fsp4dg802f00000gn/T/ipykernel_14484/2873406759.py:25: FutureWarning: The default value of regex will change from True to False in a future version. In addition, single character regular expressions will *not* be treated as literal strings when regex=True.\n",
      "  incoming_org_data.columns = (incoming_org_data.columns.str.replace(' ', '_')\n",
      "/var/folders/3h/9n_2y6x178l41fsp4dg802f00000gn/T/ipykernel_14484/2873406759.py:25: FutureWarning: The default value of regex will change from True to False in a future version.\n",
      "  incoming_org_data.columns = (incoming_org_data.columns.str.replace(' ', '_')\n",
      "23-10-02 14:36:09:INFO: Found 0 rows in rr20_safety for County of Shasta Department of Public Works\n",
      "23-10-02 14:36:09:INFO: Did not find existing data in cal-itp-data-infra.blackcat_raw.2023_rr20_safety for County of Shasta Department of Public Works, loading new raw data.\n",
      "23-10-02 14:36:12:INFO: Loaded 1 rows and 7 columns to cal-itp-data-infra.blackcat_raw.2023_rr20_safety for County of Shasta Department of Public Works\n"
     ]
    },
    {
     "name": "stdout",
     "output_type": "stream",
     "text": [
      "Checking data for County of Shasta Department of Public Works from rr20_other_resources\n"
     ]
    },
    {
     "name": "stderr",
     "output_type": "stream",
     "text": [
      "/var/folders/3h/9n_2y6x178l41fsp4dg802f00000gn/T/ipykernel_14484/2873406759.py:21: SettingWithCopyWarning: \n",
      "A value is trying to be set on a copy of a slice from a DataFrame.\n",
      "Try using .loc[row_indexer,col_indexer] = value instead\n",
      "\n",
      "See the caveats in the documentation: https://pandas.pydata.org/pandas-docs/stable/user_guide/indexing.html#returning-a-view-versus-a-copy\n",
      "  incoming_org_data['date_uploaded'] = pd.to_datetime(datetime.datetime.now().date())\n",
      "/var/folders/3h/9n_2y6x178l41fsp4dg802f00000gn/T/ipykernel_14484/2873406759.py:25: FutureWarning: The default value of regex will change from True to False in a future version. In addition, single character regular expressions will *not* be treated as literal strings when regex=True.\n",
      "  incoming_org_data.columns = (incoming_org_data.columns.str.replace(' ', '_')\n",
      "/var/folders/3h/9n_2y6x178l41fsp4dg802f00000gn/T/ipykernel_14484/2873406759.py:25: FutureWarning: The default value of regex will change from True to False in a future version.\n",
      "  incoming_org_data.columns = (incoming_org_data.columns.str.replace(' ', '_')\n",
      "23-10-02 14:36:14:INFO: Found 0 rows in rr20_other_resources for County of Shasta Department of Public Works\n",
      "23-10-02 14:36:14:INFO: Did not find existing data in cal-itp-data-infra.blackcat_raw.2023_rr20_other_resources for County of Shasta Department of Public Works, loading new raw data.\n",
      "23-10-02 14:36:17:INFO: Loaded 4 rows and 6 columns to cal-itp-data-infra.blackcat_raw.2023_rr20_other_resources for County of Shasta Department of Public Works\n"
     ]
    },
    {
     "name": "stdout",
     "output_type": "stream",
     "text": [
      "Checking data for Plumas County Transportation Commission from rr20_basics_contacts\n"
     ]
    },
    {
     "name": "stderr",
     "output_type": "stream",
     "text": [
      "/var/folders/3h/9n_2y6x178l41fsp4dg802f00000gn/T/ipykernel_14484/2873406759.py:21: SettingWithCopyWarning: \n",
      "A value is trying to be set on a copy of a slice from a DataFrame.\n",
      "Try using .loc[row_indexer,col_indexer] = value instead\n",
      "\n",
      "See the caveats in the documentation: https://pandas.pydata.org/pandas-docs/stable/user_guide/indexing.html#returning-a-view-versus-a-copy\n",
      "  incoming_org_data['date_uploaded'] = pd.to_datetime(datetime.datetime.now().date())\n",
      "/var/folders/3h/9n_2y6x178l41fsp4dg802f00000gn/T/ipykernel_14484/2873406759.py:25: FutureWarning: The default value of regex will change from True to False in a future version. In addition, single character regular expressions will *not* be treated as literal strings when regex=True.\n",
      "  incoming_org_data.columns = (incoming_org_data.columns.str.replace(' ', '_')\n",
      "/var/folders/3h/9n_2y6x178l41fsp4dg802f00000gn/T/ipykernel_14484/2873406759.py:25: FutureWarning: The default value of regex will change from True to False in a future version.\n",
      "  incoming_org_data.columns = (incoming_org_data.columns.str.replace(' ', '_')\n",
      "23-10-02 14:36:19:INFO: Found 0 rows in rr20_basics_contacts for Plumas County Transportation Commission\n",
      "23-10-02 14:36:19:INFO: Did not find existing data in cal-itp-data-infra.blackcat_raw.2023_rr20_basics_contacts for Plumas County Transportation Commission, loading new raw data.\n",
      "23-10-02 14:36:24:INFO: Loaded 5 rows and 15 columns to cal-itp-data-infra.blackcat_raw.2023_rr20_basics_contacts for Plumas County Transportation Commission\n"
     ]
    },
    {
     "name": "stdout",
     "output_type": "stream",
     "text": [
      "Checking data for Plumas County Transportation Commission from rr20_modes\n"
     ]
    },
    {
     "name": "stderr",
     "output_type": "stream",
     "text": [
      "/var/folders/3h/9n_2y6x178l41fsp4dg802f00000gn/T/ipykernel_14484/2873406759.py:21: SettingWithCopyWarning: \n",
      "A value is trying to be set on a copy of a slice from a DataFrame.\n",
      "Try using .loc[row_indexer,col_indexer] = value instead\n",
      "\n",
      "See the caveats in the documentation: https://pandas.pydata.org/pandas-docs/stable/user_guide/indexing.html#returning-a-view-versus-a-copy\n",
      "  incoming_org_data['date_uploaded'] = pd.to_datetime(datetime.datetime.now().date())\n",
      "/var/folders/3h/9n_2y6x178l41fsp4dg802f00000gn/T/ipykernel_14484/2873406759.py:25: FutureWarning: The default value of regex will change from True to False in a future version. In addition, single character regular expressions will *not* be treated as literal strings when regex=True.\n",
      "  incoming_org_data.columns = (incoming_org_data.columns.str.replace(' ', '_')\n",
      "/var/folders/3h/9n_2y6x178l41fsp4dg802f00000gn/T/ipykernel_14484/2873406759.py:25: FutureWarning: The default value of regex will change from True to False in a future version.\n",
      "  incoming_org_data.columns = (incoming_org_data.columns.str.replace(' ', '_')\n",
      "23-10-02 14:36:26:INFO: Found 0 rows in rr20_modes for Plumas County Transportation Commission\n",
      "23-10-02 14:36:26:INFO: Did not find existing data in cal-itp-data-infra.blackcat_raw.2023_rr20_modes for Plumas County Transportation Commission, loading new raw data.\n",
      "23-10-02 14:36:34:INFO: Loaded 8 rows and 9 columns to cal-itp-data-infra.blackcat_raw.2023_rr20_modes for Plumas County Transportation Commission\n"
     ]
    },
    {
     "name": "stdout",
     "output_type": "stream",
     "text": [
      "Checking data for Plumas County Transportation Commission from rr20_expenses_by_mode\n"
     ]
    },
    {
     "name": "stderr",
     "output_type": "stream",
     "text": [
      "/var/folders/3h/9n_2y6x178l41fsp4dg802f00000gn/T/ipykernel_14484/2873406759.py:21: SettingWithCopyWarning: \n",
      "A value is trying to be set on a copy of a slice from a DataFrame.\n",
      "Try using .loc[row_indexer,col_indexer] = value instead\n",
      "\n",
      "See the caveats in the documentation: https://pandas.pydata.org/pandas-docs/stable/user_guide/indexing.html#returning-a-view-versus-a-copy\n",
      "  incoming_org_data['date_uploaded'] = pd.to_datetime(datetime.datetime.now().date())\n",
      "/var/folders/3h/9n_2y6x178l41fsp4dg802f00000gn/T/ipykernel_14484/2873406759.py:25: FutureWarning: The default value of regex will change from True to False in a future version. In addition, single character regular expressions will *not* be treated as literal strings when regex=True.\n",
      "  incoming_org_data.columns = (incoming_org_data.columns.str.replace(' ', '_')\n",
      "/var/folders/3h/9n_2y6x178l41fsp4dg802f00000gn/T/ipykernel_14484/2873406759.py:25: FutureWarning: The default value of regex will change from True to False in a future version.\n",
      "  incoming_org_data.columns = (incoming_org_data.columns.str.replace(' ', '_')\n",
      "23-10-02 14:36:37:INFO: Found 0 rows in rr20_expenses_by_mode for Plumas County Transportation Commission\n",
      "23-10-02 14:36:37:INFO: Did not find existing data in cal-itp-data-infra.blackcat_raw.2023_rr20_expenses_by_mode for Plumas County Transportation Commission, loading new raw data.\n",
      "23-10-02 14:36:39:INFO: Loaded 16 rows and 7 columns to cal-itp-data-infra.blackcat_raw.2023_rr20_expenses_by_mode for Plumas County Transportation Commission\n"
     ]
    },
    {
     "name": "stdout",
     "output_type": "stream",
     "text": [
      "Checking data for Plumas County Transportation Commission from rr20_revenues_by_mode\n"
     ]
    },
    {
     "name": "stderr",
     "output_type": "stream",
     "text": [
      "/var/folders/3h/9n_2y6x178l41fsp4dg802f00000gn/T/ipykernel_14484/2873406759.py:21: SettingWithCopyWarning: \n",
      "A value is trying to be set on a copy of a slice from a DataFrame.\n",
      "Try using .loc[row_indexer,col_indexer] = value instead\n",
      "\n",
      "See the caveats in the documentation: https://pandas.pydata.org/pandas-docs/stable/user_guide/indexing.html#returning-a-view-versus-a-copy\n",
      "  incoming_org_data['date_uploaded'] = pd.to_datetime(datetime.datetime.now().date())\n",
      "/var/folders/3h/9n_2y6x178l41fsp4dg802f00000gn/T/ipykernel_14484/2873406759.py:25: FutureWarning: The default value of regex will change from True to False in a future version. In addition, single character regular expressions will *not* be treated as literal strings when regex=True.\n",
      "  incoming_org_data.columns = (incoming_org_data.columns.str.replace(' ', '_')\n",
      "/var/folders/3h/9n_2y6x178l41fsp4dg802f00000gn/T/ipykernel_14484/2873406759.py:25: FutureWarning: The default value of regex will change from True to False in a future version.\n",
      "  incoming_org_data.columns = (incoming_org_data.columns.str.replace(' ', '_')\n",
      "23-10-02 14:36:41:INFO: Found 0 rows in rr20_revenues_by_mode for Plumas County Transportation Commission\n",
      "23-10-02 14:36:41:INFO: Did not find existing data in cal-itp-data-infra.blackcat_raw.2023_rr20_revenues_by_mode for Plumas County Transportation Commission, loading new raw data.\n",
      "23-10-02 14:36:45:INFO: Loaded 32 rows and 8 columns to cal-itp-data-infra.blackcat_raw.2023_rr20_revenues_by_mode for Plumas County Transportation Commission\n"
     ]
    },
    {
     "name": "stdout",
     "output_type": "stream",
     "text": [
      "Checking data for Plumas County Transportation Commission from rr20_financials__2\n"
     ]
    },
    {
     "name": "stderr",
     "output_type": "stream",
     "text": [
      "/var/folders/3h/9n_2y6x178l41fsp4dg802f00000gn/T/ipykernel_14484/2873406759.py:21: SettingWithCopyWarning: \n",
      "A value is trying to be set on a copy of a slice from a DataFrame.\n",
      "Try using .loc[row_indexer,col_indexer] = value instead\n",
      "\n",
      "See the caveats in the documentation: https://pandas.pydata.org/pandas-docs/stable/user_guide/indexing.html#returning-a-view-versus-a-copy\n",
      "  incoming_org_data['date_uploaded'] = pd.to_datetime(datetime.datetime.now().date())\n",
      "/var/folders/3h/9n_2y6x178l41fsp4dg802f00000gn/T/ipykernel_14484/2873406759.py:25: FutureWarning: The default value of regex will change from True to False in a future version. In addition, single character regular expressions will *not* be treated as literal strings when regex=True.\n",
      "  incoming_org_data.columns = (incoming_org_data.columns.str.replace(' ', '_')\n",
      "/var/folders/3h/9n_2y6x178l41fsp4dg802f00000gn/T/ipykernel_14484/2873406759.py:25: FutureWarning: The default value of regex will change from True to False in a future version.\n",
      "  incoming_org_data.columns = (incoming_org_data.columns.str.replace(' ', '_')\n",
      "23-10-02 14:36:47:INFO: Found 0 rows in rr20_financials__2 for Plumas County Transportation Commission\n",
      "23-10-02 14:36:47:INFO: Did not find existing data in cal-itp-data-infra.blackcat_raw.2023_rr20_financials__2 for Plumas County Transportation Commission, loading new raw data.\n",
      "23-10-02 14:36:50:INFO: Loaded 10 rows and 46 columns to cal-itp-data-infra.blackcat_raw.2023_rr20_financials__2 for Plumas County Transportation Commission\n"
     ]
    },
    {
     "name": "stdout",
     "output_type": "stream",
     "text": [
      "Checking data for Plumas County Transportation Commission from rr20_service_data\n"
     ]
    },
    {
     "name": "stderr",
     "output_type": "stream",
     "text": [
      "/var/folders/3h/9n_2y6x178l41fsp4dg802f00000gn/T/ipykernel_14484/2873406759.py:21: SettingWithCopyWarning: \n",
      "A value is trying to be set on a copy of a slice from a DataFrame.\n",
      "Try using .loc[row_indexer,col_indexer] = value instead\n",
      "\n",
      "See the caveats in the documentation: https://pandas.pydata.org/pandas-docs/stable/user_guide/indexing.html#returning-a-view-versus-a-copy\n",
      "  incoming_org_data['date_uploaded'] = pd.to_datetime(datetime.datetime.now().date())\n",
      "/var/folders/3h/9n_2y6x178l41fsp4dg802f00000gn/T/ipykernel_14484/2873406759.py:25: FutureWarning: The default value of regex will change from True to False in a future version. In addition, single character regular expressions will *not* be treated as literal strings when regex=True.\n",
      "  incoming_org_data.columns = (incoming_org_data.columns.str.replace(' ', '_')\n",
      "/var/folders/3h/9n_2y6x178l41fsp4dg802f00000gn/T/ipykernel_14484/2873406759.py:25: FutureWarning: The default value of regex will change from True to False in a future version.\n",
      "  incoming_org_data.columns = (incoming_org_data.columns.str.replace(' ', '_')\n",
      "23-10-02 14:36:52:INFO: Found 0 rows in rr20_service_data for Plumas County Transportation Commission\n",
      "23-10-02 14:36:52:INFO: Did not find existing data in cal-itp-data-infra.blackcat_raw.2023_rr20_service_data for Plumas County Transportation Commission, loading new raw data.\n",
      "23-10-02 14:36:55:INFO: Loaded 8 rows and 10 columns to cal-itp-data-infra.blackcat_raw.2023_rr20_service_data for Plumas County Transportation Commission\n"
     ]
    },
    {
     "name": "stdout",
     "output_type": "stream",
     "text": [
      "Checking data for Plumas County Transportation Commission from rr20_safety\n"
     ]
    },
    {
     "name": "stderr",
     "output_type": "stream",
     "text": [
      "/var/folders/3h/9n_2y6x178l41fsp4dg802f00000gn/T/ipykernel_14484/2873406759.py:25: FutureWarning: The default value of regex will change from True to False in a future version. In addition, single character regular expressions will *not* be treated as literal strings when regex=True.\n",
      "  incoming_org_data.columns = (incoming_org_data.columns.str.replace(' ', '_')\n",
      "/var/folders/3h/9n_2y6x178l41fsp4dg802f00000gn/T/ipykernel_14484/2873406759.py:25: FutureWarning: The default value of regex will change from True to False in a future version.\n",
      "  incoming_org_data.columns = (incoming_org_data.columns.str.replace(' ', '_')\n",
      "23-10-02 14:36:57:INFO: Found 0 rows in rr20_safety for Plumas County Transportation Commission\n",
      "23-10-02 14:36:57:INFO: Did not find existing data in cal-itp-data-infra.blackcat_raw.2023_rr20_safety for Plumas County Transportation Commission, loading new raw data.\n",
      "23-10-02 14:37:00:INFO: Loaded 1 rows and 7 columns to cal-itp-data-infra.blackcat_raw.2023_rr20_safety for Plumas County Transportation Commission\n"
     ]
    },
    {
     "name": "stdout",
     "output_type": "stream",
     "text": [
      "Checking data for Plumas County Transportation Commission from rr20_other_resources\n"
     ]
    },
    {
     "name": "stderr",
     "output_type": "stream",
     "text": [
      "/var/folders/3h/9n_2y6x178l41fsp4dg802f00000gn/T/ipykernel_14484/2873406759.py:21: SettingWithCopyWarning: \n",
      "A value is trying to be set on a copy of a slice from a DataFrame.\n",
      "Try using .loc[row_indexer,col_indexer] = value instead\n",
      "\n",
      "See the caveats in the documentation: https://pandas.pydata.org/pandas-docs/stable/user_guide/indexing.html#returning-a-view-versus-a-copy\n",
      "  incoming_org_data['date_uploaded'] = pd.to_datetime(datetime.datetime.now().date())\n",
      "/var/folders/3h/9n_2y6x178l41fsp4dg802f00000gn/T/ipykernel_14484/2873406759.py:25: FutureWarning: The default value of regex will change from True to False in a future version. In addition, single character regular expressions will *not* be treated as literal strings when regex=True.\n",
      "  incoming_org_data.columns = (incoming_org_data.columns.str.replace(' ', '_')\n",
      "/var/folders/3h/9n_2y6x178l41fsp4dg802f00000gn/T/ipykernel_14484/2873406759.py:25: FutureWarning: The default value of regex will change from True to False in a future version.\n",
      "  incoming_org_data.columns = (incoming_org_data.columns.str.replace(' ', '_')\n",
      "23-10-02 14:37:02:INFO: Found 0 rows in rr20_other_resources for Plumas County Transportation Commission\n",
      "23-10-02 14:37:02:INFO: Did not find existing data in cal-itp-data-infra.blackcat_raw.2023_rr20_other_resources for Plumas County Transportation Commission, loading new raw data.\n",
      "23-10-02 14:37:05:INFO: Loaded 5 rows and 6 columns to cal-itp-data-infra.blackcat_raw.2023_rr20_other_resources for Plumas County Transportation Commission\n"
     ]
    },
    {
     "name": "stdout",
     "output_type": "stream",
     "text": [
      "Checking data for Tehama County Transit Agency from rr20_basics_contacts\n"
     ]
    },
    {
     "name": "stderr",
     "output_type": "stream",
     "text": [
      "/var/folders/3h/9n_2y6x178l41fsp4dg802f00000gn/T/ipykernel_14484/2873406759.py:21: SettingWithCopyWarning: \n",
      "A value is trying to be set on a copy of a slice from a DataFrame.\n",
      "Try using .loc[row_indexer,col_indexer] = value instead\n",
      "\n",
      "See the caveats in the documentation: https://pandas.pydata.org/pandas-docs/stable/user_guide/indexing.html#returning-a-view-versus-a-copy\n",
      "  incoming_org_data['date_uploaded'] = pd.to_datetime(datetime.datetime.now().date())\n",
      "/var/folders/3h/9n_2y6x178l41fsp4dg802f00000gn/T/ipykernel_14484/2873406759.py:25: FutureWarning: The default value of regex will change from True to False in a future version. In addition, single character regular expressions will *not* be treated as literal strings when regex=True.\n",
      "  incoming_org_data.columns = (incoming_org_data.columns.str.replace(' ', '_')\n",
      "/var/folders/3h/9n_2y6x178l41fsp4dg802f00000gn/T/ipykernel_14484/2873406759.py:25: FutureWarning: The default value of regex will change from True to False in a future version.\n",
      "  incoming_org_data.columns = (incoming_org_data.columns.str.replace(' ', '_')\n",
      "23-10-02 14:37:06:INFO: Found 1 rows in rr20_basics_contacts for Tehama County Transit Agency\n",
      "23-10-02 14:37:06:INFO: Checking for existing data\n",
      "23-10-02 14:37:06:INFO: Tehama County Transit Agency data in rr20_basics_contacts is already in BigQuery, not writing.\n",
      "23-10-02 14:37:06:INFO: Loaded None rows and 15 columns to cal-itp-data-infra.blackcat_raw.2023_rr20_basics_contacts for Tehama County Transit Agency\n"
     ]
    },
    {
     "name": "stdout",
     "output_type": "stream",
     "text": [
      "Checking data for Tehama County Transit Agency from rr20_modes\n"
     ]
    },
    {
     "name": "stderr",
     "output_type": "stream",
     "text": [
      "/var/folders/3h/9n_2y6x178l41fsp4dg802f00000gn/T/ipykernel_14484/2873406759.py:21: SettingWithCopyWarning: \n",
      "A value is trying to be set on a copy of a slice from a DataFrame.\n",
      "Try using .loc[row_indexer,col_indexer] = value instead\n",
      "\n",
      "See the caveats in the documentation: https://pandas.pydata.org/pandas-docs/stable/user_guide/indexing.html#returning-a-view-versus-a-copy\n",
      "  incoming_org_data['date_uploaded'] = pd.to_datetime(datetime.datetime.now().date())\n",
      "/var/folders/3h/9n_2y6x178l41fsp4dg802f00000gn/T/ipykernel_14484/2873406759.py:25: FutureWarning: The default value of regex will change from True to False in a future version. In addition, single character regular expressions will *not* be treated as literal strings when regex=True.\n",
      "  incoming_org_data.columns = (incoming_org_data.columns.str.replace(' ', '_')\n",
      "/var/folders/3h/9n_2y6x178l41fsp4dg802f00000gn/T/ipykernel_14484/2873406759.py:25: FutureWarning: The default value of regex will change from True to False in a future version.\n",
      "  incoming_org_data.columns = (incoming_org_data.columns.str.replace(' ', '_')\n",
      "23-10-02 14:37:08:INFO: Found 2 rows in rr20_modes for Tehama County Transit Agency\n",
      "23-10-02 14:37:08:INFO: Checking for existing data\n",
      "23-10-02 14:37:08:INFO: Tehama County Transit Agency data in rr20_modes is already in BigQuery, not writing.\n",
      "23-10-02 14:37:08:INFO: Loaded None rows and 9 columns to cal-itp-data-infra.blackcat_raw.2023_rr20_modes for Tehama County Transit Agency\n"
     ]
    },
    {
     "name": "stdout",
     "output_type": "stream",
     "text": [
      "Checking data for Tehama County Transit Agency from rr20_expenses_by_mode\n"
     ]
    },
    {
     "name": "stderr",
     "output_type": "stream",
     "text": [
      "/var/folders/3h/9n_2y6x178l41fsp4dg802f00000gn/T/ipykernel_14484/2873406759.py:21: SettingWithCopyWarning: \n",
      "A value is trying to be set on a copy of a slice from a DataFrame.\n",
      "Try using .loc[row_indexer,col_indexer] = value instead\n",
      "\n",
      "See the caveats in the documentation: https://pandas.pydata.org/pandas-docs/stable/user_guide/indexing.html#returning-a-view-versus-a-copy\n",
      "  incoming_org_data['date_uploaded'] = pd.to_datetime(datetime.datetime.now().date())\n",
      "/var/folders/3h/9n_2y6x178l41fsp4dg802f00000gn/T/ipykernel_14484/2873406759.py:25: FutureWarning: The default value of regex will change from True to False in a future version. In addition, single character regular expressions will *not* be treated as literal strings when regex=True.\n",
      "  incoming_org_data.columns = (incoming_org_data.columns.str.replace(' ', '_')\n",
      "/var/folders/3h/9n_2y6x178l41fsp4dg802f00000gn/T/ipykernel_14484/2873406759.py:25: FutureWarning: The default value of regex will change from True to False in a future version.\n",
      "  incoming_org_data.columns = (incoming_org_data.columns.str.replace(' ', '_')\n",
      "23-10-02 14:37:10:INFO: Found 4 rows in rr20_expenses_by_mode for Tehama County Transit Agency\n",
      "23-10-02 14:37:10:INFO: Checking for existing data\n",
      "23-10-02 14:37:10:INFO: Tehama County Transit Agency data in rr20_expenses_by_mode is already in BigQuery, not writing.\n",
      "23-10-02 14:37:10:INFO: Loaded None rows and 7 columns to cal-itp-data-infra.blackcat_raw.2023_rr20_expenses_by_mode for Tehama County Transit Agency\n"
     ]
    },
    {
     "name": "stdout",
     "output_type": "stream",
     "text": [
      "Checking data for Tehama County Transit Agency from rr20_revenues_by_mode\n"
     ]
    },
    {
     "name": "stderr",
     "output_type": "stream",
     "text": [
      "/var/folders/3h/9n_2y6x178l41fsp4dg802f00000gn/T/ipykernel_14484/2873406759.py:21: SettingWithCopyWarning: \n",
      "A value is trying to be set on a copy of a slice from a DataFrame.\n",
      "Try using .loc[row_indexer,col_indexer] = value instead\n",
      "\n",
      "See the caveats in the documentation: https://pandas.pydata.org/pandas-docs/stable/user_guide/indexing.html#returning-a-view-versus-a-copy\n",
      "  incoming_org_data['date_uploaded'] = pd.to_datetime(datetime.datetime.now().date())\n",
      "/var/folders/3h/9n_2y6x178l41fsp4dg802f00000gn/T/ipykernel_14484/2873406759.py:25: FutureWarning: The default value of regex will change from True to False in a future version. In addition, single character regular expressions will *not* be treated as literal strings when regex=True.\n",
      "  incoming_org_data.columns = (incoming_org_data.columns.str.replace(' ', '_')\n",
      "/var/folders/3h/9n_2y6x178l41fsp4dg802f00000gn/T/ipykernel_14484/2873406759.py:25: FutureWarning: The default value of regex will change from True to False in a future version.\n",
      "  incoming_org_data.columns = (incoming_org_data.columns.str.replace(' ', '_')\n",
      "23-10-02 14:37:12:INFO: Found 8 rows in rr20_revenues_by_mode for Tehama County Transit Agency\n",
      "23-10-02 14:37:12:INFO: Checking for existing data\n",
      "23-10-02 14:37:12:INFO: Tehama County Transit Agency data in rr20_revenues_by_mode is already in BigQuery, not writing.\n",
      "23-10-02 14:37:12:INFO: Loaded None rows and 8 columns to cal-itp-data-infra.blackcat_raw.2023_rr20_revenues_by_mode for Tehama County Transit Agency\n"
     ]
    },
    {
     "name": "stdout",
     "output_type": "stream",
     "text": [
      "Checking data for Tehama County Transit Agency from rr20_financials__2\n"
     ]
    },
    {
     "name": "stderr",
     "output_type": "stream",
     "text": [
      "/var/folders/3h/9n_2y6x178l41fsp4dg802f00000gn/T/ipykernel_14484/2873406759.py:21: SettingWithCopyWarning: \n",
      "A value is trying to be set on a copy of a slice from a DataFrame.\n",
      "Try using .loc[row_indexer,col_indexer] = value instead\n",
      "\n",
      "See the caveats in the documentation: https://pandas.pydata.org/pandas-docs/stable/user_guide/indexing.html#returning-a-view-versus-a-copy\n",
      "  incoming_org_data['date_uploaded'] = pd.to_datetime(datetime.datetime.now().date())\n",
      "/var/folders/3h/9n_2y6x178l41fsp4dg802f00000gn/T/ipykernel_14484/2873406759.py:25: FutureWarning: The default value of regex will change from True to False in a future version. In addition, single character regular expressions will *not* be treated as literal strings when regex=True.\n",
      "  incoming_org_data.columns = (incoming_org_data.columns.str.replace(' ', '_')\n",
      "/var/folders/3h/9n_2y6x178l41fsp4dg802f00000gn/T/ipykernel_14484/2873406759.py:25: FutureWarning: The default value of regex will change from True to False in a future version.\n",
      "  incoming_org_data.columns = (incoming_org_data.columns.str.replace(' ', '_')\n",
      "23-10-02 14:37:15:INFO: Found 2 rows in rr20_financials__2 for Tehama County Transit Agency\n",
      "23-10-02 14:37:15:INFO: Checking for existing data\n",
      "23-10-02 14:37:15:INFO: Tehama County Transit Agency data in rr20_financials__2 is already in BigQuery, not writing.\n",
      "23-10-02 14:37:15:INFO: Loaded None rows and 46 columns to cal-itp-data-infra.blackcat_raw.2023_rr20_financials__2 for Tehama County Transit Agency\n"
     ]
    },
    {
     "name": "stdout",
     "output_type": "stream",
     "text": [
      "Checking data for Tehama County Transit Agency from rr20_service_data\n"
     ]
    },
    {
     "name": "stderr",
     "output_type": "stream",
     "text": [
      "/var/folders/3h/9n_2y6x178l41fsp4dg802f00000gn/T/ipykernel_14484/2873406759.py:21: SettingWithCopyWarning: \n",
      "A value is trying to be set on a copy of a slice from a DataFrame.\n",
      "Try using .loc[row_indexer,col_indexer] = value instead\n",
      "\n",
      "See the caveats in the documentation: https://pandas.pydata.org/pandas-docs/stable/user_guide/indexing.html#returning-a-view-versus-a-copy\n",
      "  incoming_org_data['date_uploaded'] = pd.to_datetime(datetime.datetime.now().date())\n",
      "/var/folders/3h/9n_2y6x178l41fsp4dg802f00000gn/T/ipykernel_14484/2873406759.py:25: FutureWarning: The default value of regex will change from True to False in a future version. In addition, single character regular expressions will *not* be treated as literal strings when regex=True.\n",
      "  incoming_org_data.columns = (incoming_org_data.columns.str.replace(' ', '_')\n",
      "/var/folders/3h/9n_2y6x178l41fsp4dg802f00000gn/T/ipykernel_14484/2873406759.py:25: FutureWarning: The default value of regex will change from True to False in a future version.\n",
      "  incoming_org_data.columns = (incoming_org_data.columns.str.replace(' ', '_')\n",
      "23-10-02 14:37:17:INFO: Found 2 rows in rr20_service_data for Tehama County Transit Agency\n",
      "23-10-02 14:37:17:INFO: Checking for existing data\n",
      "23-10-02 14:37:17:INFO: Tehama County Transit Agency data in rr20_service_data is already in BigQuery, not writing.\n",
      "23-10-02 14:37:17:INFO: Loaded None rows and 10 columns to cal-itp-data-infra.blackcat_raw.2023_rr20_service_data for Tehama County Transit Agency\n"
     ]
    },
    {
     "name": "stdout",
     "output_type": "stream",
     "text": [
      "Checking data for Tehama County Transit Agency from rr20_safety\n"
     ]
    },
    {
     "name": "stderr",
     "output_type": "stream",
     "text": [
      "/var/folders/3h/9n_2y6x178l41fsp4dg802f00000gn/T/ipykernel_14484/2873406759.py:25: FutureWarning: The default value of regex will change from True to False in a future version. In addition, single character regular expressions will *not* be treated as literal strings when regex=True.\n",
      "  incoming_org_data.columns = (incoming_org_data.columns.str.replace(' ', '_')\n",
      "/var/folders/3h/9n_2y6x178l41fsp4dg802f00000gn/T/ipykernel_14484/2873406759.py:25: FutureWarning: The default value of regex will change from True to False in a future version.\n",
      "  incoming_org_data.columns = (incoming_org_data.columns.str.replace(' ', '_')\n",
      "23-10-02 14:37:21:INFO: Found 0 rows in rr20_safety for Tehama County Transit Agency\n",
      "23-10-02 14:37:21:INFO: Did not find existing data in cal-itp-data-infra.blackcat_raw.2023_rr20_safety for Tehama County Transit Agency, loading new raw data.\n",
      "23-10-02 14:37:24:INFO: Loaded 1 rows and 7 columns to cal-itp-data-infra.blackcat_raw.2023_rr20_safety for Tehama County Transit Agency\n"
     ]
    },
    {
     "name": "stdout",
     "output_type": "stream",
     "text": [
      "Checking data for Tehama County Transit Agency from rr20_other_resources\n"
     ]
    },
    {
     "name": "stderr",
     "output_type": "stream",
     "text": [
      "/var/folders/3h/9n_2y6x178l41fsp4dg802f00000gn/T/ipykernel_14484/2873406759.py:21: SettingWithCopyWarning: \n",
      "A value is trying to be set on a copy of a slice from a DataFrame.\n",
      "Try using .loc[row_indexer,col_indexer] = value instead\n",
      "\n",
      "See the caveats in the documentation: https://pandas.pydata.org/pandas-docs/stable/user_guide/indexing.html#returning-a-view-versus-a-copy\n",
      "  incoming_org_data['date_uploaded'] = pd.to_datetime(datetime.datetime.now().date())\n",
      "/var/folders/3h/9n_2y6x178l41fsp4dg802f00000gn/T/ipykernel_14484/2873406759.py:25: FutureWarning: The default value of regex will change from True to False in a future version. In addition, single character regular expressions will *not* be treated as literal strings when regex=True.\n",
      "  incoming_org_data.columns = (incoming_org_data.columns.str.replace(' ', '_')\n",
      "/var/folders/3h/9n_2y6x178l41fsp4dg802f00000gn/T/ipykernel_14484/2873406759.py:25: FutureWarning: The default value of regex will change from True to False in a future version.\n",
      "  incoming_org_data.columns = (incoming_org_data.columns.str.replace(' ', '_')\n",
      "23-10-02 14:37:28:INFO: Found 1 rows in rr20_other_resources for Tehama County Transit Agency\n",
      "23-10-02 14:37:28:INFO: Checking for existing data\n",
      "23-10-02 14:37:28:INFO: Tehama County Transit Agency data in rr20_other_resources is already in BigQuery, not writing.\n",
      "23-10-02 14:37:28:INFO: Loaded None rows and 6 columns to cal-itp-data-infra.blackcat_raw.2023_rr20_other_resources for Tehama County Transit Agency\n"
     ]
    }
   ],
   "source": [
    "# Now, run through all orgs in the latest raw data file. All are written, except for Tehama's data, which is skipped\n",
    "# Works as it should\n",
    "\n",
    "for org in orgs_in_file:\n",
    "    if org in orgs_to_submit:\n",
    "        compare_datasets(\"RR-20\", latest_file, logger, org)"
   ]
  },
  {
   "cell_type": "code",
   "execution_count": null,
   "id": "59e07536",
   "metadata": {},
   "outputs": [],
   "source": []
  },
  {
   "cell_type": "code",
   "execution_count": null,
   "id": "e031e734",
   "metadata": {},
   "outputs": [],
   "source": []
  },
  {
   "cell_type": "markdown",
   "id": "6c2f18be",
   "metadata": {},
   "source": [
    "### BELOW IS THE FUNCTION DEVELOPMENT FOR THE NON-AIRFLOW WAY OF GETTING THE LATEST FILE"
   ]
  },
  {
   "cell_type": "code",
   "execution_count": 11,
   "id": "1565c779",
   "metadata": {},
   "outputs": [],
   "source": [
    "subdir = f\"blackcat_ntd_reports_{this_year}_raw\"\n",
    "\n",
    "for file in list(bucket.list_blobs(prefix=subdir)):\n",
    "    print(file.name)"
   ]
  },
  {
   "cell_type": "code",
   "execution_count": 7,
   "id": "fc90e010",
   "metadata": {},
   "outputs": [],
   "source": [
    "# There will be an argument for a place to input the specific form that is being checked. \n",
    "# For testing here we specify it\n",
    "form_to_check = \"RR-20\"\n",
    "subdir = f\"blackcat_ntd_reports_{this_year}_raw\"\n",
    "file_prefix = form_to_file_dict.get(form_to_check) #'NTD_Annual_Report_Rural_2023'\n",
    "# print(file_prefix)\n",
    "\n",
    "# Get the most recent file in the raw bucket\n",
    "all_files=[]\n",
    "for file in list(bucket.list_blobs(prefix=subdir)):\n",
    "    if file_prefix in file.name:\n",
    "        f = file.name.split('/')[1]\n",
    "        fdate = re.search(r'(\\d{4}-\\d{2}-\\d{2})', f).group()\n",
    "        all_files.append(fdate)\n",
    "#         print(all_files)\n",
    "#         print(file.name)\n",
    "    else:\n",
    "        pass\n",
    "\n",
    "all_files.sort(key=lambda date: datetime.datetime.strptime(date, \"%Y-%m-%d\"), reverse=True)\n",
    "# print(all_files)\n",
    "latest_date = all_files[0]\n",
    "latest_file = f\"{subdir}/{file_prefix}_{latest_date}.xlsx\"\n",
    "    \n",
    "        "
   ]
  },
  {
   "cell_type": "code",
   "execution_count": 8,
   "id": "c82e7477",
   "metadata": {},
   "outputs": [
    {
     "data": {
      "text/plain": [
       "'blackcat_ntd_reports_2023_raw/NTD_Annual_Report_Rural_2023_2023-10-10.xlsx'"
      ]
     },
     "execution_count": 8,
     "metadata": {},
     "output_type": "execute_result"
    }
   ],
   "source": [
    "latest_file"
   ]
  },
  {
   "cell_type": "code",
   "execution_count": 26,
   "id": "e7aa56d4",
   "metadata": {},
   "outputs": [
    {
     "data": {
      "text/plain": [
       "['2023-09-29', '2023-09-28']"
      ]
     },
     "execution_count": 26,
     "metadata": {},
     "output_type": "execute_result"
    }
   ],
   "source": [
    "# Testing\n",
    "all_files = ['2023-09-28', '2023-09-29']\n",
    "all_files.sort(key=lambda date: datetime.datetime.strptime(date, \"%Y-%m-%d\"), reverse=True)\n",
    "all_files"
   ]
  },
  {
   "cell_type": "code",
   "execution_count": 33,
   "id": "d2079dae",
   "metadata": {},
   "outputs": [],
   "source": [
    "# Final function - get the most recent file in the Raw bucket\n",
    "\n",
    "def get_latest_file(form_to_check, subdir):\n",
    "    file_prefix = form_to_file_dict.get(form_to_check) \n",
    "    all_files=[]\n",
    "    \n",
    "    for file in list(bucket.list_blobs(prefix=subdir)):    \n",
    "        if file_prefix in file.name:\n",
    "            f = file.name.split('/')[1]\n",
    "            fdate = re.search(r'(\\d{4}-\\d{2}-\\d{2})', f).group()\n",
    "            all_files.append(fdate)\n",
    "            print(all_files)\n",
    "\n",
    "        else:\n",
    "            pass\n",
    "\n",
    "        all_files.sort(key=lambda date: datetime.datetime.strptime(date, \"%Y-%m-%d\"), reverse=True)\n",
    "        latest_date = all_files[0]\n",
    "        latest_file = f\"{subdir}/{file_prefix}_{latest_date}.xlsx\"\n",
    "        \n",
    "    return latest_file\n",
    "    "
   ]
  }
 ],
 "metadata": {
  "kernelspec": {
   "display_name": "Python 3 (ipykernel)",
   "language": "python",
   "name": "python3"
  },
  "language_info": {
   "codemirror_mode": {
    "name": "ipython",
    "version": 3
   },
   "file_extension": ".py",
   "mimetype": "text/x-python",
   "name": "python",
   "nbconvert_exporter": "python",
   "pygments_lexer": "ipython3",
   "version": "3.9.13"
  }
 },
 "nbformat": 4,
 "nbformat_minor": 5
}
