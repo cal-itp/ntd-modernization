{
 "cells": [
  {
   "cell_type": "markdown",
   "id": "bb3d1705",
   "metadata": {},
   "source": [
    "#### Extract and load raw data - NTD validator pipeline\n",
    "This notebook shows the code development steps for the script `check_raw_data.py`\n",
    "Tentative plan:  \n",
    "1.\tScan the Google Cloud bucket once a ... day? Scan Sharepoint folder (or hit the API once per day)  \n",
    "2.\tGrab all report files (BlackCat submitted reports are stored in GCS in excel files)  \n",
    "    a.\tGrab all files that start with the filename for each particular report (e.g., \"NTD_Annual_Report_Rural_2023_\\<dateuploaded>.xlsx\" for the RR-20)  \n",
    "    b.\tFunction to get the latest one (based on end of filename) - these files have data for ALL ORGS that have submitted so far  \n",
    "    c.\thenceforth referred to as \"DATASET A\"  \n",
    "3.\tIn each, check for all new organizations with a report submitted between last time checked and current time  \n",
    "    ~a.\tAssuming there's a timestamp for last submitted~  \n",
    "    b.\tGrab the appropriate table from the \"blackcat_raw\" dataset in BigQuery (What we already have)  \n",
    "    c.\thenceforth referred to as \"DATASET B\"  \n",
    "4.\tFor loop to go through by each org in DATASET A and:  \n",
    "    a.\tcreate temp data frames of their data only, from DATASET A and DATASET B  \n",
    "    b.\tDelete timestamp of date uploaded, from DATASET B  \n",
    "    c.\tcompare to see if identical  \n",
    "    d.\tif so, pass  \n",
    "5.\tif not identical, then it's either a new submission or revision  \n",
    "    a.\tContinue on to validation checks  \n",
    "    b.\tContinue on to saving data to \"blackcat_raw\" data tables  \n",
    "    c.\tadd in upload timestamp column  \n"
   ]
  },
  {
   "cell_type": "code",
   "execution_count": 8,
   "id": "f093c278",
   "metadata": {},
   "outputs": [],
   "source": [
    "from google.cloud import bigquery, storage\n",
    "import pandas as pd\n",
    "import datetime\n",
    "import re"
   ]
  },
  {
   "cell_type": "markdown",
   "id": "db3c44fd",
   "metadata": {},
   "source": [
    "**First, connect to Google Cloud**"
   ]
  },
  {
   "cell_type": "code",
   "execution_count": 236,
   "id": "460b697f",
   "metadata": {},
   "outputs": [],
   "source": [
    "storage_client = storage.Client(project='cal-itp-data-infra')"
   ]
  },
  {
   "cell_type": "code",
   "execution_count": 237,
   "id": "07cf2d20",
   "metadata": {},
   "outputs": [],
   "source": [
    "bucket_name = \"calitp-ntd-report-validation\"\n",
    "\n",
    "bucket = storage_client.get_bucket(bucket_name)"
   ]
  },
  {
   "cell_type": "code",
   "execution_count": 34,
   "id": "0a33c5a0",
   "metadata": {},
   "outputs": [
    {
     "data": {
      "text/plain": [
       "<google.api_core.page_iterator.HTTPIterator at 0x7fc6a17e4820>"
      ]
     },
     "execution_count": 34,
     "metadata": {},
     "output_type": "execute_result"
    }
   ],
   "source": [
    "buckets = storage_client.list_buckets()\n",
    "buckets # <google.api_core.page_iterator.HTTPIterator at 0x7fc650b840d0>\n",
    "\n",
    "# this lists all the buckets in the Cal ITP project\n",
    "# for bucket in buckets:\n",
    "#         print(bucket.name)"
   ]
  },
  {
   "cell_type": "code",
   "execution_count": null,
   "id": "472d5a23",
   "metadata": {},
   "outputs": [],
   "source": [
    "## Not super useful \n",
    "\n",
    "# blobs = list(bucket.list_blobs())\n",
    "# blobs"
   ]
  },
  {
   "cell_type": "markdown",
   "id": "42a550cb",
   "metadata": {},
   "source": [
    "### Find the correct bucket, then search for the latest data \n",
    "Grab all report files (BlackCat submitted reports are stored in GCS in excel files)  \n",
    "a. Grab all files that start with the filename for each particular report (e.g., \"NTD_Annual_Report_Rural_2023_<dateuploaded>.xlsx\" for the RR-20)  \n",
    "b. Function to get the latest one (based on end of filename) - these files have data for ALL ORGS that have submitted so far  \n",
    "c. henceforth referred to as \"DATASET A\""
   ]
  },
  {
   "cell_type": "code",
   "execution_count": 41,
   "id": "1565c779",
   "metadata": {},
   "outputs": [
    {
     "name": "stdout",
     "output_type": "stream",
     "text": [
      "blackcat_ntd_reports_2023_raw/\n",
      "blackcat_ntd_reports_2023_raw/NTD_Annual_Report_Rural_2023_2023-09-28.xlsx\n"
     ]
    }
   ],
   "source": [
    "this_year=datetime.datetime.now().year\n",
    "subdir = f\"blackcat_ntd_reports_{this_year}_raw\"\n",
    "\n",
    "for file in list(bucket.list_blobs(prefix=subdir)):\n",
    "    print(file.name)"
   ]
  },
  {
   "cell_type": "code",
   "execution_count": 38,
   "id": "998306bd",
   "metadata": {},
   "outputs": [],
   "source": [
    "# Need dict code table to decipher a) forms to files - will be the BEGINNING of the form name\n",
    "form_to_file_dict = {\n",
    "    \"RR-20\": f\"NTD_Annual_Report_Rural_{this_year}\",\n",
    "    \"A-30\": f\"A_30_Revenue_Vehicle_Report_{this_year}\"\n",
    "}\n"
   ]
  },
  {
   "cell_type": "code",
   "execution_count": 82,
   "id": "fc90e010",
   "metadata": {},
   "outputs": [],
   "source": [
    "# There will be an argument for a place to input the specific form that is being checked. \n",
    "# For testing here we specify it\n",
    "form_to_check = \"RR-20\"\n",
    "subdir = f\"blackcat_ntd_reports_{this_year}_raw\"\n",
    "file_prefix = form_to_file_dict.get(form_to_check) #'NTD_Annual_Report_Rural_2023'\n",
    "# print(file_pre)\n",
    "\n",
    "# Get the most recent file in the raw bucket\n",
    "for file in list(bucket.list_blobs(prefix=subdir)):\n",
    "    all_files=[]\n",
    "    if file_prefix in file.name:\n",
    "        f = file.name.split('/')[1]\n",
    "        fdate = re.search(r'(\\d{4}-\\d{2}-\\d{2})', f).group()\n",
    "        all_files.append(fdate)\n",
    "#         print(all_files)\n",
    "#         print(file.name)\n",
    "    else:\n",
    "        pass\n",
    "\n",
    "all_files.sort(key=lambda date: datetime.datetime.strptime(date, \"%Y-%m-%d\"), reverse=True)\n",
    "latest_date = all_files[0]\n",
    "latest_file = f\"{subdir}/{file_prefix}_{latest_date}.xlsx\"\n",
    "    \n",
    "        "
   ]
  },
  {
   "cell_type": "code",
   "execution_count": 83,
   "id": "c82e7477",
   "metadata": {},
   "outputs": [
    {
     "data": {
      "text/plain": [
       "'blackcat_ntd_reports_2023_raw/NTD_Annual_Report_Rural_2023_2023-09-28.xlsx'"
      ]
     },
     "execution_count": 83,
     "metadata": {},
     "output_type": "execute_result"
    }
   ],
   "source": [
    "latest_file"
   ]
  },
  {
   "cell_type": "code",
   "execution_count": null,
   "id": "550f1d86",
   "metadata": {},
   "outputs": [],
   "source": []
  },
  {
   "cell_type": "code",
   "execution_count": 67,
   "id": "e7aa56d4",
   "metadata": {},
   "outputs": [],
   "source": [
    "# Testing\n",
    "all_files = ['2023-09-28', '2023-09-29']\n",
    "all_files.sort(key=lambda date: datetime.datetime.strptime(date, \"%Y-%m-%d\"), reverse=True)"
   ]
  },
  {
   "cell_type": "code",
   "execution_count": 68,
   "id": "d2079dae",
   "metadata": {},
   "outputs": [],
   "source": [
    "# Final function - get the most recent file in the Raw bucket\n",
    "\n",
    "def get_latest_file(form_to_check, subdir):\n",
    "    file_prefix = form_to_file_dict.get(form_to_check) \n",
    "    all_files=[]\n",
    "    \n",
    "    for file in list(bucket.list_blobs(prefix=subdir)):    \n",
    "        if file_prefix in file.name:\n",
    "            f = file.name.split('/')[1]\n",
    "            fdate = re.search(r'(\\d{4}-\\d{2}-\\d{2})', f).group()\n",
    "            all_files.append(fdate)\n",
    "            print(all_files)\n",
    "\n",
    "        else:\n",
    "            pass\n",
    "\n",
    "        all_files.sort(key=lambda date: datetime.datetime.strptime(date, \"%Y-%m-%d\"), reverse=True)\n",
    "        latest_date = all_files[0]\n",
    "        latest_file = f\"{subdir}/{file_prefix}_{latest_date}.xlsx\"\n",
    "        \n",
    "    return latest_file\n",
    "    "
   ]
  },
  {
   "cell_type": "markdown",
   "id": "60d57eb9",
   "metadata": {},
   "source": [
    "### Pull data form latest file, and compare to existing data in BG\n",
    "Next: cycle through each worksheet, filter by org, pull raw data in BQ and compare.  \n",
    "* Grab the appropriate table from the \"blackcat_raw\" dataset in BigQuery (What we already have)\n",
    "* henceforth referred to as \"DATASET B\"  \n",
    "For loop to go through by each org in DATASET A and:  \n",
    "* create temp data frames of their data only, from DATASET A and DATASET B\n",
    "* Delete timestamp of date uploaded, from DATASET B\n",
    "* compare to see if identical\n",
    "* if so, pass\n"
   ]
  },
  {
   "cell_type": "code",
   "execution_count": 69,
   "id": "d83ee99e",
   "metadata": {},
   "outputs": [],
   "source": [
    "form_to_sheets_dict = {\n",
    "    \"RR-20\": ['Basics.Contacts', 'Modes', 'Expenses By Mode', 'Revenues By Mode', 'Financials - 2', 'Service Data', 'Safety', 'Other Resources'],\n",
    "    \"A-30\": ['A-30 (Rural) RVI']\n",
    "}"
   ]
  },
  {
   "cell_type": "code",
   "execution_count": 444,
   "id": "eb099907",
   "metadata": {},
   "outputs": [
    {
     "data": {
      "text/plain": [
       "['Basics.Contacts',\n",
       " 'Modes',\n",
       " 'Expenses By Mode',\n",
       " 'Revenues By Mode',\n",
       " 'Financials - 2',\n",
       " 'Service Data',\n",
       " 'Safety',\n",
       " 'Other Resources']"
      ]
     },
     "execution_count": 444,
     "metadata": {},
     "output_type": "execute_result"
    }
   ],
   "source": [
    "# Get the worksheet names for the specific file we're loading.\n",
    "our_sheets = form_to_sheets_dict.get(form_to_check)\n",
    "our_sheets"
   ]
  },
  {
   "cell_type": "code",
   "execution_count": 87,
   "id": "ba8a046d",
   "metadata": {},
   "outputs": [],
   "source": [
    "def load_excel_data(filepath, sheetname):\n",
    "    df = pd.read_excel(filepath,\n",
    "                        sheet_name=sheetname,\n",
    "                        index_col=None)\n",
    "    return df\n"
   ]
  },
  {
   "cell_type": "code",
   "execution_count": 84,
   "id": "e8874c8f",
   "metadata": {},
   "outputs": [
    {
     "data": {
      "text/plain": [
       "'blackcat_ntd_reports_2023_raw/NTD_Annual_Report_Rural_2023_2023-09-28.xlsx'"
      ]
     },
     "execution_count": 84,
     "metadata": {},
     "output_type": "execute_result"
    }
   ],
   "source": [
    "latest_file\n",
    "    "
   ]
  },
  {
   "cell_type": "code",
   "execution_count": null,
   "id": "7b7ed889",
   "metadata": {},
   "outputs": [],
   "source": [
    "# This is only for getting a list of the subrecipients that are in the raw data - \n",
    "# if we're checking the RR-20, pull from the 2nd sheet (skip the 1st contacts info cuz it looks like it always lists everyone, regardless of who actually submitted something)\n",
    "# all other forms have only 1 worksheet so just grab that one.\n",
    "\n",
    "if form_to_check == \"RR-20\":\n",
    "    sheet = form_to_sheets_dict.get(form_to_check)[1]\n",
    "else:\n",
    "    sheet = form_to_sheets_dict.get(form_to_check)[0]"
   ]
  },
  {
   "cell_type": "code",
   "execution_count": 106,
   "id": "156472ed",
   "metadata": {},
   "outputs": [
    {
     "data": {
      "text/html": [
       "<div>\n",
       "<style scoped>\n",
       "    .dataframe tbody tr th:only-of-type {\n",
       "        vertical-align: middle;\n",
       "    }\n",
       "\n",
       "    .dataframe tbody tr th {\n",
       "        vertical-align: top;\n",
       "    }\n",
       "\n",
       "    .dataframe thead th {\n",
       "        text-align: right;\n",
       "    }\n",
       "</style>\n",
       "<table border=\"1\" class=\"dataframe\">\n",
       "  <thead>\n",
       "    <tr style=\"text-align: right;\">\n",
       "      <th></th>\n",
       "      <th>Organization Legal Name</th>\n",
       "      <th>Common Name/Acronym/DBA</th>\n",
       "      <th>Fiscal Year</th>\n",
       "      <th>Mode</th>\n",
       "      <th>Type of Service</th>\n",
       "      <th>Commitment Date</th>\n",
       "      <th>Start Date</th>\n",
       "      <th>End Date</th>\n",
       "    </tr>\n",
       "  </thead>\n",
       "  <tbody>\n",
       "    <tr>\n",
       "      <th>0</th>\n",
       "      <td>City of Arvin</td>\n",
       "      <td>NaN</td>\n",
       "      <td>2023</td>\n",
       "      <td>Demand Response (DR)</td>\n",
       "      <td>DO - Directly Operated</td>\n",
       "      <td>NaN</td>\n",
       "      <td>NaN</td>\n",
       "      <td>NaN</td>\n",
       "    </tr>\n",
       "    <tr>\n",
       "      <th>1</th>\n",
       "      <td>City of Arvin</td>\n",
       "      <td>NaN</td>\n",
       "      <td>2023</td>\n",
       "      <td>Deviated Fixed Route (DF)</td>\n",
       "      <td>DO - Directly Operated</td>\n",
       "      <td>NaN</td>\n",
       "      <td>NaN</td>\n",
       "      <td>NaN</td>\n",
       "    </tr>\n",
       "    <tr>\n",
       "      <th>2</th>\n",
       "      <td>City of Corcoran - Corcoran Area Transit</td>\n",
       "      <td>NaN</td>\n",
       "      <td>2023</td>\n",
       "      <td>Demand Response (DR)</td>\n",
       "      <td>DO - Directly Operated</td>\n",
       "      <td>NaN</td>\n",
       "      <td>NaN</td>\n",
       "      <td>NaN</td>\n",
       "    </tr>\n",
       "    <tr>\n",
       "      <th>3</th>\n",
       "      <td>County of Shasta Department of Public Works</td>\n",
       "      <td>NaN</td>\n",
       "      <td>2023</td>\n",
       "      <td>Bus (MB) (Fixed Route)</td>\n",
       "      <td>PT - Purchased Transportation</td>\n",
       "      <td>NaN</td>\n",
       "      <td>NaN</td>\n",
       "      <td>NaN</td>\n",
       "    </tr>\n",
       "    <tr>\n",
       "      <th>4</th>\n",
       "      <td>County of Shasta Department of Public Works</td>\n",
       "      <td>NaN</td>\n",
       "      <td>2023</td>\n",
       "      <td>Commuter Bus (CB)</td>\n",
       "      <td>PT - Purchased Transportation</td>\n",
       "      <td>NaN</td>\n",
       "      <td>NaN</td>\n",
       "      <td>NaN</td>\n",
       "    </tr>\n",
       "    <tr>\n",
       "      <th>5</th>\n",
       "      <td>Plumas County Transportation Commission</td>\n",
       "      <td>PCTC</td>\n",
       "      <td>2023</td>\n",
       "      <td>Deviated Fixed Route (DF)</td>\n",
       "      <td>PT - Purchased Transportation</td>\n",
       "      <td>NaN</td>\n",
       "      <td>NaN</td>\n",
       "      <td>NaN</td>\n",
       "    </tr>\n",
       "    <tr>\n",
       "      <th>6</th>\n",
       "      <td>Tehama County Transit Agency</td>\n",
       "      <td>TRAX</td>\n",
       "      <td>2023</td>\n",
       "      <td>Bus (MB) (Fixed Route)</td>\n",
       "      <td>PT - Purchased Transportation</td>\n",
       "      <td>NaN</td>\n",
       "      <td>NaN</td>\n",
       "      <td>NaN</td>\n",
       "    </tr>\n",
       "    <tr>\n",
       "      <th>7</th>\n",
       "      <td>Tehama County Transit Agency</td>\n",
       "      <td>TRAX</td>\n",
       "      <td>2023</td>\n",
       "      <td>Demand Response (DR)</td>\n",
       "      <td>PT - Purchased Transportation</td>\n",
       "      <td>NaN</td>\n",
       "      <td>NaN</td>\n",
       "      <td>NaN</td>\n",
       "    </tr>\n",
       "  </tbody>\n",
       "</table>\n",
       "</div>"
      ],
      "text/plain": [
       "                       Organization Legal Name Common Name/Acronym/DBA  \\\n",
       "0                                City of Arvin                     NaN   \n",
       "1                                City of Arvin                     NaN   \n",
       "2     City of Corcoran - Corcoran Area Transit                     NaN   \n",
       "3  County of Shasta Department of Public Works                     NaN   \n",
       "4  County of Shasta Department of Public Works                     NaN   \n",
       "5      Plumas County Transportation Commission                    PCTC   \n",
       "6                 Tehama County Transit Agency                    TRAX   \n",
       "7                 Tehama County Transit Agency                    TRAX   \n",
       "\n",
       "   Fiscal Year                       Mode                Type of Service  \\\n",
       "0         2023       Demand Response (DR)         DO - Directly Operated   \n",
       "1         2023  Deviated Fixed Route (DF)         DO - Directly Operated   \n",
       "2         2023       Demand Response (DR)         DO - Directly Operated   \n",
       "3         2023     Bus (MB) (Fixed Route)  PT - Purchased Transportation   \n",
       "4         2023          Commuter Bus (CB)  PT - Purchased Transportation   \n",
       "5         2023  Deviated Fixed Route (DF)  PT - Purchased Transportation   \n",
       "6         2023     Bus (MB) (Fixed Route)  PT - Purchased Transportation   \n",
       "7         2023       Demand Response (DR)  PT - Purchased Transportation   \n",
       "\n",
       "   Commitment Date  Start Date  End Date  \n",
       "0              NaN         NaN       NaN  \n",
       "1              NaN         NaN       NaN  \n",
       "2              NaN         NaN       NaN  \n",
       "3              NaN         NaN       NaN  \n",
       "4              NaN         NaN       NaN  \n",
       "5              NaN         NaN       NaN  \n",
       "6              NaN         NaN       NaN  \n",
       "7              NaN         NaN       NaN  "
      ]
     },
     "execution_count": 106,
     "metadata": {},
     "output_type": "execute_result"
    }
   ],
   "source": [
    "sheet = 'Modes'\n",
    "df = load_excel_data(f\"gs://{bucket_name}/{latest_file}\", sheet)\n",
    "df"
   ]
  },
  {
   "cell_type": "code",
   "execution_count": 107,
   "id": "e2ed69f9",
   "metadata": {},
   "outputs": [
    {
     "data": {
      "text/plain": [
       "array(['City of Arvin', 'City of Corcoran - Corcoran Area Transit',\n",
       "       'County of Shasta Department of Public Works',\n",
       "       'Plumas County Transportation Commission',\n",
       "       'Tehama County Transit Agency'], dtype=object)"
      ]
     },
     "execution_count": 107,
     "metadata": {},
     "output_type": "execute_result"
    }
   ],
   "source": [
    "orgs_in_file = df['Organization Legal Name'].unique()\n",
    "orgs_in_file"
   ]
  },
  {
   "cell_type": "code",
   "execution_count": null,
   "id": "4cb5712c",
   "metadata": {},
   "outputs": [],
   "source": [
    "orgs = pd.read_csv(\"../data/organizations.csv\")\n",
    "orgs_to_submit = orgs['Organization'].unique() # I see some whitespaces\n",
    "orgs_to_submit = [x.strip(' ') for x in orgs_to_submit]\n",
    "orgs_to_submit"
   ]
  },
  {
   "cell_type": "code",
   "execution_count": 114,
   "id": "a3c9f3b0",
   "metadata": {},
   "outputs": [
    {
     "data": {
      "text/html": [
       "<div>\n",
       "<style scoped>\n",
       "    .dataframe tbody tr th:only-of-type {\n",
       "        vertical-align: middle;\n",
       "    }\n",
       "\n",
       "    .dataframe tbody tr th {\n",
       "        vertical-align: top;\n",
       "    }\n",
       "\n",
       "    .dataframe thead th {\n",
       "        text-align: right;\n",
       "    }\n",
       "</style>\n",
       "<table border=\"1\" class=\"dataframe\">\n",
       "  <thead>\n",
       "    <tr style=\"text-align: right;\">\n",
       "      <th></th>\n",
       "      <th>Organization Legal Name</th>\n",
       "      <th>Common Name/Acronym/DBA</th>\n",
       "      <th>Fiscal Year</th>\n",
       "      <th>Mode</th>\n",
       "      <th>Type of Service</th>\n",
       "      <th>Commitment Date</th>\n",
       "      <th>Start Date</th>\n",
       "      <th>End Date</th>\n",
       "    </tr>\n",
       "  </thead>\n",
       "  <tbody>\n",
       "    <tr>\n",
       "      <th>0</th>\n",
       "      <td>City of Arvin</td>\n",
       "      <td>NaN</td>\n",
       "      <td>2023</td>\n",
       "      <td>Demand Response (DR)</td>\n",
       "      <td>DO - Directly Operated</td>\n",
       "      <td>NaN</td>\n",
       "      <td>NaN</td>\n",
       "      <td>NaN</td>\n",
       "    </tr>\n",
       "    <tr>\n",
       "      <th>1</th>\n",
       "      <td>City of Arvin</td>\n",
       "      <td>NaN</td>\n",
       "      <td>2023</td>\n",
       "      <td>Deviated Fixed Route (DF)</td>\n",
       "      <td>DO - Directly Operated</td>\n",
       "      <td>NaN</td>\n",
       "      <td>NaN</td>\n",
       "      <td>NaN</td>\n",
       "    </tr>\n",
       "  </tbody>\n",
       "</table>\n",
       "</div>"
      ],
      "text/plain": [
       "  Organization Legal Name Common Name/Acronym/DBA  Fiscal Year  \\\n",
       "0           City of Arvin                     NaN         2023   \n",
       "1           City of Arvin                     NaN         2023   \n",
       "\n",
       "                        Mode         Type of Service  Commitment Date  \\\n",
       "0       Demand Response (DR)  DO - Directly Operated              NaN   \n",
       "1  Deviated Fixed Route (DF)  DO - Directly Operated              NaN   \n",
       "\n",
       "   Start Date  End Date  \n",
       "0         NaN       NaN  \n",
       "1         NaN       NaN  "
      ]
     },
     "execution_count": 114,
     "metadata": {},
     "output_type": "execute_result"
    }
   ],
   "source": [
    "'City of Arvin' in orgs_to_submit #make an if check in later function\n",
    "\n",
    "df[df['Organization Legal Name']== 'City of Arvin']"
   ]
  },
  {
   "cell_type": "markdown",
   "id": "97ac2cd6",
   "metadata": {},
   "source": [
    "---\n",
    "### Now we have the raw data coming in, for one subrecipient.\n",
    "Now we must pull that data from  BigQuery  \n",
    "Finally, eventually,  check against the data in BigQuery.  \n",
    "  \n",
    "TO TEST:  \n",
    "First, I will load some of the newest data into BigQuery already. This is a 1-time event to set up tables, and infer schemas and table names. I loaded **only Tehama** so that when we test loading in new data, we have an example of some data that should be skipped over and some that should be written.\n"
   ]
  },
  {
   "cell_type": "markdown",
   "id": "e5202119",
   "metadata": {},
   "source": [
    "FIRST, load in Tehama's data"
   ]
  },
  {
   "cell_type": "code",
   "execution_count": 115,
   "id": "6b384494",
   "metadata": {},
   "outputs": [],
   "source": [
    "# Construct a BigQuery client object.\n",
    "client = bigquery.Client()"
   ]
  },
  {
   "cell_type": "code",
   "execution_count": 388,
   "id": "8adfcf12",
   "metadata": {},
   "outputs": [],
   "source": [
    "# Get data from GCS - RR020 from 2023\n",
    "\n",
    "rr20_service =  load_excel_data(f\"gs://{bucket_name}/{latest_file}\",sheetname=\"Service Data\")\n",
    "rr20_exp_by_mode = load_excel_data(f\"gs://{bucket_name}/{latest_file}\", sheetname=\"Expenses By Mode\")\n",
    "rr20_rev_by_mode = load_excel_data(f\"gs://{bucket_name}/{latest_file}\", sheetname=\"Revenues By Mode\")\n",
    "rr20_fin = load_excel_data(f\"gs://{bucket_name}/{latest_file}\", sheetname=\"Financials - 2\")\n",
    "rr20_safety = load_excel_data(f\"gs://{bucket_name}/{latest_file}\", sheetname=\"Safety\")\n",
    "rr20_other = load_excel_data(f\"gs://{bucket_name}/{latest_file}\", sheetname=\"Other Resources\")\n",
    "rr20_contactinfo = load_excel_data(f\"gs://{bucket_name}/{latest_file}\", sheetname=\"Basics.Contacts\")\n",
    "rr20_modes = load_excel_data(f\"gs://{bucket_name}/{latest_file}\",sheetname=\"Modes\")"
   ]
  },
  {
   "cell_type": "code",
   "execution_count": 389,
   "id": "c1ef0f4d",
   "metadata": {},
   "outputs": [],
   "source": [
    "# Cut down dataframes to only Tehama\n",
    "rr20_service = rr20_service[rr20_service['Organization Legal Name']== 'Tehama County Transit Agency']\n",
    "rr20_exp_by_mode = rr20_exp_by_mode[rr20_exp_by_mode['Organization Legal Name']== 'Tehama County Transit Agency']\n",
    "rr20_rev_by_mode = rr20_rev_by_mode[rr20_rev_by_mode['Organization Legal Name']== 'Tehama County Transit Agency']\n",
    "rr20_fin = rr20_fin[rr20_fin['Organization Legal Name']== 'Tehama County Transit Agency']\n",
    "rr20_safety = rr20_safety[rr20_safety['Organization Legal Name']== 'Tehama County Transit Agency']\n",
    "rr20_other = rr20_other[rr20_other['Organization Legal Name']== 'Tehama County Transit Agency']\n",
    "rr20_contactinfo = rr20_contactinfo[rr20_contactinfo['Organization Legal Name']== 'Tehama County Transit Agency']\n",
    "rr20_modes = rr20_modes[rr20_modes['Organization Legal Name']== 'Tehama County Transit Agency']"
   ]
  },
  {
   "cell_type": "code",
   "execution_count": 391,
   "id": "3784e127",
   "metadata": {},
   "outputs": [],
   "source": [
    "# Add column for date uploaded\n",
    "# upload_d = datetime.datetime.now().date() #.strftime('%Y-%m-%d')\n",
    "upload_d = pd.to_datetime(datetime.datetime(2023,9,29))\n",
    "rr20_service['date_uploaded'] = pd.to_datetime(upload_d)\n",
    "rr20_exp_by_mode['date_uploaded'] = pd.to_datetime(upload_d)\n",
    "rr20_rev_by_mode['date_uploaded'] = pd.to_datetime(upload_d)\n",
    "rr20_fin['date_uploaded'] = pd.to_datetime(upload_d)\n",
    "rr20_safety['date_uploaded'] = pd.to_datetime(upload_d)\n",
    "rr20_other['date_uploaded'] = pd.to_datetime(upload_d)\n",
    "rr20_contactinfo['date_uploaded'] = pd.to_datetime(upload_d)\n",
    "rr20_modes['date_uploaded'] = pd.to_datetime(upload_d)"
   ]
  },
  {
   "cell_type": "code",
   "execution_count": 436,
   "id": "778f996f",
   "metadata": {},
   "outputs": [
    {
     "data": {
      "text/html": [
       "<div>\n",
       "<style scoped>\n",
       "    .dataframe tbody tr th:only-of-type {\n",
       "        vertical-align: middle;\n",
       "    }\n",
       "\n",
       "    .dataframe tbody tr th {\n",
       "        vertical-align: top;\n",
       "    }\n",
       "\n",
       "    .dataframe thead th {\n",
       "        text-align: right;\n",
       "    }\n",
       "</style>\n",
       "<table border=\"1\" class=\"dataframe\">\n",
       "  <thead>\n",
       "    <tr style=\"text-align: right;\">\n",
       "      <th></th>\n",
       "      <th>Organization_Legal_Name</th>\n",
       "      <th>Common_Name_Acronym_DBA</th>\n",
       "      <th>Fiscal_Year</th>\n",
       "      <th>Mode</th>\n",
       "      <th>Annual_VRM</th>\n",
       "      <th>Annual_VRH</th>\n",
       "      <th>Annual_UPT</th>\n",
       "      <th>Sponsored_UPT</th>\n",
       "      <th>VOMX</th>\n",
       "      <th>date_uploaded</th>\n",
       "    </tr>\n",
       "  </thead>\n",
       "  <tbody>\n",
       "    <tr>\n",
       "      <th>6</th>\n",
       "      <td>Tehama County Transit Agency</td>\n",
       "      <td>TRAX</td>\n",
       "      <td>2023</td>\n",
       "      <td>Bus (MB) (Fixed Route) - (PT)</td>\n",
       "      <td>463998.0</td>\n",
       "      <td>20838.0</td>\n",
       "      <td>105515.0</td>\n",
       "      <td>0.0</td>\n",
       "      <td>7.0</td>\n",
       "      <td>2023-09-29</td>\n",
       "    </tr>\n",
       "    <tr>\n",
       "      <th>7</th>\n",
       "      <td>Tehama County Transit Agency</td>\n",
       "      <td>TRAX</td>\n",
       "      <td>2023</td>\n",
       "      <td>Demand Response (DR) - (PT)</td>\n",
       "      <td>114389.0</td>\n",
       "      <td>6626.0</td>\n",
       "      <td>14348.0</td>\n",
       "      <td>0.0</td>\n",
       "      <td>7.0</td>\n",
       "      <td>2023-09-29</td>\n",
       "    </tr>\n",
       "  </tbody>\n",
       "</table>\n",
       "</div>"
      ],
      "text/plain": [
       "        Organization_Legal_Name Common_Name_Acronym_DBA  Fiscal_Year  \\\n",
       "6  Tehama County Transit Agency                    TRAX         2023   \n",
       "7  Tehama County Transit Agency                    TRAX         2023   \n",
       "\n",
       "                            Mode  Annual_VRM  Annual_VRH  Annual_UPT  \\\n",
       "6  Bus (MB) (Fixed Route) - (PT)    463998.0     20838.0    105515.0   \n",
       "7    Demand Response (DR) - (PT)    114389.0      6626.0     14348.0   \n",
       "\n",
       "   Sponsored_UPT  VOMX date_uploaded  \n",
       "6            0.0   7.0    2023-09-29  \n",
       "7            0.0   7.0    2023-09-29  "
      ]
     },
     "execution_count": 436,
     "metadata": {},
     "output_type": "execute_result"
    }
   ],
   "source": [
    "rr20_service.head(3)"
   ]
  },
  {
   "cell_type": "code",
   "execution_count": 184,
   "id": "241e9ed3",
   "metadata": {},
   "outputs": [
    {
     "data": {
      "text/plain": [
       "Organization_Legal_Name            object\n",
       "Common_Name_Acronym_DBA            object\n",
       "Fiscal_Year                         int64\n",
       "Mode                               object\n",
       "Annual_VRM                        float64\n",
       "Annual_VRH                        float64\n",
       "Annual_UPT                        float64\n",
       "Sponsored_UPT                     float64\n",
       "VOMX                              float64\n",
       "date_uploaded              datetime64[ns]\n",
       "dtype: object"
      ]
     },
     "execution_count": 184,
     "metadata": {},
     "output_type": "execute_result"
    }
   ],
   "source": [
    "rr20_service.dtypes"
   ]
  },
  {
   "cell_type": "code",
   "execution_count": 203,
   "id": "8a2d8716",
   "metadata": {},
   "outputs": [],
   "source": [
    "rr20_service_tehama = rr20_service.copy()"
   ]
  },
  {
   "cell_type": "markdown",
   "id": "0ac57ce1",
   "metadata": {},
   "source": [
    "### Load and create 2023 RR-20 tables in BigQuery \n",
    "This code is reused with slight modifications from `ETL_Load_data_GCS_to_BQ.ipynb`  \n",
    "  \n",
    "IF YOU RUN IT, IT WILL ERROR OUT.\n",
    "It was run once to initially create the 2023 raw tabels in BigQuery. That is its sole purpose, and we don't need it anymore. To see how it was developed, see the notebook `ETL_Load_data_GCS_to_BQ.ipynb`  "
   ]
  },
  {
   "cell_type": "code",
   "execution_count": 437,
   "id": "6a065977",
   "metadata": {
    "scrolled": true
   },
   "outputs": [
    {
     "name": "stderr",
     "output_type": "stream",
     "text": [
      "/var/folders/3h/9n_2y6x178l41fsp4dg802f00000gn/T/ipykernel_14484/3645223876.py:17: FutureWarning: The default value of regex will change from True to False in a future version. In addition, single character regular expressions will *not* be treated as literal strings when regex=True.\n",
      "  v.columns = (v.columns.str.replace(' ', '_').str.replace('/', '_')\n",
      "/var/folders/3h/9n_2y6x178l41fsp4dg802f00000gn/T/ipykernel_14484/3645223876.py:17: FutureWarning: The default value of regex will change from True to False in a future version.\n",
      "  v.columns = (v.columns.str.replace(' ', '_').str.replace('/', '_')\n"
     ]
    },
    {
     "name": "stdout",
     "output_type": "stream",
     "text": [
      "Created table cal-itp-data-infra.blackcat_raw.cal-itp-data-infra.blackcat_raw.2023_rr20_modes\n",
      "Loaded 2 rows and 9 columns to cal-itp-data-infra.blackcat_raw.2023_rr20_modes\n"
     ]
    },
    {
     "name": "stderr",
     "output_type": "stream",
     "text": [
      "/var/folders/3h/9n_2y6x178l41fsp4dg802f00000gn/T/ipykernel_14484/3645223876.py:17: FutureWarning: The default value of regex will change from True to False in a future version. In addition, single character regular expressions will *not* be treated as literal strings when regex=True.\n",
      "  v.columns = (v.columns.str.replace(' ', '_').str.replace('/', '_')\n",
      "/var/folders/3h/9n_2y6x178l41fsp4dg802f00000gn/T/ipykernel_14484/3645223876.py:17: FutureWarning: The default value of regex will change from True to False in a future version.\n",
      "  v.columns = (v.columns.str.replace(' ', '_').str.replace('/', '_')\n"
     ]
    },
    {
     "name": "stdout",
     "output_type": "stream",
     "text": [
      "Created table cal-itp-data-infra.blackcat_raw.cal-itp-data-infra.blackcat_raw.2023_rr20_service_data\n",
      "Loaded 2 rows and 10 columns to cal-itp-data-infra.blackcat_raw.2023_rr20_service_data\n"
     ]
    },
    {
     "name": "stderr",
     "output_type": "stream",
     "text": [
      "/var/folders/3h/9n_2y6x178l41fsp4dg802f00000gn/T/ipykernel_14484/3645223876.py:17: FutureWarning: The default value of regex will change from True to False in a future version. In addition, single character regular expressions will *not* be treated as literal strings when regex=True.\n",
      "  v.columns = (v.columns.str.replace(' ', '_').str.replace('/', '_')\n",
      "/var/folders/3h/9n_2y6x178l41fsp4dg802f00000gn/T/ipykernel_14484/3645223876.py:17: FutureWarning: The default value of regex will change from True to False in a future version.\n",
      "  v.columns = (v.columns.str.replace(' ', '_').str.replace('/', '_')\n"
     ]
    },
    {
     "name": "stdout",
     "output_type": "stream",
     "text": [
      "Created table cal-itp-data-infra.blackcat_raw.cal-itp-data-infra.blackcat_raw.2023_rr20_expenses_by_mode\n",
      "Loaded 4 rows and 7 columns to cal-itp-data-infra.blackcat_raw.2023_rr20_expenses_by_mode\n"
     ]
    },
    {
     "name": "stderr",
     "output_type": "stream",
     "text": [
      "/var/folders/3h/9n_2y6x178l41fsp4dg802f00000gn/T/ipykernel_14484/3645223876.py:17: FutureWarning: The default value of regex will change from True to False in a future version. In addition, single character regular expressions will *not* be treated as literal strings when regex=True.\n",
      "  v.columns = (v.columns.str.replace(' ', '_').str.replace('/', '_')\n",
      "/var/folders/3h/9n_2y6x178l41fsp4dg802f00000gn/T/ipykernel_14484/3645223876.py:17: FutureWarning: The default value of regex will change from True to False in a future version.\n",
      "  v.columns = (v.columns.str.replace(' ', '_').str.replace('/', '_')\n"
     ]
    },
    {
     "name": "stdout",
     "output_type": "stream",
     "text": [
      "Created table cal-itp-data-infra.blackcat_raw.cal-itp-data-infra.blackcat_raw.2023_rr20_revenues_by_mode\n",
      "Loaded 8 rows and 8 columns to cal-itp-data-infra.blackcat_raw.2023_rr20_revenues_by_mode\n"
     ]
    },
    {
     "name": "stderr",
     "output_type": "stream",
     "text": [
      "/var/folders/3h/9n_2y6x178l41fsp4dg802f00000gn/T/ipykernel_14484/3645223876.py:17: FutureWarning: The default value of regex will change from True to False in a future version. In addition, single character regular expressions will *not* be treated as literal strings when regex=True.\n",
      "  v.columns = (v.columns.str.replace(' ', '_').str.replace('/', '_')\n",
      "/var/folders/3h/9n_2y6x178l41fsp4dg802f00000gn/T/ipykernel_14484/3645223876.py:17: FutureWarning: The default value of regex will change from True to False in a future version.\n",
      "  v.columns = (v.columns.str.replace(' ', '_').str.replace('/', '_')\n"
     ]
    },
    {
     "name": "stdout",
     "output_type": "stream",
     "text": [
      "Created table cal-itp-data-infra.blackcat_raw.cal-itp-data-infra.blackcat_raw.2023_rr20_financials__2\n",
      "Loaded 2 rows and 46 columns to cal-itp-data-infra.blackcat_raw.2023_rr20_financials__2\n"
     ]
    },
    {
     "name": "stderr",
     "output_type": "stream",
     "text": [
      "/var/folders/3h/9n_2y6x178l41fsp4dg802f00000gn/T/ipykernel_14484/3645223876.py:17: FutureWarning: The default value of regex will change from True to False in a future version. In addition, single character regular expressions will *not* be treated as literal strings when regex=True.\n",
      "  v.columns = (v.columns.str.replace(' ', '_').str.replace('/', '_')\n",
      "/var/folders/3h/9n_2y6x178l41fsp4dg802f00000gn/T/ipykernel_14484/3645223876.py:17: FutureWarning: The default value of regex will change from True to False in a future version.\n",
      "  v.columns = (v.columns.str.replace(' ', '_').str.replace('/', '_')\n"
     ]
    },
    {
     "name": "stdout",
     "output_type": "stream",
     "text": [
      "Created table cal-itp-data-infra.blackcat_raw.cal-itp-data-infra.blackcat_raw.2023_rr20_safety\n",
      "Loaded 0 rows and 7 columns to cal-itp-data-infra.blackcat_raw.2023_rr20_safety\n"
     ]
    },
    {
     "name": "stderr",
     "output_type": "stream",
     "text": [
      "/var/folders/3h/9n_2y6x178l41fsp4dg802f00000gn/T/ipykernel_14484/3645223876.py:17: FutureWarning: The default value of regex will change from True to False in a future version. In addition, single character regular expressions will *not* be treated as literal strings when regex=True.\n",
      "  v.columns = (v.columns.str.replace(' ', '_').str.replace('/', '_')\n",
      "/var/folders/3h/9n_2y6x178l41fsp4dg802f00000gn/T/ipykernel_14484/3645223876.py:17: FutureWarning: The default value of regex will change from True to False in a future version.\n",
      "  v.columns = (v.columns.str.replace(' ', '_').str.replace('/', '_')\n"
     ]
    },
    {
     "name": "stdout",
     "output_type": "stream",
     "text": [
      "Created table cal-itp-data-infra.blackcat_raw.cal-itp-data-infra.blackcat_raw.2023_rr20_other_resources\n",
      "Loaded 1 rows and 6 columns to cal-itp-data-infra.blackcat_raw.2023_rr20_other_resources\n"
     ]
    },
    {
     "name": "stderr",
     "output_type": "stream",
     "text": [
      "/var/folders/3h/9n_2y6x178l41fsp4dg802f00000gn/T/ipykernel_14484/3645223876.py:17: FutureWarning: The default value of regex will change from True to False in a future version. In addition, single character regular expressions will *not* be treated as literal strings when regex=True.\n",
      "  v.columns = (v.columns.str.replace(' ', '_').str.replace('/', '_')\n",
      "/var/folders/3h/9n_2y6x178l41fsp4dg802f00000gn/T/ipykernel_14484/3645223876.py:17: FutureWarning: The default value of regex will change from True to False in a future version.\n",
      "  v.columns = (v.columns.str.replace(' ', '_').str.replace('/', '_')\n"
     ]
    },
    {
     "name": "stdout",
     "output_type": "stream",
     "text": [
      "Created table cal-itp-data-infra.blackcat_raw.cal-itp-data-infra.blackcat_raw.2023_rr20_basics_contacts\n",
      "Loaded 1 rows and 15 columns to cal-itp-data-infra.blackcat_raw.2023_rr20_basics_contacts\n"
     ]
    }
   ],
   "source": [
    "# Tables to create and load - we need the df and a string name for the next loop.\n",
    "# We carefully make the keys (which will be the BQ table names) exactly the same thing as the Excel worksheets \n",
    "# except in lowercase and replacing spaces, \"/\", \".\" and \"-\" with _ \n",
    "dfdict = {\"rr20_modes\": rr20_modes,\n",
    "          \"rr20_service_data\": rr20_service, \n",
    "          \"rr20_expenses_by_mode\": rr20_exp_by_mode, \n",
    "          \"rr20_revenues_by_mode\": rr20_rev_by_mode,\n",
    "          \"rr20_financials__2\": rr20_fin,\n",
    "          \"rr20_safety\": rr20_safety, \n",
    "          \"rr20_other_resources\": rr20_other, \n",
    "          \"rr20_basics_contacts\": rr20_contactinfo}\n",
    "          \n",
    "for k,v in dfdict.items():\n",
    "    table_id = f\"cal-itp-data-infra.blackcat_raw.{this_year}_{k}\" # Set table_id \n",
    "\n",
    "    # Remove spaces and slashes from col names - - they are illegal in BQ\n",
    "    v.columns = (v.columns.str.replace(' ', '_').str.replace('/', '_')\n",
    "                 .str.replace('.', '_').str.replace('-', '')\n",
    "                 .str.replace('#', 'num')\n",
    "                 .str.replace('\\W+', '') #other things, just strip out\n",
    "                )\n",
    "    columns = v.columns.values\n",
    "    \n",
    "    # Make dict of colname: BQ type\n",
    "    schema_dict = {}\n",
    "    for x in columns:\n",
    "        if v[x].dtypes == 'float64':\n",
    "            schema_dict[x] = \"FLOAT64\"\n",
    "        elif v[x].dtypes == 'int64':\n",
    "            schema_dict[x] = \"INT64\"\n",
    "        elif v[x].dtypes == 'object':\n",
    "            schema_dict[x] =  \"STRING\"\n",
    "        elif v[x].dtypes == 'datetime64[ns]':\n",
    "            schema_dict[x] =  \"DATETIME\"\n",
    "    \n",
    "    schema = []\n",
    "    for k2, v2 in schema_dict.items():\n",
    "        schema.append(bigquery.SchemaField(k2, v2)) \n",
    "    \n",
    "    table = bigquery.Table(table_id, schema=schema)\n",
    "    table = client.create_table(table) # API request to create table\n",
    "    print(f\"Created table {table.project}.{table.dataset_id}.{table_id}\")\n",
    "\n",
    "    #https://cloud.google.com/bigquery/docs/samples/bigquery-load-table-dataframe\n",
    "    job_service = client.load_table_from_dataframe(\n",
    "        v, table_id)  \n",
    "    job_service.result()  # Wait for the job to complete.\n",
    "    table = client.get_table(table_id) # API request to load data\n",
    "\n",
    "    print(f\"Loaded {table.num_rows} rows and {len(table.schema)} columns to {table_id}\")"
   ]
  },
  {
   "cell_type": "markdown",
   "id": "124e2443",
   "metadata": {},
   "source": [
    "## Now compare raw data in GCS Bucket to data in BigQuery\n",
    "Check for and skip over what is there, write anything new. To verify code will work for every table, we cycle through each worksheet 1 by 1 in the code below. Meaning I switch out the sheetname in `sheet = \"Other Resources\"` and in the `load_excel_data` step:  \n",
    "```['Basics.Contacts',\n",
    " 'Modes',\n",
    " 'Expenses By Mode',\n",
    " 'Revenues By Mode',\n",
    " 'Financials - 2',\n",
    " 'Service Data',\n",
    " 'Safety',\n",
    " 'Other Resources']```"
   ]
  },
  {
   "cell_type": "code",
   "execution_count": 119,
   "id": "b98e5595",
   "metadata": {},
   "outputs": [
    {
     "data": {
      "text/plain": [
       "'rr20'"
      ]
     },
     "execution_count": 119,
     "metadata": {},
     "output_type": "execute_result"
    }
   ],
   "source": [
    "bq_form_ref = form_to_check.replace(\"-\",\"\").lower()\n",
    "bq_form_ref"
   ]
  },
  {
   "cell_type": "code",
   "execution_count": 379,
   "id": "0aa7fa2a",
   "metadata": {},
   "outputs": [
    {
     "data": {
      "text/plain": [
       "'other_resources'"
      ]
     },
     "execution_count": 379,
     "metadata": {},
     "output_type": "execute_result"
    }
   ],
   "source": [
    "sheet = \"Other Resources\"\n",
    "\n",
    "bq_sheet_ref = sheet.replace(\" \", \"_\").replace(\"/\", \"_\").replace(\".\", \"_\").replace(\"-\", \"\").replace('\\W+', '').lower()\n",
    "bq_sheet_ref"
   ]
  },
  {
   "cell_type": "code",
   "execution_count": 380,
   "id": "0dfc57c7",
   "metadata": {},
   "outputs": [
    {
     "data": {
      "text/plain": [
       "'cal-itp-data-infra.blackcat_raw.2023_rr20_other_resources'"
      ]
     },
     "execution_count": 380,
     "metadata": {},
     "output_type": "execute_result"
    }
   ],
   "source": [
    "# Set table_id to the ID of the table to check.\n",
    "#----------- Service\n",
    "table_id = f\"cal-itp-data-infra.blackcat_raw.{this_year}_{bq_file_ref}_{bq_sheet_ref}\"\n",
    "table_id\n"
   ]
  },
  {
   "cell_type": "code",
   "execution_count": 418,
   "id": "d2e96a11",
   "metadata": {},
   "outputs": [
    {
     "name": "stdout",
     "output_type": "stream",
     "text": [
      "SELECT * from blackcat_raw.2023_rr20_other_resources\n",
      "        WHERE Organization_Legal_Name = 'City of Arvin'\n",
      "        \n",
      "         \n"
     ]
    },
    {
     "data": {
      "text/html": [
       "<div>\n",
       "<style scoped>\n",
       "    .dataframe tbody tr th:only-of-type {\n",
       "        vertical-align: middle;\n",
       "    }\n",
       "\n",
       "    .dataframe tbody tr th {\n",
       "        vertical-align: top;\n",
       "    }\n",
       "\n",
       "    .dataframe thead th {\n",
       "        text-align: right;\n",
       "    }\n",
       "</style>\n",
       "<table border=\"1\" class=\"dataframe\">\n",
       "  <thead>\n",
       "    <tr style=\"text-align: right;\">\n",
       "      <th></th>\n",
       "      <th>Organization_Legal_Name</th>\n",
       "      <th>Common_Name_Acronym_DBA</th>\n",
       "      <th>Fiscal_Year</th>\n",
       "      <th>Number_of_Volunteer_Drivers</th>\n",
       "      <th>Number_of_Personal_Vehicles_in_Service</th>\n",
       "      <th>date_uploaded</th>\n",
       "    </tr>\n",
       "  </thead>\n",
       "  <tbody>\n",
       "    <tr>\n",
       "      <th>0</th>\n",
       "      <td>City of Arvin</td>\n",
       "      <td>None</td>\n",
       "      <td>2023</td>\n",
       "      <td>0</td>\n",
       "      <td>0</td>\n",
       "      <td>2023-10-02</td>\n",
       "    </tr>\n",
       "  </tbody>\n",
       "</table>\n",
       "</div>"
      ],
      "text/plain": [
       "  Organization_Legal_Name Common_Name_Acronym_DBA  Fiscal_Year  \\\n",
       "0           City of Arvin                    None         2023   \n",
       "\n",
       "   Number_of_Volunteer_Drivers  Number_of_Personal_Vehicles_in_Service  \\\n",
       "0                            0                                       0   \n",
       "\n",
       "  date_uploaded  \n",
       "0    2023-10-02  "
      ]
     },
     "execution_count": 418,
     "metadata": {},
     "output_type": "execute_result"
    }
   ],
   "source": [
    "org_to_check = 'City of Arvin' # 'Tehama County Transit Agency' \n",
    "sql = f\"\"\"SELECT * from blackcat_raw.{this_year}_{bq_file_ref}_{bq_sheet_ref}\n",
    "        WHERE Organization_Legal_Name = '{org_to_check}'\n",
    "        \n",
    "         \"\"\"\n",
    "print(sql)\n",
    "bq = client.query(sql).to_dataframe()\n",
    "bq"
   ]
  },
  {
   "cell_type": "code",
   "execution_count": 402,
   "id": "a91f0384",
   "metadata": {},
   "outputs": [
    {
     "data": {
      "text/html": [
       "<div>\n",
       "<style scoped>\n",
       "    .dataframe tbody tr th:only-of-type {\n",
       "        vertical-align: middle;\n",
       "    }\n",
       "\n",
       "    .dataframe tbody tr th {\n",
       "        vertical-align: top;\n",
       "    }\n",
       "\n",
       "    .dataframe thead th {\n",
       "        text-align: right;\n",
       "    }\n",
       "</style>\n",
       "<table border=\"1\" class=\"dataframe\">\n",
       "  <thead>\n",
       "    <tr style=\"text-align: right;\">\n",
       "      <th></th>\n",
       "      <th>Organization_Legal_Name</th>\n",
       "      <th>Common_Name_Acronym_DBA</th>\n",
       "      <th>Fiscal_Year</th>\n",
       "      <th>Number_of_Volunteer_Drivers</th>\n",
       "      <th>Number_of_Personal_Vehicles_in_Service</th>\n",
       "      <th>date_uploaded</th>\n",
       "    </tr>\n",
       "  </thead>\n",
       "  <tbody>\n",
       "    <tr>\n",
       "      <th>0</th>\n",
       "      <td>City of Arvin</td>\n",
       "      <td>None</td>\n",
       "      <td>2023</td>\n",
       "      <td>0</td>\n",
       "      <td>0</td>\n",
       "      <td>2023-09-29</td>\n",
       "    </tr>\n",
       "  </tbody>\n",
       "</table>\n",
       "</div>"
      ],
      "text/plain": [
       "  Organization_Legal_Name Common_Name_Acronym_DBA  Fiscal_Year  \\\n",
       "0           City of Arvin                    None         2023   \n",
       "\n",
       "   Number_of_Volunteer_Drivers  Number_of_Personal_Vehicles_in_Service  \\\n",
       "0                            0                                       0   \n",
       "\n",
       "  date_uploaded  \n",
       "0    2023-09-29  "
      ]
     },
     "execution_count": 402,
     "metadata": {},
     "output_type": "execute_result"
    }
   ],
   "source": [
    "# bq = bq.drop_duplicates()\n",
    "# print(np.isnan(bq['Common_Name_Acronym_DBA'][0]))\n",
    "bq"
   ]
  },
  {
   "cell_type": "code",
   "execution_count": 403,
   "id": "44542bee",
   "metadata": {},
   "outputs": [
    {
     "data": {
      "text/html": [
       "<div>\n",
       "<style scoped>\n",
       "    .dataframe tbody tr th:only-of-type {\n",
       "        vertical-align: middle;\n",
       "    }\n",
       "\n",
       "    .dataframe tbody tr th {\n",
       "        vertical-align: top;\n",
       "    }\n",
       "\n",
       "    .dataframe thead th {\n",
       "        text-align: right;\n",
       "    }\n",
       "</style>\n",
       "<table border=\"1\" class=\"dataframe\">\n",
       "  <thead>\n",
       "    <tr style=\"text-align: right;\">\n",
       "      <th></th>\n",
       "      <th>Organization Legal Name</th>\n",
       "      <th>Common Name/Acronym/DBA</th>\n",
       "      <th>Fiscal Year</th>\n",
       "      <th>Number of Volunteer Drivers</th>\n",
       "      <th>Number of Personal Vehicles in Service</th>\n",
       "      <th>date_uploaded</th>\n",
       "    </tr>\n",
       "  </thead>\n",
       "  <tbody>\n",
       "    <tr>\n",
       "      <th>0</th>\n",
       "      <td>City of Arvin</td>\n",
       "      <td>NaN</td>\n",
       "      <td>2023</td>\n",
       "      <td>0</td>\n",
       "      <td>0</td>\n",
       "      <td>2023-10-02</td>\n",
       "    </tr>\n",
       "  </tbody>\n",
       "</table>\n",
       "</div>"
      ],
      "text/plain": [
       "  Organization Legal Name Common Name/Acronym/DBA  Fiscal Year  \\\n",
       "0           City of Arvin                     NaN         2023   \n",
       "\n",
       "   Number of Volunteer Drivers  Number of Personal Vehicles in Service  \\\n",
       "0                            0                                       0   \n",
       "\n",
       "  date_uploaded  \n",
       "0    2023-10-02  "
      ]
     },
     "execution_count": 403,
     "metadata": {},
     "output_type": "execute_result"
    }
   ],
   "source": [
    "raw_data = load_excel_data(f\"gs://{bucket_name}/{latest_file}\",sheetname=\"Other Resources\")\n",
    "raw_data = raw_data[raw_data['Organization Legal Name']== org_to_check]\n",
    "upload_d = datetime.datetime.now().date() #.strftime('%Y-%m-%d')\n",
    "raw_data['date_uploaded'] = pd.to_datetime(upload_d) # pd.to_datetime(datetime.datetime(2023,9,29))\n",
    "\n",
    "raw_data"
   ]
  },
  {
   "cell_type": "code",
   "execution_count": 404,
   "id": "d31ab3f9",
   "metadata": {},
   "outputs": [
    {
     "name": "stderr",
     "output_type": "stream",
     "text": [
      "/var/folders/3h/9n_2y6x178l41fsp4dg802f00000gn/T/ipykernel_14484/853763721.py:2: FutureWarning: The default value of regex will change from True to False in a future version. In addition, single character regular expressions will *not* be treated as literal strings when regex=True.\n",
      "  raw_data.columns = (raw_data.columns.str.replace(' ', '_') #other whitespaces are replaced with an underscore\n",
      "/var/folders/3h/9n_2y6x178l41fsp4dg802f00000gn/T/ipykernel_14484/853763721.py:2: FutureWarning: The default value of regex will change from True to False in a future version.\n",
      "  raw_data.columns = (raw_data.columns.str.replace(' ', '_') #other whitespaces are replaced with an underscore\n"
     ]
    },
    {
     "data": {
      "text/html": [
       "<div>\n",
       "<style scoped>\n",
       "    .dataframe tbody tr th:only-of-type {\n",
       "        vertical-align: middle;\n",
       "    }\n",
       "\n",
       "    .dataframe tbody tr th {\n",
       "        vertical-align: top;\n",
       "    }\n",
       "\n",
       "    .dataframe thead th {\n",
       "        text-align: right;\n",
       "    }\n",
       "</style>\n",
       "<table border=\"1\" class=\"dataframe\">\n",
       "  <thead>\n",
       "    <tr style=\"text-align: right;\">\n",
       "      <th></th>\n",
       "      <th>Organization_Legal_Name</th>\n",
       "      <th>Common_Name_Acronym_DBA</th>\n",
       "      <th>Fiscal_Year</th>\n",
       "      <th>Number_of_Volunteer_Drivers</th>\n",
       "      <th>Number_of_Personal_Vehicles_in_Service</th>\n",
       "      <th>date_uploaded</th>\n",
       "    </tr>\n",
       "  </thead>\n",
       "  <tbody>\n",
       "    <tr>\n",
       "      <th>0</th>\n",
       "      <td>City of Arvin</td>\n",
       "      <td>NaN</td>\n",
       "      <td>2023</td>\n",
       "      <td>0</td>\n",
       "      <td>0</td>\n",
       "      <td>2023-10-02</td>\n",
       "    </tr>\n",
       "  </tbody>\n",
       "</table>\n",
       "</div>"
      ],
      "text/plain": [
       "  Organization_Legal_Name Common_Name_Acronym_DBA  Fiscal_Year  \\\n",
       "0           City of Arvin                     NaN         2023   \n",
       "\n",
       "   Number_of_Volunteer_Drivers  Number_of_Personal_Vehicles_in_Service  \\\n",
       "0                            0                                       0   \n",
       "\n",
       "  date_uploaded  \n",
       "0    2023-10-02  "
      ]
     },
     "execution_count": 404,
     "metadata": {},
     "output_type": "execute_result"
    }
   ],
   "source": [
    "raw_data.rename(columns=lambda x: x.strip(), inplace=True) #first remove trailing/leading whitespace\n",
    "raw_data.columns = (raw_data.columns.str.replace(' ', '_') #other whitespaces are replaced with an underscore\n",
    "                                    .str.replace('/', '_').str.replace('.', '_')\n",
    "                                     .str.replace('-', '')\n",
    "                                    .str.replace('#', 'num')\n",
    "                                    .str.replace('\\W+', '') #other things, just strip out\n",
    "                                    )\n",
    "raw_data"
   ]
  },
  {
   "cell_type": "markdown",
   "id": "845d8a12",
   "metadata": {},
   "source": [
    "**Test different ways of checking for datasets being identical**"
   ]
  },
  {
   "cell_type": "code",
   "execution_count": 419,
   "id": "69a3bbe3",
   "metadata": {},
   "outputs": [
    {
     "data": {
      "text/html": [
       "<div>\n",
       "<style scoped>\n",
       "    .dataframe tbody tr th:only-of-type {\n",
       "        vertical-align: middle;\n",
       "    }\n",
       "\n",
       "    .dataframe tbody tr th {\n",
       "        vertical-align: top;\n",
       "    }\n",
       "\n",
       "    .dataframe thead th {\n",
       "        text-align: right;\n",
       "    }\n",
       "</style>\n",
       "<table border=\"1\" class=\"dataframe\">\n",
       "  <thead>\n",
       "    <tr style=\"text-align: right;\">\n",
       "      <th></th>\n",
       "      <th>Organization_Legal_Name</th>\n",
       "      <th>Common_Name_Acronym_DBA</th>\n",
       "      <th>Fiscal_Year</th>\n",
       "      <th>Number_of_Volunteer_Drivers</th>\n",
       "      <th>Number_of_Personal_Vehicles_in_Service</th>\n",
       "    </tr>\n",
       "  </thead>\n",
       "  <tbody>\n",
       "    <tr>\n",
       "      <th>0</th>\n",
       "      <td>City of Arvin</td>\n",
       "      <td>None</td>\n",
       "      <td>2023</td>\n",
       "      <td>0</td>\n",
       "      <td>0</td>\n",
       "    </tr>\n",
       "  </tbody>\n",
       "</table>\n",
       "</div>"
      ],
      "text/plain": [
       "  Organization_Legal_Name Common_Name_Acronym_DBA  Fiscal_Year  \\\n",
       "0           City of Arvin                    None         2023   \n",
       "\n",
       "   Number_of_Volunteer_Drivers  Number_of_Personal_Vehicles_in_Service  \n",
       "0                            0                                       0  "
      ]
     },
     "execution_count": 419,
     "metadata": {},
     "output_type": "execute_result"
    }
   ],
   "source": [
    "bq_compare = bq.drop(['date_uploaded'], axis=1)\n",
    "bq_compare.sort_values(by=bq_compare.columns.tolist()).reset_index(drop=True)\n"
   ]
  },
  {
   "cell_type": "code",
   "execution_count": 405,
   "id": "742a3ff2",
   "metadata": {},
   "outputs": [
    {
     "name": "stdout",
     "output_type": "stream",
     "text": [
      "'date_uploaded'\n"
     ]
    }
   ],
   "source": [
    "# THIS WORKS IF WE:\n",
    "# use check_dtype=False, otherwise it does not work (error is Attribute \"dtype\" are different [left]: Int64 [right]: int64)\n",
    "# drop indexes and reset, otherwise if index #s are different will say dataframes differ (irrelevant here)\n",
    "# resort columns because if rows are in different order, will error\n",
    "try:\n",
    "    pd.testing.assert_frame_equal(bq.sort_values(by=bq.columns.tolist())\n",
    "                                  .reset_index(drop=True), \n",
    "                              raw_data.sort_values(by=raw_data.columns.tolist())\n",
    "                                  .reset_index(drop=True), \n",
    "                              check_dtype=False)\n",
    "    print(\"data equals....etc. message\")\n",
    "except Exception as ex:\n",
    "    print(ex)"
   ]
  },
  {
   "cell_type": "code",
   "execution_count": 351,
   "id": "92d1d78b",
   "metadata": {},
   "outputs": [
    {
     "data": {
      "text/plain": [
       "False"
      ]
     },
     "execution_count": 351,
     "metadata": {},
     "output_type": "execute_result"
    }
   ],
   "source": [
    "raw_data.equals(bq)"
   ]
  },
  {
   "cell_type": "code",
   "execution_count": 353,
   "id": "05b96bfa",
   "metadata": {},
   "outputs": [
    {
     "data": {
      "text/plain": [
       "False"
      ]
     },
     "execution_count": 353,
     "metadata": {},
     "output_type": "execute_result"
    }
   ],
   "source": [
    "## this one ignores the index and just checks the values\n",
    "# BUT 'None and 'NaN' are not equal so its not great for checking nulls in numerical and string fields.\n",
    "import numpy as np\n",
    "\n",
    "np.array_equal(data.values,rr20_modes.values) #, equal_nan=True\n",
    "# np.allclose(data,rr20_modes, equal_nan=True, rtol=0, atol=0)"
   ]
  },
  {
   "cell_type": "markdown",
   "id": "2a1e9f97",
   "metadata": {},
   "source": [
    "**Now sort through upload dates and grab the latest one**"
   ]
  },
  {
   "cell_type": "markdown",
   "id": "c0f20a4c",
   "metadata": {},
   "source": [
    "TO DO: sift through Tehama in BQ, grab only the latest date set. Need RunID?"
   ]
  },
  {
   "cell_type": "code",
   "execution_count": 238,
   "id": "ff49b3cf",
   "metadata": {},
   "outputs": [
    {
     "data": {
      "text/plain": [
       "array(['2023-09-29T00:00:00.000000000'], dtype='datetime64[ns]')"
      ]
     },
     "execution_count": 238,
     "metadata": {},
     "output_type": "execute_result"
    }
   ],
   "source": [
    "upload_dates = data_tehama['date_uploaded'].unique()\n",
    "upload_dates"
   ]
  },
  {
   "cell_type": "code",
   "execution_count": 247,
   "id": "4e33367c",
   "metadata": {},
   "outputs": [
    {
     "data": {
      "text/plain": [
       "Timestamp('2023-10-01 00:00:00')"
      ]
     },
     "execution_count": 247,
     "metadata": {},
     "output_type": "execute_result"
    }
   ],
   "source": [
    "# upload_dates.sort()\n",
    "# upload_dates\n",
    "\n",
    "test = [pd.to_datetime(datetime.datetime(2023, 9, 21)), \n",
    "        pd.to_datetime(datetime.datetime(2023, 9, 20)), \n",
    "        pd.to_datetime(datetime.datetime(2023, 10, 1))]\n",
    "test.sort()\n",
    "max(test)"
   ]
  },
  {
   "cell_type": "code",
   "execution_count": 248,
   "id": "524f9dda",
   "metadata": {},
   "outputs": [
    {
     "data": {
      "text/html": [
       "<div>\n",
       "<style scoped>\n",
       "    .dataframe tbody tr th:only-of-type {\n",
       "        vertical-align: middle;\n",
       "    }\n",
       "\n",
       "    .dataframe tbody tr th {\n",
       "        vertical-align: top;\n",
       "    }\n",
       "\n",
       "    .dataframe thead th {\n",
       "        text-align: right;\n",
       "    }\n",
       "</style>\n",
       "<table border=\"1\" class=\"dataframe\">\n",
       "  <thead>\n",
       "    <tr style=\"text-align: right;\">\n",
       "      <th></th>\n",
       "      <th>Organization_Legal_Name</th>\n",
       "      <th>Common_Name_Acronym_DBA</th>\n",
       "      <th>Fiscal_Year</th>\n",
       "      <th>Number_of_Volunteer_Drivers</th>\n",
       "      <th>Number_of_Personal_Vehicles_in_Service</th>\n",
       "      <th>date_uploaded</th>\n",
       "    </tr>\n",
       "  </thead>\n",
       "  <tbody>\n",
       "    <tr>\n",
       "      <th>1</th>\n",
       "      <td>Tehama County Transit Agency</td>\n",
       "      <td>TRAX</td>\n",
       "      <td>2023</td>\n",
       "      <td>0</td>\n",
       "      <td>0</td>\n",
       "      <td>2023-09-29</td>\n",
       "    </tr>\n",
       "  </tbody>\n",
       "</table>\n",
       "</div>"
      ],
      "text/plain": [
       "        Organization_Legal_Name Common_Name_Acronym_DBA  Fiscal_Year  \\\n",
       "1  Tehama County Transit Agency                    TRAX         2023   \n",
       "\n",
       "   Number_of_Volunteer_Drivers  Number_of_Personal_Vehicles_in_Service  \\\n",
       "1                            0                                       0   \n",
       "\n",
       "  date_uploaded  \n",
       "1    2023-09-29  "
      ]
     },
     "execution_count": 248,
     "metadata": {},
     "output_type": "execute_result"
    }
   ],
   "source": [
    "data_tehama[data_tehama['date_uploaded']==max(upload_dates)]"
   ]
  },
  {
   "cell_type": "markdown",
   "id": "c7e88386",
   "metadata": {},
   "source": [
    "### Now we have the raw data already in BigQuery, for 1 subrecipient"
   ]
  },
  {
   "cell_type": "code",
   "execution_count": 122,
   "id": "846a2c12",
   "metadata": {},
   "outputs": [
    {
     "data": {
      "text/plain": [
       "['Basics.Contacts',\n",
       " 'Modes',\n",
       " 'Expenses By Mode',\n",
       " 'Revenues By Mode',\n",
       " 'Financials - 2',\n",
       " 'Service Data',\n",
       " 'Safety',\n",
       " 'Other Resources']"
      ]
     },
     "execution_count": 122,
     "metadata": {},
     "output_type": "execute_result"
    }
   ],
   "source": [
    "bucket_name = \"calitp-ntd-report-validation\"\n",
    "our_sheets"
   ]
  },
  {
   "cell_type": "code",
   "execution_count": 161,
   "id": "79806993",
   "metadata": {},
   "outputs": [
    {
     "name": "stdout",
     "output_type": "stream",
     "text": [
      "basics_contacts\n",
      "modes\n",
      "expenses_by_mode\n",
      "revenues_by_mode\n",
      "financials__2\n",
      "service_data\n",
      "safety\n",
      "other_resources\n"
     ]
    }
   ],
   "source": [
    "# Checking that we can automatically get matching table names from the worksheets:\n",
    "for sheet in our_sheets:\n",
    "    bq_sheet_ref = sheet.replace(\" \", \"_\").replace(\"/\", \"_\").replace(\".\", \"_\").replace(\"-\", \"\").replace('\\W+', '').lower()\n",
    "    print(bq_sheet_ref)\n"
   ]
  },
  {
   "cell_type": "markdown",
   "id": "3cc182ce",
   "metadata": {},
   "source": [
    "**Now adding in a logger.** Much better than using print statements to show progress during a job"
   ]
  },
  {
   "cell_type": "code",
   "execution_count": 430,
   "id": "5a7c1934",
   "metadata": {},
   "outputs": [],
   "source": [
    "def write_to_log(logfilename):\n",
    "    '''\n",
    "    Creates a logger object that outputs to a log file, to the filename specified,\n",
    "    and also streams to console.\n",
    "    '''\n",
    "    logger = logging.getLogger(__name__)\n",
    "    logger.setLevel(logging.INFO)\n",
    "    formatter = logging.Formatter(f'%(asctime)s:%(levelname)s: %(message)s',\n",
    "                                  datefmt='%y-%m-%d %H:%M:%S')\n",
    "    file_handler = logging.FileHandler(logfilename)\n",
    "    file_handler.setFormatter(formatter)\n",
    "    stream_handler = logging.StreamHandler()\n",
    "    stream_handler.setFormatter(formatter)\n",
    "\n",
    "    if not logger.hasHandlers():\n",
    "        logger.addHandler(file_handler)\n",
    "        logger.addHandler(stream_handler)\n",
    "\n",
    "    return logger"
   ]
  },
  {
   "cell_type": "code",
   "execution_count": 432,
   "id": "8d041120",
   "metadata": {},
   "outputs": [],
   "source": [
    "import logging \n",
    "\n",
    "# Set up the logger object\n",
    "logger = write_to_log('load_raw_data_output.log')"
   ]
  },
  {
   "cell_type": "code",
   "execution_count": 440,
   "id": "d3d5d3eb",
   "metadata": {},
   "outputs": [],
   "source": [
    "### FINAL FUNCTION - takes the above code snippets and rolls it up into one function.\n",
    "# If I put in org for an arg, will have to loop this through the orgs in the raw data. \n",
    "# But that keeps this function simpler so that's how it is written\n",
    "\n",
    "def compare_datasets(form_to_check, latest_file, logger, org):\n",
    "    form_to_sheets_dict = {\n",
    "        \"RR-20\": ['Basics.Contacts', 'Modes', 'Expenses By Mode', 'Revenues By Mode', 'Financials - 2', 'Service Data', 'Safety', 'Other Resources'],\n",
    "        \"A-30\": ['A-30 (Rural) RVI']\n",
    "    }\n",
    "    \n",
    "    excelsheets = form_to_sheets_dict.get(form_to_check) #get Excel sheetnames depending on form\n",
    "    bq_form_ref = form_to_check.replace(\"-\",\"\").lower() #this is something like \"rr20\" for the \"RR-20\" form_to_check\n",
    "    \n",
    "    # Load incoming data, worksheet by worksheet\n",
    "    for sheet in excelsheets:\n",
    "        bq_sheet_ref = sheet.replace(\" \", \"_\").replace(\"/\", \"_\").replace(\".\", \"_\").replace(\"-\", \"\").replace('\\W+', '').lower()\n",
    "        logger.info(f\"Checking data for {org} from {bq_file_ref}_{bq_sheet_ref}\")\n",
    "        incoming_df = load_excel_data(f\"gs://{bucket_name}/{latest_file}\",sheetname=sheet)\n",
    "        incoming_org_data = incoming_df[incoming_df['Organization Legal Name']== org]\n",
    "        \n",
    "        # Now we have only 1 org's data. Add in 'date_uploaded' column and make schema for BigQuery.\n",
    "        incoming_org_data['date_uploaded'] = pd.to_datetime(datetime.datetime.now().date())\n",
    "\n",
    "        # Make dict of colname: BQ type before uploading, or get some errors\n",
    "        # Remove spaces and slashes from col names - - they are illegal in BQ\n",
    "        incoming_org_data.columns = (incoming_org_data.columns.str.replace(' ', '_')\n",
    "                                    .str.replace('/', '_').str.replace('.', '_')\n",
    "                                     .str.replace('-', '')\n",
    "                                     .str.replace('#', 'num')\n",
    "                                    .str.replace('\\W+', '') #other things, just strip out\n",
    "                                    )\n",
    "        columns = incoming_org_data.columns.values\n",
    "        schema_dict = {}\n",
    "        for x in columns:\n",
    "            if incoming_org_data[x].dtypes == 'float64':\n",
    "                schema_dict[x] = \"FLOAT64\"\n",
    "            elif incoming_org_data[x].dtypes == 'int64':\n",
    "                schema_dict[x] = \"INT64\"\n",
    "            elif incoming_org_data[x].dtypes == 'object':\n",
    "                schema_dict[x] =  \"STRING\"\n",
    "            elif incoming_org_data[x].dtypes == 'datetime64[ns]':\n",
    "                schema_dict[x] =  \"DATETIME\"\n",
    "\n",
    "        schema = []\n",
    "        for k2, v2 in schema_dict.items():\n",
    "            schema.append(bigquery.SchemaField(k2, v2)) \n",
    "#         print(schema)\n",
    "        \n",
    "        # Check what data is already in BQ\n",
    "        existing_data_query = f\"\"\"SELECT * from blackcat_raw.{this_year}_{bq_file_ref}_{bq_sheet_ref}\n",
    "            WHERE Organization_Legal_Name = '{org}'\"\"\"\n",
    "        bq_data = client.query(existing_data_query).to_dataframe()\n",
    "        bq_data = bq_data.drop_duplicates()\n",
    "                \n",
    "        logger.info(f\"Found {len(bq_data)} rows in {bq_file_ref}_{bq_sheet_ref} for {org}\")\n",
    "        \n",
    "        table_id = f\"cal-itp-data-infra.blackcat_raw.{this_year}_{bq_form_ref}_{bq_sheet_ref}\"\n",
    "        table = bigquery.Table(table_id, schema=schema)\n",
    "                \n",
    "        if len(bq_data) > 0:\n",
    "            # Get the data with the latest upload date only - because this table is running storage for every report submittal.\n",
    "            upload_dates = bq_data['date_uploaded'].unique()\n",
    "            upload_dates.sort()\n",
    "            bq_data = bq_data[bq_data['date_uploaded']==max(upload_dates)]\n",
    "            bq_compare = bq_data.drop(['date_uploaded'], axis=1)\n",
    "\n",
    "            try:\n",
    "                logger.info(\"Checking for existing data\")\n",
    "                incoming_compare = incoming_org_data.drop(['date_uploaded'], axis=1)\n",
    "                pd.testing.assert_frame_equal(bq_compare.sort_values(by=bq_compare.columns.tolist())\n",
    "                                              .reset_index(drop=True), \n",
    "                                          incoming_compare.sort_values(by=incoming_compare.columns.tolist())\n",
    "                                              .reset_index(drop=True), \n",
    "                                          check_dtype=False)\n",
    "                logger.info(f\"{org} data in {bq_file_ref}_{bq_sheet_ref} is already in BigQuery, not writing.\")\n",
    "                pass\n",
    "            except Exception as ex:\n",
    "                logger.info(f\"Data tables are not the same, with {type(ex).__name__}: {ex}.\")\n",
    "             \n",
    "                job_service = client.load_table_from_dataframe(incoming_org_data, table_id)  # API request to load data\n",
    "                job_service.result()  # Wait for the job to complete.\n",
    "                table = client.get_table(table_id) \n",
    "        else:        \n",
    "            logger.info(f\"Did not find existing data in {table_id} for {org}, loading new raw data.\")\n",
    "            job_service = client.load_table_from_dataframe(incoming_org_data, table_id)  # API request to load data\n",
    "            job_service.result()  # Wait for the job to complete.\n",
    "            table = client.get_table(table_id)     \n",
    "        \n",
    "        logger.info(f\"Loaded {table.num_rows} rows and {len(table.schema)} columns to {table_id} for {org}\")\n",
    "\n",
    "        \n",
    "        \n",
    "        "
   ]
  },
  {
   "cell_type": "code",
   "execution_count": 429,
   "id": "f774b99d",
   "metadata": {},
   "outputs": [
    {
     "name": "stdout",
     "output_type": "stream",
     "text": [
      "Checking data for Tehama County Transit Agency from rr20_basics_contacts\n"
     ]
    },
    {
     "name": "stderr",
     "output_type": "stream",
     "text": [
      "/var/folders/3h/9n_2y6x178l41fsp4dg802f00000gn/T/ipykernel_14484/3404193009.py:21: SettingWithCopyWarning: \n",
      "A value is trying to be set on a copy of a slice from a DataFrame.\n",
      "Try using .loc[row_indexer,col_indexer] = value instead\n",
      "\n",
      "See the caveats in the documentation: https://pandas.pydata.org/pandas-docs/stable/user_guide/indexing.html#returning-a-view-versus-a-copy\n",
      "  incoming_org_data['date_uploaded'] = pd.to_datetime(datetime.datetime.now().date())\n",
      "/var/folders/3h/9n_2y6x178l41fsp4dg802f00000gn/T/ipykernel_14484/3404193009.py:25: FutureWarning: The default value of regex will change from True to False in a future version. In addition, single character regular expressions will *not* be treated as literal strings when regex=True.\n",
      "  incoming_org_data.columns = (incoming_org_data.columns.str.replace(' ', '_')\n",
      "/var/folders/3h/9n_2y6x178l41fsp4dg802f00000gn/T/ipykernel_14484/3404193009.py:25: FutureWarning: The default value of regex will change from True to False in a future version.\n",
      "  incoming_org_data.columns = (incoming_org_data.columns.str.replace(' ', '_')\n"
     ]
    },
    {
     "name": "stdout",
     "output_type": "stream",
     "text": [
      "Found 2 rows in rr20_basics_contacts for Tehama County Transit Agency\n",
      "Testing for equality.\n",
      "Tehama County Transit Agency data in rr20_basics_contacts is already in BigQuery, not writing.\n",
      "Loaded None rows and 15 columns to cal-itp-data-infra.blackcat_raw.2023_rr20_basics_contacts for Tehama County Transit Agency\n",
      "Checking data for Tehama County Transit Agency from rr20_modes\n"
     ]
    },
    {
     "name": "stderr",
     "output_type": "stream",
     "text": [
      "/var/folders/3h/9n_2y6x178l41fsp4dg802f00000gn/T/ipykernel_14484/3404193009.py:21: SettingWithCopyWarning: \n",
      "A value is trying to be set on a copy of a slice from a DataFrame.\n",
      "Try using .loc[row_indexer,col_indexer] = value instead\n",
      "\n",
      "See the caveats in the documentation: https://pandas.pydata.org/pandas-docs/stable/user_guide/indexing.html#returning-a-view-versus-a-copy\n",
      "  incoming_org_data['date_uploaded'] = pd.to_datetime(datetime.datetime.now().date())\n",
      "/var/folders/3h/9n_2y6x178l41fsp4dg802f00000gn/T/ipykernel_14484/3404193009.py:25: FutureWarning: The default value of regex will change from True to False in a future version. In addition, single character regular expressions will *not* be treated as literal strings when regex=True.\n",
      "  incoming_org_data.columns = (incoming_org_data.columns.str.replace(' ', '_')\n",
      "/var/folders/3h/9n_2y6x178l41fsp4dg802f00000gn/T/ipykernel_14484/3404193009.py:25: FutureWarning: The default value of regex will change from True to False in a future version.\n",
      "  incoming_org_data.columns = (incoming_org_data.columns.str.replace(' ', '_')\n"
     ]
    },
    {
     "name": "stdout",
     "output_type": "stream",
     "text": [
      "Found 4 rows in rr20_modes for Tehama County Transit Agency\n",
      "Testing for equality.\n",
      "Tehama County Transit Agency data in rr20_modes is already in BigQuery, not writing.\n",
      "Loaded None rows and 9 columns to cal-itp-data-infra.blackcat_raw.2023_rr20_modes for Tehama County Transit Agency\n",
      "Checking data for Tehama County Transit Agency from rr20_expenses_by_mode\n"
     ]
    },
    {
     "name": "stderr",
     "output_type": "stream",
     "text": [
      "/var/folders/3h/9n_2y6x178l41fsp4dg802f00000gn/T/ipykernel_14484/3404193009.py:21: SettingWithCopyWarning: \n",
      "A value is trying to be set on a copy of a slice from a DataFrame.\n",
      "Try using .loc[row_indexer,col_indexer] = value instead\n",
      "\n",
      "See the caveats in the documentation: https://pandas.pydata.org/pandas-docs/stable/user_guide/indexing.html#returning-a-view-versus-a-copy\n",
      "  incoming_org_data['date_uploaded'] = pd.to_datetime(datetime.datetime.now().date())\n",
      "/var/folders/3h/9n_2y6x178l41fsp4dg802f00000gn/T/ipykernel_14484/3404193009.py:25: FutureWarning: The default value of regex will change from True to False in a future version. In addition, single character regular expressions will *not* be treated as literal strings when regex=True.\n",
      "  incoming_org_data.columns = (incoming_org_data.columns.str.replace(' ', '_')\n",
      "/var/folders/3h/9n_2y6x178l41fsp4dg802f00000gn/T/ipykernel_14484/3404193009.py:25: FutureWarning: The default value of regex will change from True to False in a future version.\n",
      "  incoming_org_data.columns = (incoming_org_data.columns.str.replace(' ', '_')\n"
     ]
    },
    {
     "name": "stdout",
     "output_type": "stream",
     "text": [
      "Found 8 rows in rr20_expenses_by_mode for Tehama County Transit Agency\n",
      "Testing for equality.\n",
      "Tehama County Transit Agency data in rr20_expenses_by_mode is already in BigQuery, not writing.\n",
      "Loaded None rows and 7 columns to cal-itp-data-infra.blackcat_raw.2023_rr20_expenses_by_mode for Tehama County Transit Agency\n",
      "Checking data for Tehama County Transit Agency from rr20_revenues_by_mode\n"
     ]
    },
    {
     "name": "stderr",
     "output_type": "stream",
     "text": [
      "/var/folders/3h/9n_2y6x178l41fsp4dg802f00000gn/T/ipykernel_14484/3404193009.py:21: SettingWithCopyWarning: \n",
      "A value is trying to be set on a copy of a slice from a DataFrame.\n",
      "Try using .loc[row_indexer,col_indexer] = value instead\n",
      "\n",
      "See the caveats in the documentation: https://pandas.pydata.org/pandas-docs/stable/user_guide/indexing.html#returning-a-view-versus-a-copy\n",
      "  incoming_org_data['date_uploaded'] = pd.to_datetime(datetime.datetime.now().date())\n",
      "/var/folders/3h/9n_2y6x178l41fsp4dg802f00000gn/T/ipykernel_14484/3404193009.py:25: FutureWarning: The default value of regex will change from True to False in a future version. In addition, single character regular expressions will *not* be treated as literal strings when regex=True.\n",
      "  incoming_org_data.columns = (incoming_org_data.columns.str.replace(' ', '_')\n",
      "/var/folders/3h/9n_2y6x178l41fsp4dg802f00000gn/T/ipykernel_14484/3404193009.py:25: FutureWarning: The default value of regex will change from True to False in a future version.\n",
      "  incoming_org_data.columns = (incoming_org_data.columns.str.replace(' ', '_')\n"
     ]
    },
    {
     "name": "stdout",
     "output_type": "stream",
     "text": [
      "Found 16 rows in rr20_revenues_by_mode for Tehama County Transit Agency\n",
      "Testing for equality.\n",
      "Tehama County Transit Agency data in rr20_revenues_by_mode is already in BigQuery, not writing.\n",
      "Loaded None rows and 8 columns to cal-itp-data-infra.blackcat_raw.2023_rr20_revenues_by_mode for Tehama County Transit Agency\n",
      "Checking data for Tehama County Transit Agency from rr20_financials__2\n"
     ]
    },
    {
     "name": "stderr",
     "output_type": "stream",
     "text": [
      "/var/folders/3h/9n_2y6x178l41fsp4dg802f00000gn/T/ipykernel_14484/3404193009.py:21: SettingWithCopyWarning: \n",
      "A value is trying to be set on a copy of a slice from a DataFrame.\n",
      "Try using .loc[row_indexer,col_indexer] = value instead\n",
      "\n",
      "See the caveats in the documentation: https://pandas.pydata.org/pandas-docs/stable/user_guide/indexing.html#returning-a-view-versus-a-copy\n",
      "  incoming_org_data['date_uploaded'] = pd.to_datetime(datetime.datetime.now().date())\n",
      "/var/folders/3h/9n_2y6x178l41fsp4dg802f00000gn/T/ipykernel_14484/3404193009.py:25: FutureWarning: The default value of regex will change from True to False in a future version. In addition, single character regular expressions will *not* be treated as literal strings when regex=True.\n",
      "  incoming_org_data.columns = (incoming_org_data.columns.str.replace(' ', '_')\n",
      "/var/folders/3h/9n_2y6x178l41fsp4dg802f00000gn/T/ipykernel_14484/3404193009.py:25: FutureWarning: The default value of regex will change from True to False in a future version.\n",
      "  incoming_org_data.columns = (incoming_org_data.columns.str.replace(' ', '_')\n"
     ]
    },
    {
     "name": "stdout",
     "output_type": "stream",
     "text": [
      "Found 4 rows in rr20_financials__2 for Tehama County Transit Agency\n",
      "Testing for equality.\n",
      "Tehama County Transit Agency data in rr20_financials__2 is already in BigQuery, not writing.\n",
      "Loaded None rows and 46 columns to cal-itp-data-infra.blackcat_raw.2023_rr20_financials__2 for Tehama County Transit Agency\n",
      "Checking data for Tehama County Transit Agency from rr20_service_data\n"
     ]
    },
    {
     "name": "stderr",
     "output_type": "stream",
     "text": [
      "/var/folders/3h/9n_2y6x178l41fsp4dg802f00000gn/T/ipykernel_14484/3404193009.py:21: SettingWithCopyWarning: \n",
      "A value is trying to be set on a copy of a slice from a DataFrame.\n",
      "Try using .loc[row_indexer,col_indexer] = value instead\n",
      "\n",
      "See the caveats in the documentation: https://pandas.pydata.org/pandas-docs/stable/user_guide/indexing.html#returning-a-view-versus-a-copy\n",
      "  incoming_org_data['date_uploaded'] = pd.to_datetime(datetime.datetime.now().date())\n",
      "/var/folders/3h/9n_2y6x178l41fsp4dg802f00000gn/T/ipykernel_14484/3404193009.py:25: FutureWarning: The default value of regex will change from True to False in a future version. In addition, single character regular expressions will *not* be treated as literal strings when regex=True.\n",
      "  incoming_org_data.columns = (incoming_org_data.columns.str.replace(' ', '_')\n",
      "/var/folders/3h/9n_2y6x178l41fsp4dg802f00000gn/T/ipykernel_14484/3404193009.py:25: FutureWarning: The default value of regex will change from True to False in a future version.\n",
      "  incoming_org_data.columns = (incoming_org_data.columns.str.replace(' ', '_')\n"
     ]
    },
    {
     "name": "stdout",
     "output_type": "stream",
     "text": [
      "Found 4 rows in rr20_service_data for Tehama County Transit Agency\n",
      "Testing for equality.\n",
      "Tehama County Transit Agency data in rr20_service_data is already in BigQuery, not writing.\n",
      "Loaded None rows and 10 columns to cal-itp-data-infra.blackcat_raw.2023_rr20_service_data for Tehama County Transit Agency\n",
      "Checking data for Tehama County Transit Agency from rr20_safety\n"
     ]
    },
    {
     "name": "stderr",
     "output_type": "stream",
     "text": [
      "/var/folders/3h/9n_2y6x178l41fsp4dg802f00000gn/T/ipykernel_14484/3404193009.py:25: FutureWarning: The default value of regex will change from True to False in a future version. In addition, single character regular expressions will *not* be treated as literal strings when regex=True.\n",
      "  incoming_org_data.columns = (incoming_org_data.columns.str.replace(' ', '_')\n",
      "/var/folders/3h/9n_2y6x178l41fsp4dg802f00000gn/T/ipykernel_14484/3404193009.py:25: FutureWarning: The default value of regex will change from True to False in a future version.\n",
      "  incoming_org_data.columns = (incoming_org_data.columns.str.replace(' ', '_')\n"
     ]
    },
    {
     "name": "stdout",
     "output_type": "stream",
     "text": [
      "Found 0 rows in rr20_safety for Tehama County Transit Agency\n",
      "Did not find existing data in cal-itp-data-infra.blackcat_raw.2023_rr20_safety for Tehama County Transit Agency, loading new raw data.\n",
      "Loaded 1 rows and 7 columns to cal-itp-data-infra.blackcat_raw.2023_rr20_safety for Tehama County Transit Agency\n",
      "Checking data for Tehama County Transit Agency from rr20_other_resources\n"
     ]
    },
    {
     "name": "stderr",
     "output_type": "stream",
     "text": [
      "/var/folders/3h/9n_2y6x178l41fsp4dg802f00000gn/T/ipykernel_14484/3404193009.py:21: SettingWithCopyWarning: \n",
      "A value is trying to be set on a copy of a slice from a DataFrame.\n",
      "Try using .loc[row_indexer,col_indexer] = value instead\n",
      "\n",
      "See the caveats in the documentation: https://pandas.pydata.org/pandas-docs/stable/user_guide/indexing.html#returning-a-view-versus-a-copy\n",
      "  incoming_org_data['date_uploaded'] = pd.to_datetime(datetime.datetime.now().date())\n",
      "/var/folders/3h/9n_2y6x178l41fsp4dg802f00000gn/T/ipykernel_14484/3404193009.py:25: FutureWarning: The default value of regex will change from True to False in a future version. In addition, single character regular expressions will *not* be treated as literal strings when regex=True.\n",
      "  incoming_org_data.columns = (incoming_org_data.columns.str.replace(' ', '_')\n",
      "/var/folders/3h/9n_2y6x178l41fsp4dg802f00000gn/T/ipykernel_14484/3404193009.py:25: FutureWarning: The default value of regex will change from True to False in a future version.\n",
      "  incoming_org_data.columns = (incoming_org_data.columns.str.replace(' ', '_')\n"
     ]
    },
    {
     "name": "stdout",
     "output_type": "stream",
     "text": [
      "Found 2 rows in rr20_other_resources for Tehama County Transit Agency\n",
      "Testing for equality.\n",
      "Tehama County Transit Agency data in rr20_other_resources is already in BigQuery, not writing.\n",
      "Loaded None rows and 6 columns to cal-itp-data-infra.blackcat_raw.2023_rr20_other_resources for Tehama County Transit Agency\n"
     ]
    }
   ],
   "source": [
    "# First I ran only Tehama's data, if the function is working as it should, nothing should be written to BigQuery\n",
    "# since it's already there.\n",
    "compare_datasets(\"RR-20\", latest_file, 'Tehama County Transit Agency')"
   ]
  },
  {
   "cell_type": "code",
   "execution_count": 439,
   "id": "3effd50e",
   "metadata": {},
   "outputs": [
    {
     "name": "stdout",
     "output_type": "stream",
     "text": [
      "Checking data for City of Arvin from rr20_basics_contacts\n"
     ]
    },
    {
     "name": "stderr",
     "output_type": "stream",
     "text": [
      "/var/folders/3h/9n_2y6x178l41fsp4dg802f00000gn/T/ipykernel_14484/2873406759.py:21: SettingWithCopyWarning: \n",
      "A value is trying to be set on a copy of a slice from a DataFrame.\n",
      "Try using .loc[row_indexer,col_indexer] = value instead\n",
      "\n",
      "See the caveats in the documentation: https://pandas.pydata.org/pandas-docs/stable/user_guide/indexing.html#returning-a-view-versus-a-copy\n",
      "  incoming_org_data['date_uploaded'] = pd.to_datetime(datetime.datetime.now().date())\n",
      "/var/folders/3h/9n_2y6x178l41fsp4dg802f00000gn/T/ipykernel_14484/2873406759.py:25: FutureWarning: The default value of regex will change from True to False in a future version. In addition, single character regular expressions will *not* be treated as literal strings when regex=True.\n",
      "  incoming_org_data.columns = (incoming_org_data.columns.str.replace(' ', '_')\n",
      "/var/folders/3h/9n_2y6x178l41fsp4dg802f00000gn/T/ipykernel_14484/2873406759.py:25: FutureWarning: The default value of regex will change from True to False in a future version.\n",
      "  incoming_org_data.columns = (incoming_org_data.columns.str.replace(' ', '_')\n",
      "23-10-02 14:34:08:INFO: Found 0 rows in rr20_basics_contacts for City of Arvin\n",
      "23-10-02 14:34:08:INFO: Did not find existing data in cal-itp-data-infra.blackcat_raw.2023_rr20_basics_contacts for City of Arvin, loading new raw data.\n",
      "23-10-02 14:34:12:INFO: Loaded 2 rows and 15 columns to cal-itp-data-infra.blackcat_raw.2023_rr20_basics_contacts for City of Arvin\n"
     ]
    },
    {
     "name": "stdout",
     "output_type": "stream",
     "text": [
      "Checking data for City of Arvin from rr20_modes\n"
     ]
    },
    {
     "name": "stderr",
     "output_type": "stream",
     "text": [
      "/var/folders/3h/9n_2y6x178l41fsp4dg802f00000gn/T/ipykernel_14484/2873406759.py:21: SettingWithCopyWarning: \n",
      "A value is trying to be set on a copy of a slice from a DataFrame.\n",
      "Try using .loc[row_indexer,col_indexer] = value instead\n",
      "\n",
      "See the caveats in the documentation: https://pandas.pydata.org/pandas-docs/stable/user_guide/indexing.html#returning-a-view-versus-a-copy\n",
      "  incoming_org_data['date_uploaded'] = pd.to_datetime(datetime.datetime.now().date())\n",
      "/var/folders/3h/9n_2y6x178l41fsp4dg802f00000gn/T/ipykernel_14484/2873406759.py:25: FutureWarning: The default value of regex will change from True to False in a future version. In addition, single character regular expressions will *not* be treated as literal strings when regex=True.\n",
      "  incoming_org_data.columns = (incoming_org_data.columns.str.replace(' ', '_')\n",
      "/var/folders/3h/9n_2y6x178l41fsp4dg802f00000gn/T/ipykernel_14484/2873406759.py:25: FutureWarning: The default value of regex will change from True to False in a future version.\n",
      "  incoming_org_data.columns = (incoming_org_data.columns.str.replace(' ', '_')\n",
      "23-10-02 14:34:14:INFO: Found 0 rows in rr20_modes for City of Arvin\n",
      "23-10-02 14:34:14:INFO: Did not find existing data in cal-itp-data-infra.blackcat_raw.2023_rr20_modes for City of Arvin, loading new raw data.\n",
      "23-10-02 14:34:17:INFO: Loaded 4 rows and 9 columns to cal-itp-data-infra.blackcat_raw.2023_rr20_modes for City of Arvin\n"
     ]
    },
    {
     "name": "stdout",
     "output_type": "stream",
     "text": [
      "Checking data for City of Arvin from rr20_expenses_by_mode\n"
     ]
    },
    {
     "name": "stderr",
     "output_type": "stream",
     "text": [
      "/var/folders/3h/9n_2y6x178l41fsp4dg802f00000gn/T/ipykernel_14484/2873406759.py:21: SettingWithCopyWarning: \n",
      "A value is trying to be set on a copy of a slice from a DataFrame.\n",
      "Try using .loc[row_indexer,col_indexer] = value instead\n",
      "\n",
      "See the caveats in the documentation: https://pandas.pydata.org/pandas-docs/stable/user_guide/indexing.html#returning-a-view-versus-a-copy\n",
      "  incoming_org_data['date_uploaded'] = pd.to_datetime(datetime.datetime.now().date())\n",
      "/var/folders/3h/9n_2y6x178l41fsp4dg802f00000gn/T/ipykernel_14484/2873406759.py:25: FutureWarning: The default value of regex will change from True to False in a future version. In addition, single character regular expressions will *not* be treated as literal strings when regex=True.\n",
      "  incoming_org_data.columns = (incoming_org_data.columns.str.replace(' ', '_')\n",
      "/var/folders/3h/9n_2y6x178l41fsp4dg802f00000gn/T/ipykernel_14484/2873406759.py:25: FutureWarning: The default value of regex will change from True to False in a future version.\n",
      "  incoming_org_data.columns = (incoming_org_data.columns.str.replace(' ', '_')\n",
      "23-10-02 14:34:19:INFO: Found 0 rows in rr20_expenses_by_mode for City of Arvin\n",
      "23-10-02 14:34:19:INFO: Did not find existing data in cal-itp-data-infra.blackcat_raw.2023_rr20_expenses_by_mode for City of Arvin, loading new raw data.\n",
      "23-10-02 14:34:21:INFO: Loaded 8 rows and 7 columns to cal-itp-data-infra.blackcat_raw.2023_rr20_expenses_by_mode for City of Arvin\n"
     ]
    },
    {
     "name": "stdout",
     "output_type": "stream",
     "text": [
      "Checking data for City of Arvin from rr20_revenues_by_mode\n"
     ]
    },
    {
     "name": "stderr",
     "output_type": "stream",
     "text": [
      "/var/folders/3h/9n_2y6x178l41fsp4dg802f00000gn/T/ipykernel_14484/2873406759.py:21: SettingWithCopyWarning: \n",
      "A value is trying to be set on a copy of a slice from a DataFrame.\n",
      "Try using .loc[row_indexer,col_indexer] = value instead\n",
      "\n",
      "See the caveats in the documentation: https://pandas.pydata.org/pandas-docs/stable/user_guide/indexing.html#returning-a-view-versus-a-copy\n",
      "  incoming_org_data['date_uploaded'] = pd.to_datetime(datetime.datetime.now().date())\n",
      "/var/folders/3h/9n_2y6x178l41fsp4dg802f00000gn/T/ipykernel_14484/2873406759.py:25: FutureWarning: The default value of regex will change from True to False in a future version. In addition, single character regular expressions will *not* be treated as literal strings when regex=True.\n",
      "  incoming_org_data.columns = (incoming_org_data.columns.str.replace(' ', '_')\n",
      "/var/folders/3h/9n_2y6x178l41fsp4dg802f00000gn/T/ipykernel_14484/2873406759.py:25: FutureWarning: The default value of regex will change from True to False in a future version.\n",
      "  incoming_org_data.columns = (incoming_org_data.columns.str.replace(' ', '_')\n",
      "23-10-02 14:34:24:INFO: Found 0 rows in rr20_revenues_by_mode for City of Arvin\n",
      "23-10-02 14:34:24:INFO: Did not find existing data in cal-itp-data-infra.blackcat_raw.2023_rr20_revenues_by_mode for City of Arvin, loading new raw data.\n",
      "23-10-02 14:34:27:INFO: Loaded 16 rows and 8 columns to cal-itp-data-infra.blackcat_raw.2023_rr20_revenues_by_mode for City of Arvin\n"
     ]
    },
    {
     "name": "stdout",
     "output_type": "stream",
     "text": [
      "Checking data for City of Arvin from rr20_financials__2\n"
     ]
    },
    {
     "name": "stderr",
     "output_type": "stream",
     "text": [
      "/var/folders/3h/9n_2y6x178l41fsp4dg802f00000gn/T/ipykernel_14484/2873406759.py:21: SettingWithCopyWarning: \n",
      "A value is trying to be set on a copy of a slice from a DataFrame.\n",
      "Try using .loc[row_indexer,col_indexer] = value instead\n",
      "\n",
      "See the caveats in the documentation: https://pandas.pydata.org/pandas-docs/stable/user_guide/indexing.html#returning-a-view-versus-a-copy\n",
      "  incoming_org_data['date_uploaded'] = pd.to_datetime(datetime.datetime.now().date())\n",
      "/var/folders/3h/9n_2y6x178l41fsp4dg802f00000gn/T/ipykernel_14484/2873406759.py:25: FutureWarning: The default value of regex will change from True to False in a future version. In addition, single character regular expressions will *not* be treated as literal strings when regex=True.\n",
      "  incoming_org_data.columns = (incoming_org_data.columns.str.replace(' ', '_')\n",
      "/var/folders/3h/9n_2y6x178l41fsp4dg802f00000gn/T/ipykernel_14484/2873406759.py:25: FutureWarning: The default value of regex will change from True to False in a future version.\n",
      "  incoming_org_data.columns = (incoming_org_data.columns.str.replace(' ', '_')\n",
      "23-10-02 14:34:29:INFO: Found 0 rows in rr20_financials__2 for City of Arvin\n",
      "23-10-02 14:34:29:INFO: Did not find existing data in cal-itp-data-infra.blackcat_raw.2023_rr20_financials__2 for City of Arvin, loading new raw data.\n",
      "23-10-02 14:34:32:INFO: Loaded 4 rows and 46 columns to cal-itp-data-infra.blackcat_raw.2023_rr20_financials__2 for City of Arvin\n"
     ]
    },
    {
     "name": "stdout",
     "output_type": "stream",
     "text": [
      "Checking data for City of Arvin from rr20_service_data\n"
     ]
    },
    {
     "name": "stderr",
     "output_type": "stream",
     "text": [
      "/var/folders/3h/9n_2y6x178l41fsp4dg802f00000gn/T/ipykernel_14484/2873406759.py:21: SettingWithCopyWarning: \n",
      "A value is trying to be set on a copy of a slice from a DataFrame.\n",
      "Try using .loc[row_indexer,col_indexer] = value instead\n",
      "\n",
      "See the caveats in the documentation: https://pandas.pydata.org/pandas-docs/stable/user_guide/indexing.html#returning-a-view-versus-a-copy\n",
      "  incoming_org_data['date_uploaded'] = pd.to_datetime(datetime.datetime.now().date())\n",
      "/var/folders/3h/9n_2y6x178l41fsp4dg802f00000gn/T/ipykernel_14484/2873406759.py:25: FutureWarning: The default value of regex will change from True to False in a future version. In addition, single character regular expressions will *not* be treated as literal strings when regex=True.\n",
      "  incoming_org_data.columns = (incoming_org_data.columns.str.replace(' ', '_')\n",
      "/var/folders/3h/9n_2y6x178l41fsp4dg802f00000gn/T/ipykernel_14484/2873406759.py:25: FutureWarning: The default value of regex will change from True to False in a future version.\n",
      "  incoming_org_data.columns = (incoming_org_data.columns.str.replace(' ', '_')\n",
      "23-10-02 14:34:34:INFO: Found 0 rows in rr20_service_data for City of Arvin\n",
      "23-10-02 14:34:34:INFO: Did not find existing data in cal-itp-data-infra.blackcat_raw.2023_rr20_service_data for City of Arvin, loading new raw data.\n",
      "23-10-02 14:34:37:INFO: Loaded 4 rows and 10 columns to cal-itp-data-infra.blackcat_raw.2023_rr20_service_data for City of Arvin\n"
     ]
    },
    {
     "name": "stdout",
     "output_type": "stream",
     "text": [
      "Checking data for City of Arvin from rr20_safety\n"
     ]
    },
    {
     "name": "stderr",
     "output_type": "stream",
     "text": [
      "/var/folders/3h/9n_2y6x178l41fsp4dg802f00000gn/T/ipykernel_14484/2873406759.py:25: FutureWarning: The default value of regex will change from True to False in a future version. In addition, single character regular expressions will *not* be treated as literal strings when regex=True.\n",
      "  incoming_org_data.columns = (incoming_org_data.columns.str.replace(' ', '_')\n",
      "/var/folders/3h/9n_2y6x178l41fsp4dg802f00000gn/T/ipykernel_14484/2873406759.py:25: FutureWarning: The default value of regex will change from True to False in a future version.\n",
      "  incoming_org_data.columns = (incoming_org_data.columns.str.replace(' ', '_')\n",
      "23-10-02 14:34:39:INFO: Found 0 rows in rr20_safety for City of Arvin\n",
      "23-10-02 14:34:39:INFO: Did not find existing data in cal-itp-data-infra.blackcat_raw.2023_rr20_safety for City of Arvin, loading new raw data.\n",
      "23-10-02 14:34:46:INFO: Loaded 0 rows and 7 columns to cal-itp-data-infra.blackcat_raw.2023_rr20_safety for City of Arvin\n"
     ]
    },
    {
     "name": "stdout",
     "output_type": "stream",
     "text": [
      "Checking data for City of Arvin from rr20_other_resources\n"
     ]
    },
    {
     "name": "stderr",
     "output_type": "stream",
     "text": [
      "/var/folders/3h/9n_2y6x178l41fsp4dg802f00000gn/T/ipykernel_14484/2873406759.py:21: SettingWithCopyWarning: \n",
      "A value is trying to be set on a copy of a slice from a DataFrame.\n",
      "Try using .loc[row_indexer,col_indexer] = value instead\n",
      "\n",
      "See the caveats in the documentation: https://pandas.pydata.org/pandas-docs/stable/user_guide/indexing.html#returning-a-view-versus-a-copy\n",
      "  incoming_org_data['date_uploaded'] = pd.to_datetime(datetime.datetime.now().date())\n",
      "/var/folders/3h/9n_2y6x178l41fsp4dg802f00000gn/T/ipykernel_14484/2873406759.py:25: FutureWarning: The default value of regex will change from True to False in a future version. In addition, single character regular expressions will *not* be treated as literal strings when regex=True.\n",
      "  incoming_org_data.columns = (incoming_org_data.columns.str.replace(' ', '_')\n",
      "/var/folders/3h/9n_2y6x178l41fsp4dg802f00000gn/T/ipykernel_14484/2873406759.py:25: FutureWarning: The default value of regex will change from True to False in a future version.\n",
      "  incoming_org_data.columns = (incoming_org_data.columns.str.replace(' ', '_')\n",
      "23-10-02 14:34:48:INFO: Found 0 rows in rr20_other_resources for City of Arvin\n",
      "23-10-02 14:34:48:INFO: Did not find existing data in cal-itp-data-infra.blackcat_raw.2023_rr20_other_resources for City of Arvin, loading new raw data.\n",
      "23-10-02 14:34:51:INFO: Loaded 2 rows and 6 columns to cal-itp-data-infra.blackcat_raw.2023_rr20_other_resources for City of Arvin\n"
     ]
    },
    {
     "name": "stdout",
     "output_type": "stream",
     "text": [
      "Checking data for City of Corcoran - Corcoran Area Transit from rr20_basics_contacts\n"
     ]
    },
    {
     "name": "stderr",
     "output_type": "stream",
     "text": [
      "/var/folders/3h/9n_2y6x178l41fsp4dg802f00000gn/T/ipykernel_14484/2873406759.py:21: SettingWithCopyWarning: \n",
      "A value is trying to be set on a copy of a slice from a DataFrame.\n",
      "Try using .loc[row_indexer,col_indexer] = value instead\n",
      "\n",
      "See the caveats in the documentation: https://pandas.pydata.org/pandas-docs/stable/user_guide/indexing.html#returning-a-view-versus-a-copy\n",
      "  incoming_org_data['date_uploaded'] = pd.to_datetime(datetime.datetime.now().date())\n",
      "/var/folders/3h/9n_2y6x178l41fsp4dg802f00000gn/T/ipykernel_14484/2873406759.py:25: FutureWarning: The default value of regex will change from True to False in a future version. In addition, single character regular expressions will *not* be treated as literal strings when regex=True.\n",
      "  incoming_org_data.columns = (incoming_org_data.columns.str.replace(' ', '_')\n",
      "/var/folders/3h/9n_2y6x178l41fsp4dg802f00000gn/T/ipykernel_14484/2873406759.py:25: FutureWarning: The default value of regex will change from True to False in a future version.\n",
      "  incoming_org_data.columns = (incoming_org_data.columns.str.replace(' ', '_')\n",
      "23-10-02 14:34:53:INFO: Found 0 rows in rr20_basics_contacts for City of Corcoran - Corcoran Area Transit\n",
      "23-10-02 14:34:53:INFO: Did not find existing data in cal-itp-data-infra.blackcat_raw.2023_rr20_basics_contacts for City of Corcoran - Corcoran Area Transit, loading new raw data.\n",
      "23-10-02 14:34:56:INFO: Loaded 3 rows and 15 columns to cal-itp-data-infra.blackcat_raw.2023_rr20_basics_contacts for City of Corcoran - Corcoran Area Transit\n"
     ]
    },
    {
     "name": "stdout",
     "output_type": "stream",
     "text": [
      "Checking data for City of Corcoran - Corcoran Area Transit from rr20_modes\n"
     ]
    },
    {
     "name": "stderr",
     "output_type": "stream",
     "text": [
      "/var/folders/3h/9n_2y6x178l41fsp4dg802f00000gn/T/ipykernel_14484/2873406759.py:21: SettingWithCopyWarning: \n",
      "A value is trying to be set on a copy of a slice from a DataFrame.\n",
      "Try using .loc[row_indexer,col_indexer] = value instead\n",
      "\n",
      "See the caveats in the documentation: https://pandas.pydata.org/pandas-docs/stable/user_guide/indexing.html#returning-a-view-versus-a-copy\n",
      "  incoming_org_data['date_uploaded'] = pd.to_datetime(datetime.datetime.now().date())\n",
      "/var/folders/3h/9n_2y6x178l41fsp4dg802f00000gn/T/ipykernel_14484/2873406759.py:25: FutureWarning: The default value of regex will change from True to False in a future version. In addition, single character regular expressions will *not* be treated as literal strings when regex=True.\n",
      "  incoming_org_data.columns = (incoming_org_data.columns.str.replace(' ', '_')\n",
      "/var/folders/3h/9n_2y6x178l41fsp4dg802f00000gn/T/ipykernel_14484/2873406759.py:25: FutureWarning: The default value of regex will change from True to False in a future version.\n",
      "  incoming_org_data.columns = (incoming_org_data.columns.str.replace(' ', '_')\n",
      "23-10-02 14:34:58:INFO: Found 0 rows in rr20_modes for City of Corcoran - Corcoran Area Transit\n",
      "23-10-02 14:34:58:INFO: Did not find existing data in cal-itp-data-infra.blackcat_raw.2023_rr20_modes for City of Corcoran - Corcoran Area Transit, loading new raw data.\n",
      "23-10-02 14:35:01:INFO: Loaded 5 rows and 9 columns to cal-itp-data-infra.blackcat_raw.2023_rr20_modes for City of Corcoran - Corcoran Area Transit\n"
     ]
    },
    {
     "name": "stdout",
     "output_type": "stream",
     "text": [
      "Checking data for City of Corcoran - Corcoran Area Transit from rr20_expenses_by_mode\n"
     ]
    },
    {
     "name": "stderr",
     "output_type": "stream",
     "text": [
      "/var/folders/3h/9n_2y6x178l41fsp4dg802f00000gn/T/ipykernel_14484/2873406759.py:21: SettingWithCopyWarning: \n",
      "A value is trying to be set on a copy of a slice from a DataFrame.\n",
      "Try using .loc[row_indexer,col_indexer] = value instead\n",
      "\n",
      "See the caveats in the documentation: https://pandas.pydata.org/pandas-docs/stable/user_guide/indexing.html#returning-a-view-versus-a-copy\n",
      "  incoming_org_data['date_uploaded'] = pd.to_datetime(datetime.datetime.now().date())\n",
      "/var/folders/3h/9n_2y6x178l41fsp4dg802f00000gn/T/ipykernel_14484/2873406759.py:25: FutureWarning: The default value of regex will change from True to False in a future version. In addition, single character regular expressions will *not* be treated as literal strings when regex=True.\n",
      "  incoming_org_data.columns = (incoming_org_data.columns.str.replace(' ', '_')\n",
      "/var/folders/3h/9n_2y6x178l41fsp4dg802f00000gn/T/ipykernel_14484/2873406759.py:25: FutureWarning: The default value of regex will change from True to False in a future version.\n",
      "  incoming_org_data.columns = (incoming_org_data.columns.str.replace(' ', '_')\n",
      "23-10-02 14:35:03:INFO: Found 0 rows in rr20_expenses_by_mode for City of Corcoran - Corcoran Area Transit\n",
      "23-10-02 14:35:03:INFO: Did not find existing data in cal-itp-data-infra.blackcat_raw.2023_rr20_expenses_by_mode for City of Corcoran - Corcoran Area Transit, loading new raw data.\n",
      "23-10-02 14:35:06:INFO: Loaded 10 rows and 7 columns to cal-itp-data-infra.blackcat_raw.2023_rr20_expenses_by_mode for City of Corcoran - Corcoran Area Transit\n"
     ]
    },
    {
     "name": "stdout",
     "output_type": "stream",
     "text": [
      "Checking data for City of Corcoran - Corcoran Area Transit from rr20_revenues_by_mode\n"
     ]
    },
    {
     "name": "stderr",
     "output_type": "stream",
     "text": [
      "/var/folders/3h/9n_2y6x178l41fsp4dg802f00000gn/T/ipykernel_14484/2873406759.py:21: SettingWithCopyWarning: \n",
      "A value is trying to be set on a copy of a slice from a DataFrame.\n",
      "Try using .loc[row_indexer,col_indexer] = value instead\n",
      "\n",
      "See the caveats in the documentation: https://pandas.pydata.org/pandas-docs/stable/user_guide/indexing.html#returning-a-view-versus-a-copy\n",
      "  incoming_org_data['date_uploaded'] = pd.to_datetime(datetime.datetime.now().date())\n",
      "/var/folders/3h/9n_2y6x178l41fsp4dg802f00000gn/T/ipykernel_14484/2873406759.py:25: FutureWarning: The default value of regex will change from True to False in a future version. In addition, single character regular expressions will *not* be treated as literal strings when regex=True.\n",
      "  incoming_org_data.columns = (incoming_org_data.columns.str.replace(' ', '_')\n",
      "/var/folders/3h/9n_2y6x178l41fsp4dg802f00000gn/T/ipykernel_14484/2873406759.py:25: FutureWarning: The default value of regex will change from True to False in a future version.\n",
      "  incoming_org_data.columns = (incoming_org_data.columns.str.replace(' ', '_')\n",
      "23-10-02 14:35:08:INFO: Found 0 rows in rr20_revenues_by_mode for City of Corcoran - Corcoran Area Transit\n",
      "23-10-02 14:35:08:INFO: Did not find existing data in cal-itp-data-infra.blackcat_raw.2023_rr20_revenues_by_mode for City of Corcoran - Corcoran Area Transit, loading new raw data.\n",
      "23-10-02 14:35:11:INFO: Loaded 20 rows and 8 columns to cal-itp-data-infra.blackcat_raw.2023_rr20_revenues_by_mode for City of Corcoran - Corcoran Area Transit\n"
     ]
    },
    {
     "name": "stdout",
     "output_type": "stream",
     "text": [
      "Checking data for City of Corcoran - Corcoran Area Transit from rr20_financials__2\n"
     ]
    },
    {
     "name": "stderr",
     "output_type": "stream",
     "text": [
      "/var/folders/3h/9n_2y6x178l41fsp4dg802f00000gn/T/ipykernel_14484/2873406759.py:21: SettingWithCopyWarning: \n",
      "A value is trying to be set on a copy of a slice from a DataFrame.\n",
      "Try using .loc[row_indexer,col_indexer] = value instead\n",
      "\n",
      "See the caveats in the documentation: https://pandas.pydata.org/pandas-docs/stable/user_guide/indexing.html#returning-a-view-versus-a-copy\n",
      "  incoming_org_data['date_uploaded'] = pd.to_datetime(datetime.datetime.now().date())\n",
      "/var/folders/3h/9n_2y6x178l41fsp4dg802f00000gn/T/ipykernel_14484/2873406759.py:25: FutureWarning: The default value of regex will change from True to False in a future version. In addition, single character regular expressions will *not* be treated as literal strings when regex=True.\n",
      "  incoming_org_data.columns = (incoming_org_data.columns.str.replace(' ', '_')\n",
      "/var/folders/3h/9n_2y6x178l41fsp4dg802f00000gn/T/ipykernel_14484/2873406759.py:25: FutureWarning: The default value of regex will change from True to False in a future version.\n",
      "  incoming_org_data.columns = (incoming_org_data.columns.str.replace(' ', '_')\n",
      "23-10-02 14:35:13:INFO: Found 0 rows in rr20_financials__2 for City of Corcoran - Corcoran Area Transit\n",
      "23-10-02 14:35:13:INFO: Did not find existing data in cal-itp-data-infra.blackcat_raw.2023_rr20_financials__2 for City of Corcoran - Corcoran Area Transit, loading new raw data.\n",
      "23-10-02 14:35:17:INFO: Loaded 6 rows and 46 columns to cal-itp-data-infra.blackcat_raw.2023_rr20_financials__2 for City of Corcoran - Corcoran Area Transit\n"
     ]
    },
    {
     "name": "stdout",
     "output_type": "stream",
     "text": [
      "Checking data for City of Corcoran - Corcoran Area Transit from rr20_service_data\n"
     ]
    },
    {
     "name": "stderr",
     "output_type": "stream",
     "text": [
      "/var/folders/3h/9n_2y6x178l41fsp4dg802f00000gn/T/ipykernel_14484/2873406759.py:21: SettingWithCopyWarning: \n",
      "A value is trying to be set on a copy of a slice from a DataFrame.\n",
      "Try using .loc[row_indexer,col_indexer] = value instead\n",
      "\n",
      "See the caveats in the documentation: https://pandas.pydata.org/pandas-docs/stable/user_guide/indexing.html#returning-a-view-versus-a-copy\n",
      "  incoming_org_data['date_uploaded'] = pd.to_datetime(datetime.datetime.now().date())\n",
      "/var/folders/3h/9n_2y6x178l41fsp4dg802f00000gn/T/ipykernel_14484/2873406759.py:25: FutureWarning: The default value of regex will change from True to False in a future version. In addition, single character regular expressions will *not* be treated as literal strings when regex=True.\n",
      "  incoming_org_data.columns = (incoming_org_data.columns.str.replace(' ', '_')\n",
      "/var/folders/3h/9n_2y6x178l41fsp4dg802f00000gn/T/ipykernel_14484/2873406759.py:25: FutureWarning: The default value of regex will change from True to False in a future version.\n",
      "  incoming_org_data.columns = (incoming_org_data.columns.str.replace(' ', '_')\n",
      "23-10-02 14:35:20:INFO: Found 0 rows in rr20_service_data for City of Corcoran - Corcoran Area Transit\n",
      "23-10-02 14:35:20:INFO: Did not find existing data in cal-itp-data-infra.blackcat_raw.2023_rr20_service_data for City of Corcoran - Corcoran Area Transit, loading new raw data.\n",
      "23-10-02 14:35:25:INFO: Loaded 5 rows and 10 columns to cal-itp-data-infra.blackcat_raw.2023_rr20_service_data for City of Corcoran - Corcoran Area Transit\n"
     ]
    },
    {
     "name": "stdout",
     "output_type": "stream",
     "text": [
      "Checking data for City of Corcoran - Corcoran Area Transit from rr20_safety\n"
     ]
    },
    {
     "name": "stderr",
     "output_type": "stream",
     "text": [
      "/var/folders/3h/9n_2y6x178l41fsp4dg802f00000gn/T/ipykernel_14484/2873406759.py:25: FutureWarning: The default value of regex will change from True to False in a future version. In addition, single character regular expressions will *not* be treated as literal strings when regex=True.\n",
      "  incoming_org_data.columns = (incoming_org_data.columns.str.replace(' ', '_')\n",
      "/var/folders/3h/9n_2y6x178l41fsp4dg802f00000gn/T/ipykernel_14484/2873406759.py:25: FutureWarning: The default value of regex will change from True to False in a future version.\n",
      "  incoming_org_data.columns = (incoming_org_data.columns.str.replace(' ', '_')\n",
      "23-10-02 14:35:28:INFO: Found 0 rows in rr20_safety for City of Corcoran - Corcoran Area Transit\n",
      "23-10-02 14:35:28:INFO: Did not find existing data in cal-itp-data-infra.blackcat_raw.2023_rr20_safety for City of Corcoran - Corcoran Area Transit, loading new raw data.\n",
      "23-10-02 14:35:30:INFO: Loaded 1 rows and 7 columns to cal-itp-data-infra.blackcat_raw.2023_rr20_safety for City of Corcoran - Corcoran Area Transit\n"
     ]
    },
    {
     "name": "stdout",
     "output_type": "stream",
     "text": [
      "Checking data for City of Corcoran - Corcoran Area Transit from rr20_other_resources\n"
     ]
    },
    {
     "name": "stderr",
     "output_type": "stream",
     "text": [
      "/var/folders/3h/9n_2y6x178l41fsp4dg802f00000gn/T/ipykernel_14484/2873406759.py:21: SettingWithCopyWarning: \n",
      "A value is trying to be set on a copy of a slice from a DataFrame.\n",
      "Try using .loc[row_indexer,col_indexer] = value instead\n",
      "\n",
      "See the caveats in the documentation: https://pandas.pydata.org/pandas-docs/stable/user_guide/indexing.html#returning-a-view-versus-a-copy\n",
      "  incoming_org_data['date_uploaded'] = pd.to_datetime(datetime.datetime.now().date())\n",
      "/var/folders/3h/9n_2y6x178l41fsp4dg802f00000gn/T/ipykernel_14484/2873406759.py:25: FutureWarning: The default value of regex will change from True to False in a future version. In addition, single character regular expressions will *not* be treated as literal strings when regex=True.\n",
      "  incoming_org_data.columns = (incoming_org_data.columns.str.replace(' ', '_')\n",
      "/var/folders/3h/9n_2y6x178l41fsp4dg802f00000gn/T/ipykernel_14484/2873406759.py:25: FutureWarning: The default value of regex will change from True to False in a future version.\n",
      "  incoming_org_data.columns = (incoming_org_data.columns.str.replace(' ', '_')\n",
      "23-10-02 14:35:33:INFO: Found 0 rows in rr20_other_resources for City of Corcoran - Corcoran Area Transit\n",
      "23-10-02 14:35:33:INFO: Did not find existing data in cal-itp-data-infra.blackcat_raw.2023_rr20_other_resources for City of Corcoran - Corcoran Area Transit, loading new raw data.\n",
      "23-10-02 14:35:36:INFO: Loaded 3 rows and 6 columns to cal-itp-data-infra.blackcat_raw.2023_rr20_other_resources for City of Corcoran - Corcoran Area Transit\n"
     ]
    },
    {
     "name": "stdout",
     "output_type": "stream",
     "text": [
      "Checking data for County of Shasta Department of Public Works from rr20_basics_contacts\n"
     ]
    },
    {
     "name": "stderr",
     "output_type": "stream",
     "text": [
      "/var/folders/3h/9n_2y6x178l41fsp4dg802f00000gn/T/ipykernel_14484/2873406759.py:21: SettingWithCopyWarning: \n",
      "A value is trying to be set on a copy of a slice from a DataFrame.\n",
      "Try using .loc[row_indexer,col_indexer] = value instead\n",
      "\n",
      "See the caveats in the documentation: https://pandas.pydata.org/pandas-docs/stable/user_guide/indexing.html#returning-a-view-versus-a-copy\n",
      "  incoming_org_data['date_uploaded'] = pd.to_datetime(datetime.datetime.now().date())\n",
      "/var/folders/3h/9n_2y6x178l41fsp4dg802f00000gn/T/ipykernel_14484/2873406759.py:25: FutureWarning: The default value of regex will change from True to False in a future version. In addition, single character regular expressions will *not* be treated as literal strings when regex=True.\n",
      "  incoming_org_data.columns = (incoming_org_data.columns.str.replace(' ', '_')\n",
      "/var/folders/3h/9n_2y6x178l41fsp4dg802f00000gn/T/ipykernel_14484/2873406759.py:25: FutureWarning: The default value of regex will change from True to False in a future version.\n",
      "  incoming_org_data.columns = (incoming_org_data.columns.str.replace(' ', '_')\n",
      "23-10-02 14:35:39:INFO: Found 0 rows in rr20_basics_contacts for County of Shasta Department of Public Works\n",
      "23-10-02 14:35:39:INFO: Did not find existing data in cal-itp-data-infra.blackcat_raw.2023_rr20_basics_contacts for County of Shasta Department of Public Works, loading new raw data.\n",
      "23-10-02 14:35:41:INFO: Loaded 4 rows and 15 columns to cal-itp-data-infra.blackcat_raw.2023_rr20_basics_contacts for County of Shasta Department of Public Works\n"
     ]
    },
    {
     "name": "stdout",
     "output_type": "stream",
     "text": [
      "Checking data for County of Shasta Department of Public Works from rr20_modes\n"
     ]
    },
    {
     "name": "stderr",
     "output_type": "stream",
     "text": [
      "/var/folders/3h/9n_2y6x178l41fsp4dg802f00000gn/T/ipykernel_14484/2873406759.py:21: SettingWithCopyWarning: \n",
      "A value is trying to be set on a copy of a slice from a DataFrame.\n",
      "Try using .loc[row_indexer,col_indexer] = value instead\n",
      "\n",
      "See the caveats in the documentation: https://pandas.pydata.org/pandas-docs/stable/user_guide/indexing.html#returning-a-view-versus-a-copy\n",
      "  incoming_org_data['date_uploaded'] = pd.to_datetime(datetime.datetime.now().date())\n",
      "/var/folders/3h/9n_2y6x178l41fsp4dg802f00000gn/T/ipykernel_14484/2873406759.py:25: FutureWarning: The default value of regex will change from True to False in a future version. In addition, single character regular expressions will *not* be treated as literal strings when regex=True.\n",
      "  incoming_org_data.columns = (incoming_org_data.columns.str.replace(' ', '_')\n",
      "/var/folders/3h/9n_2y6x178l41fsp4dg802f00000gn/T/ipykernel_14484/2873406759.py:25: FutureWarning: The default value of regex will change from True to False in a future version.\n",
      "  incoming_org_data.columns = (incoming_org_data.columns.str.replace(' ', '_')\n",
      "23-10-02 14:35:43:INFO: Found 0 rows in rr20_modes for County of Shasta Department of Public Works\n",
      "23-10-02 14:35:43:INFO: Did not find existing data in cal-itp-data-infra.blackcat_raw.2023_rr20_modes for County of Shasta Department of Public Works, loading new raw data.\n",
      "23-10-02 14:35:46:INFO: Loaded 7 rows and 9 columns to cal-itp-data-infra.blackcat_raw.2023_rr20_modes for County of Shasta Department of Public Works\n"
     ]
    },
    {
     "name": "stdout",
     "output_type": "stream",
     "text": [
      "Checking data for County of Shasta Department of Public Works from rr20_expenses_by_mode\n"
     ]
    },
    {
     "name": "stderr",
     "output_type": "stream",
     "text": [
      "/var/folders/3h/9n_2y6x178l41fsp4dg802f00000gn/T/ipykernel_14484/2873406759.py:21: SettingWithCopyWarning: \n",
      "A value is trying to be set on a copy of a slice from a DataFrame.\n",
      "Try using .loc[row_indexer,col_indexer] = value instead\n",
      "\n",
      "See the caveats in the documentation: https://pandas.pydata.org/pandas-docs/stable/user_guide/indexing.html#returning-a-view-versus-a-copy\n",
      "  incoming_org_data['date_uploaded'] = pd.to_datetime(datetime.datetime.now().date())\n",
      "/var/folders/3h/9n_2y6x178l41fsp4dg802f00000gn/T/ipykernel_14484/2873406759.py:25: FutureWarning: The default value of regex will change from True to False in a future version. In addition, single character regular expressions will *not* be treated as literal strings when regex=True.\n",
      "  incoming_org_data.columns = (incoming_org_data.columns.str.replace(' ', '_')\n",
      "/var/folders/3h/9n_2y6x178l41fsp4dg802f00000gn/T/ipykernel_14484/2873406759.py:25: FutureWarning: The default value of regex will change from True to False in a future version.\n",
      "  incoming_org_data.columns = (incoming_org_data.columns.str.replace(' ', '_')\n",
      "23-10-02 14:35:48:INFO: Found 0 rows in rr20_expenses_by_mode for County of Shasta Department of Public Works\n",
      "23-10-02 14:35:48:INFO: Did not find existing data in cal-itp-data-infra.blackcat_raw.2023_rr20_expenses_by_mode for County of Shasta Department of Public Works, loading new raw data.\n",
      "23-10-02 14:35:51:INFO: Loaded 14 rows and 7 columns to cal-itp-data-infra.blackcat_raw.2023_rr20_expenses_by_mode for County of Shasta Department of Public Works\n"
     ]
    },
    {
     "name": "stdout",
     "output_type": "stream",
     "text": [
      "Checking data for County of Shasta Department of Public Works from rr20_revenues_by_mode\n"
     ]
    },
    {
     "name": "stderr",
     "output_type": "stream",
     "text": [
      "/var/folders/3h/9n_2y6x178l41fsp4dg802f00000gn/T/ipykernel_14484/2873406759.py:21: SettingWithCopyWarning: \n",
      "A value is trying to be set on a copy of a slice from a DataFrame.\n",
      "Try using .loc[row_indexer,col_indexer] = value instead\n",
      "\n",
      "See the caveats in the documentation: https://pandas.pydata.org/pandas-docs/stable/user_guide/indexing.html#returning-a-view-versus-a-copy\n",
      "  incoming_org_data['date_uploaded'] = pd.to_datetime(datetime.datetime.now().date())\n",
      "/var/folders/3h/9n_2y6x178l41fsp4dg802f00000gn/T/ipykernel_14484/2873406759.py:25: FutureWarning: The default value of regex will change from True to False in a future version. In addition, single character regular expressions will *not* be treated as literal strings when regex=True.\n",
      "  incoming_org_data.columns = (incoming_org_data.columns.str.replace(' ', '_')\n",
      "/var/folders/3h/9n_2y6x178l41fsp4dg802f00000gn/T/ipykernel_14484/2873406759.py:25: FutureWarning: The default value of regex will change from True to False in a future version.\n",
      "  incoming_org_data.columns = (incoming_org_data.columns.str.replace(' ', '_')\n",
      "23-10-02 14:35:53:INFO: Found 0 rows in rr20_revenues_by_mode for County of Shasta Department of Public Works\n",
      "23-10-02 14:35:53:INFO: Did not find existing data in cal-itp-data-infra.blackcat_raw.2023_rr20_revenues_by_mode for County of Shasta Department of Public Works, loading new raw data.\n",
      "23-10-02 14:35:57:INFO: Loaded 28 rows and 8 columns to cal-itp-data-infra.blackcat_raw.2023_rr20_revenues_by_mode for County of Shasta Department of Public Works\n"
     ]
    },
    {
     "name": "stdout",
     "output_type": "stream",
     "text": [
      "Checking data for County of Shasta Department of Public Works from rr20_financials__2\n"
     ]
    },
    {
     "name": "stderr",
     "output_type": "stream",
     "text": [
      "/var/folders/3h/9n_2y6x178l41fsp4dg802f00000gn/T/ipykernel_14484/2873406759.py:21: SettingWithCopyWarning: \n",
      "A value is trying to be set on a copy of a slice from a DataFrame.\n",
      "Try using .loc[row_indexer,col_indexer] = value instead\n",
      "\n",
      "See the caveats in the documentation: https://pandas.pydata.org/pandas-docs/stable/user_guide/indexing.html#returning-a-view-versus-a-copy\n",
      "  incoming_org_data['date_uploaded'] = pd.to_datetime(datetime.datetime.now().date())\n",
      "/var/folders/3h/9n_2y6x178l41fsp4dg802f00000gn/T/ipykernel_14484/2873406759.py:25: FutureWarning: The default value of regex will change from True to False in a future version. In addition, single character regular expressions will *not* be treated as literal strings when regex=True.\n",
      "  incoming_org_data.columns = (incoming_org_data.columns.str.replace(' ', '_')\n",
      "/var/folders/3h/9n_2y6x178l41fsp4dg802f00000gn/T/ipykernel_14484/2873406759.py:25: FutureWarning: The default value of regex will change from True to False in a future version.\n",
      "  incoming_org_data.columns = (incoming_org_data.columns.str.replace(' ', '_')\n",
      "23-10-02 14:35:59:INFO: Found 0 rows in rr20_financials__2 for County of Shasta Department of Public Works\n",
      "23-10-02 14:35:59:INFO: Did not find existing data in cal-itp-data-infra.blackcat_raw.2023_rr20_financials__2 for County of Shasta Department of Public Works, loading new raw data.\n",
      "23-10-02 14:36:01:INFO: Loaded 8 rows and 46 columns to cal-itp-data-infra.blackcat_raw.2023_rr20_financials__2 for County of Shasta Department of Public Works\n"
     ]
    },
    {
     "name": "stdout",
     "output_type": "stream",
     "text": [
      "Checking data for County of Shasta Department of Public Works from rr20_service_data\n"
     ]
    },
    {
     "name": "stderr",
     "output_type": "stream",
     "text": [
      "/var/folders/3h/9n_2y6x178l41fsp4dg802f00000gn/T/ipykernel_14484/2873406759.py:21: SettingWithCopyWarning: \n",
      "A value is trying to be set on a copy of a slice from a DataFrame.\n",
      "Try using .loc[row_indexer,col_indexer] = value instead\n",
      "\n",
      "See the caveats in the documentation: https://pandas.pydata.org/pandas-docs/stable/user_guide/indexing.html#returning-a-view-versus-a-copy\n",
      "  incoming_org_data['date_uploaded'] = pd.to_datetime(datetime.datetime.now().date())\n",
      "/var/folders/3h/9n_2y6x178l41fsp4dg802f00000gn/T/ipykernel_14484/2873406759.py:25: FutureWarning: The default value of regex will change from True to False in a future version. In addition, single character regular expressions will *not* be treated as literal strings when regex=True.\n",
      "  incoming_org_data.columns = (incoming_org_data.columns.str.replace(' ', '_')\n",
      "/var/folders/3h/9n_2y6x178l41fsp4dg802f00000gn/T/ipykernel_14484/2873406759.py:25: FutureWarning: The default value of regex will change from True to False in a future version.\n",
      "  incoming_org_data.columns = (incoming_org_data.columns.str.replace(' ', '_')\n",
      "23-10-02 14:36:03:INFO: Found 0 rows in rr20_service_data for County of Shasta Department of Public Works\n",
      "23-10-02 14:36:03:INFO: Did not find existing data in cal-itp-data-infra.blackcat_raw.2023_rr20_service_data for County of Shasta Department of Public Works, loading new raw data.\n",
      "23-10-02 14:36:07:INFO: Loaded 7 rows and 10 columns to cal-itp-data-infra.blackcat_raw.2023_rr20_service_data for County of Shasta Department of Public Works\n"
     ]
    },
    {
     "name": "stdout",
     "output_type": "stream",
     "text": [
      "Checking data for County of Shasta Department of Public Works from rr20_safety\n"
     ]
    },
    {
     "name": "stderr",
     "output_type": "stream",
     "text": [
      "/var/folders/3h/9n_2y6x178l41fsp4dg802f00000gn/T/ipykernel_14484/2873406759.py:25: FutureWarning: The default value of regex will change from True to False in a future version. In addition, single character regular expressions will *not* be treated as literal strings when regex=True.\n",
      "  incoming_org_data.columns = (incoming_org_data.columns.str.replace(' ', '_')\n",
      "/var/folders/3h/9n_2y6x178l41fsp4dg802f00000gn/T/ipykernel_14484/2873406759.py:25: FutureWarning: The default value of regex will change from True to False in a future version.\n",
      "  incoming_org_data.columns = (incoming_org_data.columns.str.replace(' ', '_')\n",
      "23-10-02 14:36:09:INFO: Found 0 rows in rr20_safety for County of Shasta Department of Public Works\n",
      "23-10-02 14:36:09:INFO: Did not find existing data in cal-itp-data-infra.blackcat_raw.2023_rr20_safety for County of Shasta Department of Public Works, loading new raw data.\n",
      "23-10-02 14:36:12:INFO: Loaded 1 rows and 7 columns to cal-itp-data-infra.blackcat_raw.2023_rr20_safety for County of Shasta Department of Public Works\n"
     ]
    },
    {
     "name": "stdout",
     "output_type": "stream",
     "text": [
      "Checking data for County of Shasta Department of Public Works from rr20_other_resources\n"
     ]
    },
    {
     "name": "stderr",
     "output_type": "stream",
     "text": [
      "/var/folders/3h/9n_2y6x178l41fsp4dg802f00000gn/T/ipykernel_14484/2873406759.py:21: SettingWithCopyWarning: \n",
      "A value is trying to be set on a copy of a slice from a DataFrame.\n",
      "Try using .loc[row_indexer,col_indexer] = value instead\n",
      "\n",
      "See the caveats in the documentation: https://pandas.pydata.org/pandas-docs/stable/user_guide/indexing.html#returning-a-view-versus-a-copy\n",
      "  incoming_org_data['date_uploaded'] = pd.to_datetime(datetime.datetime.now().date())\n",
      "/var/folders/3h/9n_2y6x178l41fsp4dg802f00000gn/T/ipykernel_14484/2873406759.py:25: FutureWarning: The default value of regex will change from True to False in a future version. In addition, single character regular expressions will *not* be treated as literal strings when regex=True.\n",
      "  incoming_org_data.columns = (incoming_org_data.columns.str.replace(' ', '_')\n",
      "/var/folders/3h/9n_2y6x178l41fsp4dg802f00000gn/T/ipykernel_14484/2873406759.py:25: FutureWarning: The default value of regex will change from True to False in a future version.\n",
      "  incoming_org_data.columns = (incoming_org_data.columns.str.replace(' ', '_')\n",
      "23-10-02 14:36:14:INFO: Found 0 rows in rr20_other_resources for County of Shasta Department of Public Works\n",
      "23-10-02 14:36:14:INFO: Did not find existing data in cal-itp-data-infra.blackcat_raw.2023_rr20_other_resources for County of Shasta Department of Public Works, loading new raw data.\n",
      "23-10-02 14:36:17:INFO: Loaded 4 rows and 6 columns to cal-itp-data-infra.blackcat_raw.2023_rr20_other_resources for County of Shasta Department of Public Works\n"
     ]
    },
    {
     "name": "stdout",
     "output_type": "stream",
     "text": [
      "Checking data for Plumas County Transportation Commission from rr20_basics_contacts\n"
     ]
    },
    {
     "name": "stderr",
     "output_type": "stream",
     "text": [
      "/var/folders/3h/9n_2y6x178l41fsp4dg802f00000gn/T/ipykernel_14484/2873406759.py:21: SettingWithCopyWarning: \n",
      "A value is trying to be set on a copy of a slice from a DataFrame.\n",
      "Try using .loc[row_indexer,col_indexer] = value instead\n",
      "\n",
      "See the caveats in the documentation: https://pandas.pydata.org/pandas-docs/stable/user_guide/indexing.html#returning-a-view-versus-a-copy\n",
      "  incoming_org_data['date_uploaded'] = pd.to_datetime(datetime.datetime.now().date())\n",
      "/var/folders/3h/9n_2y6x178l41fsp4dg802f00000gn/T/ipykernel_14484/2873406759.py:25: FutureWarning: The default value of regex will change from True to False in a future version. In addition, single character regular expressions will *not* be treated as literal strings when regex=True.\n",
      "  incoming_org_data.columns = (incoming_org_data.columns.str.replace(' ', '_')\n",
      "/var/folders/3h/9n_2y6x178l41fsp4dg802f00000gn/T/ipykernel_14484/2873406759.py:25: FutureWarning: The default value of regex will change from True to False in a future version.\n",
      "  incoming_org_data.columns = (incoming_org_data.columns.str.replace(' ', '_')\n",
      "23-10-02 14:36:19:INFO: Found 0 rows in rr20_basics_contacts for Plumas County Transportation Commission\n",
      "23-10-02 14:36:19:INFO: Did not find existing data in cal-itp-data-infra.blackcat_raw.2023_rr20_basics_contacts for Plumas County Transportation Commission, loading new raw data.\n",
      "23-10-02 14:36:24:INFO: Loaded 5 rows and 15 columns to cal-itp-data-infra.blackcat_raw.2023_rr20_basics_contacts for Plumas County Transportation Commission\n"
     ]
    },
    {
     "name": "stdout",
     "output_type": "stream",
     "text": [
      "Checking data for Plumas County Transportation Commission from rr20_modes\n"
     ]
    },
    {
     "name": "stderr",
     "output_type": "stream",
     "text": [
      "/var/folders/3h/9n_2y6x178l41fsp4dg802f00000gn/T/ipykernel_14484/2873406759.py:21: SettingWithCopyWarning: \n",
      "A value is trying to be set on a copy of a slice from a DataFrame.\n",
      "Try using .loc[row_indexer,col_indexer] = value instead\n",
      "\n",
      "See the caveats in the documentation: https://pandas.pydata.org/pandas-docs/stable/user_guide/indexing.html#returning-a-view-versus-a-copy\n",
      "  incoming_org_data['date_uploaded'] = pd.to_datetime(datetime.datetime.now().date())\n",
      "/var/folders/3h/9n_2y6x178l41fsp4dg802f00000gn/T/ipykernel_14484/2873406759.py:25: FutureWarning: The default value of regex will change from True to False in a future version. In addition, single character regular expressions will *not* be treated as literal strings when regex=True.\n",
      "  incoming_org_data.columns = (incoming_org_data.columns.str.replace(' ', '_')\n",
      "/var/folders/3h/9n_2y6x178l41fsp4dg802f00000gn/T/ipykernel_14484/2873406759.py:25: FutureWarning: The default value of regex will change from True to False in a future version.\n",
      "  incoming_org_data.columns = (incoming_org_data.columns.str.replace(' ', '_')\n",
      "23-10-02 14:36:26:INFO: Found 0 rows in rr20_modes for Plumas County Transportation Commission\n",
      "23-10-02 14:36:26:INFO: Did not find existing data in cal-itp-data-infra.blackcat_raw.2023_rr20_modes for Plumas County Transportation Commission, loading new raw data.\n",
      "23-10-02 14:36:34:INFO: Loaded 8 rows and 9 columns to cal-itp-data-infra.blackcat_raw.2023_rr20_modes for Plumas County Transportation Commission\n"
     ]
    },
    {
     "name": "stdout",
     "output_type": "stream",
     "text": [
      "Checking data for Plumas County Transportation Commission from rr20_expenses_by_mode\n"
     ]
    },
    {
     "name": "stderr",
     "output_type": "stream",
     "text": [
      "/var/folders/3h/9n_2y6x178l41fsp4dg802f00000gn/T/ipykernel_14484/2873406759.py:21: SettingWithCopyWarning: \n",
      "A value is trying to be set on a copy of a slice from a DataFrame.\n",
      "Try using .loc[row_indexer,col_indexer] = value instead\n",
      "\n",
      "See the caveats in the documentation: https://pandas.pydata.org/pandas-docs/stable/user_guide/indexing.html#returning-a-view-versus-a-copy\n",
      "  incoming_org_data['date_uploaded'] = pd.to_datetime(datetime.datetime.now().date())\n",
      "/var/folders/3h/9n_2y6x178l41fsp4dg802f00000gn/T/ipykernel_14484/2873406759.py:25: FutureWarning: The default value of regex will change from True to False in a future version. In addition, single character regular expressions will *not* be treated as literal strings when regex=True.\n",
      "  incoming_org_data.columns = (incoming_org_data.columns.str.replace(' ', '_')\n",
      "/var/folders/3h/9n_2y6x178l41fsp4dg802f00000gn/T/ipykernel_14484/2873406759.py:25: FutureWarning: The default value of regex will change from True to False in a future version.\n",
      "  incoming_org_data.columns = (incoming_org_data.columns.str.replace(' ', '_')\n",
      "23-10-02 14:36:37:INFO: Found 0 rows in rr20_expenses_by_mode for Plumas County Transportation Commission\n",
      "23-10-02 14:36:37:INFO: Did not find existing data in cal-itp-data-infra.blackcat_raw.2023_rr20_expenses_by_mode for Plumas County Transportation Commission, loading new raw data.\n",
      "23-10-02 14:36:39:INFO: Loaded 16 rows and 7 columns to cal-itp-data-infra.blackcat_raw.2023_rr20_expenses_by_mode for Plumas County Transportation Commission\n"
     ]
    },
    {
     "name": "stdout",
     "output_type": "stream",
     "text": [
      "Checking data for Plumas County Transportation Commission from rr20_revenues_by_mode\n"
     ]
    },
    {
     "name": "stderr",
     "output_type": "stream",
     "text": [
      "/var/folders/3h/9n_2y6x178l41fsp4dg802f00000gn/T/ipykernel_14484/2873406759.py:21: SettingWithCopyWarning: \n",
      "A value is trying to be set on a copy of a slice from a DataFrame.\n",
      "Try using .loc[row_indexer,col_indexer] = value instead\n",
      "\n",
      "See the caveats in the documentation: https://pandas.pydata.org/pandas-docs/stable/user_guide/indexing.html#returning-a-view-versus-a-copy\n",
      "  incoming_org_data['date_uploaded'] = pd.to_datetime(datetime.datetime.now().date())\n",
      "/var/folders/3h/9n_2y6x178l41fsp4dg802f00000gn/T/ipykernel_14484/2873406759.py:25: FutureWarning: The default value of regex will change from True to False in a future version. In addition, single character regular expressions will *not* be treated as literal strings when regex=True.\n",
      "  incoming_org_data.columns = (incoming_org_data.columns.str.replace(' ', '_')\n",
      "/var/folders/3h/9n_2y6x178l41fsp4dg802f00000gn/T/ipykernel_14484/2873406759.py:25: FutureWarning: The default value of regex will change from True to False in a future version.\n",
      "  incoming_org_data.columns = (incoming_org_data.columns.str.replace(' ', '_')\n",
      "23-10-02 14:36:41:INFO: Found 0 rows in rr20_revenues_by_mode for Plumas County Transportation Commission\n",
      "23-10-02 14:36:41:INFO: Did not find existing data in cal-itp-data-infra.blackcat_raw.2023_rr20_revenues_by_mode for Plumas County Transportation Commission, loading new raw data.\n",
      "23-10-02 14:36:45:INFO: Loaded 32 rows and 8 columns to cal-itp-data-infra.blackcat_raw.2023_rr20_revenues_by_mode for Plumas County Transportation Commission\n"
     ]
    },
    {
     "name": "stdout",
     "output_type": "stream",
     "text": [
      "Checking data for Plumas County Transportation Commission from rr20_financials__2\n"
     ]
    },
    {
     "name": "stderr",
     "output_type": "stream",
     "text": [
      "/var/folders/3h/9n_2y6x178l41fsp4dg802f00000gn/T/ipykernel_14484/2873406759.py:21: SettingWithCopyWarning: \n",
      "A value is trying to be set on a copy of a slice from a DataFrame.\n",
      "Try using .loc[row_indexer,col_indexer] = value instead\n",
      "\n",
      "See the caveats in the documentation: https://pandas.pydata.org/pandas-docs/stable/user_guide/indexing.html#returning-a-view-versus-a-copy\n",
      "  incoming_org_data['date_uploaded'] = pd.to_datetime(datetime.datetime.now().date())\n",
      "/var/folders/3h/9n_2y6x178l41fsp4dg802f00000gn/T/ipykernel_14484/2873406759.py:25: FutureWarning: The default value of regex will change from True to False in a future version. In addition, single character regular expressions will *not* be treated as literal strings when regex=True.\n",
      "  incoming_org_data.columns = (incoming_org_data.columns.str.replace(' ', '_')\n",
      "/var/folders/3h/9n_2y6x178l41fsp4dg802f00000gn/T/ipykernel_14484/2873406759.py:25: FutureWarning: The default value of regex will change from True to False in a future version.\n",
      "  incoming_org_data.columns = (incoming_org_data.columns.str.replace(' ', '_')\n",
      "23-10-02 14:36:47:INFO: Found 0 rows in rr20_financials__2 for Plumas County Transportation Commission\n",
      "23-10-02 14:36:47:INFO: Did not find existing data in cal-itp-data-infra.blackcat_raw.2023_rr20_financials__2 for Plumas County Transportation Commission, loading new raw data.\n",
      "23-10-02 14:36:50:INFO: Loaded 10 rows and 46 columns to cal-itp-data-infra.blackcat_raw.2023_rr20_financials__2 for Plumas County Transportation Commission\n"
     ]
    },
    {
     "name": "stdout",
     "output_type": "stream",
     "text": [
      "Checking data for Plumas County Transportation Commission from rr20_service_data\n"
     ]
    },
    {
     "name": "stderr",
     "output_type": "stream",
     "text": [
      "/var/folders/3h/9n_2y6x178l41fsp4dg802f00000gn/T/ipykernel_14484/2873406759.py:21: SettingWithCopyWarning: \n",
      "A value is trying to be set on a copy of a slice from a DataFrame.\n",
      "Try using .loc[row_indexer,col_indexer] = value instead\n",
      "\n",
      "See the caveats in the documentation: https://pandas.pydata.org/pandas-docs/stable/user_guide/indexing.html#returning-a-view-versus-a-copy\n",
      "  incoming_org_data['date_uploaded'] = pd.to_datetime(datetime.datetime.now().date())\n",
      "/var/folders/3h/9n_2y6x178l41fsp4dg802f00000gn/T/ipykernel_14484/2873406759.py:25: FutureWarning: The default value of regex will change from True to False in a future version. In addition, single character regular expressions will *not* be treated as literal strings when regex=True.\n",
      "  incoming_org_data.columns = (incoming_org_data.columns.str.replace(' ', '_')\n",
      "/var/folders/3h/9n_2y6x178l41fsp4dg802f00000gn/T/ipykernel_14484/2873406759.py:25: FutureWarning: The default value of regex will change from True to False in a future version.\n",
      "  incoming_org_data.columns = (incoming_org_data.columns.str.replace(' ', '_')\n",
      "23-10-02 14:36:52:INFO: Found 0 rows in rr20_service_data for Plumas County Transportation Commission\n",
      "23-10-02 14:36:52:INFO: Did not find existing data in cal-itp-data-infra.blackcat_raw.2023_rr20_service_data for Plumas County Transportation Commission, loading new raw data.\n",
      "23-10-02 14:36:55:INFO: Loaded 8 rows and 10 columns to cal-itp-data-infra.blackcat_raw.2023_rr20_service_data for Plumas County Transportation Commission\n"
     ]
    },
    {
     "name": "stdout",
     "output_type": "stream",
     "text": [
      "Checking data for Plumas County Transportation Commission from rr20_safety\n"
     ]
    },
    {
     "name": "stderr",
     "output_type": "stream",
     "text": [
      "/var/folders/3h/9n_2y6x178l41fsp4dg802f00000gn/T/ipykernel_14484/2873406759.py:25: FutureWarning: The default value of regex will change from True to False in a future version. In addition, single character regular expressions will *not* be treated as literal strings when regex=True.\n",
      "  incoming_org_data.columns = (incoming_org_data.columns.str.replace(' ', '_')\n",
      "/var/folders/3h/9n_2y6x178l41fsp4dg802f00000gn/T/ipykernel_14484/2873406759.py:25: FutureWarning: The default value of regex will change from True to False in a future version.\n",
      "  incoming_org_data.columns = (incoming_org_data.columns.str.replace(' ', '_')\n",
      "23-10-02 14:36:57:INFO: Found 0 rows in rr20_safety for Plumas County Transportation Commission\n",
      "23-10-02 14:36:57:INFO: Did not find existing data in cal-itp-data-infra.blackcat_raw.2023_rr20_safety for Plumas County Transportation Commission, loading new raw data.\n",
      "23-10-02 14:37:00:INFO: Loaded 1 rows and 7 columns to cal-itp-data-infra.blackcat_raw.2023_rr20_safety for Plumas County Transportation Commission\n"
     ]
    },
    {
     "name": "stdout",
     "output_type": "stream",
     "text": [
      "Checking data for Plumas County Transportation Commission from rr20_other_resources\n"
     ]
    },
    {
     "name": "stderr",
     "output_type": "stream",
     "text": [
      "/var/folders/3h/9n_2y6x178l41fsp4dg802f00000gn/T/ipykernel_14484/2873406759.py:21: SettingWithCopyWarning: \n",
      "A value is trying to be set on a copy of a slice from a DataFrame.\n",
      "Try using .loc[row_indexer,col_indexer] = value instead\n",
      "\n",
      "See the caveats in the documentation: https://pandas.pydata.org/pandas-docs/stable/user_guide/indexing.html#returning-a-view-versus-a-copy\n",
      "  incoming_org_data['date_uploaded'] = pd.to_datetime(datetime.datetime.now().date())\n",
      "/var/folders/3h/9n_2y6x178l41fsp4dg802f00000gn/T/ipykernel_14484/2873406759.py:25: FutureWarning: The default value of regex will change from True to False in a future version. In addition, single character regular expressions will *not* be treated as literal strings when regex=True.\n",
      "  incoming_org_data.columns = (incoming_org_data.columns.str.replace(' ', '_')\n",
      "/var/folders/3h/9n_2y6x178l41fsp4dg802f00000gn/T/ipykernel_14484/2873406759.py:25: FutureWarning: The default value of regex will change from True to False in a future version.\n",
      "  incoming_org_data.columns = (incoming_org_data.columns.str.replace(' ', '_')\n",
      "23-10-02 14:37:02:INFO: Found 0 rows in rr20_other_resources for Plumas County Transportation Commission\n",
      "23-10-02 14:37:02:INFO: Did not find existing data in cal-itp-data-infra.blackcat_raw.2023_rr20_other_resources for Plumas County Transportation Commission, loading new raw data.\n",
      "23-10-02 14:37:05:INFO: Loaded 5 rows and 6 columns to cal-itp-data-infra.blackcat_raw.2023_rr20_other_resources for Plumas County Transportation Commission\n"
     ]
    },
    {
     "name": "stdout",
     "output_type": "stream",
     "text": [
      "Checking data for Tehama County Transit Agency from rr20_basics_contacts\n"
     ]
    },
    {
     "name": "stderr",
     "output_type": "stream",
     "text": [
      "/var/folders/3h/9n_2y6x178l41fsp4dg802f00000gn/T/ipykernel_14484/2873406759.py:21: SettingWithCopyWarning: \n",
      "A value is trying to be set on a copy of a slice from a DataFrame.\n",
      "Try using .loc[row_indexer,col_indexer] = value instead\n",
      "\n",
      "See the caveats in the documentation: https://pandas.pydata.org/pandas-docs/stable/user_guide/indexing.html#returning-a-view-versus-a-copy\n",
      "  incoming_org_data['date_uploaded'] = pd.to_datetime(datetime.datetime.now().date())\n",
      "/var/folders/3h/9n_2y6x178l41fsp4dg802f00000gn/T/ipykernel_14484/2873406759.py:25: FutureWarning: The default value of regex will change from True to False in a future version. In addition, single character regular expressions will *not* be treated as literal strings when regex=True.\n",
      "  incoming_org_data.columns = (incoming_org_data.columns.str.replace(' ', '_')\n",
      "/var/folders/3h/9n_2y6x178l41fsp4dg802f00000gn/T/ipykernel_14484/2873406759.py:25: FutureWarning: The default value of regex will change from True to False in a future version.\n",
      "  incoming_org_data.columns = (incoming_org_data.columns.str.replace(' ', '_')\n",
      "23-10-02 14:37:06:INFO: Found 1 rows in rr20_basics_contacts for Tehama County Transit Agency\n",
      "23-10-02 14:37:06:INFO: Checking for existing data\n",
      "23-10-02 14:37:06:INFO: Tehama County Transit Agency data in rr20_basics_contacts is already in BigQuery, not writing.\n",
      "23-10-02 14:37:06:INFO: Loaded None rows and 15 columns to cal-itp-data-infra.blackcat_raw.2023_rr20_basics_contacts for Tehama County Transit Agency\n"
     ]
    },
    {
     "name": "stdout",
     "output_type": "stream",
     "text": [
      "Checking data for Tehama County Transit Agency from rr20_modes\n"
     ]
    },
    {
     "name": "stderr",
     "output_type": "stream",
     "text": [
      "/var/folders/3h/9n_2y6x178l41fsp4dg802f00000gn/T/ipykernel_14484/2873406759.py:21: SettingWithCopyWarning: \n",
      "A value is trying to be set on a copy of a slice from a DataFrame.\n",
      "Try using .loc[row_indexer,col_indexer] = value instead\n",
      "\n",
      "See the caveats in the documentation: https://pandas.pydata.org/pandas-docs/stable/user_guide/indexing.html#returning-a-view-versus-a-copy\n",
      "  incoming_org_data['date_uploaded'] = pd.to_datetime(datetime.datetime.now().date())\n",
      "/var/folders/3h/9n_2y6x178l41fsp4dg802f00000gn/T/ipykernel_14484/2873406759.py:25: FutureWarning: The default value of regex will change from True to False in a future version. In addition, single character regular expressions will *not* be treated as literal strings when regex=True.\n",
      "  incoming_org_data.columns = (incoming_org_data.columns.str.replace(' ', '_')\n",
      "/var/folders/3h/9n_2y6x178l41fsp4dg802f00000gn/T/ipykernel_14484/2873406759.py:25: FutureWarning: The default value of regex will change from True to False in a future version.\n",
      "  incoming_org_data.columns = (incoming_org_data.columns.str.replace(' ', '_')\n",
      "23-10-02 14:37:08:INFO: Found 2 rows in rr20_modes for Tehama County Transit Agency\n",
      "23-10-02 14:37:08:INFO: Checking for existing data\n",
      "23-10-02 14:37:08:INFO: Tehama County Transit Agency data in rr20_modes is already in BigQuery, not writing.\n",
      "23-10-02 14:37:08:INFO: Loaded None rows and 9 columns to cal-itp-data-infra.blackcat_raw.2023_rr20_modes for Tehama County Transit Agency\n"
     ]
    },
    {
     "name": "stdout",
     "output_type": "stream",
     "text": [
      "Checking data for Tehama County Transit Agency from rr20_expenses_by_mode\n"
     ]
    },
    {
     "name": "stderr",
     "output_type": "stream",
     "text": [
      "/var/folders/3h/9n_2y6x178l41fsp4dg802f00000gn/T/ipykernel_14484/2873406759.py:21: SettingWithCopyWarning: \n",
      "A value is trying to be set on a copy of a slice from a DataFrame.\n",
      "Try using .loc[row_indexer,col_indexer] = value instead\n",
      "\n",
      "See the caveats in the documentation: https://pandas.pydata.org/pandas-docs/stable/user_guide/indexing.html#returning-a-view-versus-a-copy\n",
      "  incoming_org_data['date_uploaded'] = pd.to_datetime(datetime.datetime.now().date())\n",
      "/var/folders/3h/9n_2y6x178l41fsp4dg802f00000gn/T/ipykernel_14484/2873406759.py:25: FutureWarning: The default value of regex will change from True to False in a future version. In addition, single character regular expressions will *not* be treated as literal strings when regex=True.\n",
      "  incoming_org_data.columns = (incoming_org_data.columns.str.replace(' ', '_')\n",
      "/var/folders/3h/9n_2y6x178l41fsp4dg802f00000gn/T/ipykernel_14484/2873406759.py:25: FutureWarning: The default value of regex will change from True to False in a future version.\n",
      "  incoming_org_data.columns = (incoming_org_data.columns.str.replace(' ', '_')\n",
      "23-10-02 14:37:10:INFO: Found 4 rows in rr20_expenses_by_mode for Tehama County Transit Agency\n",
      "23-10-02 14:37:10:INFO: Checking for existing data\n",
      "23-10-02 14:37:10:INFO: Tehama County Transit Agency data in rr20_expenses_by_mode is already in BigQuery, not writing.\n",
      "23-10-02 14:37:10:INFO: Loaded None rows and 7 columns to cal-itp-data-infra.blackcat_raw.2023_rr20_expenses_by_mode for Tehama County Transit Agency\n"
     ]
    },
    {
     "name": "stdout",
     "output_type": "stream",
     "text": [
      "Checking data for Tehama County Transit Agency from rr20_revenues_by_mode\n"
     ]
    },
    {
     "name": "stderr",
     "output_type": "stream",
     "text": [
      "/var/folders/3h/9n_2y6x178l41fsp4dg802f00000gn/T/ipykernel_14484/2873406759.py:21: SettingWithCopyWarning: \n",
      "A value is trying to be set on a copy of a slice from a DataFrame.\n",
      "Try using .loc[row_indexer,col_indexer] = value instead\n",
      "\n",
      "See the caveats in the documentation: https://pandas.pydata.org/pandas-docs/stable/user_guide/indexing.html#returning-a-view-versus-a-copy\n",
      "  incoming_org_data['date_uploaded'] = pd.to_datetime(datetime.datetime.now().date())\n",
      "/var/folders/3h/9n_2y6x178l41fsp4dg802f00000gn/T/ipykernel_14484/2873406759.py:25: FutureWarning: The default value of regex will change from True to False in a future version. In addition, single character regular expressions will *not* be treated as literal strings when regex=True.\n",
      "  incoming_org_data.columns = (incoming_org_data.columns.str.replace(' ', '_')\n",
      "/var/folders/3h/9n_2y6x178l41fsp4dg802f00000gn/T/ipykernel_14484/2873406759.py:25: FutureWarning: The default value of regex will change from True to False in a future version.\n",
      "  incoming_org_data.columns = (incoming_org_data.columns.str.replace(' ', '_')\n",
      "23-10-02 14:37:12:INFO: Found 8 rows in rr20_revenues_by_mode for Tehama County Transit Agency\n",
      "23-10-02 14:37:12:INFO: Checking for existing data\n",
      "23-10-02 14:37:12:INFO: Tehama County Transit Agency data in rr20_revenues_by_mode is already in BigQuery, not writing.\n",
      "23-10-02 14:37:12:INFO: Loaded None rows and 8 columns to cal-itp-data-infra.blackcat_raw.2023_rr20_revenues_by_mode for Tehama County Transit Agency\n"
     ]
    },
    {
     "name": "stdout",
     "output_type": "stream",
     "text": [
      "Checking data for Tehama County Transit Agency from rr20_financials__2\n"
     ]
    },
    {
     "name": "stderr",
     "output_type": "stream",
     "text": [
      "/var/folders/3h/9n_2y6x178l41fsp4dg802f00000gn/T/ipykernel_14484/2873406759.py:21: SettingWithCopyWarning: \n",
      "A value is trying to be set on a copy of a slice from a DataFrame.\n",
      "Try using .loc[row_indexer,col_indexer] = value instead\n",
      "\n",
      "See the caveats in the documentation: https://pandas.pydata.org/pandas-docs/stable/user_guide/indexing.html#returning-a-view-versus-a-copy\n",
      "  incoming_org_data['date_uploaded'] = pd.to_datetime(datetime.datetime.now().date())\n",
      "/var/folders/3h/9n_2y6x178l41fsp4dg802f00000gn/T/ipykernel_14484/2873406759.py:25: FutureWarning: The default value of regex will change from True to False in a future version. In addition, single character regular expressions will *not* be treated as literal strings when regex=True.\n",
      "  incoming_org_data.columns = (incoming_org_data.columns.str.replace(' ', '_')\n",
      "/var/folders/3h/9n_2y6x178l41fsp4dg802f00000gn/T/ipykernel_14484/2873406759.py:25: FutureWarning: The default value of regex will change from True to False in a future version.\n",
      "  incoming_org_data.columns = (incoming_org_data.columns.str.replace(' ', '_')\n",
      "23-10-02 14:37:15:INFO: Found 2 rows in rr20_financials__2 for Tehama County Transit Agency\n",
      "23-10-02 14:37:15:INFO: Checking for existing data\n",
      "23-10-02 14:37:15:INFO: Tehama County Transit Agency data in rr20_financials__2 is already in BigQuery, not writing.\n",
      "23-10-02 14:37:15:INFO: Loaded None rows and 46 columns to cal-itp-data-infra.blackcat_raw.2023_rr20_financials__2 for Tehama County Transit Agency\n"
     ]
    },
    {
     "name": "stdout",
     "output_type": "stream",
     "text": [
      "Checking data for Tehama County Transit Agency from rr20_service_data\n"
     ]
    },
    {
     "name": "stderr",
     "output_type": "stream",
     "text": [
      "/var/folders/3h/9n_2y6x178l41fsp4dg802f00000gn/T/ipykernel_14484/2873406759.py:21: SettingWithCopyWarning: \n",
      "A value is trying to be set on a copy of a slice from a DataFrame.\n",
      "Try using .loc[row_indexer,col_indexer] = value instead\n",
      "\n",
      "See the caveats in the documentation: https://pandas.pydata.org/pandas-docs/stable/user_guide/indexing.html#returning-a-view-versus-a-copy\n",
      "  incoming_org_data['date_uploaded'] = pd.to_datetime(datetime.datetime.now().date())\n",
      "/var/folders/3h/9n_2y6x178l41fsp4dg802f00000gn/T/ipykernel_14484/2873406759.py:25: FutureWarning: The default value of regex will change from True to False in a future version. In addition, single character regular expressions will *not* be treated as literal strings when regex=True.\n",
      "  incoming_org_data.columns = (incoming_org_data.columns.str.replace(' ', '_')\n",
      "/var/folders/3h/9n_2y6x178l41fsp4dg802f00000gn/T/ipykernel_14484/2873406759.py:25: FutureWarning: The default value of regex will change from True to False in a future version.\n",
      "  incoming_org_data.columns = (incoming_org_data.columns.str.replace(' ', '_')\n",
      "23-10-02 14:37:17:INFO: Found 2 rows in rr20_service_data for Tehama County Transit Agency\n",
      "23-10-02 14:37:17:INFO: Checking for existing data\n",
      "23-10-02 14:37:17:INFO: Tehama County Transit Agency data in rr20_service_data is already in BigQuery, not writing.\n",
      "23-10-02 14:37:17:INFO: Loaded None rows and 10 columns to cal-itp-data-infra.blackcat_raw.2023_rr20_service_data for Tehama County Transit Agency\n"
     ]
    },
    {
     "name": "stdout",
     "output_type": "stream",
     "text": [
      "Checking data for Tehama County Transit Agency from rr20_safety\n"
     ]
    },
    {
     "name": "stderr",
     "output_type": "stream",
     "text": [
      "/var/folders/3h/9n_2y6x178l41fsp4dg802f00000gn/T/ipykernel_14484/2873406759.py:25: FutureWarning: The default value of regex will change from True to False in a future version. In addition, single character regular expressions will *not* be treated as literal strings when regex=True.\n",
      "  incoming_org_data.columns = (incoming_org_data.columns.str.replace(' ', '_')\n",
      "/var/folders/3h/9n_2y6x178l41fsp4dg802f00000gn/T/ipykernel_14484/2873406759.py:25: FutureWarning: The default value of regex will change from True to False in a future version.\n",
      "  incoming_org_data.columns = (incoming_org_data.columns.str.replace(' ', '_')\n",
      "23-10-02 14:37:21:INFO: Found 0 rows in rr20_safety for Tehama County Transit Agency\n",
      "23-10-02 14:37:21:INFO: Did not find existing data in cal-itp-data-infra.blackcat_raw.2023_rr20_safety for Tehama County Transit Agency, loading new raw data.\n",
      "23-10-02 14:37:24:INFO: Loaded 1 rows and 7 columns to cal-itp-data-infra.blackcat_raw.2023_rr20_safety for Tehama County Transit Agency\n"
     ]
    },
    {
     "name": "stdout",
     "output_type": "stream",
     "text": [
      "Checking data for Tehama County Transit Agency from rr20_other_resources\n"
     ]
    },
    {
     "name": "stderr",
     "output_type": "stream",
     "text": [
      "/var/folders/3h/9n_2y6x178l41fsp4dg802f00000gn/T/ipykernel_14484/2873406759.py:21: SettingWithCopyWarning: \n",
      "A value is trying to be set on a copy of a slice from a DataFrame.\n",
      "Try using .loc[row_indexer,col_indexer] = value instead\n",
      "\n",
      "See the caveats in the documentation: https://pandas.pydata.org/pandas-docs/stable/user_guide/indexing.html#returning-a-view-versus-a-copy\n",
      "  incoming_org_data['date_uploaded'] = pd.to_datetime(datetime.datetime.now().date())\n",
      "/var/folders/3h/9n_2y6x178l41fsp4dg802f00000gn/T/ipykernel_14484/2873406759.py:25: FutureWarning: The default value of regex will change from True to False in a future version. In addition, single character regular expressions will *not* be treated as literal strings when regex=True.\n",
      "  incoming_org_data.columns = (incoming_org_data.columns.str.replace(' ', '_')\n",
      "/var/folders/3h/9n_2y6x178l41fsp4dg802f00000gn/T/ipykernel_14484/2873406759.py:25: FutureWarning: The default value of regex will change from True to False in a future version.\n",
      "  incoming_org_data.columns = (incoming_org_data.columns.str.replace(' ', '_')\n",
      "23-10-02 14:37:28:INFO: Found 1 rows in rr20_other_resources for Tehama County Transit Agency\n",
      "23-10-02 14:37:28:INFO: Checking for existing data\n",
      "23-10-02 14:37:28:INFO: Tehama County Transit Agency data in rr20_other_resources is already in BigQuery, not writing.\n",
      "23-10-02 14:37:28:INFO: Loaded None rows and 6 columns to cal-itp-data-infra.blackcat_raw.2023_rr20_other_resources for Tehama County Transit Agency\n"
     ]
    }
   ],
   "source": [
    "# Now, run through all orgs in the latest raw data file. All are written, except for Tehama's data, which is skipped\n",
    "# Works as it should\n",
    "\n",
    "for org in orgs_in_file:\n",
    "    if org in orgs_to_submit:\n",
    "        compare_datasets(\"RR-20\", latest_file, logger, org)"
   ]
  },
  {
   "cell_type": "code",
   "execution_count": null,
   "id": "59e07536",
   "metadata": {},
   "outputs": [],
   "source": []
  },
  {
   "cell_type": "code",
   "execution_count": null,
   "id": "e031e734",
   "metadata": {},
   "outputs": [],
   "source": []
  }
 ],
 "metadata": {
  "kernelspec": {
   "display_name": "Python 3 (ipykernel)",
   "language": "python",
   "name": "python3"
  },
  "language_info": {
   "codemirror_mode": {
    "name": "ipython",
    "version": 3
   },
   "file_extension": ".py",
   "mimetype": "text/x-python",
   "name": "python",
   "nbconvert_exporter": "python",
   "pygments_lexer": "ipython3",
   "version": "3.9.13"
  }
 },
 "nbformat": 4,
 "nbformat_minor": 5
}
